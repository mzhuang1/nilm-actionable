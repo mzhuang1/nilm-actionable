{
 "cells": [
  {
   "cell_type": "code",
   "execution_count": 12,
   "metadata": {
    "collapsed": true
   },
   "outputs": [],
   "source": [
    "%matplotlib inline"
   ]
  },
  {
   "cell_type": "code",
   "execution_count": 6,
   "metadata": {
    "collapsed": false
   },
   "outputs": [
    {
     "name": "stdout",
     "output_type": "stream",
     "text": [
      "********************************************************************************\n",
      "Arguments\n",
      "('Number states', 2)\n",
      "('Train fraction is ', 0.5)\n",
      "('Top k', 2)\n"
     ]
    }
   ],
   "source": [
    "import os\n",
    "import time\n",
    "import warnings\n",
    "\n",
    "import pandas as pd\n",
    "import nilmtk\n",
    "from nilmtk import DataSet, MeterGroup, HDFDataStore\n",
    "from nilmtk.disaggregate import CombinatorialOptimisation, FHMM, Hart85\n",
    "from nilmtk.feature_detectors.steady_states import find_steady_states_transients, find_steady_states\n",
    "\n",
    "\n",
    "warnings.filterwarnings(\"ignore\")\n",
    "\n",
    "import sys\n",
    "import json\n",
    "\n",
    "\n",
    "ds_path = \"/Users/nipunbatra/wikienergy-2013.h5\"\n",
    "\n",
    "\n",
    "with open('../../data/hvac/top_k_2013.json', 'r') as fp:\n",
    "    top_k_dict = json.load(fp)\n",
    "\n",
    "num_states = 2\n",
    "K = 2\n",
    "train_fraction = 0.5\n",
    "\n",
    "print(\"*\"*80)\n",
    "print(\"Arguments\")\n",
    "\n",
    "print(\"Number states\", num_states)\n",
    "print(\"Train fraction is \", train_fraction)\n",
    "print(\"Top k\", K)\n",
    "\n",
    "out_file_name = \"N%d_K%d_T%s\" % (num_states, K, sys.argv[4])\n",
    "\n",
    "ds = DataSet(ds_path)\n",
    "\n",
    "def find_specific_appliance(appliance_name, appliance_instance, list_of_elecs):\n",
    "    for elec_name in list_of_elecs:\n",
    "        appl = elec_name.appliances[0]\n",
    "        if (appl.identifier.type, appl.identifier.instance) == (appliance_name, appliance_instance):\n",
    "            return elec_name\n",
    "\n",
    "\n",
    "\n"
   ]
  },
  {
   "cell_type": "code",
   "execution_count": 14,
   "metadata": {
    "collapsed": false
   },
   "outputs": [
    {
     "name": "stdout",
     "output_type": "stream",
     "text": [
      "('Top 2 list is ', [1, 5])\n"
     ]
    }
   ],
   "source": [
    "b_id = 1\n",
    "cls_dict = {\"CO\": CombinatorialOptimisation(), \"FHMM\": FHMM(), \"Hart\": Hart85()}\n",
    "elec = ds.buildings[b_id].elec\n",
    "mains = elec.mains()\n",
    "\n",
    "train = DataSet(ds_path)\n",
    "test = DataSet(ds_path)\n",
    "split_point = elec.train_test_split(train_fraction=train_fraction).date()\n",
    "train.set_window(end=split_point)\n",
    "test.set_window(start=split_point)\n",
    "train_elec = train.buildings[b_id].elec\n",
    "test_elec = test.buildings[b_id].elec\n",
    "test_mains = test_elec.mains()\n",
    "\n",
    "    # AC elec\n",
    "ac_elec_train = train_elec[('air conditioner', 1)]\n",
    "ac_elec_test = test_elec[('air conditioner', 1)]\n",
    "\n",
    "num_states_dict = {ac_elec_train: num_states}\n",
    "\n",
    "\n",
    "# Finding top N appliances\n",
    "top_k_train_list = top_k_dict[str(b_id)][:K]\n",
    "print(\"Top %d list is \" %(K), top_k_train_list)\n",
    "top_k_train_elec = MeterGroup([m for m in ds.buildings[b_id].elec.meters if m.instance() in top_k_train_list])\n",
    "\n",
    "#print (\"../../bash_runs/%s\" % (out_file_name))\n",
    "#if not os.path.exists(\"../../bash_runs/%s\" % (out_file_name)):\n",
    "#    os.makedirs(\"../../bash_runs/%s\" % (out_file_name))\n",
    "\n",
    "\n",
    "# Add this fridge to training if this fridge is not in top-k\n",
    "if ac_elec_train not in top_k_train_elec.meters:\n",
    "    top_k_train_elec.meters.append(ac_elec_train)"
   ]
  },
  {
   "cell_type": "code",
   "execution_count": 15,
   "metadata": {
    "collapsed": false
   },
   "outputs": [
    {
     "data": {
      "text/plain": [
       "<matplotlib.axes._subplots.AxesSubplot at 0x114ebc210>"
      ]
     },
     "execution_count": 15,
     "metadata": {},
     "output_type": "execute_result"
    },
    {
     "data": {
      "image/png": "[encoded data removed]",
      "text/plain": [
       "<matplotlib.figure.Figure at 0x113bd8690>"
      ]
     },
     "metadata": {},
     "output_type": "display_data"
    }
   ],
   "source": [
    "ac_elec_test.plot()"
   ]
  },
  {
   "cell_type": "code",
   "execution_count": 10,
   "metadata": {
    "collapsed": false
   },
   "outputs": [
    {
     "data": {
      "text/html": [
       "<div>\n",
       "<table border=\"1\" class=\"dataframe\">\n",
       "  <thead>\n",
       "    <tr>\n",
       "      <th>physical_quantity</th>\n",
       "      <th>power</th>\n",
       "    </tr>\n",
       "    <tr>\n",
       "      <th>type</th>\n",
       "      <th>active</th>\n",
       "    </tr>\n",
       "    <tr>\n",
       "      <th>localminute</th>\n",
       "      <th></th>\n",
       "    </tr>\n",
       "  </thead>\n",
       "  <tbody>\n",
       "    <tr>\n",
       "      <th>2013-07-01 00:00:00-05:00</th>\n",
       "      <td>0</td>\n",
       "    </tr>\n",
       "    <tr>\n",
       "      <th>2013-07-01 00:01:00-05:00</th>\n",
       "      <td>0</td>\n",
       "    </tr>\n",
       "    <tr>\n",
       "      <th>2013-07-01 00:02:00-05:00</th>\n",
       "      <td>0</td>\n",
       "    </tr>\n",
       "    <tr>\n",
       "      <th>2013-07-01 00:03:00-05:00</th>\n",
       "      <td>0</td>\n",
       "    </tr>\n",
       "    <tr>\n",
       "      <th>2013-07-01 00:04:00-05:00</th>\n",
       "      <td>0</td>\n",
       "    </tr>\n",
       "    <tr>\n",
       "      <th>2013-07-01 00:05:00-05:00</th>\n",
       "      <td>0</td>\n",
       "    </tr>\n",
       "    <tr>\n",
       "      <th>2013-07-01 00:06:00-05:00</th>\n",
       "      <td>0</td>\n",
       "    </tr>\n",
       "    <tr>\n",
       "      <th>2013-07-01 00:07:00-05:00</th>\n",
       "      <td>0</td>\n",
       "    </tr>\n",
       "    <tr>\n",
       "      <th>2013-07-01 00:08:00-05:00</th>\n",
       "      <td>0</td>\n",
       "    </tr>\n",
       "    <tr>\n",
       "      <th>2013-07-01 00:09:00-05:00</th>\n",
       "      <td>0</td>\n",
       "    </tr>\n",
       "    <tr>\n",
       "      <th>2013-07-01 00:10:00-05:00</th>\n",
       "      <td>0</td>\n",
       "    </tr>\n",
       "    <tr>\n",
       "      <th>2013-07-01 00:11:00-05:00</th>\n",
       "      <td>0</td>\n",
       "    </tr>\n",
       "    <tr>\n",
       "      <th>2013-07-01 00:12:00-05:00</th>\n",
       "      <td>0</td>\n",
       "    </tr>\n",
       "    <tr>\n",
       "      <th>2013-07-01 00:13:00-05:00</th>\n",
       "      <td>0</td>\n",
       "    </tr>\n",
       "    <tr>\n",
       "      <th>2013-07-01 00:14:00-05:00</th>\n",
       "      <td>0</td>\n",
       "    </tr>\n",
       "    <tr>\n",
       "      <th>2013-07-01 00:15:00-05:00</th>\n",
       "      <td>0</td>\n",
       "    </tr>\n",
       "    <tr>\n",
       "      <th>2013-07-01 00:16:00-05:00</th>\n",
       "      <td>0</td>\n",
       "    </tr>\n",
       "    <tr>\n",
       "      <th>2013-07-01 00:17:00-05:00</th>\n",
       "      <td>0</td>\n",
       "    </tr>\n",
       "    <tr>\n",
       "      <th>2013-07-01 00:18:00-05:00</th>\n",
       "      <td>0</td>\n",
       "    </tr>\n",
       "    <tr>\n",
       "      <th>2013-07-01 00:19:00-05:00</th>\n",
       "      <td>0</td>\n",
       "    </tr>\n",
       "    <tr>\n",
       "      <th>2013-07-01 00:20:00-05:00</th>\n",
       "      <td>0</td>\n",
       "    </tr>\n",
       "    <tr>\n",
       "      <th>2013-07-01 00:21:00-05:00</th>\n",
       "      <td>0</td>\n",
       "    </tr>\n",
       "    <tr>\n",
       "      <th>2013-07-01 00:22:00-05:00</th>\n",
       "      <td>0</td>\n",
       "    </tr>\n",
       "    <tr>\n",
       "      <th>2013-07-01 00:23:00-05:00</th>\n",
       "      <td>0</td>\n",
       "    </tr>\n",
       "    <tr>\n",
       "      <th>2013-07-01 00:24:00-05:00</th>\n",
       "      <td>0</td>\n",
       "    </tr>\n",
       "    <tr>\n",
       "      <th>2013-07-01 00:25:00-05:00</th>\n",
       "      <td>0</td>\n",
       "    </tr>\n",
       "    <tr>\n",
       "      <th>2013-07-01 00:26:00-05:00</th>\n",
       "      <td>0</td>\n",
       "    </tr>\n",
       "    <tr>\n",
       "      <th>2013-07-01 00:27:00-05:00</th>\n",
       "      <td>0</td>\n",
       "    </tr>\n",
       "    <tr>\n",
       "      <th>2013-07-01 00:28:00-05:00</th>\n",
       "      <td>0</td>\n",
       "    </tr>\n",
       "    <tr>\n",
       "      <th>2013-07-01 00:29:00-05:00</th>\n",
       "      <td>0</td>\n",
       "    </tr>\n",
       "    <tr>\n",
       "      <th>...</th>\n",
       "      <td>...</td>\n",
       "    </tr>\n",
       "    <tr>\n",
       "      <th>2013-07-15 23:30:00-05:00</th>\n",
       "      <td>0</td>\n",
       "    </tr>\n",
       "    <tr>\n",
       "      <th>2013-07-15 23:31:00-05:00</th>\n",
       "      <td>0</td>\n",
       "    </tr>\n",
       "    <tr>\n",
       "      <th>2013-07-15 23:32:00-05:00</th>\n",
       "      <td>0</td>\n",
       "    </tr>\n",
       "    <tr>\n",
       "      <th>2013-07-15 23:33:00-05:00</th>\n",
       "      <td>0</td>\n",
       "    </tr>\n",
       "    <tr>\n",
       "      <th>2013-07-15 23:34:00-05:00</th>\n",
       "      <td>0</td>\n",
       "    </tr>\n",
       "    <tr>\n",
       "      <th>2013-07-15 23:35:00-05:00</th>\n",
       "      <td>0</td>\n",
       "    </tr>\n",
       "    <tr>\n",
       "      <th>2013-07-15 23:36:00-05:00</th>\n",
       "      <td>0</td>\n",
       "    </tr>\n",
       "    <tr>\n",
       "      <th>2013-07-15 23:37:00-05:00</th>\n",
       "      <td>0</td>\n",
       "    </tr>\n",
       "    <tr>\n",
       "      <th>2013-07-15 23:38:00-05:00</th>\n",
       "      <td>0</td>\n",
       "    </tr>\n",
       "    <tr>\n",
       "      <th>2013-07-15 23:39:00-05:00</th>\n",
       "      <td>0</td>\n",
       "    </tr>\n",
       "    <tr>\n",
       "      <th>2013-07-15 23:40:00-05:00</th>\n",
       "      <td>0</td>\n",
       "    </tr>\n",
       "    <tr>\n",
       "      <th>2013-07-15 23:41:00-05:00</th>\n",
       "      <td>0</td>\n",
       "    </tr>\n",
       "    <tr>\n",
       "      <th>2013-07-15 23:42:00-05:00</th>\n",
       "      <td>0</td>\n",
       "    </tr>\n",
       "    <tr>\n",
       "      <th>2013-07-15 23:43:00-05:00</th>\n",
       "      <td>0</td>\n",
       "    </tr>\n",
       "    <tr>\n",
       "      <th>2013-07-15 23:44:00-05:00</th>\n",
       "      <td>0</td>\n",
       "    </tr>\n",
       "    <tr>\n",
       "      <th>2013-07-15 23:45:00-05:00</th>\n",
       "      <td>0</td>\n",
       "    </tr>\n",
       "    <tr>\n",
       "      <th>2013-07-15 23:46:00-05:00</th>\n",
       "      <td>0</td>\n",
       "    </tr>\n",
       "    <tr>\n",
       "      <th>2013-07-15 23:47:00-05:00</th>\n",
       "      <td>0</td>\n",
       "    </tr>\n",
       "    <tr>\n",
       "      <th>2013-07-15 23:48:00-05:00</th>\n",
       "      <td>0</td>\n",
       "    </tr>\n",
       "    <tr>\n",
       "      <th>2013-07-15 23:49:00-05:00</th>\n",
       "      <td>0</td>\n",
       "    </tr>\n",
       "    <tr>\n",
       "      <th>2013-07-15 23:50:00-05:00</th>\n",
       "      <td>0</td>\n",
       "    </tr>\n",
       "    <tr>\n",
       "      <th>2013-07-15 23:51:00-05:00</th>\n",
       "      <td>0</td>\n",
       "    </tr>\n",
       "    <tr>\n",
       "      <th>2013-07-15 23:52:00-05:00</th>\n",
       "      <td>0</td>\n",
       "    </tr>\n",
       "    <tr>\n",
       "      <th>2013-07-15 23:53:00-05:00</th>\n",
       "      <td>0</td>\n",
       "    </tr>\n",
       "    <tr>\n",
       "      <th>2013-07-15 23:54:00-05:00</th>\n",
       "      <td>0</td>\n",
       "    </tr>\n",
       "    <tr>\n",
       "      <th>2013-07-15 23:55:00-05:00</th>\n",
       "      <td>0</td>\n",
       "    </tr>\n",
       "    <tr>\n",
       "      <th>2013-07-15 23:56:00-05:00</th>\n",
       "      <td>0</td>\n",
       "    </tr>\n",
       "    <tr>\n",
       "      <th>2013-07-15 23:57:00-05:00</th>\n",
       "      <td>0</td>\n",
       "    </tr>\n",
       "    <tr>\n",
       "      <th>2013-07-15 23:58:00-05:00</th>\n",
       "      <td>0</td>\n",
       "    </tr>\n",
       "    <tr>\n",
       "      <th>2013-07-15 23:59:00-05:00</th>\n",
       "      <td>0</td>\n",
       "    </tr>\n",
       "  </tbody>\n",
       "</table>\n",
       "<p>21600 rows × 1 columns</p>\n",
       "</div>"
      ],
      "text/plain": [
       "physical_quantity          power\n",
       "type                      active\n",
       "localminute                     \n",
       "2013-07-01 00:00:00-05:00      0\n",
       "2013-07-01 00:01:00-05:00      0\n",
       "2013-07-01 00:02:00-05:00      0\n",
       "2013-07-01 00:03:00-05:00      0\n",
       "2013-07-01 00:04:00-05:00      0\n",
       "2013-07-01 00:05:00-05:00      0\n",
       "2013-07-01 00:06:00-05:00      0\n",
       "2013-07-01 00:07:00-05:00      0\n",
       "2013-07-01 00:08:00-05:00      0\n",
       "2013-07-01 00:09:00-05:00      0\n",
       "2013-07-01 00:10:00-05:00      0\n",
       "2013-07-01 00:11:00-05:00      0\n",
       "2013-07-01 00:12:00-05:00      0\n",
       "2013-07-01 00:13:00-05:00      0\n",
       "2013-07-01 00:14:00-05:00      0\n",
       "2013-07-01 00:15:00-05:00      0\n",
       "2013-07-01 00:16:00-05:00      0\n",
       "2013-07-01 00:17:00-05:00      0\n",
       "2013-07-01 00:18:00-05:00      0\n",
       "2013-07-01 00:19:00-05:00      0\n",
       "2013-07-01 00:20:00-05:00      0\n",
       "2013-07-01 00:21:00-05:00      0\n",
       "2013-07-01 00:22:00-05:00      0\n",
       "2013-07-01 00:23:00-05:00      0\n",
       "2013-07-01 00:24:00-05:00      0\n",
       "2013-07-01 00:25:00-05:00      0\n",
       "2013-07-01 00:26:00-05:00      0\n",
       "2013-07-01 00:27:00-05:00      0\n",
       "2013-07-01 00:28:00-05:00      0\n",
       "2013-07-01 00:29:00-05:00      0\n",
       "...                          ...\n",
       "2013-07-15 23:30:00-05:00      0\n",
       "2013-07-15 23:31:00-05:00      0\n",
       "2013-07-15 23:32:00-05:00      0\n",
       "2013-07-15 23:33:00-05:00      0\n",
       "2013-07-15 23:34:00-05:00      0\n",
       "2013-07-15 23:35:00-05:00      0\n",
       "2013-07-15 23:36:00-05:00      0\n",
       "2013-07-15 23:37:00-05:00      0\n",
       "2013-07-15 23:38:00-05:00      0\n",
       "2013-07-15 23:39:00-05:00      0\n",
       "2013-07-15 23:40:00-05:00      0\n",
       "2013-07-15 23:41:00-05:00      0\n",
       "2013-07-15 23:42:00-05:00      0\n",
       "2013-07-15 23:43:00-05:00      0\n",
       "2013-07-15 23:44:00-05:00      0\n",
       "2013-07-15 23:45:00-05:00      0\n",
       "2013-07-15 23:46:00-05:00      0\n",
       "2013-07-15 23:47:00-05:00      0\n",
       "2013-07-15 23:48:00-05:00      0\n",
       "2013-07-15 23:49:00-05:00      0\n",
       "2013-07-15 23:50:00-05:00      0\n",
       "2013-07-15 23:51:00-05:00      0\n",
       "2013-07-15 23:52:00-05:00      0\n",
       "2013-07-15 23:53:00-05:00      0\n",
       "2013-07-15 23:54:00-05:00      0\n",
       "2013-07-15 23:55:00-05:00      0\n",
       "2013-07-15 23:56:00-05:00      0\n",
       "2013-07-15 23:57:00-05:00      0\n",
       "2013-07-15 23:58:00-05:00      0\n",
       "2013-07-15 23:59:00-05:00      0\n",
       "\n",
       "[21600 rows x 1 columns]"
      ]
     },
     "execution_count": 10,
     "metadata": {},
     "output_type": "execute_result"
    }
   ],
   "source": [
    "ac_elec_train.load().next()"
   ]
  },
  {
   "cell_type": "code",
   "execution_count": 8,
   "metadata": {
    "collapsed": false
   },
   "outputs": [
    {
     "data": {
      "text/plain": [
       "count     0\n",
       "mean    NaN\n",
       "std     NaN\n",
       "min     NaN\n",
       "25%     NaN\n",
       "50%     NaN\n",
       "75%     NaN\n",
       "max     NaN\n",
       "Name: (power, active), dtype: float64"
      ]
     },
     "execution_count": 8,
     "metadata": {},
     "output_type": "execute_result"
    }
   ],
   "source": [
    "df_train = ac_elec_train.load().next()[('power', 'active')]\n",
    "power = df_train[df_train > 20]\n",
    "power.describe()"
   ]
  },
  {
   "cell_type": "code",
   "execution_count": 36,
   "metadata": {
    "collapsed": true
   },
   "outputs": [],
   "source": [
    "from nilmtk.disaggregate import Hart85"
   ]
  },
  {
   "cell_type": "code",
   "execution_count": 37,
   "metadata": {
    "collapsed": false
   },
   "outputs": [],
   "source": [
    "h = Hart85()"
   ]
  },
  {
   "cell_type": "code",
   "execution_count": 38,
   "metadata": {
    "collapsed": false
   },
   "outputs": [
    {
     "name": "stdout",
     "output_type": "stream",
     "text": [
      "Finding Edges, please wait ...\n",
      "Edge detection complete.\n",
      "Creating transition frame ...\n",
      "Transition frame created.\n",
      "Creating states frame ...\n",
      "States frame created.\n",
      "Finished.\n"
     ]
    }
   ],
   "source": [
    "h.train(train_elec.mains())"
   ]
  },
  {
   "cell_type": "code",
   "execution_count": 57,
   "metadata": {
    "collapsed": false
   },
   "outputs": [
    {
     "data": {
      "text/html": [
       "<div>\n",
       "<table border=\"1\" class=\"dataframe\">\n",
       "  <thead>\n",
       "    <tr style=\"text-align: right;\">\n",
       "      <th></th>\n",
       "      <th>(power, active)</th>\n",
       "    </tr>\n",
       "  </thead>\n",
       "  <tbody>\n",
       "    <tr>\n",
       "      <th>0</th>\n",
       "      <td>234.297687</td>\n",
       "    </tr>\n",
       "    <tr>\n",
       "      <th>1</th>\n",
       "      <td>3320.849040</td>\n",
       "    </tr>\n",
       "  </tbody>\n",
       "</table>\n",
       "</div>"
      ],
      "text/plain": [
       "   (power, active)\n",
       "0       234.297687\n",
       "1      3320.849040"
      ]
     },
     "execution_count": 57,
     "metadata": {},
     "output_type": "execute_result"
    }
   ],
   "source": [
    "h.centroids"
   ]
  },
  {
   "cell_type": "code",
   "execution_count": 53,
   "metadata": {
    "collapsed": false
   },
   "outputs": [],
   "source": [
    "d = (h.centroids - power.mean()).abs()\n",
    "\n"
   ]
  },
  {
   "cell_type": "code",
   "execution_count": 59,
   "metadata": {
    "collapsed": false
   },
   "outputs": [
    {
     "data": {
      "text/plain": [
       "count    7905.000000\n",
       "mean     2703.008789\n",
       "std       490.795197\n",
       "min        51.000000\n",
       "25%      2589.000000\n",
       "50%      2789.000000\n",
       "75%      2986.000000\n",
       "max      3345.000000\n",
       "Name: (power, active), dtype: float64"
      ]
     },
     "execution_count": 59,
     "metadata": {},
     "output_type": "execute_result"
    }
   ],
   "source": [
    "power.describe()"
   ]
  },
  {
   "cell_type": "code",
   "execution_count": 56,
   "metadata": {
    "collapsed": false
   },
   "outputs": [
    {
     "data": {
      "text/plain": [
       "2789.0"
      ]
     },
     "execution_count": 56,
     "metadata": {},
     "output_type": "execute_result"
    }
   ],
   "source": [
    "power.median()"
   ]
  },
  {
   "cell_type": "code",
   "execution_count": 58,
   "metadata": {
    "collapsed": false
   },
   "outputs": [
    {
     "data": {
      "text/html": [
       "<div>\n",
       "<table border=\"1\" class=\"dataframe\">\n",
       "  <thead>\n",
       "    <tr style=\"text-align: right;\">\n",
       "      <th></th>\n",
       "      <th>active transition</th>\n",
       "    </tr>\n",
       "  </thead>\n",
       "  <tbody>\n",
       "    <tr>\n",
       "      <th>2013-07-01 00:32:00-05:00</th>\n",
       "      <td>-3434.400000</td>\n",
       "    </tr>\n",
       "    <tr>\n",
       "      <th>2013-07-01 00:38:00-05:00</th>\n",
       "      <td>3524.750000</td>\n",
       "    </tr>\n",
       "    <tr>\n",
       "      <th>2013-07-01 01:15:00-05:00</th>\n",
       "      <td>-3873.000000</td>\n",
       "    </tr>\n",
       "    <tr>\n",
       "      <th>2013-07-01 01:22:00-05:00</th>\n",
       "      <td>3474.153846</td>\n",
       "    </tr>\n",
       "    <tr>\n",
       "      <th>2013-07-01 01:45:00-05:00</th>\n",
       "      <td>-3451.000000</td>\n",
       "    </tr>\n",
       "    <tr>\n",
       "      <th>2013-07-01 01:52:00-05:00</th>\n",
       "      <td>3417.000000</td>\n",
       "    </tr>\n",
       "    <tr>\n",
       "      <th>2013-07-01 02:17:00-05:00</th>\n",
       "      <td>-3423.071429</td>\n",
       "    </tr>\n",
       "    <tr>\n",
       "      <th>2013-07-01 02:20:00-05:00</th>\n",
       "      <td>3580.500000</td>\n",
       "    </tr>\n",
       "    <tr>\n",
       "      <th>2013-07-01 02:47:00-05:00</th>\n",
       "      <td>-3385.750000</td>\n",
       "    </tr>\n",
       "    <tr>\n",
       "      <th>2013-07-01 02:52:00-05:00</th>\n",
       "      <td>3499.750000</td>\n",
       "    </tr>\n",
       "    <tr>\n",
       "      <th>2013-07-01 03:17:00-05:00</th>\n",
       "      <td>-3384.500000</td>\n",
       "    </tr>\n",
       "    <tr>\n",
       "      <th>2013-07-01 03:23:00-05:00</th>\n",
       "      <td>3363.000000</td>\n",
       "    </tr>\n",
       "    <tr>\n",
       "      <th>2013-07-01 04:04:00-05:00</th>\n",
       "      <td>-3474.000000</td>\n",
       "    </tr>\n",
       "    <tr>\n",
       "      <th>2013-07-01 04:10:00-05:00</th>\n",
       "      <td>3333.000000</td>\n",
       "    </tr>\n",
       "    <tr>\n",
       "      <th>2013-07-01 04:16:00-05:00</th>\n",
       "      <td>-3046.000000</td>\n",
       "    </tr>\n",
       "    <tr>\n",
       "      <th>2013-07-01 04:34:00-05:00</th>\n",
       "      <td>3438.742857</td>\n",
       "    </tr>\n",
       "    <tr>\n",
       "      <th>2013-07-01 04:42:00-05:00</th>\n",
       "      <td>-3400.809524</td>\n",
       "    </tr>\n",
       "    <tr>\n",
       "      <th>2013-07-01 04:49:00-05:00</th>\n",
       "      <td>3284.952381</td>\n",
       "    </tr>\n",
       "    <tr>\n",
       "      <th>2013-07-01 05:03:00-05:00</th>\n",
       "      <td>-3453.833333</td>\n",
       "    </tr>\n",
       "    <tr>\n",
       "      <th>2013-07-01 05:14:00-05:00</th>\n",
       "      <td>3424.750000</td>\n",
       "    </tr>\n",
       "    <tr>\n",
       "      <th>2013-07-01 05:22:00-05:00</th>\n",
       "      <td>-3289.500000</td>\n",
       "    </tr>\n",
       "    <tr>\n",
       "      <th>2013-07-01 05:36:00-05:00</th>\n",
       "      <td>3384.666667</td>\n",
       "    </tr>\n",
       "    <tr>\n",
       "      <th>2013-07-01 05:44:00-05:00</th>\n",
       "      <td>-3391.000000</td>\n",
       "    </tr>\n",
       "    <tr>\n",
       "      <th>2013-07-01 05:58:00-05:00</th>\n",
       "      <td>3333.125000</td>\n",
       "    </tr>\n",
       "    <tr>\n",
       "      <th>2013-07-01 06:05:00-05:00</th>\n",
       "      <td>-3469.777778</td>\n",
       "    </tr>\n",
       "    <tr>\n",
       "      <th>2013-07-01 06:17:00-05:00</th>\n",
       "      <td>3571.277778</td>\n",
       "    </tr>\n",
       "    <tr>\n",
       "      <th>2013-07-01 06:27:00-05:00</th>\n",
       "      <td>-3302.636364</td>\n",
       "    </tr>\n",
       "    <tr>\n",
       "      <th>2013-07-01 06:40:00-05:00</th>\n",
       "      <td>3153.303030</td>\n",
       "    </tr>\n",
       "    <tr>\n",
       "      <th>2013-07-01 06:46:00-05:00</th>\n",
       "      <td>-3414.848485</td>\n",
       "    </tr>\n",
       "    <tr>\n",
       "      <th>2013-07-01 07:01:00-05:00</th>\n",
       "      <td>3406.931818</td>\n",
       "    </tr>\n",
       "    <tr>\n",
       "      <th>...</th>\n",
       "      <td>...</td>\n",
       "    </tr>\n",
       "    <tr>\n",
       "      <th>2013-07-13 22:47:00-05:00</th>\n",
       "      <td>4024.944444</td>\n",
       "    </tr>\n",
       "    <tr>\n",
       "      <th>2013-07-13 22:56:00-05:00</th>\n",
       "      <td>-3993.428571</td>\n",
       "    </tr>\n",
       "    <tr>\n",
       "      <th>2013-07-13 23:06:00-05:00</th>\n",
       "      <td>4266.428571</td>\n",
       "    </tr>\n",
       "    <tr>\n",
       "      <th>2013-07-13 23:17:00-05:00</th>\n",
       "      <td>-3956.125000</td>\n",
       "    </tr>\n",
       "    <tr>\n",
       "      <th>2013-07-13 23:31:00-05:00</th>\n",
       "      <td>3907.250000</td>\n",
       "    </tr>\n",
       "    <tr>\n",
       "      <th>2013-07-13 23:40:00-05:00</th>\n",
       "      <td>-3978.833333</td>\n",
       "    </tr>\n",
       "    <tr>\n",
       "      <th>2013-07-13 23:50:00-05:00</th>\n",
       "      <td>3985.833333</td>\n",
       "    </tr>\n",
       "    <tr>\n",
       "      <th>2013-07-14 00:01:00-05:00</th>\n",
       "      <td>-4050.545455</td>\n",
       "    </tr>\n",
       "    <tr>\n",
       "      <th>2013-07-14 00:15:00-05:00</th>\n",
       "      <td>4168.045455</td>\n",
       "    </tr>\n",
       "    <tr>\n",
       "      <th>2013-07-14 00:22:00-05:00</th>\n",
       "      <td>-3898.000000</td>\n",
       "    </tr>\n",
       "    <tr>\n",
       "      <th>2013-07-14 00:55:00-05:00</th>\n",
       "      <td>3835.500000</td>\n",
       "    </tr>\n",
       "    <tr>\n",
       "      <th>2013-07-14 01:03:00-05:00</th>\n",
       "      <td>-3846.500000</td>\n",
       "    </tr>\n",
       "    <tr>\n",
       "      <th>2013-07-14 01:25:00-05:00</th>\n",
       "      <td>3934.515152</td>\n",
       "    </tr>\n",
       "    <tr>\n",
       "      <th>2013-07-14 01:30:00-05:00</th>\n",
       "      <td>-3781.933333</td>\n",
       "    </tr>\n",
       "    <tr>\n",
       "      <th>2013-07-14 01:56:00-05:00</th>\n",
       "      <td>3986.300000</td>\n",
       "    </tr>\n",
       "    <tr>\n",
       "      <th>2013-07-14 02:01:00-05:00</th>\n",
       "      <td>-2955.400000</td>\n",
       "    </tr>\n",
       "    <tr>\n",
       "      <th>2013-07-14 03:00:00-05:00</th>\n",
       "      <td>3042.300000</td>\n",
       "    </tr>\n",
       "    <tr>\n",
       "      <th>2013-07-14 03:07:00-05:00</th>\n",
       "      <td>-3689.050000</td>\n",
       "    </tr>\n",
       "    <tr>\n",
       "      <th>2013-07-14 05:25:00-05:00</th>\n",
       "      <td>3592.772727</td>\n",
       "    </tr>\n",
       "    <tr>\n",
       "      <th>2013-07-14 05:34:00-05:00</th>\n",
       "      <td>-3627.611111</td>\n",
       "    </tr>\n",
       "    <tr>\n",
       "      <th>2013-07-14 07:00:00-05:00</th>\n",
       "      <td>2949.954545</td>\n",
       "    </tr>\n",
       "    <tr>\n",
       "      <th>2013-07-14 07:07:00-05:00</th>\n",
       "      <td>-3461.250000</td>\n",
       "    </tr>\n",
       "    <tr>\n",
       "      <th>2013-07-14 19:58:00-05:00</th>\n",
       "      <td>3195.666667</td>\n",
       "    </tr>\n",
       "    <tr>\n",
       "      <th>2013-07-14 20:04:00-05:00</th>\n",
       "      <td>-3619.500000</td>\n",
       "    </tr>\n",
       "    <tr>\n",
       "      <th>2013-07-14 21:01:00-05:00</th>\n",
       "      <td>3595.076923</td>\n",
       "    </tr>\n",
       "    <tr>\n",
       "      <th>2013-07-14 21:07:00-05:00</th>\n",
       "      <td>-3737.111111</td>\n",
       "    </tr>\n",
       "    <tr>\n",
       "      <th>2013-07-14 23:25:00-05:00</th>\n",
       "      <td>2899.714286</td>\n",
       "    </tr>\n",
       "    <tr>\n",
       "      <th>2013-07-14 23:30:00-05:00</th>\n",
       "      <td>-2785.166667</td>\n",
       "    </tr>\n",
       "    <tr>\n",
       "      <th>2013-07-15 00:36:00-05:00</th>\n",
       "      <td>2888.083333</td>\n",
       "    </tr>\n",
       "    <tr>\n",
       "      <th>2013-07-15 00:42:00-05:00</th>\n",
       "      <td>-3401.450000</td>\n",
       "    </tr>\n",
       "  </tbody>\n",
       "</table>\n",
       "<p>519 rows × 1 columns</p>\n",
       "</div>"
      ],
      "text/plain": [
       "                           active transition\n",
       "2013-07-01 00:32:00-05:00       -3434.400000\n",
       "2013-07-01 00:38:00-05:00        3524.750000\n",
       "2013-07-01 01:15:00-05:00       -3873.000000\n",
       "2013-07-01 01:22:00-05:00        3474.153846\n",
       "2013-07-01 01:45:00-05:00       -3451.000000\n",
       "2013-07-01 01:52:00-05:00        3417.000000\n",
       "2013-07-01 02:17:00-05:00       -3423.071429\n",
       "2013-07-01 02:20:00-05:00        3580.500000\n",
       "2013-07-01 02:47:00-05:00       -3385.750000\n",
       "2013-07-01 02:52:00-05:00        3499.750000\n",
       "2013-07-01 03:17:00-05:00       -3384.500000\n",
       "2013-07-01 03:23:00-05:00        3363.000000\n",
       "2013-07-01 04:04:00-05:00       -3474.000000\n",
       "2013-07-01 04:10:00-05:00        3333.000000\n",
       "2013-07-01 04:16:00-05:00       -3046.000000\n",
       "2013-07-01 04:34:00-05:00        3438.742857\n",
       "2013-07-01 04:42:00-05:00       -3400.809524\n",
       "2013-07-01 04:49:00-05:00        3284.952381\n",
       "2013-07-01 05:03:00-05:00       -3453.833333\n",
       "2013-07-01 05:14:00-05:00        3424.750000\n",
       "2013-07-01 05:22:00-05:00       -3289.500000\n",
       "2013-07-01 05:36:00-05:00        3384.666667\n",
       "2013-07-01 05:44:00-05:00       -3391.000000\n",
       "2013-07-01 05:58:00-05:00        3333.125000\n",
       "2013-07-01 06:05:00-05:00       -3469.777778\n",
       "2013-07-01 06:17:00-05:00        3571.277778\n",
       "2013-07-01 06:27:00-05:00       -3302.636364\n",
       "2013-07-01 06:40:00-05:00        3153.303030\n",
       "2013-07-01 06:46:00-05:00       -3414.848485\n",
       "2013-07-01 07:01:00-05:00        3406.931818\n",
       "...                                      ...\n",
       "2013-07-13 22:47:00-05:00        4024.944444\n",
       "2013-07-13 22:56:00-05:00       -3993.428571\n",
       "2013-07-13 23:06:00-05:00        4266.428571\n",
       "2013-07-13 23:17:00-05:00       -3956.125000\n",
       "2013-07-13 23:31:00-05:00        3907.250000\n",
       "2013-07-13 23:40:00-05:00       -3978.833333\n",
       "2013-07-13 23:50:00-05:00        3985.833333\n",
       "2013-07-14 00:01:00-05:00       -4050.545455\n",
       "2013-07-14 00:15:00-05:00        4168.045455\n",
       "2013-07-14 00:22:00-05:00       -3898.000000\n",
       "2013-07-14 00:55:00-05:00        3835.500000\n",
       "2013-07-14 01:03:00-05:00       -3846.500000\n",
       "2013-07-14 01:25:00-05:00        3934.515152\n",
       "2013-07-14 01:30:00-05:00       -3781.933333\n",
       "2013-07-14 01:56:00-05:00        3986.300000\n",
       "2013-07-14 02:01:00-05:00       -2955.400000\n",
       "2013-07-14 03:00:00-05:00        3042.300000\n",
       "2013-07-14 03:07:00-05:00       -3689.050000\n",
       "2013-07-14 05:25:00-05:00        3592.772727\n",
       "2013-07-14 05:34:00-05:00       -3627.611111\n",
       "2013-07-14 07:00:00-05:00        2949.954545\n",
       "2013-07-14 07:07:00-05:00       -3461.250000\n",
       "2013-07-14 19:58:00-05:00        3195.666667\n",
       "2013-07-14 20:04:00-05:00       -3619.500000\n",
       "2013-07-14 21:01:00-05:00        3595.076923\n",
       "2013-07-14 21:07:00-05:00       -3737.111111\n",
       "2013-07-14 23:25:00-05:00        2899.714286\n",
       "2013-07-14 23:30:00-05:00       -2785.166667\n",
       "2013-07-15 00:36:00-05:00        2888.083333\n",
       "2013-07-15 00:42:00-05:00       -3401.450000\n",
       "\n",
       "[519 rows x 1 columns]"
      ]
     },
     "execution_count": 58,
     "metadata": {},
     "output_type": "execute_result"
    }
   ],
   "source": [
    "h.transients[h.transients['active transition'].abs()>2000]"
   ]
  },
  {
   "cell_type": "code",
   "execution_count": 48,
   "metadata": {
    "collapsed": false
   },
   "outputs": [
    {
     "data": {
      "text/plain": [
       "0"
      ]
     },
     "execution_count": 48,
     "metadata": {},
     "output_type": "execute_result"
    }
   ],
   "source": [
    "d.sort(ascending=True).head(1).index.values[0]"
   ]
  },
  {
   "cell_type": "code",
   "execution_count": 44,
   "metadata": {
    "collapsed": false
   },
   "outputs": [
    {
     "data": {
      "text/html": [
       "<div>\n",
       "<table border=\"1\" class=\"dataframe\">\n",
       "  <thead>\n",
       "    <tr style=\"text-align: right;\">\n",
       "      <th></th>\n",
       "      <th>(power, active)</th>\n",
       "    </tr>\n",
       "  </thead>\n",
       "  <tbody>\n",
       "    <tr>\n",
       "      <th>0</th>\n",
       "      <td>-2468.711102</td>\n",
       "    </tr>\n",
       "    <tr>\n",
       "      <th>1</th>\n",
       "      <td>617.840251</td>\n",
       "    </tr>\n",
       "  </tbody>\n",
       "</table>\n",
       "</div>"
      ],
      "text/plain": [
       "   (power, active)\n",
       "0     -2468.711102\n",
       "1       617.840251"
      ]
     },
     "execution_count": 44,
     "metadata": {},
     "output_type": "execute_result"
    }
   ],
   "source": [
    "h.centroids-power.mean()"
   ]
  },
  {
   "cell_type": "code",
   "execution_count": 18,
   "metadata": {
    "collapsed": false
   },
   "outputs": [
    {
     "name": "stdout",
     "output_type": "stream",
     "text": [
      "Finding Edges, please wait ...\n",
      "Edge detection complete.\n",
      "Creating transition frame ...\n",
      "Transition frame created.\n",
      "Creating states frame ...\n",
      "States frame created.\n",
      "Finished.\n"
     ]
    }
   ],
   "source": [
    "from nilmtk.disaggregate.hart_85 import Hart85\n",
    "h = Hart85()\n",
    "h.train(elec.mains())"
   ]
  },
  {
   "cell_type": "code",
   "execution_count": 19,
   "metadata": {
    "collapsed": false
   },
   "outputs": [
    {
     "data": {
      "text/html": [
       "<div>\n",
       "<table border=\"1\" class=\"dataframe\">\n",
       "  <thead>\n",
       "    <tr style=\"text-align: right;\">\n",
       "      <th></th>\n",
       "      <th>(power, active)</th>\n",
       "    </tr>\n",
       "  </thead>\n",
       "  <tbody>\n",
       "    <tr>\n",
       "      <th>0</th>\n",
       "      <td>227.799286</td>\n",
       "    </tr>\n",
       "    <tr>\n",
       "      <th>1</th>\n",
       "      <td>3326.892097</td>\n",
       "    </tr>\n",
       "  </tbody>\n",
       "</table>\n",
       "</div>"
      ],
      "text/plain": [
       "   (power, active)\n",
       "0       227.799286\n",
       "1      3326.892097"
      ]
     },
     "execution_count": 19,
     "metadata": {},
     "output_type": "execute_result"
    }
   ],
   "source": [
    "h.centroids"
   ]
  },
  {
   "cell_type": "code",
   "execution_count": 20,
   "metadata": {
    "collapsed": true
   },
   "outputs": [],
   "source": [
    "df_ac = elec['air conditioner'].load().next()[('power','active')]"
   ]
  },
  {
   "cell_type": "code",
   "execution_count": 23,
   "metadata": {
    "collapsed": false
   },
   "outputs": [
    {
     "data": {
      "text/plain": [
       "count    14604.000000\n",
       "mean      2734.961426\n",
       "std        443.669983\n",
       "min        102.000000\n",
       "25%       2588.000000\n",
       "50%       2803.500000\n",
       "75%       3022.250000\n",
       "max       3345.000000\n",
       "Name: (power, active), dtype: float64"
      ]
     },
     "execution_count": 23,
     "metadata": {},
     "output_type": "execute_result"
    }
   ],
   "source": [
    "df_ac[df_ac>100].describe()"
   ]
  },
  {
   "cell_type": "code",
   "execution_count": 46,
   "metadata": {
    "collapsed": true
   },
   "outputs": [],
   "source": [
    "split_point = elec.train_test_split(train_fraction=0.2)"
   ]
  },
  {
   "cell_type": "code",
   "execution_count": 47,
   "metadata": {
    "collapsed": false
   },
   "outputs": [
    {
     "data": {
      "text/plain": [
       "datetime.date(2014, 4, 13)"
      ]
     },
     "execution_count": 47,
     "metadata": {},
     "output_type": "execute_result"
    }
   ],
   "source": [
    "split_point.date()"
   ]
  },
  {
   "cell_type": "code",
   "execution_count": 48,
   "metadata": {
    "collapsed": true
   },
   "outputs": [],
   "source": [
    "train = DataSet(\"/Users/nipunbatra/Downloads/wikienergy-2.h5\")\n",
    "test = DataSet(\"/Users/nipunbatra/Downloads/wikienergy-2.h5\")"
   ]
  },
  {
   "cell_type": "code",
   "execution_count": 49,
   "metadata": {
    "collapsed": false
   },
   "outputs": [],
   "source": [
    "train.set_window(end=split_point.date())\n",
    "\n"
   ]
  },
  {
   "cell_type": "code",
   "execution_count": 11,
   "metadata": {
    "collapsed": false
   },
   "outputs": [
    {
     "data": {
      "text/plain": [
       "<matplotlib.axes._subplots.AxesSubplot at 0x12a2b3210>"
      ]
     },
     "execution_count": 11,
     "metadata": {},
     "output_type": "execute_result"
    }
   ],
   "source": [
    "train.buildings[11].elec.plot()"
   ]
  },
  {
   "cell_type": "code",
   "execution_count": 16,
   "metadata": {
    "collapsed": false
   },
   "outputs": [],
   "source": [
    "test.set_window(start=split_point.date())"
   ]
  },
  {
   "cell_type": "code",
   "execution_count": 17,
   "metadata": {
    "collapsed": false
   },
   "outputs": [
    {
     "name": "stdout",
     "output_type": "stream",
     "text": [
      "Training model for submeter 'ElecMeter(instance=2, building=11, dataset='WikiEnergy', appliances=[Appliance(type='air conditioner', instance=1)])'\n",
      "Training model for submeter 'ElecMeter(instance=3, building=11, dataset='WikiEnergy', appliances=[Appliance(type='sockets', instance=1)])'\n",
      "Training model for submeter 'ElecMeter(instance=4, building=11, dataset='WikiEnergy', appliances=[Appliance(type='sockets', instance=2)])'\n",
      "Training model for submeter 'ElecMeter(instance=5, building=11, dataset='WikiEnergy', appliances=[Appliance(type='dish washer', instance=1)])'\n",
      "Training model for submeter 'ElecMeter(instance=6, building=11, dataset='WikiEnergy', appliances=[Appliance(type='spin dryer', instance=1)])'\n",
      "Training model for submeter 'ElecMeter(instance=7, building=11, dataset='WikiEnergy', appliances=[Appliance(type='electric furnace', instance=1)])'\n",
      "Training model for submeter 'ElecMeter(instance=8, building=11, dataset='WikiEnergy', appliances=[Appliance(type='sockets', instance=3)])'\n",
      "Training model for submeter 'ElecMeter(instance=9, building=11, dataset='WikiEnergy', appliances=[Appliance(type='sockets', instance=4)])'\n",
      "Training model for submeter 'ElecMeter(instance=10, building=11, dataset='WikiEnergy', appliances=[Appliance(type='fridge', instance=1)])'\n",
      "Training model for submeter 'ElecMeter(instance=11, building=11, dataset='WikiEnergy', appliances=[Appliance(type='electric water heating appliance', instance=1)])'\n",
      "Done training!\n"
     ]
    }
   ],
   "source": [
    "co = CombinatorialOptimisation()\n",
    "co.train(elec)"
   ]
  },
  {
   "cell_type": "code",
   "execution_count": 13,
   "metadata": {
    "collapsed": false
   },
   "outputs": [
    {
     "name": "stdout",
     "output_type": "stream",
     "text": [
      "vampire_power = 0.0 watts\n",
      "Estimating power demand for 'ElecMeter(instance=2, building=11, dataset='WikiEnergy', appliances=[Appliance(type='air conditioner', instance=1)])'\n",
      "Estimating power demand for 'ElecMeter(instance=3, building=11, dataset='WikiEnergy', appliances=[Appliance(type='sockets', instance=1)])'\n",
      "Estimating power demand for 'ElecMeter(instance=4, building=11, dataset='WikiEnergy', appliances=[Appliance(type='sockets', instance=2)])'\n",
      "Estimating power demand for 'ElecMeter(instance=5, building=11, dataset='WikiEnergy', appliances=[Appliance(type='dish washer', instance=1)])'\n",
      "Estimating power demand for 'ElecMeter(instance=6, building=11, dataset='WikiEnergy', appliances=[Appliance(type='spin dryer', instance=1)])'\n",
      "Estimating power demand for 'ElecMeter(instance=7, building=11, dataset='WikiEnergy', appliances=[Appliance(type='electric furnace', instance=1)])'\n",
      "Estimating power demand for 'ElecMeter(instance=8, building=11, dataset='WikiEnergy', appliances=[Appliance(type='sockets', instance=3)])'\n",
      "Estimating power demand for 'ElecMeter(instance=9, building=11, dataset='WikiEnergy', appliances=[Appliance(type='sockets', instance=4)])'\n",
      "Estimating power demand for 'ElecMeter(instance=10, building=11, dataset='WikiEnergy', appliances=[Appliance(type='fridge', instance=1)])'\n",
      "Estimating power demand for 'ElecMeter(instance=11, building=11, dataset='WikiEnergy', appliances=[Appliance(type='electric water heating appliance', instance=1)])'\n",
      "Estimating power demand for 'ElecMeter(instance=2, building=11, dataset='WikiEnergy', appliances=[Appliance(type='air conditioner', instance=1)])'\n",
      "Estimating power demand for 'ElecMeter(instance=3, building=11, dataset='WikiEnergy', appliances=[Appliance(type='sockets', instance=1)])'\n",
      "Estimating power demand for 'ElecMeter(instance=4, building=11, dataset='WikiEnergy', appliances=[Appliance(type='sockets', instance=2)])'\n",
      "Estimating power demand for 'ElecMeter(instance=5, building=11, dataset='WikiEnergy', appliances=[Appliance(type='dish washer', instance=1)])'\n",
      "Estimating power demand for 'ElecMeter(instance=6, building=11, dataset='WikiEnergy', appliances=[Appliance(type='spin dryer', instance=1)])'\n",
      "Estimating power demand for 'ElecMeter(instance=7, building=11, dataset='WikiEnergy', appliances=[Appliance(type='electric furnace', instance=1)])'\n",
      "Estimating power demand for 'ElecMeter(instance=8, building=11, dataset='WikiEnergy', appliances=[Appliance(type='sockets', instance=3)])'\n",
      "Estimating power demand for 'ElecMeter(instance=9, building=11, dataset='WikiEnergy', appliances=[Appliance(type='sockets', instance=4)])'\n",
      "Estimating power demand for 'ElecMeter(instance=10, building=11, dataset='WikiEnergy', appliances=[Appliance(type='fridge', instance=1)])'\n",
      "Estimating power demand for 'ElecMeter(instance=11, building=11, dataset='WikiEnergy', appliances=[Appliance(type='electric water heating appliance', instance=1)])'\n"
     ]
    }
   ],
   "source": [
    "disag_filename = 'wikienergy-disag-co-new.h5'\n",
    "output = HDFDataStore(disag_filename, 'w')\n",
    "co.disaggregate(elec.mains(), output)\n",
    "output.close()"
   ]
  },
  {
   "cell_type": "code",
   "execution_count": 16,
   "metadata": {
    "collapsed": false
   },
   "outputs": [],
   "source": [
    "disag = DataSet(disag_filename)\n",
    "disag_elec_co = disag.buildings[building_number].elec"
   ]
  },
  {
   "cell_type": "code",
   "execution_count": 17,
   "metadata": {
    "collapsed": false
   },
   "outputs": [],
   "source": [
    "pred_df_co = disag_elec['fridge'].load().next()[('power','active')]"
   ]
  },
  {
   "cell_type": "code",
   "execution_count": 18,
   "metadata": {
    "collapsed": false
   },
   "outputs": [
    {
     "name": "stdout",
     "output_type": "stream",
     "text": [
      "Training model for submeter 'ElecMeter(instance=2, building=11, dataset='WikiEnergy', appliances=[Appliance(type='air conditioner', instance=1)])'\n",
      "Training model for submeter 'ElecMeter(instance=3, building=11, dataset='WikiEnergy', appliances=[Appliance(type='sockets', instance=1)])'\n",
      "Training model for submeter 'ElecMeter(instance=4, building=11, dataset='WikiEnergy', appliances=[Appliance(type='sockets', instance=2)])'\n",
      "Training model for submeter 'ElecMeter(instance=5, building=11, dataset='WikiEnergy', appliances=[Appliance(type='dish washer', instance=1)])'\n",
      "Training model for submeter 'ElecMeter(instance=6, building=11, dataset='WikiEnergy', appliances=[Appliance(type='spin dryer', instance=1)])'\n",
      "Training model for submeter 'ElecMeter(instance=7, building=11, dataset='WikiEnergy', appliances=[Appliance(type='electric furnace', instance=1)])'\n",
      "Training model for submeter 'ElecMeter(instance=8, building=11, dataset='WikiEnergy', appliances=[Appliance(type='sockets', instance=3)])'\n",
      "Training model for submeter 'ElecMeter(instance=9, building=11, dataset='WikiEnergy', appliances=[Appliance(type='sockets', instance=4)])'\n",
      "Training model for submeter 'ElecMeter(instance=10, building=11, dataset='WikiEnergy', appliances=[Appliance(type='fridge', instance=1)])'\n",
      "Training model for submeter 'ElecMeter(instance=11, building=11, dataset='WikiEnergy', appliances=[Appliance(type='electric water heating appliance', instance=1)])'\n"
     ]
    }
   ],
   "source": [
    "fhmm = fhmm_exact.FHMM()\n",
    "fhmm.train(elec)"
   ]
  },
  {
   "cell_type": "code",
   "execution_count": 19,
   "metadata": {
    "collapsed": false
   },
   "outputs": [
    {
     "ename": "KeyboardInterrupt",
     "evalue": "",
     "output_type": "error",
     "traceback": [
      "\u001b[0;31m---------------------------------------------------------------------------\u001b[0m",
      "\u001b[0;31mKeyboardInterrupt\u001b[0m                         Traceback (most recent call last)",
      "\u001b[0;32m<ipython-input-19-cbfa7cdefd1d>\u001b[0m in \u001b[0;36m<module>\u001b[0;34m()\u001b[0m\n\u001b[1;32m      1\u001b[0m \u001b[0mdisag_filename\u001b[0m \u001b[0;34m=\u001b[0m \u001b[0;34m'wikienergy-disag-fhmm.h5'\u001b[0m\u001b[0;34m\u001b[0m\u001b[0m\n\u001b[1;32m      2\u001b[0m \u001b[0moutput\u001b[0m \u001b[0;34m=\u001b[0m \u001b[0mHDFDataStore\u001b[0m\u001b[0;34m(\u001b[0m\u001b[0mdisag_filename\u001b[0m\u001b[0;34m,\u001b[0m \u001b[0;34m'w'\u001b[0m\u001b[0;34m)\u001b[0m\u001b[0;34m\u001b[0m\u001b[0m\n\u001b[0;32m----> 3\u001b[0;31m \u001b[0mfhmm\u001b[0m\u001b[0;34m.\u001b[0m\u001b[0mdisaggregate\u001b[0m\u001b[0;34m(\u001b[0m\u001b[0melec\u001b[0m\u001b[0;34m.\u001b[0m\u001b[0mmains\u001b[0m\u001b[0;34m(\u001b[0m\u001b[0;34m)\u001b[0m\u001b[0;34m,\u001b[0m \u001b[0moutput\u001b[0m\u001b[0;34m)\u001b[0m\u001b[0;34m\u001b[0m\u001b[0m\n\u001b[0m",
      "\u001b[0;32m/Users/nipunbatra/git/nilmtk/nilmtk/disaggregate/fhmm_exact.pyc\u001b[0m in \u001b[0;36mdisaggregate\u001b[0;34m(self, mains, output_datastore, **load_kwargs)\u001b[0m\n\u001b[1;32m    303\u001b[0m \u001b[0;34m\u001b[0m\u001b[0m\n\u001b[1;32m    304\u001b[0m             \u001b[0;31m# Start disaggregation\u001b[0m\u001b[0;34m\u001b[0m\u001b[0;34m\u001b[0m\u001b[0m\n\u001b[0;32m--> 305\u001b[0;31m             \u001b[0mpredictions\u001b[0m \u001b[0;34m=\u001b[0m \u001b[0mself\u001b[0m\u001b[0;34m.\u001b[0m\u001b[0mdisaggregate_chunk\u001b[0m\u001b[0;34m(\u001b[0m\u001b[0mchunk\u001b[0m\u001b[0;34m)\u001b[0m\u001b[0;34m\u001b[0m\u001b[0m\n\u001b[0m\u001b[1;32m    306\u001b[0m \u001b[0;34m\u001b[0m\u001b[0m\n\u001b[1;32m    307\u001b[0m             \u001b[0;32mfor\u001b[0m \u001b[0mmeter\u001b[0m \u001b[0;32min\u001b[0m \u001b[0mpredictions\u001b[0m\u001b[0;34m.\u001b[0m\u001b[0mcolumns\u001b[0m\u001b[0;34m:\u001b[0m\u001b[0;34m\u001b[0m\u001b[0m\n",
      "\u001b[0;32m/Users/nipunbatra/git/nilmtk/nilmtk/disaggregate/fhmm_exact.pyc\u001b[0m in \u001b[0;36mdisaggregate_chunk\u001b[0;34m(self, test_mains)\u001b[0m\n\u001b[1;32m    229\u001b[0m         \u001b[0mlength\u001b[0m \u001b[0;34m=\u001b[0m \u001b[0mlen\u001b[0m\u001b[0;34m(\u001b[0m\u001b[0mtest_mains\u001b[0m\u001b[0;34m.\u001b[0m\u001b[0mindex\u001b[0m\u001b[0;34m)\u001b[0m\u001b[0;34m\u001b[0m\u001b[0m\n\u001b[1;32m    230\u001b[0m         \u001b[0mtemp\u001b[0m \u001b[0;34m=\u001b[0m \u001b[0mtest_mains\u001b[0m\u001b[0;34m.\u001b[0m\u001b[0mvalues\u001b[0m\u001b[0;34m.\u001b[0m\u001b[0mreshape\u001b[0m\u001b[0;34m(\u001b[0m\u001b[0mlength\u001b[0m\u001b[0;34m,\u001b[0m \u001b[0;36m1\u001b[0m\u001b[0;34m)\u001b[0m\u001b[0;34m\u001b[0m\u001b[0m\n\u001b[0;32m--> 231\u001b[0;31m         \u001b[0mlearnt_states_array\u001b[0m\u001b[0;34m.\u001b[0m\u001b[0mappend\u001b[0m\u001b[0;34m(\u001b[0m\u001b[0mself\u001b[0m\u001b[0;34m.\u001b[0m\u001b[0mmodel\u001b[0m\u001b[0;34m.\u001b[0m\u001b[0mpredict\u001b[0m\u001b[0;34m(\u001b[0m\u001b[0mtemp\u001b[0m\u001b[0;34m)\u001b[0m\u001b[0;34m)\u001b[0m\u001b[0;34m\u001b[0m\u001b[0m\n\u001b[0m\u001b[1;32m    232\u001b[0m \u001b[0;34m\u001b[0m\u001b[0m\n\u001b[1;32m    233\u001b[0m         \u001b[0;31m# Model\u001b[0m\u001b[0;34m\u001b[0m\u001b[0;34m\u001b[0m\u001b[0m\n",
      "\u001b[0;32m/Users/nipunbatra/anaconda/lib/python2.7/site-packages/hmmlearn/base.pyc\u001b[0m in \u001b[0;36mpredict\u001b[0;34m(self, obs, algorithm)\u001b[0m\n\u001b[1;32m    281\u001b[0m             \u001b[0mIndex\u001b[0m \u001b[0mof\u001b[0m \u001b[0mthe\u001b[0m \u001b[0mmost\u001b[0m \u001b[0mlikely\u001b[0m \u001b[0mstates\u001b[0m \u001b[0;32mfor\u001b[0m \u001b[0meach\u001b[0m \u001b[0mobservation\u001b[0m\u001b[0;34m\u001b[0m\u001b[0m\n\u001b[1;32m    282\u001b[0m         \"\"\"\n\u001b[0;32m--> 283\u001b[0;31m         \u001b[0m_\u001b[0m\u001b[0;34m,\u001b[0m \u001b[0mstate_sequence\u001b[0m \u001b[0;34m=\u001b[0m \u001b[0mself\u001b[0m\u001b[0;34m.\u001b[0m\u001b[0mdecode\u001b[0m\u001b[0;34m(\u001b[0m\u001b[0mobs\u001b[0m\u001b[0;34m,\u001b[0m \u001b[0malgorithm\u001b[0m\u001b[0;34m)\u001b[0m\u001b[0;34m\u001b[0m\u001b[0m\n\u001b[0m\u001b[1;32m    284\u001b[0m         \u001b[0;32mreturn\u001b[0m \u001b[0mstate_sequence\u001b[0m\u001b[0;34m\u001b[0m\u001b[0m\n\u001b[1;32m    285\u001b[0m \u001b[0;34m\u001b[0m\u001b[0m\n",
      "\u001b[0;32m/Users/nipunbatra/anaconda/lib/python2.7/site-packages/hmmlearn/base.pyc\u001b[0m in \u001b[0;36mdecode\u001b[0;34m(self, obs, algorithm)\u001b[0m\n\u001b[1;32m    264\u001b[0m         decoder = {\"viterbi\": self._decode_viterbi,\n\u001b[1;32m    265\u001b[0m                    \"map\": self._decode_map}\n\u001b[0;32m--> 266\u001b[0;31m         \u001b[0mlogprob\u001b[0m\u001b[0;34m,\u001b[0m \u001b[0mstate_sequence\u001b[0m \u001b[0;34m=\u001b[0m \u001b[0mdecoder\u001b[0m\u001b[0;34m[\u001b[0m\u001b[0malgorithm\u001b[0m\u001b[0;34m]\u001b[0m\u001b[0;34m(\u001b[0m\u001b[0mobs\u001b[0m\u001b[0;34m)\u001b[0m\u001b[0;34m\u001b[0m\u001b[0m\n\u001b[0m\u001b[1;32m    267\u001b[0m         \u001b[0;32mreturn\u001b[0m \u001b[0mlogprob\u001b[0m\u001b[0;34m,\u001b[0m \u001b[0mstate_sequence\u001b[0m\u001b[0;34m\u001b[0m\u001b[0m\n\u001b[1;32m    268\u001b[0m \u001b[0;34m\u001b[0m\u001b[0m\n",
      "\u001b[0;32m/Users/nipunbatra/anaconda/lib/python2.7/site-packages/hmmlearn/base.pyc\u001b[0m in \u001b[0;36m_decode_viterbi\u001b[0;34m(self, obs)\u001b[0m\n\u001b[1;32m    198\u001b[0m         \u001b[0mobs\u001b[0m \u001b[0;34m=\u001b[0m \u001b[0mnp\u001b[0m\u001b[0;34m.\u001b[0m\u001b[0masarray\u001b[0m\u001b[0;34m(\u001b[0m\u001b[0mobs\u001b[0m\u001b[0;34m)\u001b[0m\u001b[0;34m\u001b[0m\u001b[0m\n\u001b[1;32m    199\u001b[0m         \u001b[0mframelogprob\u001b[0m \u001b[0;34m=\u001b[0m \u001b[0mself\u001b[0m\u001b[0;34m.\u001b[0m\u001b[0m_compute_log_likelihood\u001b[0m\u001b[0;34m(\u001b[0m\u001b[0mobs\u001b[0m\u001b[0;34m)\u001b[0m\u001b[0;34m\u001b[0m\u001b[0m\n\u001b[0;32m--> 200\u001b[0;31m         \u001b[0mviterbi_logprob\u001b[0m\u001b[0;34m,\u001b[0m \u001b[0mstate_sequence\u001b[0m \u001b[0;34m=\u001b[0m \u001b[0mself\u001b[0m\u001b[0;34m.\u001b[0m\u001b[0m_do_viterbi_pass\u001b[0m\u001b[0;34m(\u001b[0m\u001b[0mframelogprob\u001b[0m\u001b[0;34m)\u001b[0m\u001b[0;34m\u001b[0m\u001b[0m\n\u001b[0m\u001b[1;32m    201\u001b[0m         \u001b[0;32mreturn\u001b[0m \u001b[0mviterbi_logprob\u001b[0m\u001b[0;34m,\u001b[0m \u001b[0mstate_sequence\u001b[0m\u001b[0;34m\u001b[0m\u001b[0m\n\u001b[1;32m    202\u001b[0m \u001b[0;34m\u001b[0m\u001b[0m\n",
      "\u001b[0;32m/Users/nipunbatra/anaconda/lib/python2.7/site-packages/hmmlearn/base.pyc\u001b[0m in \u001b[0;36m_do_viterbi_pass\u001b[0;34m(self, framelogprob)\u001b[0m\n\u001b[1;32m    461\u001b[0m         state_sequence, logprob = _hmmc._viterbi(\n\u001b[1;32m    462\u001b[0m             \u001b[0mn_observations\u001b[0m\u001b[0;34m,\u001b[0m \u001b[0mn_components\u001b[0m\u001b[0;34m,\u001b[0m \u001b[0mself\u001b[0m\u001b[0;34m.\u001b[0m\u001b[0m_log_startprob\u001b[0m\u001b[0;34m,\u001b[0m\u001b[0;34m\u001b[0m\u001b[0m\n\u001b[0;32m--> 463\u001b[0;31m             self._log_transmat, framelogprob)\n\u001b[0m\u001b[1;32m    464\u001b[0m         \u001b[0;32mreturn\u001b[0m \u001b[0mlogprob\u001b[0m\u001b[0;34m,\u001b[0m \u001b[0mstate_sequence\u001b[0m\u001b[0;34m\u001b[0m\u001b[0m\n\u001b[1;32m    465\u001b[0m \u001b[0;34m\u001b[0m\u001b[0m\n",
      "\u001b[0;32mhmmlearn/_hmmc.pyx\u001b[0m in \u001b[0;36mhmmlearn._hmmc._viterbi (hmmlearn/_hmmc.c:3557)\u001b[0;34m()\u001b[0m\n",
      "\u001b[0;32m/Users/nipunbatra/anaconda/lib/python2.7/site-packages/numpy/core/fromnumeric.pyc\u001b[0m in \u001b[0;36mamax\u001b[0;34m(a, axis, out, keepdims)\u001b[0m\n\u001b[1;32m   2138\u001b[0m     \u001b[0;32melse\u001b[0m\u001b[0;34m:\u001b[0m\u001b[0;34m\u001b[0m\u001b[0m\n\u001b[1;32m   2139\u001b[0m         return _methods._amax(a, axis=axis,\n\u001b[0;32m-> 2140\u001b[0;31m                             out=out, keepdims=keepdims)\n\u001b[0m\u001b[1;32m   2141\u001b[0m \u001b[0;34m\u001b[0m\u001b[0m\n\u001b[1;32m   2142\u001b[0m \u001b[0;32mdef\u001b[0m \u001b[0mamin\u001b[0m\u001b[0;34m(\u001b[0m\u001b[0ma\u001b[0m\u001b[0;34m,\u001b[0m \u001b[0maxis\u001b[0m\u001b[0;34m=\u001b[0m\u001b[0mNone\u001b[0m\u001b[0;34m,\u001b[0m \u001b[0mout\u001b[0m\u001b[0;34m=\u001b[0m\u001b[0mNone\u001b[0m\u001b[0;34m,\u001b[0m \u001b[0mkeepdims\u001b[0m\u001b[0;34m=\u001b[0m\u001b[0mFalse\u001b[0m\u001b[0;34m)\u001b[0m\u001b[0;34m:\u001b[0m\u001b[0;34m\u001b[0m\u001b[0m\n",
      "\u001b[0;32m/Users/nipunbatra/anaconda/lib/python2.7/site-packages/numpy/core/_methods.pyc\u001b[0m in \u001b[0;36m_amax\u001b[0;34m(a, axis, out, keepdims)\u001b[0m\n\u001b[1;32m     24\u001b[0m \u001b[0;31m# small reductions\u001b[0m\u001b[0;34m\u001b[0m\u001b[0;34m\u001b[0m\u001b[0m\n\u001b[1;32m     25\u001b[0m \u001b[0;32mdef\u001b[0m \u001b[0m_amax\u001b[0m\u001b[0;34m(\u001b[0m\u001b[0ma\u001b[0m\u001b[0;34m,\u001b[0m \u001b[0maxis\u001b[0m\u001b[0;34m=\u001b[0m\u001b[0mNone\u001b[0m\u001b[0;34m,\u001b[0m \u001b[0mout\u001b[0m\u001b[0;34m=\u001b[0m\u001b[0mNone\u001b[0m\u001b[0;34m,\u001b[0m \u001b[0mkeepdims\u001b[0m\u001b[0;34m=\u001b[0m\u001b[0mFalse\u001b[0m\u001b[0;34m)\u001b[0m\u001b[0;34m:\u001b[0m\u001b[0;34m\u001b[0m\u001b[0m\n\u001b[0;32m---> 26\u001b[0;31m     \u001b[0;32mreturn\u001b[0m \u001b[0mumr_maximum\u001b[0m\u001b[0;34m(\u001b[0m\u001b[0ma\u001b[0m\u001b[0;34m,\u001b[0m \u001b[0maxis\u001b[0m\u001b[0;34m,\u001b[0m \u001b[0mNone\u001b[0m\u001b[0;34m,\u001b[0m \u001b[0mout\u001b[0m\u001b[0;34m,\u001b[0m \u001b[0mkeepdims\u001b[0m\u001b[0;34m)\u001b[0m\u001b[0;34m\u001b[0m\u001b[0m\n\u001b[0m\u001b[1;32m     27\u001b[0m \u001b[0;34m\u001b[0m\u001b[0m\n\u001b[1;32m     28\u001b[0m \u001b[0;32mdef\u001b[0m \u001b[0m_amin\u001b[0m\u001b[0;34m(\u001b[0m\u001b[0ma\u001b[0m\u001b[0;34m,\u001b[0m \u001b[0maxis\u001b[0m\u001b[0;34m=\u001b[0m\u001b[0mNone\u001b[0m\u001b[0;34m,\u001b[0m \u001b[0mout\u001b[0m\u001b[0;34m=\u001b[0m\u001b[0mNone\u001b[0m\u001b[0;34m,\u001b[0m \u001b[0mkeepdims\u001b[0m\u001b[0;34m=\u001b[0m\u001b[0mFalse\u001b[0m\u001b[0;34m)\u001b[0m\u001b[0;34m:\u001b[0m\u001b[0;34m\u001b[0m\u001b[0m\n",
      "\u001b[0;31mKeyboardInterrupt\u001b[0m: "
     ]
    }
   ],
   "source": [
    "disag_filename = 'wikienergy-disag-fhmm.h5'\n",
    "output = HDFDataStore(disag_filename, 'w')\n",
    "fhmm.disaggregate(elec.mains(), output)"
   ]
  },
  {
   "cell_type": "code",
   "execution_count": null,
   "metadata": {
    "collapsed": false
   },
   "outputs": [],
   "source": [
    "disag = DataSet(disag_filename)\n",
    "disag_elec = disag.buildings[building_number].elec "
   ]
  },
  {
   "cell_type": "code",
   "execution_count": null,
   "metadata": {
    "collapsed": true
   },
   "outputs": [],
   "source": [
    "pred_df_fhmm = disag_elec['fridge'].load().next()[('power','active')]"
   ]
  },
  {
   "cell_type": "code",
   "execution_count": 68,
   "metadata": {
    "collapsed": false
   },
   "outputs": [
    {
     "data": {
      "text/html": [
       "<div>\n",
       "<table border=\"1\" class=\"dataframe\">\n",
       "  <thead>\n",
       "    <tr style=\"text-align: right;\">\n",
       "      <th></th>\n",
       "      <th>(power, active)</th>\n",
       "    </tr>\n",
       "  </thead>\n",
       "  <tbody>\n",
       "    <tr>\n",
       "      <th>0</th>\n",
       "      <td>127.233546</td>\n",
       "    </tr>\n",
       "    <tr>\n",
       "      <th>1</th>\n",
       "      <td>2535.203256</td>\n",
       "    </tr>\n",
       "    <tr>\n",
       "      <th>2</th>\n",
       "      <td>3360.298845</td>\n",
       "    </tr>\n",
       "    <tr>\n",
       "      <th>3</th>\n",
       "      <td>1166.317494</td>\n",
       "    </tr>\n",
       "    <tr>\n",
       "      <th>4</th>\n",
       "      <td>889.568344</td>\n",
       "    </tr>\n",
       "    <tr>\n",
       "      <th>5</th>\n",
       "      <td>1535.951389</td>\n",
       "    </tr>\n",
       "    <tr>\n",
       "      <th>6</th>\n",
       "      <td>3823.108170</td>\n",
       "    </tr>\n",
       "    <tr>\n",
       "      <th>7</th>\n",
       "      <td>1904.520833</td>\n",
       "    </tr>\n",
       "    <tr>\n",
       "      <th>8</th>\n",
       "      <td>4933.812500</td>\n",
       "    </tr>\n",
       "  </tbody>\n",
       "</table>\n",
       "</div>"
      ],
      "text/plain": [
       "   (power, active)\n",
       "0       127.233546\n",
       "1      2535.203256\n",
       "2      3360.298845\n",
       "3      1166.317494\n",
       "4       889.568344\n",
       "5      1535.951389\n",
       "6      3823.108170\n",
       "7      1904.520833\n",
       "8      4933.812500"
      ]
     },
     "execution_count": 68,
     "metadata": {},
     "output_type": "execute_result"
    }
   ],
   "source": [
    "h.centroids"
   ]
  },
  {
   "cell_type": "code",
   "execution_count": 61,
   "metadata": {
    "collapsed": false
   },
   "outputs": [
    {
     "data": {
      "text/html": [
       "<div>\n",
       "<table border=\"1\" class=\"dataframe\">\n",
       "  <thead>\n",
       "    <tr style=\"text-align: right;\">\n",
       "      <th></th>\n",
       "      <th>active transition</th>\n",
       "    </tr>\n",
       "  </thead>\n",
       "  <tbody>\n",
       "    <tr>\n",
       "      <th>2014-04-01 07:04:00-05:00</th>\n",
       "      <td>3638.857143</td>\n",
       "    </tr>\n",
       "    <tr>\n",
       "      <th>2014-04-01 07:21:00-05:00</th>\n",
       "      <td>-3974.500000</td>\n",
       "    </tr>\n",
       "    <tr>\n",
       "      <th>2014-04-01 11:33:00-05:00</th>\n",
       "      <td>3246.475000</td>\n",
       "    </tr>\n",
       "    <tr>\n",
       "      <th>2014-04-01 12:01:00-05:00</th>\n",
       "      <td>-3241.200000</td>\n",
       "    </tr>\n",
       "    <tr>\n",
       "      <th>2014-04-01 18:12:00-05:00</th>\n",
       "      <td>3247.000000</td>\n",
       "    </tr>\n",
       "    <tr>\n",
       "      <th>2014-04-01 18:19:00-05:00</th>\n",
       "      <td>-3862.916667</td>\n",
       "    </tr>\n",
       "    <tr>\n",
       "      <th>2014-04-01 19:39:00-05:00</th>\n",
       "      <td>4229.404762</td>\n",
       "    </tr>\n",
       "    <tr>\n",
       "      <th>2014-04-01 20:55:00-05:00</th>\n",
       "      <td>-1276.000000</td>\n",
       "    </tr>\n",
       "    <tr>\n",
       "      <th>2014-04-01 21:50:00-05:00</th>\n",
       "      <td>-2596.033333</td>\n",
       "    </tr>\n",
       "    <tr>\n",
       "      <th>2014-04-02 07:11:00-05:00</th>\n",
       "      <td>1675.400000</td>\n",
       "    </tr>\n",
       "    <tr>\n",
       "      <th>2014-04-02 07:27:00-05:00</th>\n",
       "      <td>-3432.500000</td>\n",
       "    </tr>\n",
       "    <tr>\n",
       "      <th>2014-04-02 13:40:00-05:00</th>\n",
       "      <td>3359.000000</td>\n",
       "    </tr>\n",
       "    <tr>\n",
       "      <th>2014-04-02 14:45:00-05:00</th>\n",
       "      <td>-2540.500000</td>\n",
       "    </tr>\n",
       "    <tr>\n",
       "      <th>2014-04-02 19:55:00-05:00</th>\n",
       "      <td>1474.200000</td>\n",
       "    </tr>\n",
       "    <tr>\n",
       "      <th>2014-04-02 21:43:00-05:00</th>\n",
       "      <td>2170.900000</td>\n",
       "    </tr>\n",
       "    <tr>\n",
       "      <th>2014-04-02 22:21:00-05:00</th>\n",
       "      <td>-2532.500000</td>\n",
       "    </tr>\n",
       "    <tr>\n",
       "      <th>2014-04-02 22:46:00-05:00</th>\n",
       "      <td>3779.000000</td>\n",
       "    </tr>\n",
       "    <tr>\n",
       "      <th>2014-04-02 23:08:00-05:00</th>\n",
       "      <td>-1188.000000</td>\n",
       "    </tr>\n",
       "    <tr>\n",
       "      <th>2014-04-02 23:12:00-05:00</th>\n",
       "      <td>-2557.000000</td>\n",
       "    </tr>\n",
       "    <tr>\n",
       "      <th>2014-04-03 21:24:00-05:00</th>\n",
       "      <td>2134.000000</td>\n",
       "    </tr>\n",
       "  </tbody>\n",
       "</table>\n",
       "</div>"
      ],
      "text/plain": [
       "                           active transition\n",
       "2014-04-01 07:04:00-05:00        3638.857143\n",
       "2014-04-01 07:21:00-05:00       -3974.500000\n",
       "2014-04-01 11:33:00-05:00        3246.475000\n",
       "2014-04-01 12:01:00-05:00       -3241.200000\n",
       "2014-04-01 18:12:00-05:00        3247.000000\n",
       "2014-04-01 18:19:00-05:00       -3862.916667\n",
       "2014-04-01 19:39:00-05:00        4229.404762\n",
       "2014-04-01 20:55:00-05:00       -1276.000000\n",
       "2014-04-01 21:50:00-05:00       -2596.033333\n",
       "2014-04-02 07:11:00-05:00        1675.400000\n",
       "2014-04-02 07:27:00-05:00       -3432.500000\n",
       "2014-04-02 13:40:00-05:00        3359.000000\n",
       "2014-04-02 14:45:00-05:00       -2540.500000\n",
       "2014-04-02 19:55:00-05:00        1474.200000\n",
       "2014-04-02 21:43:00-05:00        2170.900000\n",
       "2014-04-02 22:21:00-05:00       -2532.500000\n",
       "2014-04-02 22:46:00-05:00        3779.000000\n",
       "2014-04-02 23:08:00-05:00       -1188.000000\n",
       "2014-04-02 23:12:00-05:00       -2557.000000\n",
       "2014-04-03 21:24:00-05:00        2134.000000"
      ]
     },
     "execution_count": 61,
     "metadata": {},
     "output_type": "execute_result"
    }
   ],
   "source": [
    "h.transients[h.transients['active transition'].abs()>1000].head(20)"
   ]
  },
  {
   "cell_type": "code",
   "execution_count": 63,
   "metadata": {
    "collapsed": false
   },
   "outputs": [
    {
     "data": {
      "text/html": [
       "<div>\n",
       "<table border=\"1\" class=\"dataframe\">\n",
       "  <thead>\n",
       "    <tr style=\"text-align: right;\">\n",
       "      <th></th>\n",
       "      <th>T1 Time</th>\n",
       "      <th>T1 Active</th>\n",
       "      <th>T2 Time</th>\n",
       "      <th>T2 Active</th>\n",
       "    </tr>\n",
       "  </thead>\n",
       "  <tbody>\n",
       "    <tr>\n",
       "      <th>0</th>\n",
       "      <td>2014-04-01 05:53:00</td>\n",
       "      <td>92.616071</td>\n",
       "      <td>2014-04-01 06:10:00</td>\n",
       "      <td>-109.758929</td>\n",
       "    </tr>\n",
       "    <tr>\n",
       "      <th>1</th>\n",
       "      <td>2014-04-01 05:45:00</td>\n",
       "      <td>121.362126</td>\n",
       "      <td>2014-04-01 06:18:00</td>\n",
       "      <td>-103.317460</td>\n",
       "    </tr>\n",
       "    <tr>\n",
       "      <th>2</th>\n",
       "      <td>2014-04-01 07:18:00</td>\n",
       "      <td>107.666667</td>\n",
       "      <td>2014-04-01 07:22:00</td>\n",
       "      <td>-116.000000</td>\n",
       "    </tr>\n",
       "    <tr>\n",
       "      <th>3</th>\n",
       "      <td>2014-04-01 07:05:00</td>\n",
       "      <td>114.702703</td>\n",
       "      <td>2014-04-01 07:35:00</td>\n",
       "      <td>-208.432624</td>\n",
       "    </tr>\n",
       "    <tr>\n",
       "      <th>4</th>\n",
       "      <td>2014-04-01 08:44:00</td>\n",
       "      <td>98.330144</td>\n",
       "      <td>2014-04-01 08:56:00</td>\n",
       "      <td>-120.659091</td>\n",
       "    </tr>\n",
       "  </tbody>\n",
       "</table>\n",
       "</div>"
      ],
      "text/plain": [
       "              T1 Time   T1 Active             T2 Time   T2 Active\n",
       "0 2014-04-01 05:53:00   92.616071 2014-04-01 06:10:00 -109.758929\n",
       "1 2014-04-01 05:45:00  121.362126 2014-04-01 06:18:00 -103.317460\n",
       "2 2014-04-01 07:18:00  107.666667 2014-04-01 07:22:00 -116.000000\n",
       "3 2014-04-01 07:05:00  114.702703 2014-04-01 07:35:00 -208.432624\n",
       "4 2014-04-01 08:44:00   98.330144 2014-04-01 08:56:00 -120.659091"
      ]
     },
     "execution_count": 63,
     "metadata": {},
     "output_type": "execute_result"
    }
   ],
   "source": [
    "#ax=a.plot()\n",
    "h.pair_df[h.pair_df[\"T1 Active\"]>0].head()"
   ]
  },
  {
   "cell_type": "code",
   "execution_count": 66,
   "metadata": {
    "collapsed": false
   },
   "outputs": [],
   "source": [
    "a = train.buildings[building_number].elec[('air conditioner')].load().next()[('power','active')]\n",
    "b = train.buildings[building_number].elec.mains().load().next()[('power','active')]"
   ]
  },
  {
   "cell_type": "code",
   "execution_count": 67,
   "metadata": {
    "collapsed": false
   },
   "outputs": [
    {
     "data": {
      "text/plain": [
       "<matplotlib.axes._subplots.AxesSubplot at 0x13aed3910>"
      ]
     },
     "execution_count": 67,
     "metadata": {},
     "output_type": "execute_result"
    }
   ],
   "source": [
    "ax = a.head(30000).plot()\n",
    "b.head(30000).plot(ax=ax)\n",
    "\n"
   ]
  },
  {
   "cell_type": "code",
   "execution_count": 24,
   "metadata": {
    "collapsed": false
   },
   "outputs": [
    {
     "name": "stdout",
     "output_type": "stream",
     "text": [
      "Finding Edges, please wait ...\n",
      "Edge detection complete.\n",
      "Creating transition frame ...\n",
      "Transition frame created.\n",
      "Creating states frame ...\n",
      "States frame created.\n",
      "Finished.\n"
     ]
    }
   ],
   "source": [
    "disag_filename = 'wikienergy-disag-hart.h5'\n",
    "output = HDFDataStore(disag_filename, 'w')\n",
    "h.disaggregate(elec.mains(), output)\n",
    "disag = DataSet(disag_filename)\n",
    "disag_elec = disag.buildings[building_number].elec"
   ]
  },
  {
   "cell_type": "code",
   "execution_count": 27,
   "metadata": {
    "collapsed": true
   },
   "outputs": [],
   "source": [
    "ax1 = disag_elec['unknown', 0].load().next().plot()\n",
    "pred_df_co.plot(ax=ax1, label=\"Combinatorial Optimisation\")\n",
    "elec['fridge', 1].load().next().plot(ax=ax1)\n",
    "ax1.legend([\"Predicted Hart\", \"Predicted CO\",\"Ground truth\"]);\n",
    "plt.ylabel(\"Power (W)\")\n",
    "plt.xlabel(\"Time\");"
   ]
  },
  {
   "cell_type": "code",
   "execution_count": null,
   "metadata": {
    "collapsed": true
   },
   "outputs": [],
   "source": []
  }
 ],
 "metadata": {
  "kernelspec": {
   "display_name": "Python 2",
   "language": "python",
   "name": "python2"
  },
  "language_info": {
   "codemirror_mode": {
    "name": "ipython",
    "version": 2
   },
   "file_extension": ".py",
   "mimetype": "text/x-python",
   "name": "python",
   "nbconvert_exporter": "python",
   "pygments_lexer": "ipython2",
   "version": "2.7.10"
  }
 },
 "nbformat": 4,
 "nbformat_minor": 0
}
