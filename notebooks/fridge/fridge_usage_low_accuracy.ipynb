{
 "cells": [
  {
   "cell_type": "code",
   "execution_count": 41,
   "metadata": {
    "collapsed": false
   },
   "outputs": [],
   "source": []
  },
  {
   "cell_type": "code",
   "execution_count": 42,
   "metadata": {
    "collapsed": true
   },
   "outputs": [],
   "source": []
  },
  {
   "cell_type": "code",
   "execution_count": 53,
   "metadata": {
    "collapsed": true
   },
   "outputs": [],
   "source": [
    "import numpy as np\n",
    "import pandas as pd\n",
    "from os.path import join\n",
    "import os\n",
    "from pylab import rcParams\n",
    "import matplotlib.pyplot as plt\n",
    "\n",
    "import nilmtk\n",
    "from nilmtk import DataSet, TimeFrame, MeterGroup, HDFDataStore\n",
    "from nilmtk.disaggregate import CombinatorialOptimisation, FHMM, Hart85\n",
    "from nilmtk.utils import print_dict\n",
    "from nilmtk.metrics import f1_score\n",
    "\n",
    "import warnings\n",
    "warnings.filterwarnings(\"ignore\")\n",
    "import sys\n",
    "sys.path.append(\"../common\")\n",
    "sys.path.append(\"../../common\")\n",
    "sys.path.append(\"../../../common\")\n",
    "sys.path.append(\"../../code/common\")\n",
    "\n",
    "\n",
    "ds = DataSet(\"/Users/nipunbatra/Downloads/wikienergy-2.h5\")\n",
    "fridges = nilmtk.global_meter_group.select_using_appliances(type='fridge')\n",
    "\n",
    "paths = {\"Hart\": \"../../data/fridge/N2_K3_Hart_usage_defrost_cycles.csv\",\n",
    "        \"CO\":\"../../data/fridge/N2_K3_CO_usage_defrost_cycles.csv\",\n",
    "        \"FHMM\":\"../../data/fridge/N2_K3_FHMM_usage_defrost_cycles.csv\",\n",
    "        \"Submetered\":\"../../data/fridge/usage_defrost_cycles.csv\"}\n",
    "\n",
    "\n",
    "dfs = {}\n",
    "for algo, algo_csv in paths.iteritems():\n",
    "    dfs[algo] = pd.read_csv(algo_csv)\n",
    "    dfs[algo].index = dfs[algo].home\n",
    "    dfs[algo] = dfs[algo].dropna()\n",
    "ix = dfs[\"Submetered\"].index\n",
    "\n",
    "for algo, algo_df in dfs.iteritems():\n",
    "    ix = algo_df.index.intersection(ix)\n",
    "\n",
    "baseline_percent = {}\n",
    "num_usage_cycles = {}\n",
    "for algo, algo_df in dfs.iteritems():\n",
    "    baseline_percent[algo] = algo_df.ix[ix][\"baseline_duty_percent\"]\n",
    "    num_usage_cycles[algo] = algo_df.ix[ix][\"usage_cycles\"]\n",
    "    \n",
    "from common_functions import latexify, format_axes    \n",
    "\n",
    "latexify(fig_height=1.4)\n",
    "ax = pd.DataFrame(baseline_percent).plot(kind=\"box\", color=\"gray\",sym='');\n",
    "format_axes(plt.gca())\n",
    "plt.ylabel(\"Baseline duty percentage\")\n",
    "plt.grid(False)\n",
    "plt.savefig(\"/Users/nipunbatra/git/nilm-actionable/figures/fridge/baseline_duty_percent.pdf\", bbox_inches=\"tight\")\n",
    "\n"
   ]
  },
  {
   "cell_type": "code",
   "execution_count": null,
   "metadata": {
    "collapsed": true
   },
   "outputs": [],
   "source": []
  }
 ],
 "metadata": {
  "kernelspec": {
   "display_name": "Python 2",
   "language": "python",
   "name": "python2"
  },
  "language_info": {
   "codemirror_mode": {
    "name": "ipython",
    "version": 2
   },
   "file_extension": ".py",
   "mimetype": "text/x-python",
   "name": "python",
   "nbconvert_exporter": "python",
   "pygments_lexer": "ipython2",
   "version": "2.7.10"
  }
 },
 "nbformat": 4,
 "nbformat_minor": 0
}
