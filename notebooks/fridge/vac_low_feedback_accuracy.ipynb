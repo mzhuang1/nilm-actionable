{
 "cells": [
  {
   "cell_type": "code",
   "execution_count": 24,
   "metadata": {
    "collapsed": false
   },
   "outputs": [
    {
     "data": {
      "image/png": "[encoded data removed]",
      "text/plain": [
       "<matplotlib.figure.Figure at 0x117add6d0>"
      ]
     },
     "metadata": {},
     "output_type": "display_data"
    }
   ],
   "source": [
    "import numpy as np\n",
    "import pandas as pd\n",
    "from os.path import join\n",
    "import os\n",
    "from pylab import rcParams\n",
    "import matplotlib.pyplot as plt\n",
    "\n",
    "import nilmtk\n",
    "from nilmtk import DataSet, TimeFrame, MeterGroup, HDFDataStore\n",
    "from nilmtk.disaggregate import CombinatorialOptimisation, FHMM, Hart85\n",
    "from nilmtk.utils import print_dict\n",
    "from nilmtk.metrics import f1_score\n",
    "\n",
    "import warnings\n",
    "warnings.filterwarnings(\"ignore\")\n",
    "import sys\n",
    "sys.path.append(\"../common\")\n",
    "sys.path.append(\"../../common\")\n",
    "sys.path.append(\"../../../common\")\n",
    "\n",
    "\n",
    "\n",
    "%matplotlib inline\n",
    "sys.path.append(\"../../code/common\")\n",
    "paths = {\"Hart\": \"../../data/hvac/minutes_N2_K3_T50_Hart.csv\",\n",
    "        \"CO\":\"../../data/hvac/minutes_N2_K3_T50_CO.csv\",\n",
    "        \"FHMM\":\"../../data/hvac/minutes_N2_K3_T50_FHMM.csv\",\n",
    "        \"Submetered\":\"../../data/hvac/minutes_GT.csv\"}\n",
    "\n",
    "dfs = {}\n",
    "for algo, algo_csv in paths.iteritems():\n",
    "    dfs[algo] = pd.read_csv(algo_csv)\n",
    "    dfs[algo].index = dfs[algo].dataid\n",
    "    dfs[algo] = dfs[algo].dropna()\n",
    "ix = dfs[\"Submetered\"].index\n",
    "\n",
    "for algo, algo_df in dfs.iteritems():\n",
    "    ix = algo_df.index.intersection(ix)\n",
    "\n",
    "a_1 = {}\n",
    "a_3 = {}\n",
    "evening_energy = {}\n",
    "morning_mins = {}\n",
    "night_mins = {}\n",
    "for algo, algo_df in dfs.iteritems():\n",
    "    a_1[algo] = algo_df.ix[ix][\"a1\"]\n",
    "    evening_energy[algo] = algo_df.ix[ix][\"evening_energy\"]\n",
    "    a_3[algo] = algo_df.ix[ix][\"a3\"]\n",
    "    morning_mins[algo] = algo_df.ix[ix][\"morning_mins\"]\n",
    "    night_mins[algo] = algo_df.ix[ix][\"sleep_mins\"]\n",
    "    \n",
    "    \n",
    "pd.DataFrame(evening_energy).plot(kind=\"box\")\n",
    "morning_df = pd.DataFrame(morning_mins)\n",
    "evening_energy = pd.DataFrame(evening_energy)\n",
    "Wm_to_kwh = 1.66666667 * 1e-5\n",
    "def wm_to_kwh_per_month(wm, mins=24*30*60):\n",
    "    return wm * Wm_to_kwh / (mins * 1.0 / (1440 * 30))\n",
    "\n",
    "evening_energy = pd.DataFrame(evening_energy).apply(wm_to_kwh_per_month)\n",
    "\n",
    "out = {\"CO\":{}, \"FHMM\":{},\"Hart\":{}}\n",
    "for algo in [\"CO\", \"FHMM\", \"Hart\"]:\n",
    "    out[algo][\"Morning\"] = (morning_mins[algo] - morning_mins[\"Submetered\"]).abs().div(morning_mins[\"Submetered\"]).mul(100).median()\n",
    "    out[algo][\"Night\"] = (night_mins[algo] - night_mins[\"Submetered\"]).abs().div(night_mins[\"Submetered\"]).mul(100).median()\n",
    "#plt.ylim((0,200))\n",
    "#x_line = evening_energy[\"Submetered\"]\n",
    "#plt.plot(x_line, 1.2*x_line)\n",
    "#plt.plot(x_line, 0.8*x_line)\n",
    "\n",
    "tableau20 = [(31, 119, 180), (174, 199, 232), (255, 127, 14), (255, 187, 120),\n",
    "             (44, 160, 44), (152, 223, 138), (214, 39, 40), (255, 152, 150),\n",
    "             (148, 103, 189), (197, 176, 213), (140, 86, 75), (196, 156, 148),\n",
    "             (227, 119, 194), (247, 182, 210), (127, 127, 127), (199, 199, 199),\n",
    "             (188, 189, 34), (219, 219, 141), (23, 190, 207), (158, 218, 229)]\n",
    " \n",
    "# Scale the RGB values to the [0, 1] range, which is the format matplotlib accepts.\n",
    "for i in range(len(tableau20)):\n",
    "    r, g, b = tableau20[i]\n",
    "    tableau20[i] = (r / 255., g / 255., b / 255.)\n",
    "from common_functions import latexify, format_axes\n",
    "latexify(fig_height=1.2)\n",
    "ax = pd.DataFrame(out).T.plot(kind=\"barh\",rot=0, colors=[tableau20[0], tableau20[4]])\n",
    "format_axes(ax)\n",
    "#plt.xlabel(r\"Mean absolute error\")\n",
    "plt.xlabel(\"Error in Prediction of Minutes of HVAC Usage (\\%)\")\n",
    "#plt.xlabel(\"$\\\\frac{|Submetered\\,mins-Predicted\\,mins| \\\\times 100 \\%}{Submetered\\,\\,mins}$\")\n",
    "plt.legend(loc='upper left', ncol=1)\n",
    "plt.tight_layout()\n",
    "plt.savefig(\"/Users/nipunbatra/git/nilm-actionable/figures/hvac/mins.pdf\", bbox_inches=\"tight\")"
   ]
  },
  {
   "cell_type": "code",
   "execution_count": null,
   "metadata": {
    "collapsed": true
   },
   "outputs": [],
   "source": []
  }
 ],
 "metadata": {
  "kernelspec": {
   "display_name": "Python 2",
   "language": "python",
   "name": "python2"
  },
  "language_info": {
   "codemirror_mode": {
    "name": "ipython",
    "version": 2
   },
   "file_extension": ".py",
   "mimetype": "text/x-python",
   "name": "python",
   "nbconvert_exporter": "python",
   "pygments_lexer": "ipython2",
   "version": "2.7.10"
  }
 },
 "nbformat": 4,
 "nbformat_minor": 0
}
