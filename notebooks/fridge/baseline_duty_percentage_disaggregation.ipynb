{
 "cells": [
  {
   "cell_type": "code",
   "execution_count": 1,
   "metadata": {
    "collapsed": false
   },
   "outputs": [
    {
     "name": "stderr",
     "output_type": "stream",
     "text": [
      "Vendor:  Continuum Analytics, Inc.\n",
      "Package: mkl\n",
      "Message: trial mode expires in 29 days\n"
     ]
    }
   ],
   "source": [
    "import numpy as np\n",
    "import pandas as pd\n",
    "from os.path import join\n",
    "import os\n",
    "from pylab import rcParams\n",
    "import matplotlib.pyplot as plt\n",
    "\n",
    "import nilmtk\n",
    "from nilmtk import DataSet, TimeFrame, MeterGroup, HDFDataStore\n",
    "from nilmtk.disaggregate import CombinatorialOptimisation, FHMM\n",
    "from nilmtk.utils import print_dict\n",
    "from nilmtk.metrics import f1_score\n",
    "\n",
    "import warnings\n",
    "warnings.filterwarnings(\"ignore\")"
   ]
  },
  {
   "cell_type": "code",
   "execution_count": 2,
   "metadata": {
    "collapsed": true
   },
   "outputs": [],
   "source": [
    "import sys"
   ]
  },
  {
   "cell_type": "code",
   "execution_count": 3,
   "metadata": {
    "collapsed": true
   },
   "outputs": [],
   "source": [
    "sys.path.append(\"../../code/common/\")\n",
    "sys.path.append(\"../../code/fridge/\")"
   ]
  },
  {
   "cell_type": "code",
   "execution_count": 4,
   "metadata": {
    "collapsed": false
   },
   "outputs": [],
   "source": [
    "ds = DataSet(\"/Users/nipunbatra/Downloads/wikienergy-2.h5\")\n",
    "fridges = nilmtk.global_meter_group.select_using_appliances(type='fridge')"
   ]
  },
  {
   "cell_type": "code",
   "execution_count": 5,
   "metadata": {
    "collapsed": false
   },
   "outputs": [],
   "source": [
    "fridges_id_building_id = {i:fridges.meters[i].building() for i in range(len(fridges.meters))}"
   ]
  },
  {
   "cell_type": "code",
   "execution_count": 6,
   "metadata": {
    "collapsed": false
   },
   "outputs": [],
   "source": [
    "fridge_id_building_id_ser = pd.Series(fridges_id_building_id)"
   ]
  },
  {
   "cell_type": "code",
   "execution_count": 7,
   "metadata": {
    "collapsed": false
   },
   "outputs": [
    {
     "data": {
      "text/plain": [
       "0      1\n",
       "1      1\n",
       "2     10\n",
       "3    101\n",
       "4    102\n",
       "dtype: int64"
      ]
     },
     "execution_count": 7,
     "metadata": {},
     "output_type": "execute_result"
    }
   ],
   "source": [
    "fridge_id_building_id_ser.head()"
   ]
  },
  {
   "cell_type": "code",
   "execution_count": 8,
   "metadata": {
    "collapsed": false
   },
   "outputs": [],
   "source": [
    "from fridge_compressor_durations_optimised_jul_7 import *"
   ]
  },
  {
   "cell_type": "code",
   "execution_count": 9,
   "metadata": {
    "collapsed": false
   },
   "outputs": [],
   "source": [
    "fridge_ids_to_consider = compressor_powers.keys()"
   ]
  },
  {
   "cell_type": "code",
   "execution_count": 10,
   "metadata": {
    "collapsed": false
   },
   "outputs": [],
   "source": [
    "Wm_to_kwh = 1.66666667 * 1e-5\n",
    "\n",
    "def wm_to_kwh_per_month(wm, mins):\n",
    "    return wm * Wm_to_kwh / (mins * 1.0 / (1440 * 30))"
   ]
  },
  {
   "cell_type": "code",
   "execution_count": 11,
   "metadata": {
    "collapsed": false
   },
   "outputs": [],
   "source": [
    "building_ids_to_consider = fridge_id_building_id_ser[fridge_ids_to_consider]"
   ]
  },
  {
   "cell_type": "code",
   "execution_count": 12,
   "metadata": {
    "collapsed": false
   },
   "outputs": [
    {
     "data": {
      "text/plain": [
       "1       1\n",
       "2      10\n",
       "8     105\n",
       "11     11\n",
       "13    112\n",
       "dtype: int64"
      ]
     },
     "execution_count": 12,
     "metadata": {},
     "output_type": "execute_result"
    }
   ],
   "source": [
    "\n",
    "building_ids_to_consider.head()"
   ]
  },
  {
   "cell_type": "code",
   "execution_count": 13,
   "metadata": {
    "collapsed": true
   },
   "outputs": [],
   "source": [
    "import glob"
   ]
  },
  {
   "cell_type": "code",
   "execution_count": 14,
   "metadata": {
    "collapsed": false
   },
   "outputs": [],
   "source": [
    "list_of_files = glob.glob(\"output/*.h5\")"
   ]
  },
  {
   "cell_type": "code",
   "execution_count": 15,
   "metadata": {
    "collapsed": false
   },
   "outputs": [
    {
     "data": {
      "text/plain": [
       "['output/1.h5',\n",
       " 'output/11.h5',\n",
       " 'output/13.h5',\n",
       " 'output/139.h5',\n",
       " 'output/14.h5',\n",
       " 'output/140.h5',\n",
       " 'output/142.h5',\n",
       " 'output/144.h5',\n",
       " 'output/145.h5',\n",
       " 'output/146.h5',\n",
       " 'output/15.h5',\n",
       " 'output/18.h5',\n",
       " 'output/2.h5',\n",
       " 'output/22.h5',\n",
       " 'output/25.h5',\n",
       " 'output/29.h5',\n",
       " 'output/33.h5',\n",
       " 'output/34.h5',\n",
       " 'output/35.h5',\n",
       " 'output/37.h5',\n",
       " 'output/42.h5',\n",
       " 'output/43.h5',\n",
       " 'output/44.h5',\n",
       " 'output/45.h5',\n",
       " 'output/46.h5',\n",
       " 'output/47.h5',\n",
       " 'output/50.h5',\n",
       " 'output/51.h5',\n",
       " 'output/52.h5',\n",
       " 'output/54.h5',\n",
       " 'output/55.h5',\n",
       " 'output/57.h5',\n",
       " 'output/58.h5',\n",
       " 'output/59.h5',\n",
       " 'output/60.h5',\n",
       " 'output/61.h5',\n",
       " 'output/67.h5',\n",
       " 'output/68.h5',\n",
       " 'output/72.h5',\n",
       " 'output/75.h5',\n",
       " 'output/76.h5',\n",
       " 'output/78.h5',\n",
       " 'output/79.h5',\n",
       " 'output/8.h5',\n",
       " 'output/83.h5',\n",
       " 'output/84.h5',\n",
       " 'output/87.h5',\n",
       " 'output/88.h5',\n",
       " 'output/89.h5',\n",
       " 'output/92.h5',\n",
       " 'output/93.h5',\n",
       " 'output/95.h5',\n",
       " 'output/97.h5']"
      ]
     },
     "execution_count": 15,
     "metadata": {},
     "output_type": "execute_result"
    }
   ],
   "source": [
    "list_of_files"
   ]
  },
  {
   "cell_type": "code",
   "execution_count": 20,
   "metadata": {
    "collapsed": true
   },
   "outputs": [],
   "source": [
    "def create_df(o_new):\n",
    "    d_new = pd.DataFrame(o_new).T\n",
    "    d_new.columns = [\"total\", \"baseline\", \"defrost\", \"usage\",\n",
    "                     \"usage_cycles\", \"non_usage_cycles\",\n",
    "                     \"defrost_cycles\",\"baseline_duty_percent\", \"total_mins\"]\n",
    "\n",
    "\n",
    "    #d = d[d.usage > 0]\n",
    "    d_new[\"artifical_sum\"] = d_new.baseline + d_new.defrost + d_new.usage\n",
    "\n",
    "    d_new[\"baseline_percentage\"] = d_new.baseline * 100 / d_new.total\n",
    "    d_new[\"defrost_percentage\"] = d_new.defrost * 100 / d_new.total\n",
    "    d_new[\"usage_percentage\"] = d_new.usage * 100 / d_new.total\n",
    "    return d_new"
   ]
  },
  {
   "cell_type": "code",
   "execution_count": 41,
   "metadata": {
    "collapsed": false
   },
   "outputs": [
    {
     "name": "stdout",
     "output_type": "stream",
     "text": [
      "1\n",
      "0.39 0.333333333333\n",
      "0.338 0.288888888889\n",
      "0.585 0.5\n",
      "0.521287128713 0.445544554455\n",
      "11\n",
      "0.585 0.5\n",
      "0.688235294118 0.588235294118\n",
      "0.585 0.5\n",
      "0.619411764706 0.529411764706\n",
      "13\n",
      "0.43875 0.375\n",
      "0.6175 0.527777777778\n",
      "0.325 0.277777777778\n",
      "0.590949152542 0.505084745763\n",
      "139\n",
      "0.501428571429 0.428571428571\n",
      "0.60328125 0.515625\n",
      "0.638181818182 0.545454545455\n",
      "0.188709677419 0.161290322581\n",
      "14\n",
      "0.39 0.333333333333\n",
      "0.568285714286 0.485714285714\n",
      "0.468 0.4\n",
      "0.433333333333 0.37037037037\n",
      "140\n",
      "0.39 0.333333333333\n",
      "0.631428571429 0.539682539683\n",
      "0.49868852459 0.426229508197\n",
      "0.63984375 0.546875\n",
      "142\n",
      "0.81 0.692307692308\n",
      "0.435 0.371794871795\n",
      "0.26 0.222222222222\n",
      "0.34125 0.291666666667\n",
      "144\n",
      "0.0570731707317 0.0487804878049\n",
      "0.638181818182 0.545454545455\n",
      "0.619411764706 0.529411764706\n",
      "0.585 0.5\n",
      "145\n",
      "0.501428571429 0.428571428571\n",
      "0.7475 0.638888888889\n",
      "0.691363636364 0.590909090909\n",
      "0.63 0.538461538462\n",
      "146\n",
      "0.585 0.5\n",
      "0.6552 0.56\n",
      "0.702 0.6\n",
      "0.557142857143 0.47619047619\n",
      "15\n",
      "0.39 0.333333333333\n",
      "0.48512195122 0.414634146341\n",
      "0.585 0.5\n",
      "0.48512195122 0.414634146341\n",
      "18\n",
      "0.501428571429 0.428571428571\n",
      "0.454368932039 0.388349514563\n",
      "0.52 0.444444444444\n",
      "0.3744 0.32\n",
      "2\n",
      "0.668571428571 0.571428571429\n",
      "0.459642857143 0.392857142857\n",
      "0.585 0.5\n",
      "0.463965517241 0.396551724138\n",
      "22\n",
      "0.819 0.7\n",
      "0.6215625 0.53125\n",
      "0.691363636364 0.590909090909\n",
      "0.585 0.5\n",
      "25\n",
      "0.835714285714 0.714285714286\n",
      "0.501428571429 0.428571428571\n",
      "0.668571428571 0.571428571429\n",
      "nan nan\n",
      "29\n",
      "0.2925 0.25\n",
      "0.275294117647 0.235294117647\n",
      "0.65 0.555555555556\n",
      "nan nan\n",
      "33\n",
      "0.2925 0.25\n",
      "0.408139534884 0.348837209302\n",
      "0.712173913043 0.608695652174\n",
      "0.364 0.311111111111\n",
      "34\n",
      "0.14625 0.125\n",
      "0.474324324324 0.405405405405\n",
      "1.10117647059 0.941176470588\n",
      "0.43875 0.375\n",
      "35\n",
      "0.585 0.5\n",
      "0.563333333333 0.481481481481\n",
      "0.585 0.5\n",
      "0.52 0.444444444444\n",
      "37\n",
      "0.195 0.166666666667\n",
      "0.501428571429 0.428571428571\n",
      "1.0725 0.916666666667\n",
      "0.501428571429 0.428571428571\n",
      "42\n",
      "0.845 0.722222222222\n",
      "0.751263157895 0.642105263158\n",
      "0.717096774194 0.612903225806\n",
      "0.746808510638 0.63829787234\n",
      "43\n",
      "0.39 0.333333333333\n",
      "0.344117647059 0.294117647059\n",
      "0.78 0.666666666667\n",
      "0.309705882353 0.264705882353\n",
      "44\n",
      "0.501428571429 0.428571428571\n",
      "0.590909090909 0.505050505051\n",
      "0.238333333333 0.203703703704\n",
      "nan nan\n",
      "45\n",
      "0.501428571429 0.428571428571\n",
      "0.511875 0.4375\n",
      "0.5484375 0.46875\n",
      "0.4753125 0.40625\n",
      "46\n",
      "0.585 0.5\n",
      "0.527647058824 0.450980392157\n",
      "0.445714285714 0.380952380952\n",
      "0.504705882353 0.43137254902\n",
      "47\n",
      "0.585 0.5\n",
      "0.4212 0.36\n",
      "0.702 0.6\n",
      "0.415161290323 0.354838709677\n",
      "50\n",
      "0.638181818182 0.545454545455\n",
      "0.752142857143 0.642857142857\n",
      "0.685862068966 0.586206896552\n",
      "0.738947368421 0.631578947368\n",
      "51\n",
      "0.2925 0.25\n",
      "0.361323529412 0.308823529412\n",
      "0.468 0.4\n",
      "0.395492957746 0.338028169014\n",
      "52\n",
      "0.668571428571 0.571428571429\n",
      "0.522 0.446153846154\n",
      "0.845 0.722222222222\n",
      "0.65 0.555555555556\n",
      "54\n",
      "0.65 0.555555555556\n",
      "0.585 0.5\n",
      "0.531818181818 0.454545454545\n",
      "0.307894736842 0.263157894737\n",
      "55\n",
      "0.2925 0.25\n",
      "0.742634730539 0.634730538922\n",
      "0.39 0.333333333333\n",
      "0.24488372093 0.209302325581\n",
      "57\n",
      "0.18 0.153846153846\n",
      "0.4914 0.42\n",
      "1.1375 0.972222222222\n",
      "0.468 0.4\n",
      "58\n",
      "0.702 0.6\n",
      "0.606666666667 0.518518518519\n",
      "0.78 0.666666666667\n",
      "nan nan\n",
      "59\n",
      "0.117 0.1\n",
      "0.4225 0.361111111111\n",
      "0.130537190083 0.111570247934\n",
      "0.442119815668 0.377880184332\n",
      "60\n",
      "0.468 0.4\n",
      "0.457826086957 0.391304347826\n",
      "0.52 0.444444444444\n",
      "nan nan\n",
      "61\n",
      "0.212727272727 0.181818181818\n",
      "0.433820224719 0.370786516854\n",
      "0.585 0.5\n",
      "nan nan\n",
      "67\n",
      "0.585 0.5\n",
      "0.657123287671 0.561643835616\n",
      "0.660705882353 0.564705882353\n",
      "0.616621621622 0.527027027027\n",
      "68\n",
      "0.702 0.6\n",
      "0.976535433071 0.834645669291\n",
      "0.886363636364 0.757575757576\n",
      "0.39 0.333333333333\n",
      "72\n",
      "0.234 0.2\n",
      "0.38152173913 0.326086956522\n",
      "0.658125 0.5625\n",
      "0.369473684211 0.315789473684\n",
      "75\n",
      "0.2925 0.25\n",
      "0.45 0.384615384615\n",
      "0.284594594595 0.243243243243\n",
      "0.425454545455 0.363636363636\n",
      "76\n",
      "0.627804878049 0.536585365854\n",
      "0.446115107914 0.381294964029\n",
      "0.641612903226 0.548387096774\n",
      "nan nan\n",
      "78\n",
      "0.14625 0.125\n",
      "0.4225 0.361111111111\n",
      "0.43875 0.375\n",
      "nan nan\n",
      "79\n",
      "0.432739726027 0.369863013699\n",
      "0.420588235294 0.359477124183\n",
      "0.359291338583 0.307086614173\n",
      "0.41025974026 0.350649350649\n",
      "8\n",
      "0.2925 0.25\n",
      "0.501428571429 0.428571428571\n",
      "0.619411764706 0.529411764706\n",
      "0.445714285714 0.380952380952\n",
      "83\n",
      "0.78 0.666666666667\n",
      "0.3744 0.32\n",
      "0.7605 0.65\n",
      "0.34125 0.291666666667\n",
      "84\n",
      "0.52 0.444444444444\n",
      "0.661973684211 0.565789473684\n",
      "0.78 0.666666666667\n",
      "0.417857142857 0.357142857143\n",
      "87\n",
      "0.585 0.5\n",
      "0.342 0.292307692308\n",
      "0.677368421053 0.578947368421\n",
      "0.45 0.384615384615\n",
      "88\n",
      "0.468 0.4\n",
      "0.607075471698 0.518867924528\n",
      "0.27 0.230769230769\n",
      "nan nan\n",
      "89\n",
      "0.14625 0.125\n",
      "0.468 0.4\n",
      "1.11428571429 0.952380952381\n",
      "0.452903225806 0.387096774194\n",
      "92\n",
      "0.738947368421 0.631578947368\n",
      "0.621310344828 0.531034482759\n",
      "0.950625 0.8125\n",
      "nan nan\n",
      "93\n",
      "0.334285714286 0.285714285714\n",
      "0.52 0.444444444444\n",
      "0.52 0.444444444444\n",
      "0.495 0.423076923077\n",
      "95\n",
      "0.39 0.333333333333\n",
      "0.6435 0.55\n",
      "0.65 0.555555555556\n",
      "0.531063829787 0.45390070922\n",
      "97\n"
     ]
    },
    {
     "ename": "KeyError",
     "evalue": "\"['CO'] not in index\"",
     "output_type": "error",
     "traceback": [
      "\u001b[0;31m---------------------------------------------------------------------------\u001b[0m",
      "\u001b[0;31mKeyError\u001b[0m                                  Traceback (most recent call last)",
      "\u001b[0;32m<ipython-input-41-92d9df9b82fc>\u001b[0m in \u001b[0;36m<module>\u001b[0;34m()\u001b[0m\n\u001b[1;32m     12\u001b[0m \u001b[0;34m\u001b[0m\u001b[0m\n\u001b[1;32m     13\u001b[0m \u001b[0;34m\u001b[0m\u001b[0m\n\u001b[0;32m---> 14\u001b[0;31m         \u001b[0mout\u001b[0m\u001b[0;34m[\u001b[0m\u001b[0mfridge_num\u001b[0m\u001b[0;34m]\u001b[0m\u001b[0;34m[\u001b[0m\u001b[0malgo\u001b[0m\u001b[0;34m]\u001b[0m \u001b[0;34m=\u001b[0m \u001b[0mcompute_fractions_new\u001b[0m\u001b[0;34m(\u001b[0m\u001b[0mdf\u001b[0m\u001b[0;34m[\u001b[0m\u001b[0;34m[\u001b[0m\u001b[0malgo\u001b[0m\u001b[0;34m]\u001b[0m\u001b[0;34m]\u001b[0m\u001b[0;34m[\u001b[0m\u001b[0malgo\u001b[0m\u001b[0;34m]\u001b[0m\u001b[0;34m,\u001b[0m \u001b[0mfridge_num\u001b[0m\u001b[0;34m)\u001b[0m\u001b[0;34m\u001b[0m\u001b[0m\n\u001b[0m\u001b[1;32m     15\u001b[0m     \u001b[0;31m#out[f.split(\"/\")[1].split(\".\")[0]] = df.sum()\u001b[0m\u001b[0;34m\u001b[0m\u001b[0;34m\u001b[0m\u001b[0m\n",
      "\u001b[0;32m/Users/nipunbatra/anaconda/lib/python2.7/site-packages/pandas/core/frame.pyc\u001b[0m in \u001b[0;36m__getitem__\u001b[0;34m(self, key)\u001b[0m\n\u001b[1;32m   1789\u001b[0m         \u001b[0;32mif\u001b[0m \u001b[0misinstance\u001b[0m\u001b[0;34m(\u001b[0m\u001b[0mkey\u001b[0m\u001b[0;34m,\u001b[0m \u001b[0;34m(\u001b[0m\u001b[0mSeries\u001b[0m\u001b[0;34m,\u001b[0m \u001b[0mnp\u001b[0m\u001b[0;34m.\u001b[0m\u001b[0mndarray\u001b[0m\u001b[0;34m,\u001b[0m \u001b[0mIndex\u001b[0m\u001b[0;34m,\u001b[0m \u001b[0mlist\u001b[0m\u001b[0;34m)\u001b[0m\u001b[0;34m)\u001b[0m\u001b[0;34m:\u001b[0m\u001b[0;34m\u001b[0m\u001b[0m\n\u001b[1;32m   1790\u001b[0m             \u001b[0;31m# either boolean or fancy integer index\u001b[0m\u001b[0;34m\u001b[0m\u001b[0;34m\u001b[0m\u001b[0m\n\u001b[0;32m-> 1791\u001b[0;31m             \u001b[0;32mreturn\u001b[0m \u001b[0mself\u001b[0m\u001b[0;34m.\u001b[0m\u001b[0m_getitem_array\u001b[0m\u001b[0;34m(\u001b[0m\u001b[0mkey\u001b[0m\u001b[0;34m)\u001b[0m\u001b[0;34m\u001b[0m\u001b[0m\n\u001b[0m\u001b[1;32m   1792\u001b[0m         \u001b[0;32melif\u001b[0m \u001b[0misinstance\u001b[0m\u001b[0;34m(\u001b[0m\u001b[0mkey\u001b[0m\u001b[0;34m,\u001b[0m \u001b[0mDataFrame\u001b[0m\u001b[0;34m)\u001b[0m\u001b[0;34m:\u001b[0m\u001b[0;34m\u001b[0m\u001b[0m\n\u001b[1;32m   1793\u001b[0m             \u001b[0;32mreturn\u001b[0m \u001b[0mself\u001b[0m\u001b[0;34m.\u001b[0m\u001b[0m_getitem_frame\u001b[0m\u001b[0;34m(\u001b[0m\u001b[0mkey\u001b[0m\u001b[0;34m)\u001b[0m\u001b[0;34m\u001b[0m\u001b[0m\n",
      "\u001b[0;32m/Users/nipunbatra/anaconda/lib/python2.7/site-packages/pandas/core/frame.pyc\u001b[0m in \u001b[0;36m_getitem_array\u001b[0;34m(self, key)\u001b[0m\n\u001b[1;32m   1833\u001b[0m             \u001b[0;32mreturn\u001b[0m \u001b[0mself\u001b[0m\u001b[0;34m.\u001b[0m\u001b[0mtake\u001b[0m\u001b[0;34m(\u001b[0m\u001b[0mindexer\u001b[0m\u001b[0;34m,\u001b[0m \u001b[0maxis\u001b[0m\u001b[0;34m=\u001b[0m\u001b[0;36m0\u001b[0m\u001b[0;34m,\u001b[0m \u001b[0mconvert\u001b[0m\u001b[0;34m=\u001b[0m\u001b[0mFalse\u001b[0m\u001b[0;34m)\u001b[0m\u001b[0;34m\u001b[0m\u001b[0m\n\u001b[1;32m   1834\u001b[0m         \u001b[0;32melse\u001b[0m\u001b[0;34m:\u001b[0m\u001b[0;34m\u001b[0m\u001b[0m\n\u001b[0;32m-> 1835\u001b[0;31m             \u001b[0mindexer\u001b[0m \u001b[0;34m=\u001b[0m \u001b[0mself\u001b[0m\u001b[0;34m.\u001b[0m\u001b[0mix\u001b[0m\u001b[0;34m.\u001b[0m\u001b[0m_convert_to_indexer\u001b[0m\u001b[0;34m(\u001b[0m\u001b[0mkey\u001b[0m\u001b[0;34m,\u001b[0m \u001b[0maxis\u001b[0m\u001b[0;34m=\u001b[0m\u001b[0;36m1\u001b[0m\u001b[0;34m)\u001b[0m\u001b[0;34m\u001b[0m\u001b[0m\n\u001b[0m\u001b[1;32m   1836\u001b[0m             \u001b[0;32mreturn\u001b[0m \u001b[0mself\u001b[0m\u001b[0;34m.\u001b[0m\u001b[0mtake\u001b[0m\u001b[0;34m(\u001b[0m\u001b[0mindexer\u001b[0m\u001b[0;34m,\u001b[0m \u001b[0maxis\u001b[0m\u001b[0;34m=\u001b[0m\u001b[0;36m1\u001b[0m\u001b[0;34m,\u001b[0m \u001b[0mconvert\u001b[0m\u001b[0;34m=\u001b[0m\u001b[0mTrue\u001b[0m\u001b[0;34m)\u001b[0m\u001b[0;34m\u001b[0m\u001b[0m\n\u001b[1;32m   1837\u001b[0m \u001b[0;34m\u001b[0m\u001b[0m\n",
      "\u001b[0;32m/Users/nipunbatra/anaconda/lib/python2.7/site-packages/pandas/core/indexing.pyc\u001b[0m in \u001b[0;36m_convert_to_indexer\u001b[0;34m(self, obj, axis, is_setter)\u001b[0m\n\u001b[1;32m   1110\u001b[0m                 \u001b[0mmask\u001b[0m \u001b[0;34m=\u001b[0m \u001b[0mcheck\u001b[0m \u001b[0;34m==\u001b[0m \u001b[0;34m-\u001b[0m\u001b[0;36m1\u001b[0m\u001b[0;34m\u001b[0m\u001b[0m\n\u001b[1;32m   1111\u001b[0m                 \u001b[0;32mif\u001b[0m \u001b[0mmask\u001b[0m\u001b[0;34m.\u001b[0m\u001b[0many\u001b[0m\u001b[0;34m(\u001b[0m\u001b[0;34m)\u001b[0m\u001b[0;34m:\u001b[0m\u001b[0;34m\u001b[0m\u001b[0m\n\u001b[0;32m-> 1112\u001b[0;31m                     \u001b[0;32mraise\u001b[0m \u001b[0mKeyError\u001b[0m\u001b[0;34m(\u001b[0m\u001b[0;34m'%s not in index'\u001b[0m \u001b[0;34m%\u001b[0m \u001b[0mobjarr\u001b[0m\u001b[0;34m[\u001b[0m\u001b[0mmask\u001b[0m\u001b[0;34m]\u001b[0m\u001b[0;34m)\u001b[0m\u001b[0;34m\u001b[0m\u001b[0m\n\u001b[0m\u001b[1;32m   1113\u001b[0m \u001b[0;34m\u001b[0m\u001b[0m\n\u001b[1;32m   1114\u001b[0m                 \u001b[0;32mreturn\u001b[0m \u001b[0m_values_from_object\u001b[0m\u001b[0;34m(\u001b[0m\u001b[0mindexer\u001b[0m\u001b[0;34m)\u001b[0m\u001b[0;34m\u001b[0m\u001b[0m\n",
      "\u001b[0;31mKeyError\u001b[0m: \"['CO'] not in index\""
     ]
    }
   ],
   "source": [
    "out = {}\n",
    "for f in list_of_files[:]:\n",
    "    #print f.split(\"/\")[1].split(\".\")[0]\n",
    "    fridge_num = int(f.split(\"/\")[1].split(\".\")[0])\n",
    "    print(fridge_num)\n",
    "    df = pd.HDFStore(f)['/disag']\n",
    "    #f = fridges.meters[n].load().next()[('power', 'active')]\n",
    "    #df_energy = wm_to_kwh_per_month(df.sum(), len(df))\n",
    "    out[fridge_num] = {}\n",
    "    #for algo in [\"Hart\"]:\n",
    "    for algo in [\"CO\", \"GT\", \"FHMM\", \"Hart\"]:\n",
    "        \n",
    "        \n",
    "        out[fridge_num][algo] = compute_fractions_new(df[[algo]][algo], fridge_num)\n",
    "    #out[f.split(\"/\")[1].split(\".\")[0]] = df.sum()"
   ]
  },
  {
   "cell_type": "code",
   "execution_count": 30,
   "metadata": {
    "collapsed": false
   },
   "outputs": [
    {
     "data": {
      "text/html": [
       "<div>\n",
       "<table border=\"1\" class=\"dataframe\">\n",
       "  <thead>\n",
       "    <tr style=\"text-align: right;\">\n",
       "      <th></th>\n",
       "      <th>total</th>\n",
       "      <th>baseline</th>\n",
       "      <th>defrost</th>\n",
       "      <th>usage</th>\n",
       "      <th>usage_cycles</th>\n",
       "      <th>non_usage_cycles</th>\n",
       "      <th>defrost_cycles</th>\n",
       "      <th>baseline_duty_percent</th>\n",
       "      <th>total_mins</th>\n",
       "      <th>artifical_sum</th>\n",
       "      <th>baseline_percentage</th>\n",
       "      <th>defrost_percentage</th>\n",
       "      <th>usage_percentage</th>\n",
       "    </tr>\n",
       "  </thead>\n",
       "  <tbody>\n",
       "    <tr>\n",
       "      <th>CO</th>\n",
       "      <td>105.626220</td>\n",
       "      <td>16.683283</td>\n",
       "      <td>81.299804</td>\n",
       "      <td>7.861769</td>\n",
       "      <td>3232</td>\n",
       "      <td>3103</td>\n",
       "      <td>100</td>\n",
       "      <td>0.333333</td>\n",
       "      <td>44339</td>\n",
       "      <td>105.844856</td>\n",
       "      <td>15.794642</td>\n",
       "      <td>76.969340</td>\n",
       "      <td>7.443009</td>\n",
       "    </tr>\n",
       "    <tr>\n",
       "      <th>FHMM</th>\n",
       "      <td>99.891341</td>\n",
       "      <td>21.730119</td>\n",
       "      <td>75.724079</td>\n",
       "      <td>5.576813</td>\n",
       "      <td>754</td>\n",
       "      <td>1682</td>\n",
       "      <td>339</td>\n",
       "      <td>0.500000</td>\n",
       "      <td>44339</td>\n",
       "      <td>103.031011</td>\n",
       "      <td>21.753757</td>\n",
       "      <td>75.806449</td>\n",
       "      <td>5.582880</td>\n",
       "    </tr>\n",
       "    <tr>\n",
       "      <th>GT</th>\n",
       "      <td>25.810942</td>\n",
       "      <td>21.045639</td>\n",
       "      <td>0.921447</td>\n",
       "      <td>3.377528</td>\n",
       "      <td>110</td>\n",
       "      <td>225</td>\n",
       "      <td>4</td>\n",
       "      <td>0.288889</td>\n",
       "      <td>44339</td>\n",
       "      <td>25.344614</td>\n",
       "      <td>81.537663</td>\n",
       "      <td>3.569987</td>\n",
       "      <td>13.085643</td>\n",
       "    </tr>\n",
       "    <tr>\n",
       "      <th>Hart</th>\n",
       "      <td>38.951076</td>\n",
       "      <td>30.269504</td>\n",
       "      <td>0.000000</td>\n",
       "      <td>8.617804</td>\n",
       "      <td>344</td>\n",
       "      <td>482</td>\n",
       "      <td>0</td>\n",
       "      <td>0.445545</td>\n",
       "      <td>44339</td>\n",
       "      <td>38.887307</td>\n",
       "      <td>77.711598</td>\n",
       "      <td>0.000000</td>\n",
       "      <td>22.124688</td>\n",
       "    </tr>\n",
       "  </tbody>\n",
       "</table>\n",
       "</div>"
      ],
      "text/plain": [
       "           total   baseline    defrost     usage  usage_cycles  \\\n",
       "CO    105.626220  16.683283  81.299804  7.861769          3232   \n",
       "FHMM   99.891341  21.730119  75.724079  5.576813           754   \n",
       "GT     25.810942  21.045639   0.921447  3.377528           110   \n",
       "Hart   38.951076  30.269504   0.000000  8.617804           344   \n",
       "\n",
       "      non_usage_cycles  defrost_cycles  baseline_duty_percent  total_mins  \\\n",
       "CO                3103             100               0.333333       44339   \n",
       "FHMM              1682             339               0.500000       44339   \n",
       "GT                 225               4               0.288889       44339   \n",
       "Hart               482               0               0.445545       44339   \n",
       "\n",
       "      artifical_sum  baseline_percentage  defrost_percentage  usage_percentage  \n",
       "CO       105.844856            15.794642           76.969340          7.443009  \n",
       "FHMM     103.031011            21.753757           75.806449          5.582880  \n",
       "GT        25.344614            81.537663            3.569987         13.085643  \n",
       "Hart      38.887307            77.711598            0.000000         22.124688  "
      ]
     },
     "execution_count": 30,
     "metadata": {},
     "output_type": "execute_result"
    }
   ],
   "source": [
    "create_df(out[1])"
   ]
  },
  {
   "cell_type": "code",
   "execution_count": 38,
   "metadata": {
    "collapsed": false
   },
   "outputs": [
    {
     "data": {
      "text/html": [
       "<div>\n",
       "<table border=\"1\" class=\"dataframe\">\n",
       "  <thead>\n",
       "    <tr style=\"text-align: right;\">\n",
       "      <th></th>\n",
       "      <th>total</th>\n",
       "      <th>baseline</th>\n",
       "      <th>defrost</th>\n",
       "      <th>usage</th>\n",
       "      <th>usage_cycles</th>\n",
       "      <th>non_usage_cycles</th>\n",
       "      <th>defrost_cycles</th>\n",
       "      <th>baseline_duty_percent</th>\n",
       "      <th>total_mins</th>\n",
       "      <th>artifical_sum</th>\n",
       "      <th>baseline_percentage</th>\n",
       "      <th>defrost_percentage</th>\n",
       "      <th>usage_percentage</th>\n",
       "    </tr>\n",
       "  </thead>\n",
       "  <tbody>\n",
       "    <tr>\n",
       "      <th>CO</th>\n",
       "      <td>101.907341</td>\n",
       "      <td>34.987326</td>\n",
       "      <td>59.969739</td>\n",
       "      <td>8.048728</td>\n",
       "      <td>1864</td>\n",
       "      <td>4963</td>\n",
       "      <td>259</td>\n",
       "      <td>0.500000</td>\n",
       "      <td>86099</td>\n",
       "      <td>103.005793</td>\n",
       "      <td>34.332489</td>\n",
       "      <td>58.84732</td>\n",
       "      <td>7.898084</td>\n",
       "    </tr>\n",
       "    <tr>\n",
       "      <th>FHMM</th>\n",
       "      <td>52.027545</td>\n",
       "      <td>40.035677</td>\n",
       "      <td>0.000000</td>\n",
       "      <td>11.984692</td>\n",
       "      <td>2065</td>\n",
       "      <td>3678</td>\n",
       "      <td>0</td>\n",
       "      <td>0.500000</td>\n",
       "      <td>86099</td>\n",
       "      <td>52.020370</td>\n",
       "      <td>76.950925</td>\n",
       "      <td>0.00000</td>\n",
       "      <td>23.035283</td>\n",
       "    </tr>\n",
       "    <tr>\n",
       "      <th>GT</th>\n",
       "      <td>72.995050</td>\n",
       "      <td>60.212692</td>\n",
       "      <td>9.162573</td>\n",
       "      <td>6.290185</td>\n",
       "      <td>694</td>\n",
       "      <td>3723</td>\n",
       "      <td>86</td>\n",
       "      <td>0.588235</td>\n",
       "      <td>86099</td>\n",
       "      <td>75.665450</td>\n",
       "      <td>82.488733</td>\n",
       "      <td>12.55232</td>\n",
       "      <td>8.617277</td>\n",
       "    </tr>\n",
       "    <tr>\n",
       "      <th>Hart</th>\n",
       "      <td>55.851776</td>\n",
       "      <td>46.405715</td>\n",
       "      <td>0.000000</td>\n",
       "      <td>9.427998</td>\n",
       "      <td>705</td>\n",
       "      <td>2342</td>\n",
       "      <td>0</td>\n",
       "      <td>0.529412</td>\n",
       "      <td>86099</td>\n",
       "      <td>55.833713</td>\n",
       "      <td>83.087268</td>\n",
       "      <td>0.00000</td>\n",
       "      <td>16.880391</td>\n",
       "    </tr>\n",
       "  </tbody>\n",
       "</table>\n",
       "</div>"
      ],
      "text/plain": [
       "           total   baseline    defrost      usage  usage_cycles  \\\n",
       "CO    101.907341  34.987326  59.969739   8.048728          1864   \n",
       "FHMM   52.027545  40.035677   0.000000  11.984692          2065   \n",
       "GT     72.995050  60.212692   9.162573   6.290185           694   \n",
       "Hart   55.851776  46.405715   0.000000   9.427998           705   \n",
       "\n",
       "      non_usage_cycles  defrost_cycles  baseline_duty_percent  total_mins  \\\n",
       "CO                4963             259               0.500000       86099   \n",
       "FHMM              3678               0               0.500000       86099   \n",
       "GT                3723              86               0.588235       86099   \n",
       "Hart              2342               0               0.529412       86099   \n",
       "\n",
       "      artifical_sum  baseline_percentage  defrost_percentage  usage_percentage  \n",
       "CO       103.005793            34.332489            58.84732          7.898084  \n",
       "FHMM      52.020370            76.950925             0.00000         23.035283  \n",
       "GT        75.665450            82.488733            12.55232          8.617277  \n",
       "Hart      55.833713            83.087268             0.00000         16.880391  "
      ]
     },
     "execution_count": 38,
     "metadata": {},
     "output_type": "execute_result"
    }
   ],
   "source": [
    "create_df(out[11])"
   ]
  },
  {
   "cell_type": "code",
   "execution_count": 60,
   "metadata": {
    "collapsed": false
   },
   "outputs": [
    {
     "data": {
      "text/html": [
       "<div>\n",
       "<table border=\"1\" class=\"dataframe\">\n",
       "  <thead>\n",
       "    <tr style=\"text-align: right;\">\n",
       "      <th></th>\n",
       "      <th>total</th>\n",
       "      <th>baseline</th>\n",
       "      <th>defrost</th>\n",
       "      <th>usage</th>\n",
       "      <th>usage_cycles</th>\n",
       "      <th>non_usage_cycles</th>\n",
       "      <th>defrost_cycles</th>\n",
       "      <th>baseline_duty_percent</th>\n",
       "      <th>total_mins</th>\n",
       "      <th>artifical_sum</th>\n",
       "      <th>baseline_percentage</th>\n",
       "      <th>defrost_percentage</th>\n",
       "      <th>usage_percentage</th>\n",
       "    </tr>\n",
       "  </thead>\n",
       "  <tbody>\n",
       "    <tr>\n",
       "      <th>CO</th>\n",
       "      <td>105.626220</td>\n",
       "      <td>16.683283</td>\n",
       "      <td>81.299804</td>\n",
       "      <td>7.861769</td>\n",
       "      <td>3232</td>\n",
       "      <td>3103</td>\n",
       "      <td>100</td>\n",
       "      <td>0.333333</td>\n",
       "      <td>44339</td>\n",
       "      <td>105.844856</td>\n",
       "      <td>15.794642</td>\n",
       "      <td>76.969340</td>\n",
       "      <td>7.443009</td>\n",
       "    </tr>\n",
       "    <tr>\n",
       "      <th>FHMM</th>\n",
       "      <td>99.891341</td>\n",
       "      <td>21.730119</td>\n",
       "      <td>75.724079</td>\n",
       "      <td>5.576813</td>\n",
       "      <td>754</td>\n",
       "      <td>1682</td>\n",
       "      <td>339</td>\n",
       "      <td>0.500000</td>\n",
       "      <td>44339</td>\n",
       "      <td>103.031011</td>\n",
       "      <td>21.753757</td>\n",
       "      <td>75.806449</td>\n",
       "      <td>5.582880</td>\n",
       "    </tr>\n",
       "    <tr>\n",
       "      <th>GT</th>\n",
       "      <td>25.810942</td>\n",
       "      <td>21.045639</td>\n",
       "      <td>0.921447</td>\n",
       "      <td>3.377528</td>\n",
       "      <td>110</td>\n",
       "      <td>225</td>\n",
       "      <td>4</td>\n",
       "      <td>0.288889</td>\n",
       "      <td>44339</td>\n",
       "      <td>25.344614</td>\n",
       "      <td>81.537663</td>\n",
       "      <td>3.569987</td>\n",
       "      <td>13.085643</td>\n",
       "    </tr>\n",
       "    <tr>\n",
       "      <th>Hart</th>\n",
       "      <td>38.951076</td>\n",
       "      <td>30.269504</td>\n",
       "      <td>0.000000</td>\n",
       "      <td>8.617804</td>\n",
       "      <td>344</td>\n",
       "      <td>482</td>\n",
       "      <td>0</td>\n",
       "      <td>0.445545</td>\n",
       "      <td>44339</td>\n",
       "      <td>38.887307</td>\n",
       "      <td>77.711598</td>\n",
       "      <td>0.000000</td>\n",
       "      <td>22.124688</td>\n",
       "    </tr>\n",
       "  </tbody>\n",
       "</table>\n",
       "</div>"
      ],
      "text/plain": [
       "           total   baseline    defrost     usage  usage_cycles  \\\n",
       "CO    105.626220  16.683283  81.299804  7.861769          3232   \n",
       "FHMM   99.891341  21.730119  75.724079  5.576813           754   \n",
       "GT     25.810942  21.045639   0.921447  3.377528           110   \n",
       "Hart   38.951076  30.269504   0.000000  8.617804           344   \n",
       "\n",
       "      non_usage_cycles  defrost_cycles  baseline_duty_percent  total_mins  \\\n",
       "CO                3103             100               0.333333       44339   \n",
       "FHMM              1682             339               0.500000       44339   \n",
       "GT                 225               4               0.288889       44339   \n",
       "Hart               482               0               0.445545       44339   \n",
       "\n",
       "      artifical_sum  baseline_percentage  defrost_percentage  usage_percentage  \n",
       "CO       105.844856            15.794642           76.969340          7.443009  \n",
       "FHMM     103.031011            21.753757           75.806449          5.582880  \n",
       "GT        25.344614            81.537663            3.569987         13.085643  \n",
       "Hart      38.887307            77.711598            0.000000         22.124688  "
      ]
     },
     "execution_count": 60,
     "metadata": {},
     "output_type": "execute_result"
    }
   ],
   "source": [
    "create_df(out[1])"
   ]
  },
  {
   "cell_type": "code",
   "execution_count": 51,
   "metadata": {
    "collapsed": false
   },
   "outputs": [],
   "source": [
    "p = pd.Panel(out)"
   ]
  },
  {
   "cell_type": "code",
   "execution_count": 116,
   "metadata": {
    "collapsed": false
   },
   "outputs": [],
   "source": [
    "di = {\"baseline_percentage\":{}, \"defrost_percentage\":{},\n",
    "      \"usage_percentage\":{}, \"usage_cycles\":{}, \n",
    "      \"non_usage_cycles\":{}, \"defrost_cycles\":{}}\n",
    "for element in di.keys():\n",
    "    for f_id in out.keys():\n",
    "        try:\n",
    "            di[element][f_id] = {}\n",
    "            for algo in [\"CO\", \"FHMM\", \"Hart\", \"GT\"]:\n",
    "                 di[element][f_id][algo] = create_df(out[f_id][algo])[element].values[0]\n",
    "        except:\n",
    "            pass"
   ]
  },
  {
   "cell_type": "code",
   "execution_count": 83,
   "metadata": {
    "collapsed": false
   },
   "outputs": [
    {
     "data": {
      "text/plain": [
       "53.847161558228542"
      ]
     },
     "execution_count": 83,
     "metadata": {},
     "output_type": "execute_result"
    }
   ],
   "source": []
  },
  {
   "cell_type": "code",
   "execution_count": 123,
   "metadata": {
    "collapsed": false
   },
   "outputs": [],
   "source": [
    "usage_cyles_df = pd.DataFrame(di[\"usage_cycles\"]).T\n",
    "non_usage_cycles_df = pd.DataFrame(di[\"non_usage_cycles\"]).T\n",
    "defrost_cyles_df = pd.DataFrame(di[\"defrost_cycles\"]).T\n",
    "\n",
    "prop_usage_cycles = usage_cyles_df/(usage_cyles_df+non_usage_cycles_df)\n",
    "baseline_percentage_df = pd.DataFrame(di[\"baseline_percentage\"]).T\n",
    "usage_percentage_df = pd.DataFrame(di[\"usage_percentage\"]).T\n",
    "defrost_percentage_df = pd.DataFrame(di[\"defrost_percentage\"]).T"
   ]
  },
  {
   "cell_type": "code",
   "execution_count": 124,
   "metadata": {
    "collapsed": false
   },
   "outputs": [
    {
     "data": {
      "text/html": [
       "<div>\n",
       "<table border=\"1\" class=\"dataframe\">\n",
       "  <thead>\n",
       "    <tr style=\"text-align: right;\">\n",
       "      <th></th>\n",
       "      <th>CO</th>\n",
       "      <th>FHMM</th>\n",
       "      <th>GT</th>\n",
       "      <th>Hart</th>\n",
       "    </tr>\n",
       "  </thead>\n",
       "  <tbody>\n",
       "    <tr>\n",
       "      <th>1</th>\n",
       "      <td>0.510182</td>\n",
       "      <td>0.309524</td>\n",
       "      <td>0.328358</td>\n",
       "      <td>0.416465</td>\n",
       "    </tr>\n",
       "    <tr>\n",
       "      <th>2</th>\n",
       "      <td>0.266886</td>\n",
       "      <td>0.435820</td>\n",
       "      <td>0.488258</td>\n",
       "      <td>0.430538</td>\n",
       "    </tr>\n",
       "    <tr>\n",
       "      <th>8</th>\n",
       "      <td>0.816965</td>\n",
       "      <td>0.484377</td>\n",
       "      <td>0.275476</td>\n",
       "      <td>0.333897</td>\n",
       "    </tr>\n",
       "    <tr>\n",
       "      <th>11</th>\n",
       "      <td>0.273034</td>\n",
       "      <td>0.359568</td>\n",
       "      <td>0.157120</td>\n",
       "      <td>0.231375</td>\n",
       "    </tr>\n",
       "    <tr>\n",
       "      <th>13</th>\n",
       "      <td>0.484096</td>\n",
       "      <td>0.489576</td>\n",
       "      <td>0.422535</td>\n",
       "      <td>0.211470</td>\n",
       "    </tr>\n",
       "  </tbody>\n",
       "</table>\n",
       "</div>"
      ],
      "text/plain": [
       "          CO      FHMM        GT      Hart\n",
       "1   0.510182  0.309524  0.328358  0.416465\n",
       "2   0.266886  0.435820  0.488258  0.430538\n",
       "8   0.816965  0.484377  0.275476  0.333897\n",
       "11  0.273034  0.359568  0.157120  0.231375\n",
       "13  0.484096  0.489576  0.422535  0.211470"
      ]
     },
     "execution_count": 124,
     "metadata": {},
     "output_type": "execute_result"
    }
   ],
   "source": [
    "prop_usage_cycles.head()"
   ]
  },
  {
   "cell_type": "code",
   "execution_count": 91,
   "metadata": {
    "collapsed": true
   },
   "outputs": [],
   "source": [
    "from sklearn import linear_model"
   ]
  },
  {
   "cell_type": "code",
   "execution_count": 92,
   "metadata": {
    "collapsed": true
   },
   "outputs": [],
   "source": [
    "from common_functions import latexify, format_axes"
   ]
  },
  {
   "cell_type": "code",
   "execution_count": 96,
   "metadata": {
    "collapsed": true
   },
   "outputs": [],
   "source": [
    "import math\n",
    "def sign(n):\n",
    "    if n>0.0:\n",
    "        return \"+\"\n",
    "    else:\n",
    "        return \"-\""
   ]
  },
  {
   "cell_type": "code",
   "execution_count": 101,
   "metadata": {
    "collapsed": false
   },
   "outputs": [],
   "source": [
    "np.random.seed(42)\n",
    "latexify(columns=2, fig_height=2.6)\n",
    "fig, ax = plt.subplots(ncols=3, sharey=True)\n",
    "for i, algo in enumerate([\"CO\", \"FHMM\", \"Hart\"]):\n",
    "    d = baseline_percentage_df.dropna()\n",
    "    x = d[[\"GT\"]]\n",
    "    y = d[[algo]]\n",
    "   \n",
    "\n",
    "    # Train the model using the training sets\n",
    "    \n",
    "    model_ransac = linear_model.RANSACRegressor(linear_model.LinearRegression())\n",
    "    model_ransac.fit(x, y)\n",
    "    ax[i].scatter(x, y, color=\"gray\", alpha=0.5)\n",
    "    \n",
    "    ax[i].set_xlabel(\"Submetered baseline percentage\")\n",
    "    \n",
    "    ax[i].plot(x, model_ransac.predict(x), color='black')\n",
    "    format_axes(ax[i])\n",
    "    mean_average_error = np.mean(np.abs(y-model_ransac.predict(x)))\n",
    "    title = algo + \"\\n\" + \"y = %0.2f x %s %0.2f \\n Mean Average Error= %0.1f percent\" %(model_ransac.estimator_.coef_[0], \n",
    "                                                   sign(model_ransac.estimator_.intercept_[0]),\n",
    "                                                   math.fabs(model_ransac.estimator_.intercept_[0]),\n",
    "                                                                   mean_average_error)    #title = title +\"\\n\" + str(scipy.stats.pearsonr(x, y))\n",
    "    ax[i].set_title(title)\n",
    "ax[0].set_ylabel(\"Predicted baseline percentage\")\n",
    "plt.tight_layout()\n",
    "plt.savefig(\"../../figures/fridge/disag_algos_baseline_percentage.pdf\", bbox_inches=\"tight\")\n",
    "plt.savefig(\"../../figures/fridge/disag_algos_baseline_percentage.png\", bbox_inches=\"tight\")"
   ]
  },
  {
   "cell_type": "code",
   "execution_count": 103,
   "metadata": {
    "collapsed": false
   },
   "outputs": [],
   "source": [
    "np.random.seed(42)\n",
    "latexify(columns=2, fig_height=2.6)\n",
    "fig, ax = plt.subplots(ncols=3, sharey=True)\n",
    "for i, algo in enumerate([\"CO\", \"FHMM\", \"Hart\"]):\n",
    "    d = usage_percentage_df.dropna()\n",
    "    x = d[[\"GT\"]]\n",
    "    y = d[[algo]]\n",
    "   \n",
    "\n",
    "    # Train the model using the training sets\n",
    "    \n",
    "    model_ransac = linear_model.RANSACRegressor(linear_model.LinearRegression())\n",
    "    model_ransac.fit(x, y)\n",
    "    ax[i].scatter(x, y, color=\"gray\", alpha=0.5)\n",
    "    \n",
    "    ax[i].set_xlabel(\"Submetered usage percentage\")\n",
    "    \n",
    "    ax[i].plot(x, model_ransac.predict(x), color='black')\n",
    "    format_axes(ax[i])\n",
    "    mean_average_error = np.mean(np.abs(y-model_ransac.predict(x)))\n",
    "    title = algo + \"\\n\" + \"y = %0.2f x %s %0.2f \\n Mean Average Error= %0.1f percent\" %(model_ransac.estimator_.coef_[0], \n",
    "                                                   sign(model_ransac.estimator_.intercept_[0]),\n",
    "                                                   math.fabs(model_ransac.estimator_.intercept_[0]),\n",
    "                                                                   mean_average_error)    #title = title +\"\\n\" + str(scipy.stats.pearsonr(x, y))\n",
    "    ax[i].set_title(title)\n",
    "ax[0].set_ylabel(\"Predicted usage percentage\")\n",
    "plt.tight_layout()\n",
    "plt.savefig(\"../../figures/fridge/disag_algos_usage_percentage.pdf\", bbox_inches=\"tight\")\n",
    "plt.savefig(\"../../figures/fridge/disag_algos_usage_percentage.png\", bbox_inches=\"tight\")"
   ]
  },
  {
   "cell_type": "code",
   "execution_count": 114,
   "metadata": {
    "collapsed": false
   },
   "outputs": [],
   "source": [
    "np.random.seed(42)\n",
    "latexify(columns=2, fig_height=2.6)\n",
    "fig, ax = plt.subplots(ncols=3, sharey=True)\n",
    "d = defrost_percentage_df.dropna()\n",
    "for i, algo in enumerate([\"CO\", \"FHMM\", \"Hart\"]):\n",
    "    \n",
    "    x = d[[\"GT\"]]\n",
    "    y = d[[algo]]\n",
    "   \n",
    "\n",
    "    # Train the model using the training sets\n",
    "    \n",
    "    #model_ransac = linear_model.RANSACRegressor(linear_model.LinearRegression())\n",
    "    #model_ransac.fit(x, y)\n",
    "    ax[i].scatter(x, y, color=\"gray\", alpha=0.5)\n",
    "    \n",
    "    ax[i].set_xlabel(\"Submetered defrost percentage\")\n",
    "    \n",
    "    #ax[i].plot(x, model_ransac.predict(x), color='black')\n",
    "    format_axes(ax[i])\n",
    "    #mean_average_error = np.mean(np.abs(y-model_ransac.predict(x)))\n",
    "    title = algo\n",
    "    ax[i].set_title(title)\n",
    "ax[0].set_ylabel(\"Predicted defrost percentage\")\n",
    "plt.tight_layout()\n",
    "plt.savefig(\"../../figures/fridge/disag_algos_defrost_percentage.pdf\", bbox_inches=\"tight\")\n",
    "plt.savefig(\"../../figures/fridge/disag_algos_defrost_percentage.png\", bbox_inches=\"tight\")"
   ]
  },
  {
   "cell_type": "code",
   "execution_count": 143,
   "metadata": {
    "collapsed": false
   },
   "outputs": [],
   "source": [
    "import pandas as pd\n",
    "import sys\n",
    "import numpy as np\n",
    "import matplotlib.pyplot as plt\n",
    "import matplotlib.font_manager\n",
    "from scipy import stats\n",
    "\n",
    "from sklearn import svm\n",
    "\n",
    "from sklearn.covariance import EllipticEnvelope\n",
    "sys.path.append(\"../common\")\n",
    "import matplotlib.pyplot as plt\n",
    "\n",
    "from common_functions import latexify, format_axes\n",
    "latexify(columns=2, fig_height=2.6)\n",
    "fig, ax = plt.subplots(ncols=3)\n",
    "\n",
    "for i, algo in enumerate([\"CO\", \"FHMM\",\"Hart\"]):\n",
    "    df = pd.DataFrame({\"usage_percentage\":usage_percentage_df[algo], \"usage proportion\":prop_usage_cycles[algo]}).dropna()\n",
    "\n",
    "    #df[\"usage proportion\"] = df[\"usage_cycles\"]/(df[\"usage_cycles\"] + df[\"non_usage_cycles\"])\n",
    "\n",
    "    X = df[\"usage proportion\"].values\n",
    "    Y = df[\"usage_percentage\"].values\n",
    "\n",
    "    XY = df[[\"usage proportion\",\"usage_percentage\" ]].values\n",
    "\n",
    "\n",
    "    \n",
    "\n",
    "    # Example settings\n",
    "    n_samples = len(df)\n",
    "    outliers_fraction = 0.2\n",
    "    clusters_separation = [0]\n",
    "\n",
    "    # define two outlier detection tools to be compared\n",
    "    classifiers = {\n",
    "        \"robust covariance estimator\": EllipticEnvelope(contamination=.1)}\n",
    "\n",
    "    # Compare given classifiers under given settings\n",
    "    xx, yy = np.meshgrid(np.linspace(-0.1, 1.1, 500), np.linspace(0, 100, 500))\n",
    "    n_inliers = int((1. - outliers_fraction) * n_samples)\n",
    "    n_outliers = int(outliers_fraction * n_samples)\n",
    "\n",
    "    \n",
    "    \n",
    "    # Fit the problem with varying cluster separation\n",
    "    np.random.seed(42)\n",
    "    # Data generation\n",
    "\n",
    "\n",
    "    # Fit the model with the One-Class SVM\n",
    "    #plt.figure(figsize=(10, 5))\n",
    "\n",
    "    clf = EllipticEnvelope(contamination=.1)\n",
    "    # fit the data and tag outliers\n",
    "    clf.fit(XY)\n",
    "    y_pred = clf.decision_function(XY).ravel()\n",
    "    threshold = stats.scoreatpercentile(y_pred,\n",
    "                                        100 * outliers_fraction)\n",
    "    y_pred = y_pred > threshold\n",
    "    # plot the levels lines and the points\n",
    "    Z = clf.decision_function(np.c_[xx.ravel(), yy.ravel()])\n",
    "    Z = Z.reshape(xx.shape)\n",
    "    subplot = ax[i]\n",
    "    subplot.contourf(xx, yy, Z, levels=np.linspace(Z.min(), threshold, 7),\n",
    "                     cmap=plt.cm.Blues_r)\n",
    "    a = subplot.contour(xx, yy, Z, levels=[threshold],\n",
    "                        linewidths=2, colors='red')\n",
    "    subplot.contourf(xx, yy, Z, levels=[threshold, Z.max()],\n",
    "                     colors='orange')\n",
    "    b = subplot.scatter(XY[:-n_outliers, 0], XY[:-n_outliers, 1], c='white')\n",
    "    c = subplot.scatter(XY[-n_outliers:, 0], XY[-n_outliers:, 1], c='white')\n",
    "    subplot.axis('tight')\n",
    "    subplot.legend(\n",
    "        [a.collections[0]],\n",
    "        ['Learned decision function'], loc=4)\n",
    "    #subplot.set_xlabel(\"%d. %s (errors: %d)\" % (1, \"rob\", n_errors))\n",
    "    subplot.set_xlim((X.min(), X.max()))\n",
    "    subplot.set_ylim((Y.min(), Y.max()))\n",
    "    subplot.axhspan(df[\"usage_percentage\"].median(), df[\"usage_percentage\"].median())\n",
    "    subplot.axvspan(df[\"usage proportion\"].median(), df[\"usage proportion\"].median())\n",
    "    subplot.set_title(algo)\n",
    "    #plt.subplots_adjust(0.04, 0.1, 0.96, 0.94, 0.1, 0.26)\n",
    "    format_axes(subplot)\n",
    "    subplot.set_xlabel(\"Proportion of usage cycles\")\n",
    "\n",
    "    ylims = plt.ylim()\n",
    "    subplot.set_ylim((0,100))\n",
    "    xlims = plt.xlim()\n",
    "    subplot.set_xlim((-0.1,1.1))\n",
    "\n",
    "ax[0].set_ylabel(r\"Usage energy $\\%$\")\n",
    "plt.tight_layout()\n",
    "    #plt.show()\n",
    "plt.savefig(\"../../figures/fridge/disag_usage_energy_ratio.png\")\n",
    "plt.savefig(\"../../figures/fridge/disag_usage_energy_ratio.pdf\")\n",
    "\n"
   ]
  },
  {
   "cell_type": "code",
   "execution_count": 152,
   "metadata": {
    "collapsed": false
   },
   "outputs": [
    {
     "data": {
      "text/html": [
       "<div>\n",
       "<table border=\"1\" class=\"dataframe\">\n",
       "  <thead>\n",
       "    <tr style=\"text-align: right;\">\n",
       "      <th></th>\n",
       "      <th>usage proportion</th>\n",
       "      <th>usage_percentage</th>\n",
       "    </tr>\n",
       "  </thead>\n",
       "  <tbody>\n",
       "    <tr>\n",
       "      <th>93</th>\n",
       "      <td>0.447542</td>\n",
       "      <td>23.233339</td>\n",
       "    </tr>\n",
       "    <tr>\n",
       "      <th>95</th>\n",
       "      <td>0.409639</td>\n",
       "      <td>22.750318</td>\n",
       "    </tr>\n",
       "    <tr>\n",
       "      <th>139</th>\n",
       "      <td>0.363281</td>\n",
       "      <td>61.365395</td>\n",
       "    </tr>\n",
       "    <tr>\n",
       "      <th>140</th>\n",
       "      <td>0.215559</td>\n",
       "      <td>10.753222</td>\n",
       "    </tr>\n",
       "    <tr>\n",
       "      <th>142</th>\n",
       "      <td>0.430453</td>\n",
       "      <td>34.540007</td>\n",
       "    </tr>\n",
       "    <tr>\n",
       "      <th>144</th>\n",
       "      <td>0.265738</td>\n",
       "      <td>14.446163</td>\n",
       "    </tr>\n",
       "    <tr>\n",
       "      <th>145</th>\n",
       "      <td>0.339286</td>\n",
       "      <td>16.004397</td>\n",
       "    </tr>\n",
       "    <tr>\n",
       "      <th>146</th>\n",
       "      <td>0.394984</td>\n",
       "      <td>27.656352</td>\n",
       "    </tr>\n",
       "  </tbody>\n",
       "</table>\n",
       "</div>"
      ],
      "text/plain": [
       "     usage proportion  usage_percentage\n",
       "93           0.447542         23.233339\n",
       "95           0.409639         22.750318\n",
       "139          0.363281         61.365395\n",
       "140          0.215559         10.753222\n",
       "142          0.430453         34.540007\n",
       "144          0.265738         14.446163\n",
       "145          0.339286         16.004397\n",
       "146          0.394984         27.656352"
      ]
     },
     "execution_count": 152,
     "metadata": {},
     "output_type": "execute_result"
    }
   ],
   "source": [
    "df[df.usage_percentage.isin(XY[-n_outliers:, 1])]"
   ]
  },
  {
   "cell_type": "code",
   "execution_count": 146,
   "metadata": {
    "collapsed": false
   },
   "outputs": [
    {
     "data": {
      "text/plain": [
       "array([ 0.4475424 ,  0.40963855,  0.36328125,  0.21555916,  0.43045294,\n",
       "        0.26573787,  0.33928571,  0.39498433])"
      ]
     },
     "execution_count": 146,
     "metadata": {},
     "output_type": "execute_result"
    }
   ],
   "source": [
    "XY[-n_outliers:, 0]"
   ]
  },
  {
   "cell_type": "code",
   "execution_count": 147,
   "metadata": {
    "collapsed": false
   },
   "outputs": [
    {
     "data": {
      "text/plain": [
       "array([ 23.23333864,  22.75031764,  61.36539519,  10.75322157,\n",
       "        34.54000697,  14.44616261,  16.00439686,  27.65635171])"
      ]
     },
     "execution_count": 147,
     "metadata": {},
     "output_type": "execute_result"
    }
   ],
   "source": [
    "XY[-n_outliers:, 1]"
   ]
  },
  {
   "cell_type": "code",
   "execution_count": 35,
   "metadata": {
    "collapsed": false
   },
   "outputs": [
    {
     "data": {
      "text/plain": [
       "array([], dtype=int64)"
      ]
     },
     "execution_count": 35,
     "metadata": {},
     "output_type": "execute_result"
    }
   ],
   "source": [
    "ons_indices = np.where(diff_arr == 1)[0]\n",
    "ons_indices"
   ]
  },
  {
   "cell_type": "code",
   "execution_count": 36,
   "metadata": {
    "collapsed": false
   },
   "outputs": [
    {
     "ename": "IndexError",
     "evalue": "index 0 is out of bounds for axis 0 with size 0",
     "output_type": "error",
     "traceback": [
      "\u001b[0;31m---------------------------------------------------------------------------\u001b[0m",
      "\u001b[0;31mIndexError\u001b[0m                                Traceback (most recent call last)",
      "\u001b[0;32m<ipython-input-36-8760d7878564>\u001b[0m in \u001b[0;36m<module>\u001b[0;34m()\u001b[0m\n\u001b[0;32m----> 1\u001b[0;31m \u001b[0moffs_indices\u001b[0m\u001b[0;34m[\u001b[0m\u001b[0;36m0\u001b[0m\u001b[0;34m]\u001b[0m \u001b[0;34m<\u001b[0m \u001b[0mons_indices\u001b[0m\u001b[0;34m[\u001b[0m\u001b[0;36m0\u001b[0m\u001b[0;34m]\u001b[0m\u001b[0;34m\u001b[0m\u001b[0m\n\u001b[0m",
      "\u001b[0;31mIndexError\u001b[0m: index 0 is out of bounds for axis 0 with size 0"
     ]
    }
   ],
   "source": [
    "offs_indices[0] < ons_indices[0]"
   ]
  },
  {
   "cell_type": "code",
   "execution_count": 24,
   "metadata": {
    "collapsed": false
   },
   "outputs": [],
   "source": [
    "from common_functions import latexify, format_axes\n",
    "latexify()\n",
    "ax = pd.DataFrame(out).T.dropna().plot(kind=\"bar\")\n",
    "plt.xlabel(\"Home\")\n",
    "plt.ylabel(\"Monthly fridge energy (kWh)\")\n",
    "format_axes(ax)\n",
    "plt.tight_layout()\n",
    "plt.savefig(\"../../figures/fridge/disag_algos_energy.pdf\", bbox_inches=\"tight\")\n",
    "plt.savefig(\"../../figures/fridge/disag_algos_energy.png\", bbox_inches=\"tight\")"
   ]
  },
  {
   "cell_type": "code",
   "execution_count": 136,
   "metadata": {
    "collapsed": true
   },
   "outputs": [],
   "source": [
    "from sklearn import linear_model\n",
    "import scipy"
   ]
  },
  {
   "cell_type": "code",
   "execution_count": 27,
   "metadata": {
    "collapsed": true
   },
   "outputs": [],
   "source": [
    "d = pd.DataFrame(out).T.dropna()"
   ]
  },
  {
   "cell_type": "code",
   "execution_count": 142,
   "metadata": {
    "collapsed": false
   },
   "outputs": [],
   "source": [
    "latexify(columns=2, fig_height=2.6)\n",
    "fig, ax = plt.subplots(ncols=3, sharey=True)\n",
    "for i, algo in enumerate([\"CO\", \"FHMM\", \"Hart\"]):\n",
    "    x = d[[\"GT\"]]\n",
    "    y = d[[algo]]\n",
    "   \n",
    "\n",
    "    # Train the model using the training sets\n",
    "    \n",
    "    model_ransac = linear_model.RANSACRegressor(linear_model.LinearRegression())\n",
    "    model_ransac.fit(x, y)\n",
    "    ax[i].scatter(x, y, color=\"gray\", alpha=0.5)\n",
    "    \n",
    "    ax[i].set_xlabel(\"Actual energy (kWh)\")\n",
    "    \n",
    "    ax[i].plot(x, model_ransac.predict(x), color='black')\n",
    "    format_axes(ax[i])\n",
    "    title = algo + \"\\n\" + \"y = %0.2f x + %0.2f\" %(model_ransac.estimator_.coef_[0], model_ransac.estimator_.intercept_[0])\n",
    "    #title = title +\"\\n\" + str(scipy.stats.pearsonr(x, y))\n",
    "    ax[i].set_title(title)\n",
    "ax[0].set_ylabel(\"Predicted energy (kWh)\")\n",
    "plt.tight_layout()\n",
    "plt.savefig(\"../../figures/fridge/disag_algos_energy_scatter.pdf\", bbox_inches=\"tight\")\n",
    "plt.savefig(\"../../figures/fridge/disag_algos_energy_scatter.png\", bbox_inches=\"tight\")"
   ]
  },
  {
   "cell_type": "code",
   "execution_count": 31,
   "metadata": {
    "collapsed": false
   },
   "outputs": [],
   "source": [
    "out_energy = {}\n",
    "for algo in [\"CO\", \"FHMM\", \"Hart\"]:\n",
    "    out_energy[algo]=(d[\"GT\"]-d[algo]).abs().div(d[\"GT\"])\n",
    "    "
   ]
  },
  {
   "cell_type": "code",
   "execution_count": 33,
   "metadata": {
    "collapsed": false
   },
   "outputs": [
    {
     "data": {
      "text/plain": [
       "<matplotlib.axes._subplots.AxesSubplot at 0x134bb26d0>"
      ]
     },
     "execution_count": 33,
     "metadata": {},
     "output_type": "execute_result"
    }
   ],
   "source": [
    "pd.DataFrame(out_energy).plot(kind=\"box\")"
   ]
  },
  {
   "cell_type": "code",
   "execution_count": 34,
   "metadata": {
    "collapsed": false
   },
   "outputs": [
    {
     "data": {
      "text/html": [
       "<div>\n",
       "<table border=\"1\" class=\"dataframe\">\n",
       "  <thead>\n",
       "    <tr style=\"text-align: right;\">\n",
       "      <th></th>\n",
       "      <th>CO</th>\n",
       "      <th>FHMM</th>\n",
       "      <th>Hart</th>\n",
       "    </tr>\n",
       "  </thead>\n",
       "  <tbody>\n",
       "    <tr>\n",
       "      <th>count</th>\n",
       "      <td>52.000000</td>\n",
       "      <td>52.000000</td>\n",
       "      <td>52.000000</td>\n",
       "    </tr>\n",
       "    <tr>\n",
       "      <th>mean</th>\n",
       "      <td>0.938419</td>\n",
       "      <td>0.399077</td>\n",
       "      <td>0.317829</td>\n",
       "    </tr>\n",
       "    <tr>\n",
       "      <th>std</th>\n",
       "      <td>1.052879</td>\n",
       "      <td>0.537793</td>\n",
       "      <td>0.271267</td>\n",
       "    </tr>\n",
       "    <tr>\n",
       "      <th>min</th>\n",
       "      <td>0.092536</td>\n",
       "      <td>0.003751</td>\n",
       "      <td>0.012765</td>\n",
       "    </tr>\n",
       "    <tr>\n",
       "      <th>25%</th>\n",
       "      <td>0.288208</td>\n",
       "      <td>0.106370</td>\n",
       "      <td>0.121365</td>\n",
       "    </tr>\n",
       "    <tr>\n",
       "      <th>50%</th>\n",
       "      <td>0.459776</td>\n",
       "      <td>0.219939</td>\n",
       "      <td>0.235434</td>\n",
       "    </tr>\n",
       "    <tr>\n",
       "      <th>75%</th>\n",
       "      <td>1.229137</td>\n",
       "      <td>0.423629</td>\n",
       "      <td>0.427221</td>\n",
       "    </tr>\n",
       "    <tr>\n",
       "      <th>max</th>\n",
       "      <td>6.083893</td>\n",
       "      <td>2.870116</td>\n",
       "      <td>1.214972</td>\n",
       "    </tr>\n",
       "  </tbody>\n",
       "</table>\n",
       "</div>"
      ],
      "text/plain": [
       "              CO       FHMM       Hart\n",
       "count  52.000000  52.000000  52.000000\n",
       "mean    0.938419   0.399077   0.317829\n",
       "std     1.052879   0.537793   0.271267\n",
       "min     0.092536   0.003751   0.012765\n",
       "25%     0.288208   0.106370   0.121365\n",
       "50%     0.459776   0.219939   0.235434\n",
       "75%     1.229137   0.423629   0.427221\n",
       "max     6.083893   2.870116   1.214972"
      ]
     },
     "execution_count": 34,
     "metadata": {},
     "output_type": "execute_result"
    }
   ],
   "source": [
    "pd.DataFrame(out_energy).describe()"
   ]
  },
  {
   "cell_type": "code",
   "execution_count": 35,
   "metadata": {
    "collapsed": false
   },
   "outputs": [
    {
     "data": {
      "text/html": [
       "<div>\n",
       "<table border=\"1\" class=\"dataframe\">\n",
       "  <thead>\n",
       "    <tr style=\"text-align: right;\">\n",
       "      <th></th>\n",
       "      <th>CO</th>\n",
       "      <th>FHMM</th>\n",
       "      <th>GT</th>\n",
       "      <th>Hart</th>\n",
       "    </tr>\n",
       "  </thead>\n",
       "  <tbody>\n",
       "    <tr>\n",
       "      <th>1</th>\n",
       "      <td>105.626220</td>\n",
       "      <td>99.891341</td>\n",
       "      <td>25.810942</td>\n",
       "      <td>38.951076</td>\n",
       "    </tr>\n",
       "    <tr>\n",
       "      <th>11</th>\n",
       "      <td>101.907341</td>\n",
       "      <td>52.027545</td>\n",
       "      <td>72.995050</td>\n",
       "      <td>55.851776</td>\n",
       "    </tr>\n",
       "    <tr>\n",
       "      <th>13</th>\n",
       "      <td>68.663017</td>\n",
       "      <td>67.137810</td>\n",
       "      <td>60.774502</td>\n",
       "      <td>45.489593</td>\n",
       "    </tr>\n",
       "    <tr>\n",
       "      <th>139</th>\n",
       "      <td>67.847249</td>\n",
       "      <td>52.004537</td>\n",
       "      <td>53.040532</td>\n",
       "      <td>20.788166</td>\n",
       "    </tr>\n",
       "    <tr>\n",
       "      <th>14</th>\n",
       "      <td>158.378926</td>\n",
       "      <td>111.074274</td>\n",
       "      <td>53.151874</td>\n",
       "      <td>47.456254</td>\n",
       "    </tr>\n",
       "  </tbody>\n",
       "</table>\n",
       "</div>"
      ],
      "text/plain": [
       "             CO        FHMM         GT       Hart\n",
       "1    105.626220   99.891341  25.810942  38.951076\n",
       "11   101.907341   52.027545  72.995050  55.851776\n",
       "13    68.663017   67.137810  60.774502  45.489593\n",
       "139   67.847249   52.004537  53.040532  20.788166\n",
       "14   158.378926  111.074274  53.151874  47.456254"
      ]
     },
     "execution_count": 35,
     "metadata": {},
     "output_type": "execute_result"
    }
   ],
   "source": [
    "d.head()"
   ]
  },
  {
   "cell_type": "code",
   "execution_count": null,
   "metadata": {
    "collapsed": true
   },
   "outputs": [],
   "source": []
  },
  {
   "cell_type": "code",
   "execution_count": 51,
   "metadata": {
    "collapsed": false
   },
   "outputs": [],
   "source": [
    "from sklearn.metrics import f1_score\n",
    "f_score = {}\n",
    "limit=20\n",
    "for f in list_of_files:\n",
    "    try:\n",
    "        df = pd.HDFStore(f)['/disag']\n",
    "        gt = (df>20)[[\"GT\"]]\n",
    "        pred = (df>20)[[\"CO\", \"FHMM\", \"Hart\"]]\n",
    "        o={}\n",
    "        for algo in [\"CO\", \"FHMM\", \"Hart\"]:\n",
    "            o[algo] = f1_score(gt[\"GT\"], pred[algo] )\n",
    "        f_score[f.split(\"/\")[1].split(\".\")[0]] = pd.Series(o)\n",
    "    except:\n",
    "        pass"
   ]
  },
  {
   "cell_type": "code",
   "execution_count": 49,
   "metadata": {
    "collapsed": false
   },
   "outputs": [
    {
     "data": {
      "text/plain": [
       "localminute\n",
       "2014-05-01 00:00:00-05:00    True\n",
       "2014-05-01 00:01:00-05:00    True\n",
       "2014-05-01 00:02:00-05:00    True\n",
       "2014-05-01 00:03:00-05:00    True\n",
       "2014-05-01 00:04:00-05:00    True\n",
       "Freq: 60S, Name: GT, dtype: bool"
      ]
     },
     "execution_count": 49,
     "metadata": {},
     "output_type": "execute_result"
    }
   ],
   "source": [
    "gt[\"GT\"].head()"
   ]
  },
  {
   "cell_type": "code",
   "execution_count": 50,
   "metadata": {
    "collapsed": false
   },
   "outputs": [
    {
     "data": {
      "text/plain": [
       "localminute\n",
       "2014-05-01 00:00:00-05:00    False\n",
       "2014-05-01 00:01:00-05:00    False\n",
       "2014-05-01 00:02:00-05:00    False\n",
       "2014-05-01 00:03:00-05:00    False\n",
       "2014-05-01 00:04:00-05:00    False\n",
       "Freq: 60S, Name: Hart, dtype: bool"
      ]
     },
     "execution_count": 50,
     "metadata": {},
     "output_type": "execute_result"
    }
   ],
   "source": [
    "pred[algo].head()"
   ]
  },
  {
   "cell_type": "code",
   "execution_count": 55,
   "metadata": {
    "collapsed": false
   },
   "outputs": [
    {
     "data": {
      "text/html": [
       "<div>\n",
       "<table border=\"1\" class=\"dataframe\">\n",
       "  <thead>\n",
       "    <tr style=\"text-align: right;\">\n",
       "      <th></th>\n",
       "      <th>CO</th>\n",
       "      <th>FHMM</th>\n",
       "      <th>Hart</th>\n",
       "    </tr>\n",
       "  </thead>\n",
       "  <tbody>\n",
       "    <tr>\n",
       "      <th>count</th>\n",
       "      <td>52.000000</td>\n",
       "      <td>52.000000</td>\n",
       "      <td>52.000000</td>\n",
       "    </tr>\n",
       "    <tr>\n",
       "      <th>mean</th>\n",
       "      <td>0.625507</td>\n",
       "      <td>0.606242</td>\n",
       "      <td>0.662307</td>\n",
       "    </tr>\n",
       "    <tr>\n",
       "      <th>std</th>\n",
       "      <td>0.110851</td>\n",
       "      <td>0.137912</td>\n",
       "      <td>0.157258</td>\n",
       "    </tr>\n",
       "    <tr>\n",
       "      <th>min</th>\n",
       "      <td>0.367521</td>\n",
       "      <td>0.337143</td>\n",
       "      <td>0.250382</td>\n",
       "    </tr>\n",
       "    <tr>\n",
       "      <th>25%</th>\n",
       "      <td>0.557075</td>\n",
       "      <td>0.508627</td>\n",
       "      <td>0.588966</td>\n",
       "    </tr>\n",
       "    <tr>\n",
       "      <th>50%</th>\n",
       "      <td>0.621910</td>\n",
       "      <td>0.603452</td>\n",
       "      <td>0.676076</td>\n",
       "    </tr>\n",
       "    <tr>\n",
       "      <th>75%</th>\n",
       "      <td>0.684253</td>\n",
       "      <td>0.683499</td>\n",
       "      <td>0.781527</td>\n",
       "    </tr>\n",
       "    <tr>\n",
       "      <th>max</th>\n",
       "      <td>0.979902</td>\n",
       "      <td>0.999992</td>\n",
       "      <td>0.893847</td>\n",
       "    </tr>\n",
       "  </tbody>\n",
       "</table>\n",
       "</div>"
      ],
      "text/plain": [
       "              CO       FHMM       Hart\n",
       "count  52.000000  52.000000  52.000000\n",
       "mean    0.625507   0.606242   0.662307\n",
       "std     0.110851   0.137912   0.157258\n",
       "min     0.367521   0.337143   0.250382\n",
       "25%     0.557075   0.508627   0.588966\n",
       "50%     0.621910   0.603452   0.676076\n",
       "75%     0.684253   0.683499   0.781527\n",
       "max     0.979902   0.999992   0.893847"
      ]
     },
     "execution_count": 55,
     "metadata": {},
     "output_type": "execute_result"
    }
   ],
   "source": [
    "pd.DataFrame(f_score).T.describe()"
   ]
  },
  {
   "cell_type": "code",
   "execution_count": 111,
   "metadata": {
    "collapsed": false
   },
   "outputs": [
    {
     "data": {
      "text/html": [
       "<div>\n",
       "<table border=\"1\" class=\"dataframe\">\n",
       "  <thead>\n",
       "    <tr style=\"text-align: right;\">\n",
       "      <th></th>\n",
       "      <th>GT</th>\n",
       "    </tr>\n",
       "    <tr>\n",
       "      <th>localminute</th>\n",
       "      <th></th>\n",
       "    </tr>\n",
       "  </thead>\n",
       "  <tbody>\n",
       "    <tr>\n",
       "      <th>2014-03-17 00:00:00-05:00</th>\n",
       "      <td>True</td>\n",
       "    </tr>\n",
       "    <tr>\n",
       "      <th>2014-03-17 00:01:00-05:00</th>\n",
       "      <td>True</td>\n",
       "    </tr>\n",
       "    <tr>\n",
       "      <th>2014-03-17 00:02:00-05:00</th>\n",
       "      <td>False</td>\n",
       "    </tr>\n",
       "    <tr>\n",
       "      <th>2014-03-17 00:03:00-05:00</th>\n",
       "      <td>False</td>\n",
       "    </tr>\n",
       "    <tr>\n",
       "      <th>2014-03-17 00:04:00-05:00</th>\n",
       "      <td>False</td>\n",
       "    </tr>\n",
       "  </tbody>\n",
       "</table>\n",
       "</div>"
      ],
      "text/plain": [
       "                              GT\n",
       "localminute                     \n",
       "2014-03-17 00:00:00-05:00   True\n",
       "2014-03-17 00:01:00-05:00   True\n",
       "2014-03-17 00:02:00-05:00  False\n",
       "2014-03-17 00:03:00-05:00  False\n",
       "2014-03-17 00:04:00-05:00  False"
      ]
     },
     "execution_count": 111,
     "metadata": {},
     "output_type": "execute_result"
    }
   ],
   "source": [
    "gt = (df>20)[[\"GT\"]]\n",
    "gt.head()"
   ]
  },
  {
   "cell_type": "code",
   "execution_count": 112,
   "metadata": {
    "collapsed": false
   },
   "outputs": [
    {
     "data": {
      "text/html": [
       "<div>\n",
       "<table border=\"1\" class=\"dataframe\">\n",
       "  <thead>\n",
       "    <tr style=\"text-align: right;\">\n",
       "      <th></th>\n",
       "      <th>Hart</th>\n",
       "    </tr>\n",
       "    <tr>\n",
       "      <th>localminute</th>\n",
       "      <th></th>\n",
       "    </tr>\n",
       "  </thead>\n",
       "  <tbody>\n",
       "    <tr>\n",
       "      <th>2014-03-17 00:00:00-05:00</th>\n",
       "      <td>False</td>\n",
       "    </tr>\n",
       "    <tr>\n",
       "      <th>2014-03-17 00:01:00-05:00</th>\n",
       "      <td>False</td>\n",
       "    </tr>\n",
       "    <tr>\n",
       "      <th>2014-03-17 00:02:00-05:00</th>\n",
       "      <td>False</td>\n",
       "    </tr>\n",
       "    <tr>\n",
       "      <th>2014-03-17 00:03:00-05:00</th>\n",
       "      <td>False</td>\n",
       "    </tr>\n",
       "    <tr>\n",
       "      <th>2014-03-17 00:04:00-05:00</th>\n",
       "      <td>False</td>\n",
       "    </tr>\n",
       "  </tbody>\n",
       "</table>\n",
       "</div>"
      ],
      "text/plain": [
       "                            Hart\n",
       "localminute                     \n",
       "2014-03-17 00:00:00-05:00  False\n",
       "2014-03-17 00:01:00-05:00  False\n",
       "2014-03-17 00:02:00-05:00  False\n",
       "2014-03-17 00:03:00-05:00  False\n",
       "2014-03-17 00:04:00-05:00  False"
      ]
     },
     "execution_count": 112,
     "metadata": {},
     "output_type": "execute_result"
    }
   ],
   "source": [
    "algo = \"Hart\"\n",
    "x = (df>20)[[algo]]\n",
    "x.head()"
   ]
  },
  {
   "cell_type": "code",
   "execution_count": 118,
   "metadata": {
    "collapsed": true
   },
   "outputs": [],
   "source": [
    "from sklearn.metrics import f1_score"
   ]
  },
  {
   "cell_type": "code",
   "execution_count": 119,
   "metadata": {
    "collapsed": false
   },
   "outputs": [
    {
     "data": {
      "text/plain": [
       "0.76383016455259056"
      ]
     },
     "execution_count": 119,
     "metadata": {},
     "output_type": "execute_result"
    }
   ],
   "source": [
    "f1_score(gt[\"GT\"], x[\"Hart\"] )"
   ]
  },
  {
   "cell_type": "code",
   "execution_count": 117,
   "metadata": {
    "collapsed": false
   },
   "outputs": [
    {
     "data": {
      "text/plain": [
       "3"
      ]
     },
     "execution_count": 117,
     "metadata": {},
     "output_type": "execute_result"
    }
   ],
   "source": [
    "(x[\"Hart\"]==gt[\"GT\"]).head().sum()"
   ]
  },
  {
   "cell_type": "code",
   "execution_count": 15,
   "metadata": {
    "collapsed": false
   },
   "outputs": [],
   "source": [
    "for f_id, b_id in building_ids_to_consider.head(3).iteritems():\n",
    "    out[f_id] = {}\n",
    "    elec = ds.buildings[b_id].elec\n",
    "    mains = elec.mains()\n",
    "    elec.appliances\n",
    "    fridge_instance = fridges.meters[f_id].appliances[0].identifier.instance\n",
    "    # Dividing train, test\n",
    "    train_fraction = 0.5\n",
    "    train = DataSet(\"/Users/nipunbatra/Downloads/wikienergy-2.h5\")\n",
    "    test = DataSet(\"/Users/nipunbatra/Downloads/wikienergy-2.h5\")\n",
    "    split_point = elec.train_test_split(train_fraction=train_fraction).date()\n",
    "    train.set_window(end=split_point)\n",
    "    test.set_window(start=split_point)\n",
    "    train_elec = train.buildings[b_id].elec\n",
    "    test_elec = test.buildings[b_id].elec\n",
    "    test_mains = test_elec.mains()\n",
    "    \n",
    "    # GT elec\n",
    "    gt_fridge  = test_elec[('fridge', fridge_instance)]\n",
    "    \n",
    "    # Pred elec\n",
    "    for clf_name in cls_dict.keys():\n",
    "        disag_filename = '%s/%d.h5' %(clf_name, f_id)\n",
    "        ds_pred = DataSet(disag_filename)\n",
    "        out[f_id][clf_name] = {}\n",
    "        pred_fridge = ds_pred.buildings[b_id].elec[('fridge', fridge_instance)]\n",
    "        out[f_id][clf_name][\"pred_energy\"] = pred_fridge.total_energy()['active']\n",
    "        out[f_id][clf_name][\"gt_energy\"] = gt_fridge.total_energy()['active']\n",
    "    \n",
    "    \n",
    "    \n",
    "   \n",
    "    \n"
   ]
  },
  {
   "cell_type": "code",
   "execution_count": 16,
   "metadata": {
    "collapsed": false
   },
   "outputs": [
    {
     "data": {
      "text/plain": [
       "{1: {'CO': {'gt_energy': 25.901466666666668,\n",
       "   'pred_energy': 268.47235000000001},\n",
       "  'FHMM': {'gt_energy': 25.901466666666668,\n",
       "   'pred_energy': 197.42403333333334}},\n",
       " 2: {'CO': {'gt_energy': 125.88225, 'pred_energy': 175.04763333333332},\n",
       "  'FHMM': {'gt_energy': 125.88225, 'pred_energy': 154.08428333333333}},\n",
       " 8: {'CO': {'gt_energy': 154.89259999999999, 'pred_energy': 374.2894},\n",
       "  'FHMM': {'gt_energy': 154.89259999999999,\n",
       "   'pred_energy': 261.03871666666669}}}"
      ]
     },
     "execution_count": 16,
     "metadata": {},
     "output_type": "execute_result"
    }
   ],
   "source": [
    "out"
   ]
  },
  {
   "cell_type": "code",
   "execution_count": 17,
   "metadata": {
    "collapsed": false
   },
   "outputs": [],
   "source": [
    "disag_filename\n",
    "disag = DataSet(disag_filename)\n",
    "disag_elec = disag.buildings[b_id].elec"
   ]
  },
  {
   "cell_type": "code",
   "execution_count": 18,
   "metadata": {
    "collapsed": false
   },
   "outputs": [
    {
     "data": {
      "text/plain": [
       "<matplotlib.axes._subplots.AxesSubplot at 0x12ce1d250>"
      ]
     },
     "execution_count": 18,
     "metadata": {},
     "output_type": "execute_result"
    }
   ],
   "source": [
    "disag_elec.plot()\n"
   ]
  },
  {
   "cell_type": "code",
   "execution_count": 52,
   "metadata": {
    "collapsed": false
   },
   "outputs": [
    {
     "data": {
      "text/plain": [
       "False"
      ]
     },
     "execution_count": 52,
     "metadata": {},
     "output_type": "execute_result"
    }
   ],
   "source": [
    "fridge_elec in top_k_train_elec.meters"
   ]
  },
  {
   "cell_type": "code",
   "execution_count": 54,
   "metadata": {
    "collapsed": false
   },
   "outputs": [
    {
     "data": {
      "text/plain": [
       "True"
      ]
     },
     "execution_count": 54,
     "metadata": {},
     "output_type": "execute_result"
    }
   ],
   "source": [
    "fridge_elec not in top_k_train_elec.meters"
   ]
  },
  {
   "cell_type": "code",
   "execution_count": 8,
   "metadata": {
    "collapsed": true
   },
   "outputs": [],
   "source": [
    "building_number = 11\n",
    "fridge_id = 2"
   ]
  },
  {
   "cell_type": "code",
   "execution_count": 9,
   "metadata": {
    "collapsed": false
   },
   "outputs": [
    {
     "data": {
      "text/plain": [
       "[Appliance(type='fridge', instance=1),\n",
       " Appliance(type='dish washer', instance=1),\n",
       " Appliance(type='electric water heating appliance', instance=1),\n",
       " Appliance(type='spin dryer', instance=1),\n",
       " Appliance(type='electric furnace', instance=1),\n",
       " Appliance(type='sockets', instance=1),\n",
       " Appliance(type='sockets', instance=2),\n",
       " Appliance(type='air conditioner', instance=1),\n",
       " Appliance(type='sockets', instance=3),\n",
       " Appliance(type='sockets', instance=4)]"
      ]
     },
     "execution_count": 9,
     "metadata": {},
     "output_type": "execute_result"
    }
   ],
   "source": [
    "elec = ds.buildings[building_number].elec\n",
    "mains = elec.mains()\n",
    "elec.appliances\n",
    "\n"
   ]
  },
  {
   "cell_type": "code",
   "execution_count": 32,
   "metadata": {
    "collapsed": true
   },
   "outputs": [],
   "source": [
    "split_point = elec.train_test_split(train_fraction=0.2)"
   ]
  },
  {
   "cell_type": "code",
   "execution_count": 33,
   "metadata": {
    "collapsed": false
   },
   "outputs": [
    {
     "data": {
      "text/plain": [
       "datetime.date(2014, 2, 24)"
      ]
     },
     "execution_count": 33,
     "metadata": {},
     "output_type": "execute_result"
    }
   ],
   "source": [
    "split_point.date()"
   ]
  },
  {
   "cell_type": "code",
   "execution_count": 34,
   "metadata": {
    "collapsed": true
   },
   "outputs": [],
   "source": [
    "train = DataSet(\"/Users/nipunbatra/Downloads/wikienergy-2.h5\")"
   ]
  },
  {
   "cell_type": "code",
   "execution_count": 35,
   "metadata": {
    "collapsed": false
   },
   "outputs": [],
   "source": [
    "train.set_window(end=split_point.date())\n",
    "\n"
   ]
  },
  {
   "cell_type": "code",
   "execution_count": 36,
   "metadata": {
    "collapsed": false
   },
   "outputs": [
    {
     "data": {
      "text/plain": [
       "<matplotlib.axes._subplots.AxesSubplot at 0x13531dad0>"
      ]
     },
     "execution_count": 36,
     "metadata": {},
     "output_type": "execute_result"
    }
   ],
   "source": [
    "train.buildings[11].elec.plot()"
   ]
  },
  {
   "cell_type": "code",
   "execution_count": 12,
   "metadata": {
    "collapsed": false
   },
   "outputs": [
    {
     "data": {
      "text/plain": [
       "Timestamp('2014-04-02 00:30:00-0500', tz='US/Central')"
      ]
     },
     "execution_count": 12,
     "metadata": {},
     "output_type": "execute_result"
    }
   ],
   "source": [
    "test.set_window(start=\"30-4-2011\")"
   ]
  },
  {
   "cell_type": "code",
   "execution_count": 12,
   "metadata": {
    "collapsed": false
   },
   "outputs": [
    {
     "name": "stdout",
     "output_type": "stream",
     "text": [
      "Training model for submeter 'ElecMeter(instance=2, building=11, dataset='WikiEnergy', appliances=[Appliance(type='air conditioner', instance=1)])'\n",
      "Training model for submeter 'ElecMeter(instance=3, building=11, dataset='WikiEnergy', appliances=[Appliance(type='sockets', instance=1)])'\n",
      "Training model for submeter 'ElecMeter(instance=4, building=11, dataset='WikiEnergy', appliances=[Appliance(type='sockets', instance=2)])'\n",
      "Training model for submeter 'ElecMeter(instance=5, building=11, dataset='WikiEnergy', appliances=[Appliance(type='dish washer', instance=1)])'\n",
      "Training model for submeter 'ElecMeter(instance=6, building=11, dataset='WikiEnergy', appliances=[Appliance(type='spin dryer', instance=1)])'\n",
      "Training model for submeter 'ElecMeter(instance=7, building=11, dataset='WikiEnergy', appliances=[Appliance(type='electric furnace', instance=1)])'\n",
      "Training model for submeter 'ElecMeter(instance=8, building=11, dataset='WikiEnergy', appliances=[Appliance(type='sockets', instance=3)])'\n",
      "Training model for submeter 'ElecMeter(instance=9, building=11, dataset='WikiEnergy', appliances=[Appliance(type='sockets', instance=4)])'\n",
      "Training model for submeter 'ElecMeter(instance=10, building=11, dataset='WikiEnergy', appliances=[Appliance(type='fridge', instance=1)])'\n",
      "Training model for submeter 'ElecMeter(instance=11, building=11, dataset='WikiEnergy', appliances=[Appliance(type='electric water heating appliance', instance=1)])'\n",
      "Done training!\n"
     ]
    }
   ],
   "source": [
    "co = CombinatorialOptimisation()\n",
    "co.train(elec)"
   ]
  },
  {
   "cell_type": "code",
   "execution_count": 13,
   "metadata": {
    "collapsed": false
   },
   "outputs": [
    {
     "name": "stdout",
     "output_type": "stream",
     "text": [
      "vampire_power = 0.0 watts\n",
      "Estimating power demand for 'ElecMeter(instance=2, building=11, dataset='WikiEnergy', appliances=[Appliance(type='air conditioner', instance=1)])'\n",
      "Estimating power demand for 'ElecMeter(instance=3, building=11, dataset='WikiEnergy', appliances=[Appliance(type='sockets', instance=1)])'\n",
      "Estimating power demand for 'ElecMeter(instance=4, building=11, dataset='WikiEnergy', appliances=[Appliance(type='sockets', instance=2)])'\n",
      "Estimating power demand for 'ElecMeter(instance=5, building=11, dataset='WikiEnergy', appliances=[Appliance(type='dish washer', instance=1)])'\n",
      "Estimating power demand for 'ElecMeter(instance=6, building=11, dataset='WikiEnergy', appliances=[Appliance(type='spin dryer', instance=1)])'\n",
      "Estimating power demand for 'ElecMeter(instance=7, building=11, dataset='WikiEnergy', appliances=[Appliance(type='electric furnace', instance=1)])'\n",
      "Estimating power demand for 'ElecMeter(instance=8, building=11, dataset='WikiEnergy', appliances=[Appliance(type='sockets', instance=3)])'\n",
      "Estimating power demand for 'ElecMeter(instance=9, building=11, dataset='WikiEnergy', appliances=[Appliance(type='sockets', instance=4)])'\n",
      "Estimating power demand for 'ElecMeter(instance=10, building=11, dataset='WikiEnergy', appliances=[Appliance(type='fridge', instance=1)])'\n",
      "Estimating power demand for 'ElecMeter(instance=11, building=11, dataset='WikiEnergy', appliances=[Appliance(type='electric water heating appliance', instance=1)])'\n",
      "Estimating power demand for 'ElecMeter(instance=2, building=11, dataset='WikiEnergy', appliances=[Appliance(type='air conditioner', instance=1)])'\n",
      "Estimating power demand for 'ElecMeter(instance=3, building=11, dataset='WikiEnergy', appliances=[Appliance(type='sockets', instance=1)])'\n",
      "Estimating power demand for 'ElecMeter(instance=4, building=11, dataset='WikiEnergy', appliances=[Appliance(type='sockets', instance=2)])'\n",
      "Estimating power demand for 'ElecMeter(instance=5, building=11, dataset='WikiEnergy', appliances=[Appliance(type='dish washer', instance=1)])'\n",
      "Estimating power demand for 'ElecMeter(instance=6, building=11, dataset='WikiEnergy', appliances=[Appliance(type='spin dryer', instance=1)])'\n",
      "Estimating power demand for 'ElecMeter(instance=7, building=11, dataset='WikiEnergy', appliances=[Appliance(type='electric furnace', instance=1)])'\n",
      "Estimating power demand for 'ElecMeter(instance=8, building=11, dataset='WikiEnergy', appliances=[Appliance(type='sockets', instance=3)])'\n",
      "Estimating power demand for 'ElecMeter(instance=9, building=11, dataset='WikiEnergy', appliances=[Appliance(type='sockets', instance=4)])'\n",
      "Estimating power demand for 'ElecMeter(instance=10, building=11, dataset='WikiEnergy', appliances=[Appliance(type='fridge', instance=1)])'\n",
      "Estimating power demand for 'ElecMeter(instance=11, building=11, dataset='WikiEnergy', appliances=[Appliance(type='electric water heating appliance', instance=1)])'\n"
     ]
    }
   ],
   "source": [
    "disag_filename = 'wikienergy-disag-co-new.h5'\n",
    "output = HDFDataStore(disag_filename, 'w')\n",
    "co.disaggregate(elec.mains(), output)\n",
    "output.close()"
   ]
  },
  {
   "cell_type": "code",
   "execution_count": 16,
   "metadata": {
    "collapsed": false
   },
   "outputs": [],
   "source": [
    "disag = DataSet(disag_filename)\n",
    "disag_elec_co = disag.buildings[building_number].elec"
   ]
  },
  {
   "cell_type": "code",
   "execution_count": 17,
   "metadata": {
    "collapsed": false
   },
   "outputs": [],
   "source": [
    "pred_df_co = disag_elec['fridge'].load().next()[('power','active')]"
   ]
  },
  {
   "cell_type": "code",
   "execution_count": 18,
   "metadata": {
    "collapsed": false
   },
   "outputs": [
    {
     "name": "stdout",
     "output_type": "stream",
     "text": [
      "Training model for submeter 'ElecMeter(instance=2, building=11, dataset='WikiEnergy', appliances=[Appliance(type='air conditioner', instance=1)])'\n",
      "Training model for submeter 'ElecMeter(instance=3, building=11, dataset='WikiEnergy', appliances=[Appliance(type='sockets', instance=1)])'\n",
      "Training model for submeter 'ElecMeter(instance=4, building=11, dataset='WikiEnergy', appliances=[Appliance(type='sockets', instance=2)])'\n",
      "Training model for submeter 'ElecMeter(instance=5, building=11, dataset='WikiEnergy', appliances=[Appliance(type='dish washer', instance=1)])'\n",
      "Training model for submeter 'ElecMeter(instance=6, building=11, dataset='WikiEnergy', appliances=[Appliance(type='spin dryer', instance=1)])'\n",
      "Training model for submeter 'ElecMeter(instance=7, building=11, dataset='WikiEnergy', appliances=[Appliance(type='electric furnace', instance=1)])'\n",
      "Training model for submeter 'ElecMeter(instance=8, building=11, dataset='WikiEnergy', appliances=[Appliance(type='sockets', instance=3)])'\n",
      "Training model for submeter 'ElecMeter(instance=9, building=11, dataset='WikiEnergy', appliances=[Appliance(type='sockets', instance=4)])'\n",
      "Training model for submeter 'ElecMeter(instance=10, building=11, dataset='WikiEnergy', appliances=[Appliance(type='fridge', instance=1)])'\n",
      "Training model for submeter 'ElecMeter(instance=11, building=11, dataset='WikiEnergy', appliances=[Appliance(type='electric water heating appliance', instance=1)])'\n"
     ]
    }
   ],
   "source": [
    "fhmm = fhmm_exact.FHMM()\n",
    "fhmm.train(elec)"
   ]
  },
  {
   "cell_type": "code",
   "execution_count": 19,
   "metadata": {
    "collapsed": false
   },
   "outputs": [
    {
     "ename": "KeyboardInterrupt",
     "evalue": "",
     "output_type": "error",
     "traceback": [
      "\u001b[0;31m---------------------------------------------------------------------------\u001b[0m",
      "\u001b[0;31mKeyboardInterrupt\u001b[0m                         Traceback (most recent call last)",
      "\u001b[0;32m<ipython-input-19-cbfa7cdefd1d>\u001b[0m in \u001b[0;36m<module>\u001b[0;34m()\u001b[0m\n\u001b[1;32m      1\u001b[0m \u001b[0mdisag_filename\u001b[0m \u001b[0;34m=\u001b[0m \u001b[0;34m'wikienergy-disag-fhmm.h5'\u001b[0m\u001b[0;34m\u001b[0m\u001b[0m\n\u001b[1;32m      2\u001b[0m \u001b[0moutput\u001b[0m \u001b[0;34m=\u001b[0m \u001b[0mHDFDataStore\u001b[0m\u001b[0;34m(\u001b[0m\u001b[0mdisag_filename\u001b[0m\u001b[0;34m,\u001b[0m \u001b[0;34m'w'\u001b[0m\u001b[0;34m)\u001b[0m\u001b[0;34m\u001b[0m\u001b[0m\n\u001b[0;32m----> 3\u001b[0;31m \u001b[0mfhmm\u001b[0m\u001b[0;34m.\u001b[0m\u001b[0mdisaggregate\u001b[0m\u001b[0;34m(\u001b[0m\u001b[0melec\u001b[0m\u001b[0;34m.\u001b[0m\u001b[0mmains\u001b[0m\u001b[0;34m(\u001b[0m\u001b[0;34m)\u001b[0m\u001b[0;34m,\u001b[0m \u001b[0moutput\u001b[0m\u001b[0;34m)\u001b[0m\u001b[0;34m\u001b[0m\u001b[0m\n\u001b[0m",
      "\u001b[0;32m/Users/nipunbatra/git/nilmtk/nilmtk/disaggregate/fhmm_exact.pyc\u001b[0m in \u001b[0;36mdisaggregate\u001b[0;34m(self, mains, output_datastore, **load_kwargs)\u001b[0m\n\u001b[1;32m    303\u001b[0m \u001b[0;34m\u001b[0m\u001b[0m\n\u001b[1;32m    304\u001b[0m             \u001b[0;31m# Start disaggregation\u001b[0m\u001b[0;34m\u001b[0m\u001b[0;34m\u001b[0m\u001b[0m\n\u001b[0;32m--> 305\u001b[0;31m             \u001b[0mpredictions\u001b[0m \u001b[0;34m=\u001b[0m \u001b[0mself\u001b[0m\u001b[0;34m.\u001b[0m\u001b[0mdisaggregate_chunk\u001b[0m\u001b[0;34m(\u001b[0m\u001b[0mchunk\u001b[0m\u001b[0;34m)\u001b[0m\u001b[0;34m\u001b[0m\u001b[0m\n\u001b[0m\u001b[1;32m    306\u001b[0m \u001b[0;34m\u001b[0m\u001b[0m\n\u001b[1;32m    307\u001b[0m             \u001b[0;32mfor\u001b[0m \u001b[0mmeter\u001b[0m \u001b[0;32min\u001b[0m \u001b[0mpredictions\u001b[0m\u001b[0;34m.\u001b[0m\u001b[0mcolumns\u001b[0m\u001b[0;34m:\u001b[0m\u001b[0;34m\u001b[0m\u001b[0m\n",
      "\u001b[0;32m/Users/nipunbatra/git/nilmtk/nilmtk/disaggregate/fhmm_exact.pyc\u001b[0m in \u001b[0;36mdisaggregate_chunk\u001b[0;34m(self, test_mains)\u001b[0m\n\u001b[1;32m    229\u001b[0m         \u001b[0mlength\u001b[0m \u001b[0;34m=\u001b[0m \u001b[0mlen\u001b[0m\u001b[0;34m(\u001b[0m\u001b[0mtest_mains\u001b[0m\u001b[0;34m.\u001b[0m\u001b[0mindex\u001b[0m\u001b[0;34m)\u001b[0m\u001b[0;34m\u001b[0m\u001b[0m\n\u001b[1;32m    230\u001b[0m         \u001b[0mtemp\u001b[0m \u001b[0;34m=\u001b[0m \u001b[0mtest_mains\u001b[0m\u001b[0;34m.\u001b[0m\u001b[0mvalues\u001b[0m\u001b[0;34m.\u001b[0m\u001b[0mreshape\u001b[0m\u001b[0;34m(\u001b[0m\u001b[0mlength\u001b[0m\u001b[0;34m,\u001b[0m \u001b[0;36m1\u001b[0m\u001b[0;34m)\u001b[0m\u001b[0;34m\u001b[0m\u001b[0m\n\u001b[0;32m--> 231\u001b[0;31m         \u001b[0mlearnt_states_array\u001b[0m\u001b[0;34m.\u001b[0m\u001b[0mappend\u001b[0m\u001b[0;34m(\u001b[0m\u001b[0mself\u001b[0m\u001b[0;34m.\u001b[0m\u001b[0mmodel\u001b[0m\u001b[0;34m.\u001b[0m\u001b[0mpredict\u001b[0m\u001b[0;34m(\u001b[0m\u001b[0mtemp\u001b[0m\u001b[0;34m)\u001b[0m\u001b[0;34m)\u001b[0m\u001b[0;34m\u001b[0m\u001b[0m\n\u001b[0m\u001b[1;32m    232\u001b[0m \u001b[0;34m\u001b[0m\u001b[0m\n\u001b[1;32m    233\u001b[0m         \u001b[0;31m# Model\u001b[0m\u001b[0;34m\u001b[0m\u001b[0;34m\u001b[0m\u001b[0m\n",
      "\u001b[0;32m/Users/nipunbatra/anaconda/lib/python2.7/site-packages/hmmlearn/base.pyc\u001b[0m in \u001b[0;36mpredict\u001b[0;34m(self, obs, algorithm)\u001b[0m\n\u001b[1;32m    281\u001b[0m             \u001b[0mIndex\u001b[0m \u001b[0mof\u001b[0m \u001b[0mthe\u001b[0m \u001b[0mmost\u001b[0m \u001b[0mlikely\u001b[0m \u001b[0mstates\u001b[0m \u001b[0;32mfor\u001b[0m \u001b[0meach\u001b[0m \u001b[0mobservation\u001b[0m\u001b[0;34m\u001b[0m\u001b[0m\n\u001b[1;32m    282\u001b[0m         \"\"\"\n\u001b[0;32m--> 283\u001b[0;31m         \u001b[0m_\u001b[0m\u001b[0;34m,\u001b[0m \u001b[0mstate_sequence\u001b[0m \u001b[0;34m=\u001b[0m \u001b[0mself\u001b[0m\u001b[0;34m.\u001b[0m\u001b[0mdecode\u001b[0m\u001b[0;34m(\u001b[0m\u001b[0mobs\u001b[0m\u001b[0;34m,\u001b[0m \u001b[0malgorithm\u001b[0m\u001b[0;34m)\u001b[0m\u001b[0;34m\u001b[0m\u001b[0m\n\u001b[0m\u001b[1;32m    284\u001b[0m         \u001b[0;32mreturn\u001b[0m \u001b[0mstate_sequence\u001b[0m\u001b[0;34m\u001b[0m\u001b[0m\n\u001b[1;32m    285\u001b[0m \u001b[0;34m\u001b[0m\u001b[0m\n",
      "\u001b[0;32m/Users/nipunbatra/anaconda/lib/python2.7/site-packages/hmmlearn/base.pyc\u001b[0m in \u001b[0;36mdecode\u001b[0;34m(self, obs, algorithm)\u001b[0m\n\u001b[1;32m    264\u001b[0m         decoder = {\"viterbi\": self._decode_viterbi,\n\u001b[1;32m    265\u001b[0m                    \"map\": self._decode_map}\n\u001b[0;32m--> 266\u001b[0;31m         \u001b[0mlogprob\u001b[0m\u001b[0;34m,\u001b[0m \u001b[0mstate_sequence\u001b[0m \u001b[0;34m=\u001b[0m \u001b[0mdecoder\u001b[0m\u001b[0;34m[\u001b[0m\u001b[0malgorithm\u001b[0m\u001b[0;34m]\u001b[0m\u001b[0;34m(\u001b[0m\u001b[0mobs\u001b[0m\u001b[0;34m)\u001b[0m\u001b[0;34m\u001b[0m\u001b[0m\n\u001b[0m\u001b[1;32m    267\u001b[0m         \u001b[0;32mreturn\u001b[0m \u001b[0mlogprob\u001b[0m\u001b[0;34m,\u001b[0m \u001b[0mstate_sequence\u001b[0m\u001b[0;34m\u001b[0m\u001b[0m\n\u001b[1;32m    268\u001b[0m \u001b[0;34m\u001b[0m\u001b[0m\n",
      "\u001b[0;32m/Users/nipunbatra/anaconda/lib/python2.7/site-packages/hmmlearn/base.pyc\u001b[0m in \u001b[0;36m_decode_viterbi\u001b[0;34m(self, obs)\u001b[0m\n\u001b[1;32m    198\u001b[0m         \u001b[0mobs\u001b[0m \u001b[0;34m=\u001b[0m \u001b[0mnp\u001b[0m\u001b[0;34m.\u001b[0m\u001b[0masarray\u001b[0m\u001b[0;34m(\u001b[0m\u001b[0mobs\u001b[0m\u001b[0;34m)\u001b[0m\u001b[0;34m\u001b[0m\u001b[0m\n\u001b[1;32m    199\u001b[0m         \u001b[0mframelogprob\u001b[0m \u001b[0;34m=\u001b[0m \u001b[0mself\u001b[0m\u001b[0;34m.\u001b[0m\u001b[0m_compute_log_likelihood\u001b[0m\u001b[0;34m(\u001b[0m\u001b[0mobs\u001b[0m\u001b[0;34m)\u001b[0m\u001b[0;34m\u001b[0m\u001b[0m\n\u001b[0;32m--> 200\u001b[0;31m         \u001b[0mviterbi_logprob\u001b[0m\u001b[0;34m,\u001b[0m \u001b[0mstate_sequence\u001b[0m \u001b[0;34m=\u001b[0m \u001b[0mself\u001b[0m\u001b[0;34m.\u001b[0m\u001b[0m_do_viterbi_pass\u001b[0m\u001b[0;34m(\u001b[0m\u001b[0mframelogprob\u001b[0m\u001b[0;34m)\u001b[0m\u001b[0;34m\u001b[0m\u001b[0m\n\u001b[0m\u001b[1;32m    201\u001b[0m         \u001b[0;32mreturn\u001b[0m \u001b[0mviterbi_logprob\u001b[0m\u001b[0;34m,\u001b[0m \u001b[0mstate_sequence\u001b[0m\u001b[0;34m\u001b[0m\u001b[0m\n\u001b[1;32m    202\u001b[0m \u001b[0;34m\u001b[0m\u001b[0m\n",
      "\u001b[0;32m/Users/nipunbatra/anaconda/lib/python2.7/site-packages/hmmlearn/base.pyc\u001b[0m in \u001b[0;36m_do_viterbi_pass\u001b[0;34m(self, framelogprob)\u001b[0m\n\u001b[1;32m    461\u001b[0m         state_sequence, logprob = _hmmc._viterbi(\n\u001b[1;32m    462\u001b[0m             \u001b[0mn_observations\u001b[0m\u001b[0;34m,\u001b[0m \u001b[0mn_components\u001b[0m\u001b[0;34m,\u001b[0m \u001b[0mself\u001b[0m\u001b[0;34m.\u001b[0m\u001b[0m_log_startprob\u001b[0m\u001b[0;34m,\u001b[0m\u001b[0;34m\u001b[0m\u001b[0m\n\u001b[0;32m--> 463\u001b[0;31m             self._log_transmat, framelogprob)\n\u001b[0m\u001b[1;32m    464\u001b[0m         \u001b[0;32mreturn\u001b[0m \u001b[0mlogprob\u001b[0m\u001b[0;34m,\u001b[0m \u001b[0mstate_sequence\u001b[0m\u001b[0;34m\u001b[0m\u001b[0m\n\u001b[1;32m    465\u001b[0m \u001b[0;34m\u001b[0m\u001b[0m\n",
      "\u001b[0;32mhmmlearn/_hmmc.pyx\u001b[0m in \u001b[0;36mhmmlearn._hmmc._viterbi (hmmlearn/_hmmc.c:3557)\u001b[0;34m()\u001b[0m\n",
      "\u001b[0;32m/Users/nipunbatra/anaconda/lib/python2.7/site-packages/numpy/core/fromnumeric.pyc\u001b[0m in \u001b[0;36mamax\u001b[0;34m(a, axis, out, keepdims)\u001b[0m\n\u001b[1;32m   2138\u001b[0m     \u001b[0;32melse\u001b[0m\u001b[0;34m:\u001b[0m\u001b[0;34m\u001b[0m\u001b[0m\n\u001b[1;32m   2139\u001b[0m         return _methods._amax(a, axis=axis,\n\u001b[0;32m-> 2140\u001b[0;31m                             out=out, keepdims=keepdims)\n\u001b[0m\u001b[1;32m   2141\u001b[0m \u001b[0;34m\u001b[0m\u001b[0m\n\u001b[1;32m   2142\u001b[0m \u001b[0;32mdef\u001b[0m \u001b[0mamin\u001b[0m\u001b[0;34m(\u001b[0m\u001b[0ma\u001b[0m\u001b[0;34m,\u001b[0m \u001b[0maxis\u001b[0m\u001b[0;34m=\u001b[0m\u001b[0mNone\u001b[0m\u001b[0;34m,\u001b[0m \u001b[0mout\u001b[0m\u001b[0;34m=\u001b[0m\u001b[0mNone\u001b[0m\u001b[0;34m,\u001b[0m \u001b[0mkeepdims\u001b[0m\u001b[0;34m=\u001b[0m\u001b[0mFalse\u001b[0m\u001b[0;34m)\u001b[0m\u001b[0;34m:\u001b[0m\u001b[0;34m\u001b[0m\u001b[0m\n",
      "\u001b[0;32m/Users/nipunbatra/anaconda/lib/python2.7/site-packages/numpy/core/_methods.pyc\u001b[0m in \u001b[0;36m_amax\u001b[0;34m(a, axis, out, keepdims)\u001b[0m\n\u001b[1;32m     24\u001b[0m \u001b[0;31m# small reductions\u001b[0m\u001b[0;34m\u001b[0m\u001b[0;34m\u001b[0m\u001b[0m\n\u001b[1;32m     25\u001b[0m \u001b[0;32mdef\u001b[0m \u001b[0m_amax\u001b[0m\u001b[0;34m(\u001b[0m\u001b[0ma\u001b[0m\u001b[0;34m,\u001b[0m \u001b[0maxis\u001b[0m\u001b[0;34m=\u001b[0m\u001b[0mNone\u001b[0m\u001b[0;34m,\u001b[0m \u001b[0mout\u001b[0m\u001b[0;34m=\u001b[0m\u001b[0mNone\u001b[0m\u001b[0;34m,\u001b[0m \u001b[0mkeepdims\u001b[0m\u001b[0;34m=\u001b[0m\u001b[0mFalse\u001b[0m\u001b[0;34m)\u001b[0m\u001b[0;34m:\u001b[0m\u001b[0;34m\u001b[0m\u001b[0m\n\u001b[0;32m---> 26\u001b[0;31m     \u001b[0;32mreturn\u001b[0m \u001b[0mumr_maximum\u001b[0m\u001b[0;34m(\u001b[0m\u001b[0ma\u001b[0m\u001b[0;34m,\u001b[0m \u001b[0maxis\u001b[0m\u001b[0;34m,\u001b[0m \u001b[0mNone\u001b[0m\u001b[0;34m,\u001b[0m \u001b[0mout\u001b[0m\u001b[0;34m,\u001b[0m \u001b[0mkeepdims\u001b[0m\u001b[0;34m)\u001b[0m\u001b[0;34m\u001b[0m\u001b[0m\n\u001b[0m\u001b[1;32m     27\u001b[0m \u001b[0;34m\u001b[0m\u001b[0m\n\u001b[1;32m     28\u001b[0m \u001b[0;32mdef\u001b[0m \u001b[0m_amin\u001b[0m\u001b[0;34m(\u001b[0m\u001b[0ma\u001b[0m\u001b[0;34m,\u001b[0m \u001b[0maxis\u001b[0m\u001b[0;34m=\u001b[0m\u001b[0mNone\u001b[0m\u001b[0;34m,\u001b[0m \u001b[0mout\u001b[0m\u001b[0;34m=\u001b[0m\u001b[0mNone\u001b[0m\u001b[0;34m,\u001b[0m \u001b[0mkeepdims\u001b[0m\u001b[0;34m=\u001b[0m\u001b[0mFalse\u001b[0m\u001b[0;34m)\u001b[0m\u001b[0;34m:\u001b[0m\u001b[0;34m\u001b[0m\u001b[0m\n",
      "\u001b[0;31mKeyboardInterrupt\u001b[0m: "
     ]
    }
   ],
   "source": [
    "disag_filename = 'wikienergy-disag-fhmm.h5'\n",
    "output = HDFDataStore(disag_filename, 'w')\n",
    "fhmm.disaggregate(elec.mains(), output)"
   ]
  },
  {
   "cell_type": "code",
   "execution_count": null,
   "metadata": {
    "collapsed": false
   },
   "outputs": [],
   "source": [
    "disag = DataSet(disag_filename)\n",
    "disag_elec = disag.buildings[building_number].elec "
   ]
  },
  {
   "cell_type": "code",
   "execution_count": null,
   "metadata": {
    "collapsed": true
   },
   "outputs": [],
   "source": [
    "pred_df_fhmm = disag_elec['fridge'].load().next()[('power','active')]"
   ]
  },
  {
   "cell_type": "code",
   "execution_count": 20,
   "metadata": {
    "collapsed": true
   },
   "outputs": [],
   "source": [
    "from nilmtk.disaggregate.hart_85 import Hart85\n",
    "h = Hart85()"
   ]
  },
  {
   "cell_type": "code",
   "execution_count": 21,
   "metadata": {
    "collapsed": false
   },
   "outputs": [
    {
     "name": "stdout",
     "output_type": "stream",
     "text": [
      "Finding Edges, please wait ...\n",
      "Edge detection complete.\n",
      "Creating transition frame ...\n",
      "Transition frame created.\n",
      "Creating states frame ...\n",
      "States frame created.\n",
      "Finished.\n"
     ]
    }
   ],
   "source": [
    "h.train(elec.mains())"
   ]
  },
  {
   "cell_type": "code",
   "execution_count": 22,
   "metadata": {
    "collapsed": false
   },
   "outputs": [
    {
     "data": {
      "text/html": [
       "<div>\n",
       "<table border=\"1\" class=\"dataframe\">\n",
       "  <thead>\n",
       "    <tr style=\"text-align: right;\">\n",
       "      <th></th>\n",
       "      <th>active average</th>\n",
       "    </tr>\n",
       "  </thead>\n",
       "  <tbody>\n",
       "    <tr>\n",
       "      <th>2014-02-01 00:21:00-06:00</th>\n",
       "      <td>305.000000</td>\n",
       "    </tr>\n",
       "    <tr>\n",
       "      <th>2014-02-01 00:29:00-06:00</th>\n",
       "      <td>637.000000</td>\n",
       "    </tr>\n",
       "    <tr>\n",
       "      <th>2014-02-01 00:33:00-06:00</th>\n",
       "      <td>456.939394</td>\n",
       "    </tr>\n",
       "    <tr>\n",
       "      <th>2014-02-01 01:07:00-06:00</th>\n",
       "      <td>308.125000</td>\n",
       "    </tr>\n",
       "    <tr>\n",
       "      <th>2014-02-01 01:15:00-06:00</th>\n",
       "      <td>452.444444</td>\n",
       "    </tr>\n",
       "  </tbody>\n",
       "</table>\n",
       "</div>"
      ],
      "text/plain": [
       "                           active average\n",
       "2014-02-01 00:21:00-06:00      305.000000\n",
       "2014-02-01 00:29:00-06:00      637.000000\n",
       "2014-02-01 00:33:00-06:00      456.939394\n",
       "2014-02-01 01:07:00-06:00      308.125000\n",
       "2014-02-01 01:15:00-06:00      452.444444"
      ]
     },
     "execution_count": 22,
     "metadata": {},
     "output_type": "execute_result"
    }
   ],
   "source": [
    "h.steady_states.head()"
   ]
  },
  {
   "cell_type": "code",
   "execution_count": 23,
   "metadata": {
    "collapsed": false
   },
   "outputs": [
    {
     "data": {
      "text/html": [
       "<div>\n",
       "<table border=\"1\" class=\"dataframe\">\n",
       "  <thead>\n",
       "    <tr style=\"text-align: right;\">\n",
       "      <th></th>\n",
       "      <th>(power, active)</th>\n",
       "    </tr>\n",
       "  </thead>\n",
       "  <tbody>\n",
       "    <tr>\n",
       "      <th>0</th>\n",
       "      <td>152.154196</td>\n",
       "    </tr>\n",
       "    <tr>\n",
       "      <th>1</th>\n",
       "      <td>3401.577683</td>\n",
       "    </tr>\n",
       "    <tr>\n",
       "      <th>2</th>\n",
       "      <td>908.271235</td>\n",
       "    </tr>\n",
       "    <tr>\n",
       "      <th>3</th>\n",
       "      <td>5057.765816</td>\n",
       "    </tr>\n",
       "    <tr>\n",
       "      <th>4</th>\n",
       "      <td>1587.208333</td>\n",
       "    </tr>\n",
       "    <tr>\n",
       "      <th>5</th>\n",
       "      <td>8382.500000</td>\n",
       "    </tr>\n",
       "  </tbody>\n",
       "</table>\n",
       "</div>"
      ],
      "text/plain": [
       "   (power, active)\n",
       "0       152.154196\n",
       "1      3401.577683\n",
       "2       908.271235\n",
       "3      5057.765816\n",
       "4      1587.208333\n",
       "5      8382.500000"
      ]
     },
     "execution_count": 23,
     "metadata": {},
     "output_type": "execute_result"
    }
   ],
   "source": [
    "h.centroids"
   ]
  },
  {
   "cell_type": "code",
   "execution_count": 24,
   "metadata": {
    "collapsed": false
   },
   "outputs": [
    {
     "name": "stdout",
     "output_type": "stream",
     "text": [
      "Finding Edges, please wait ...\n",
      "Edge detection complete.\n",
      "Creating transition frame ...\n",
      "Transition frame created.\n",
      "Creating states frame ...\n",
      "States frame created.\n",
      "Finished.\n"
     ]
    }
   ],
   "source": [
    "disag_filename = 'wikienergy-disag-hart.h5'\n",
    "output = HDFDataStore(disag_filename, 'w')\n",
    "h.disaggregate(elec.mains(), output)\n",
    "disag = DataSet(disag_filename)\n",
    "disag_elec = disag.buildings[building_number].elec"
   ]
  },
  {
   "cell_type": "code",
   "execution_count": 27,
   "metadata": {
    "collapsed": true
   },
   "outputs": [],
   "source": [
    "ax1 = disag_elec['unknown', 0].load().next().plot()\n",
    "pred_df_co.plot(ax=ax1, label=\"Combinatorial Optimisation\")\n",
    "elec['fridge', 1].load().next().plot(ax=ax1)\n",
    "ax1.legend([\"Predicted Hart\", \"Predicted CO\",\"Ground truth\"]);\n",
    "plt.ylabel(\"Power (W)\")\n",
    "plt.xlabel(\"Time\");"
   ]
  },
  {
   "cell_type": "code",
   "execution_count": null,
   "metadata": {
    "collapsed": true
   },
   "outputs": [],
   "source": []
  }
 ],
 "metadata": {
  "kernelspec": {
   "display_name": "Python 2",
   "language": "python",
   "name": "python2"
  },
  "language_info": {
   "codemirror_mode": {
    "name": "ipython",
    "version": 2
   },
   "file_extension": ".py",
   "mimetype": "text/x-python",
   "name": "python",
   "nbconvert_exporter": "python",
   "pygments_lexer": "ipython2",
   "version": "2.7.10"
  }
 },
 "nbformat": 4,
 "nbformat_minor": 0
}
