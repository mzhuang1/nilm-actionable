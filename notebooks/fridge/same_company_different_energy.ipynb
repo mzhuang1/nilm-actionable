{
 "metadata": {
  "name": "",
  "signature": "sha256:88174fbe68ee7c6f974f912feaa45b764631fb75d5a8eef059e1367b69db815a"
 },
 "nbformat": 3,
 "nbformat_minor": 0,
 "worksheets": [
  {
   "cells": [
    {
     "cell_type": "markdown",
     "metadata": {},
     "source": [
      "In this notebook, we look at fridges having the same company and we look at the energy difference between them"
     ]
    },
    {
     "cell_type": "code",
     "collapsed": false,
     "input": [
      "import matplotlib.pyplot as plt\n",
      "import seaborn as sns\n",
      "plt.style.use('ggplot')\n",
      "%matplotlib inline\n",
      "from nilmtk import DataSet\n",
      "import nilmtk\n",
      "import warnings\n",
      "import pandas as pd\n",
      "import numpy as np\n",
      "import sys\n",
      "warnings.filterwarnings(\"ignore\")"
     ],
     "language": "python",
     "metadata": {},
     "outputs": [],
     "prompt_number": 1
    },
    {
     "cell_type": "code",
     "collapsed": false,
     "input": [
      "from nilmtk import *"
     ],
     "language": "python",
     "metadata": {},
     "outputs": [],
     "prompt_number": 2
    },
    {
     "cell_type": "code",
     "collapsed": false,
     "input": [
      "ds = DataSet(\"/Users/nipunbatra/Downloads/wikienergy-2.h5\")"
     ],
     "language": "python",
     "metadata": {},
     "outputs": [],
     "prompt_number": 3
    },
    {
     "cell_type": "code",
     "collapsed": false,
     "input": [
      "fridge_company_df = pd.read_csv(\"../../data/fridge_company.csv\", usecols=[\"dataid\", \"company\",\"model\",\"nilmtk_id\"])"
     ],
     "language": "python",
     "metadata": {},
     "outputs": [],
     "prompt_number": 4
    },
    {
     "cell_type": "code",
     "collapsed": false,
     "input": [
      "fridge_company_df.head()"
     ],
     "language": "python",
     "metadata": {},
     "outputs": [],
     "prompt_number": 5
    },
    {
     "cell_type": "code",
     "collapsed": false,
     "input": [
      "pd.value_counts(fridge_company_df.model)"
     ],
     "language": "python",
     "metadata": {},
     "outputs": [],
     "prompt_number": 8
    },
    {
     "cell_type": "code",
     "collapsed": false,
     "input": [
      "print fridge_company_df[fridge_company_df.model==\"gss25qswc\"]"
     ],
     "language": "python",
     "metadata": {},
     "outputs": [],
     "prompt_number": 9
    },
    {
     "cell_type": "code",
     "collapsed": false,
     "input": [
      "fridge_company_df[fridge_company_df.model==\"frt18nrjw1\"]"
     ],
     "language": "python",
     "metadata": {},
     "outputs": [
      {
       "html": [
        "<div style=\"max-height:1000px;max-width:1500px;overflow:auto;\">\n",
        "<table border=\"1\" class=\"dataframe\">\n",
        "  <thead>\n",
        "    <tr style=\"text-align: right;\">\n",
        "      <th></th>\n",
        "      <th>dataid</th>\n",
        "      <th>company</th>\n",
        "      <th>model</th>\n",
        "      <th>nilmtk_id</th>\n",
        "    </tr>\n",
        "  </thead>\n",
        "  <tbody>\n",
        "    <tr>\n",
        "      <th>6 </th>\n",
        "      <td> 6673</td>\n",
        "      <td>  frigidaire</td>\n",
        "      <td> frt18nrjw1</td>\n",
        "      <td> 153</td>\n",
        "    </tr>\n",
        "    <tr>\n",
        "      <th>71</th>\n",
        "      <td> 2171</td>\n",
        "      <td> ge (no tag)</td>\n",
        "      <td> frt18nrjw1</td>\n",
        "      <td>  58</td>\n",
        "    </tr>\n",
        "  </tbody>\n",
        "</table>\n",
        "</div>"
       ],
       "metadata": {},
       "output_type": "pyout",
       "prompt_number": 9,
       "text": [
        "    dataid      company       model  nilmtk_id\n",
        "6     6673   frigidaire  frt18nrjw1        153\n",
        "71    2171  ge (no tag)  frt18nrjw1         58"
       ]
      }
     ],
     "prompt_number": 9
    },
    {
     "cell_type": "code",
     "collapsed": false,
     "input": [
      "e1 = ds.buildings[153].elec['fridge']\n",
      "df1 = e1.load().next()\n",
      "df1.head(5000).plot()\n",
      "e2 = ds.buildings[58].elec['fridge']\n",
      "df2 = e2.load().next()\n",
      "df2.head(5000).plot()"
     ],
     "language": "python",
     "metadata": {},
     "outputs": [
      {
       "metadata": {},
       "output_type": "pyout",
       "prompt_number": 24,
       "text": [
        "<matplotlib.axes._subplots.AxesSubplot at 0x10f783190>"
       ]
      },
      {
       "metadata": {},
       "output_type": "display_data",
       "png": "[encoded data removed]",
       "text": [
        "<matplotlib.figure.Figure at 0x10f098250>"
       ]
      },
      {
       "metadata": {},
       "output_type": "display_data",
       "png": "[encoded data removed]",
       "text": [
        "<matplotlib.figure.Figure at 0x10f770a10>"
       ]
      }
     ],
     "prompt_number": 24
    },
    {
     "cell_type": "code",
     "collapsed": false,
     "input": [
      "fridge_company_df[fridge_company_df.model==\"rfg297aars\"]"
     ],
     "language": "python",
     "metadata": {},
     "outputs": [
      {
       "html": [
        "<div style=\"max-height:1000px;max-width:1500px;overflow:auto;\">\n",
        "<table border=\"1\" class=\"dataframe\">\n",
        "  <thead>\n",
        "    <tr style=\"text-align: right;\">\n",
        "      <th></th>\n",
        "      <th>dataid</th>\n",
        "      <th>company</th>\n",
        "      <th>model</th>\n",
        "      <th>nilmtk_id</th>\n",
        "    </tr>\n",
        "  </thead>\n",
        "  <tbody>\n",
        "    <tr>\n",
        "      <th>48</th>\n",
        "      <td> 3039</td>\n",
        "      <td> samsung</td>\n",
        "      <td> rfg297aars</td>\n",
        "      <td> 81</td>\n",
        "    </tr>\n",
        "    <tr>\n",
        "      <th>96</th>\n",
        "      <td> 1697</td>\n",
        "      <td> samsung</td>\n",
        "      <td> rfg297aars</td>\n",
        "      <td> 42</td>\n",
        "    </tr>\n",
        "  </tbody>\n",
        "</table>\n",
        "</div>"
       ],
       "metadata": {},
       "output_type": "pyout",
       "prompt_number": 23,
       "text": [
        "    dataid  company       model  nilmtk_id\n",
        "48    3039  samsung  rfg297aars         81\n",
        "96    1697  samsung  rfg297aars         42"
       ]
      }
     ],
     "prompt_number": 23
    },
    {
     "cell_type": "code",
     "collapsed": false,
     "input": [
      "fridge_company_df[fridge_company_df.model==\"lfc21770st\"]"
     ],
     "language": "python",
     "metadata": {},
     "outputs": [
      {
       "html": [
        "<div style=\"max-height:1000px;max-width:1500px;overflow:auto;\">\n",
        "<table border=\"1\" class=\"dataframe\">\n",
        "  <thead>\n",
        "    <tr style=\"text-align: right;\">\n",
        "      <th></th>\n",
        "      <th>dataid</th>\n",
        "      <th>company</th>\n",
        "      <th>model</th>\n",
        "      <th>nilmtk_id</th>\n",
        "    </tr>\n",
        "  </thead>\n",
        "  <tbody>\n",
        "    <tr>\n",
        "      <th>0 </th>\n",
        "      <td>  585</td>\n",
        "      <td> lg</td>\n",
        "      <td> lfc21770st</td>\n",
        "      <td>  17</td>\n",
        "    </tr>\n",
        "    <tr>\n",
        "      <th>36</th>\n",
        "      <td> 3967</td>\n",
        "      <td> lg</td>\n",
        "      <td> lfc21770st</td>\n",
        "      <td> 104</td>\n",
        "    </tr>\n",
        "  </tbody>\n",
        "</table>\n",
        "</div>"
       ],
       "metadata": {},
       "output_type": "pyout",
       "prompt_number": 100,
       "text": [
        "    dataid company       model  nilmtk_id\n",
        "0      585      lg  lfc21770st         17\n",
        "36    3967      lg  lfc21770st        104"
       ]
      }
     ],
     "prompt_number": 100
    },
    {
     "cell_type": "code",
     "collapsed": false,
     "input": [
      "%matplotlib qt\n",
      "e1 = ds.buildings[42].elec['fridge']\n",
      "df1 = e1.load().next()\n",
      "df1.tail(5000).plot()\n",
      "e2 = ds.buildings[81].elec['fridge']\n",
      "df2 = e2.load().next()\n",
      "df2.head(5000).plot()\n",
      "\n"
     ],
     "language": "python",
     "metadata": {},
     "outputs": [
      {
       "metadata": {},
       "output_type": "pyout",
       "prompt_number": 25,
       "text": [
        "<matplotlib.axes._subplots.AxesSubplot at 0x11492fd10>"
       ]
      }
     ],
     "prompt_number": 25
    },
    {
     "cell_type": "code",
     "collapsed": false,
     "input": [
      "fridge_company_df[fridge_company_df.model==\"rf266abrs\"]"
     ],
     "language": "python",
     "metadata": {},
     "outputs": []
    },
    {
     "cell_type": "code",
     "collapsed": false,
     "input": [
      "import sys\n",
      "sys.path.append(\"/Users/nipunbatra/git/nilm-actionable/code/fridge/\")"
     ],
     "language": "python",
     "metadata": {},
     "outputs": [],
     "prompt_number": 34
    },
    {
     "cell_type": "code",
     "collapsed": false,
     "input": [
      "sys.path"
     ],
     "language": "python",
     "metadata": {},
     "outputs": [
      {
       "metadata": {},
       "output_type": "pyout",
       "prompt_number": 35,
       "text": [
        "['',\n",
        " '/Users/nipunbatra/git/nilm_metadata',\n",
        " '/Users/nipunbatra/git/nilmtk',\n",
        " '/Users/nipunbatra/git/iiit_disagg',\n",
        " '/Users/nipunbatra/anaconda/lib/python2.7/site-packages/openweather-0.11-py2.7.egg',\n",
        " '/Users/nipunbatra/anaconda/lib/python2.7/site-packages/daterangestr-0.0.3-py2.7.egg',\n",
        " '/Users/nipunbatra/anaconda/lib/python27.zip',\n",
        " '/Users/nipunbatra/anaconda/lib/python2.7',\n",
        " '/Users/nipunbatra/anaconda/lib/python2.7/plat-darwin',\n",
        " '/Users/nipunbatra/anaconda/lib/python2.7/plat-mac',\n",
        " '/Users/nipunbatra/anaconda/lib/python2.7/plat-mac/lib-scriptpackages',\n",
        " '/Users/nipunbatra/anaconda/lib/python2.7/lib-tk',\n",
        " '/Users/nipunbatra/anaconda/lib/python2.7/lib-old',\n",
        " '/Users/nipunbatra/anaconda/lib/python2.7/lib-dynload',\n",
        " '/Users/nipunbatra/anaconda/lib/python2.7/site-packages/runipy-0.1.1-py2.7.egg',\n",
        " '/Users/nipunbatra/anaconda/lib/python2.7/site-packages/setuptools-15.2-py2.7.egg',\n",
        " '/Users/nipunbatra/anaconda/lib/python2.7/site-packages',\n",
        " '/Users/nipunbatra/anaconda/lib/python2.7/site-packages/PIL',\n",
        " '/Users/nipunbatra/anaconda/lib/python2.7/site-packages/Sphinx-1.2.3-py2.7.egg',\n",
        " '/Users/nipunbatra/anaconda/lib/python2.7/site-packages/IPython/extensions',\n",
        " '../code',\n",
        " '../code',\n",
        " '../../code/fridge/',\n",
        " '../../code/fridge/fridge_compressor_durations.py',\n",
        " '/Users/nipunbatra/git/nilm-actionable/code/fridge/']"
       ]
      }
     ],
     "prompt_number": 35
    },
    {
     "cell_type": "code",
     "collapsed": false,
     "input": [
      "%load ../../code/fridge/fridge_compressor_durations.py"
     ],
     "language": "python",
     "metadata": {},
     "outputs": [],
     "prompt_number": 55
    },
    {
     "cell_type": "code",
     "collapsed": false,
     "input": [
      "import matplotlib.pyplot as plt\n",
      "from nilmtk import DataSet\n",
      "import nilmtk\n",
      "import warnings\n",
      "import pandas as pd\n",
      "import sys\n",
      "import numpy as np\n",
      "from pandas.tools.plotting import autocorrelation_plot\n",
      "warnings.filterwarnings(\"ignore\")\n",
      "import matplotlib.dates as mdates\n",
      "import time\n",
      "from hmmlearn import hmm\n",
      "\n",
      "ds = DataSet(\"/Users/nipunbatra/Downloads/wikienergy-2.h5\")\n",
      "fridges = nilmtk.global_meter_group.select_using_appliances(type='fridge')\n",
      "\n",
      "\n",
      "Wm_to_kwh = 1.66666667* 1e-5\n",
      "\n",
      "\n",
      "compressor_powers = {\n",
      "1 : [80, 140],\n",
      "2 : [80, 140],\n",
      "8:  [100, 400],\n",
      "11: [90, 160],\n",
      "13: [100, 160],\n",
      "14: [70, 200],\n",
      "15: [100, 200],\n",
      "18: [50, 200],\n",
      "22: [50, 400],\n",
      "25: [50, 400],\n",
      "29: [50, 120],\n",
      "33: [50, 200],\n",
      "34: [50, 400],\n",
      "35: [100, 200],\n",
      "37: [100, 200],\n",
      "42: [50, 200],\n",
      "43: [50, 200],\n",
      "44: [50, 200],\n",
      "45: [50, 200],\n",
      "46: [50, 350],\n",
      "47: [50, 200],\n",
      "50: [100, 200],\n",
      "51: [100, 150],\n",
      "52: [100, 200],\n",
      "53: [100, 200],\n",
      "54: [80, 160],\n",
      "55: [60, 150],\n",
      "57: [80, 200],\n",
      "58: [80, 250],\n",
      "59: [80, 150],\n",
      "60: [80, 150],\n",
      "61: [80, 150],\n",
      "67: [80, 300],\n",
      "68: [80, 200],\n",
      "70: [80, 200],\n",
      "72: [80, 300],\n",
      "75: [80, 200],\n",
      "76: [80, 200],\n",
      "78: [80, 400],\n",
      "79: [80, 400],\n",
      "83: [80, 150],\n",
      "84: [80, 400],\n",
      "87: [80, 300],\n",
      "88: [80, 200],\n",
      "131:[50,350],\n",
      "159:[50, 350]\n",
      "\n",
      "}\n",
      "\n",
      "defrost_power = {\n",
      "1: 350,\n",
      "2: 400,\n",
      "8: 550,\n",
      "11: 400,\n",
      "13: 600, \n",
      "14: 400,\n",
      "15: 500,\n",
      "18:350,\n",
      "22: 500,\n",
      "25:410,\n",
      "29: 150,\n",
      "33: 250,\n",
      "34: 500,\n",
      "35: 300,\n",
      "37:600,\n",
      "42: 200,\n",
      "43: 400,\n",
      "44: 400,\n",
      "45: 400,\n",
      "46: 1000,\n",
      "47: 400,\n",
      "50: 500,\n",
      "51: 300,\n",
      "52: 400,\n",
      "53: 400,\n",
      "54: 300,\n",
      "55: 400,\n",
      "57: 350,\n",
      "58: 350,\n",
      "59: 350,\n",
      "60: 400,\n",
      "61: 350,\n",
      "67: 400,\n",
      "68: 400,\n",
      "70: 350,\n",
      "72: 400,\n",
      "75: 400,\n",
      "76: 400,\n",
      "78: 600,\n",
      "79: 400,\n",
      "83: 300,\n",
      "84: 400,\n",
      "87: 300,\n",
      "88: 300,\n",
      "131:400,\n",
      "159:400\n",
      "}\n",
      "\n",
      "def find_on_off(arr):\n",
      "    diff_arr = np.diff(arr)\n",
      "    offs_indices = np.where(diff_arr == -1)[0]\n",
      "    ons_indices = np.where(diff_arr == 1)[0]\n",
      "    if offs_indices[0]<ons_indices[0]:\n",
      "        offs_indices = offs_indices[1:]\n",
      "    l = min(len(ons_indices), len(offs_indices))\n",
      "    offs_indices = offs_indices[:l]\n",
      "    ons_indices = ons_indices[:l]\n",
      "    return ons_indices, offs_indices\n",
      "\n",
      "def find_on_off_slow(arr):\n",
      "    i=1\n",
      "    while i<len(arr):\n",
      "        if arr[i] - arr[i-1]==1:\n",
      "            start_index.append(i)\n",
      "            i = i+1\n",
      "            #On now, wait till off found\n",
      "            while i<len(arr) and ((arr[i] - arr[i-1])!=-1) :\n",
      "                i = i+1\n",
      "            if i<len(arr):\n",
      "                stop_index.append(i)\n",
      "        else:\n",
      "            i = i+1\n",
      "    l = len(stop_index)\n",
      "    start_index = start_index[:l]\n",
      "\n",
      "\n",
      "\n",
      "def find_compressor_defrost(n):\n",
      "    df = fridges.meters[n].load().next()[('power','active')]\n",
      "    [compressor_min, compressor_max] = compressor_powers[n]\n",
      "    defrost_min = defrost_power[n]\n",
      "    compressor = (df>compressor_min) & (df<compressor_max)\n",
      "    defrost_idx = df>defrost_min\n",
      "    defrost = defrost_idx\n",
      "    compressor[defrost_idx] = False\n",
      "    \n",
      "    #return compressor\n",
      "    # Eliminate 1 minute cycles\n",
      "    for i in range(len(df)-2):\n",
      "        if compressor.ix[i]== False and compressor.ix[i+1] == True and compressor.ix[i+2]==False:\n",
      "            compressor.ix[i+1] = False\n",
      "        elif compressor.ix[i]== True and compressor.ix[i+1] == False and compressor.ix[i+2]==True:\n",
      "            compressor.ix[i+1] = True\n",
      "    return compressor, defrost\n",
      "\n",
      "\n",
      "def compute_fractions_df(df):\n",
      "    a, b, c, tot, mins = fractions_df(n)\n",
      "    return wm_to_kwh_per_month(tot, mins), wm_to_kwh_per_month(a, mins), wm_to_kwh_per_month(c, mins), wm_to_kwh_per_month(b, mins)\n",
      "\n",
      "\n",
      "def compute_fractions(n):\n",
      "    a, b, c, tot, mins = fractions(n)\n",
      "    return wm_to_kwh_per_month(tot, mins), wm_to_kwh_per_month(a, mins), wm_to_kwh_per_month(c, mins), wm_to_kwh_per_month(b, mins)\n",
      "\n",
      "\n",
      "\n",
      "def wm_to_kwh_per_month(wm, mins):\n",
      "    return wm*Wm_to_kwh/(mins*1.0/(1440*30))\n",
      "\n",
      "\n",
      "def return_states_df(n):\n",
      "    df = fridges.meters[n].load().next()[('power','active')]\n",
      "    X = df.head(10000)\n",
      "    X = X[X<2000]\n",
      "    X = X.reshape((len(X),1))\n",
      "    # Defrost state? (N=3), else 2\n",
      "    model = hmm.GaussianHMM(n_components=2, covariance_type=\"full\", n_iter=1000)\n",
      "    model.fit([X])\n",
      "    z = model.means_.reshape((2,))\n",
      "    z.sort()\n",
      "    raw_power = df.values\n",
      "    y1 = np.abs(raw_power - z[0])\n",
      "    y2 = np.abs(raw_power - z[1])\n",
      "    y_act = np.zeros(y1.shape)\n",
      "    y_act[np.where((y1-y2>0))[0]]=1\n",
      "    #y_act[np.where((y1-y2>0)&(y2<4*z[1]))[0]]=1\n",
      "    df_states = pd.Series(y_act, index=df.index)\n",
      "    return df_states, z[1]\n",
      "\n",
      "def fractions(n):\n",
      "    f = fridges.meters[n].load().next()[('power','active')]\n",
      "    c, d = find_compressor_defrost(n)\n",
      "    power_c_sum = f[c].sum()\n",
      "    print power_c_sum\n",
      "    \n",
      "    df_cm, df_d = find_on_off_durations(n)\n",
      "    baseline = df_cm.between_time(\"01:00\", \"05:00\").median()\n",
      "    baseline_duty_percent = baseline['on']/(baseline['on']+baseline['off'])\n",
      "    \n",
      "    print baseline_duty_percent\n",
      "    \n",
      "    total_mins = len(f)\n",
      "    baseline_energy = total_mins*baseline_duty_percent*f[c].mean()\n",
      "    \n",
      "    print total_mins\n",
      "    \n",
      "    defrost_energy_self = f[d].sum()\n",
      "    defrost_energy_extra_compressor = 0.0\n",
      "    for i in range(len(df_d.index)):\n",
      "        runtime = df_cm[df_d.index[i]:].head(3)['on'].max()\n",
      "        if runtime>baseline['on']:\n",
      "            extra_run_energy = (runtime-baseline['on'])*f[c].mean()\n",
      "            defrost_energy_extra_compressor = defrost_energy_extra_compressor +extra_run_energy\n",
      "            power_c_sum = power_c_sum - extra_run_energy\n",
      "    defrost_energy = defrost_energy_self + defrost_energy_extra_compressor\n",
      "    \n",
      "    usage_energy = power_c_sum - baseline_energy\n",
      "    total_energy = f.sum()\n",
      "    return baseline_energy, usage_energy, defrost_energy, total_energy, total_mins\n",
      "\n",
      "def return_states_df_defrost(n):\n",
      "    df = fridges.meters[n].load().next()[('power','active')]\n",
      "    X = df.head(10000)\n",
      "    X = X[X<2000]\n",
      "    X = X.reshape((len(X),1))\n",
      "    # Defrost state? (N=3), else 2\n",
      "    model = hmm.GaussianHMM(n_components=3, covariance_type=\"full\", n_iter=1000)\n",
      "    model.fit([X])\n",
      "    z = model.means_.reshape((3,))\n",
      "    z.sort()\n",
      "    raw_power = df.values\n",
      "    p = model.predict(raw_power.reshape((len(raw_power),1)))\n",
      "    y1 = np.abs(raw_power - z[0])\n",
      "    y2 = np.abs(raw_power - z[1])\n",
      "    y_act = np.zeros(y1.shape)\n",
      "    y_act[np.where((y1-y2>0)&(y2<1.2*z[1]))[0]]=1\n",
      "    df_states = pd.Series(y_act, index=df.index)\n",
      "    df_states_hmm = pd.Series(p, index=df.index)\n",
      "    return df_states, df_states_hmm, z\n",
      "\n",
      "\n",
      "\n",
      "def find_weekend_indices(datetime_array):\n",
      "    indices=[]\n",
      "    for i in range(len(datetime_array)):\n",
      "        if datetime_array[i].weekday()>=5:\n",
      "            indices.append(i)\n",
      "    return indices\n",
      "\n",
      "def highlight_weekend(weekend_indices,ax):\n",
      "    i=0\n",
      "    while i<len(weekend_indices):\n",
      "         ax.axvspan(weekend_indices[i], weekend_indices[i]+2, facecolor='green', edgecolor='none', alpha=.2)\n",
      "         i+=2\n",
      "\n",
      "def find_on_off_durations(n):\n",
      "    c, d = find_compressor_defrost(n)\n",
      "    on_c, off_c = find_on_off(c.astype('int').values)\n",
      "    on_d, off_d = find_on_off(d.astype('int').values)\n",
      "    to_ignore =[]\n",
      "\n",
      "    # We now need to remove the extra run of compressor due to defrost.\n",
      "    # We look for defrost off and ignore the next compressor cycle \n",
      "\n",
      "    for defrost_off_index in off_d:\n",
      "      next_compressor_index = np.where(on_c>defrost_off_index)[0][0]\n",
      "      to_ignore.append(next_compressor_index)\n",
      "      to_ignore.append(next_compressor_index+1)\n",
      "      to_ignore.append(next_compressor_index-1)\n",
      "\n",
      "\n",
      "    on_duration_compressor = pd.DataFrame({\"on\":(off_c-on_c)[:-1], \n",
      "                                    \"off\":on_c[1:] - off_c[:-1]}, index=c.index[on_c[:-1]]).sort_index()\n",
      "\n",
      "    to_consider = [x for x in range(len(on_duration_compressor)) if x not in to_ignore]\n",
      "\n",
      "    on_duration_compressor_filtered = on_duration_compressor.ix[to_consider]\n",
      "\n",
      "    on_duration_defrost = pd.DataFrame({\"on\":(off_d-on_d)[:-1], \n",
      "                                \"off\":on_d[1:] - off_d[:-1]}, index=d.index[on_d[:-1]]).sort_index()\n",
      "    on_duration_defrost = on_duration_defrost[on_duration_defrost.on>10]\n",
      "    \n",
      "    return on_duration_compressor_filtered, on_duration_defrost\n",
      "\n",
      "\n",
      "\n",
      "\n",
      "def find_baseline(n):\n",
      "    df_c, df_d = find_on_off_durations(n)\n",
      "    times=df_c.index\n",
      "    return df_c.groupby([times.hour]).median().min()\n",
      "\n",
      "\n",
      "\n",
      "\n",
      "def execute():\n",
      "    o = {}\n",
      "    for n in compressor_powers.keys()[:]:\n",
      "        if n not in o.keys():\n",
      "            print n\n",
      "            o[n] = compute_fractions(n)\n",
      "    d = pd.DataFrame(o).T\n",
      "    d.columns = [\"total\", \"baseline\", \"defrost\", \"usage\"]\n",
      "\n",
      "    dp  = d[d.usage>0]\n",
      "    dp[\"artifical_sum\"] = dp.baseline+dp.defrost+dp.usage\n",
      "\n",
      "    dp[\"baseline_percentage\"] = dp.baseline*100/dp.artifical_sum\n",
      "    dp[\"defrsot_percentage\"] = dp.defrost*100/dp.artifical_sum\n",
      "    dp[\"usage_percentage\"] = dp.usage*100/dp.artifical_sum\n",
      "\n",
      "    ds = DataSet(\"/Users/nipunbatra/Downloads/wikienergy-2.h5\")\n",
      "\n",
      "    original_name_dict = {b.metadata['original_name']:b.identifier.instance for b in ds.buildings.values()}\n",
      "    original_name_map = pd.Series(original_name_dict)\n",
      "    reverse_name_map = pd.Series({v:k for k,v in original_name_dict.iteritems() })\n",
      "\n",
      "    fridges = nilmtk.global_meter_group.select_using_appliances(type='fridge')\n",
      "    fridges_dict_original = {i:ds.buildings[fridges.meters[i].building()].metadata['original_name'] for i in range(len(fridges.meters))}\n",
      "    fridges_dict_nilmtk = {i:fridges.meters[i].building() for i in range(len(fridges.meters))}\n",
      "    fridges_map_original = pd.Series(fridges_dict_original)\n",
      "    fridges_map_nilmtk = pd.Series(fridges_dict_nilmtk)\n",
      "\n",
      "\n",
      "    to_ignore = [0, 3, 4, 5,6,7,9, 10, 12, 16, 17, 19, 20, 21, 23, 24, 27, 30, 31,\n",
      "                 32, 36, 38, 39, 40, 41, 53,54,58, 73, 74,77,82, 85,86,90,91\n",
      "                 ,94, 95,96,98,99,101,117,119,121,122,125, 127, 133, 137,\n",
      "                 141, 147, 156, 157, 160, 165,166,170,171,172]\n",
      "    maybe = [60, 80, 81, 105, 113, 120, 126, 159, 162, 14, 46]\n",
      "    anomaly = [6, 48]\n",
      "\n",
      "\n",
      "\n",
      "\n",
      "\n",
      "\n",
      "    \n",
      "\n",
      "\n",
      "\n",
      "\n",
      "\n",
      "\n"
     ],
     "language": "python",
     "metadata": {},
     "outputs": [],
     "prompt_number": 56
    },
    {
     "cell_type": "code",
     "collapsed": false,
     "input": [
      "import matplotlib.pyplot as plt\n",
      "from nilmtk import DataSet\n",
      "import nilmtk\n",
      "import warnings\n",
      "import pandas as pd\n",
      "import sys\n",
      "import numpy as np\n",
      "from pandas.tools.plotting import autocorrelation_plot\n",
      "warnings.filterwarnings(\"ignore\")\n",
      "import matplotlib.dates as mdates\n",
      "import time\n",
      "from hmmlearn import hmm\n",
      "\n",
      "ds = DataSet(\"/Users/nipunbatra/Downloads/wikienergy-2.h5\")\n",
      "fridges = nilmtk.global_meter_group.select_using_appliances(type='fridge')\n",
      "\n",
      "\n",
      "Wm_to_kwh = 1.66666667* 1e-5\n",
      "\n",
      "\n",
      "compressor_powers = {\n",
      "1 : [80, 140],\n",
      "2 : [80, 140],\n",
      "8:  [100, 400],\n",
      "11: [90, 160],\n",
      "13: [100, 160],\n",
      "14: [70, 200],\n",
      "15: [100, 200],\n",
      "18: [50, 200],\n",
      "22: [50, 400],\n",
      "25: [50, 400],\n",
      "29: [50, 120],\n",
      "33: [50, 200],\n",
      "34: [50, 400],\n",
      "35: [100, 200],\n",
      "37: [100, 200],\n",
      "42: [50, 200],\n",
      "43: [50, 200],\n",
      "44: [50, 200],\n",
      "45: [50, 200],\n",
      "46: [50, 350],\n",
      "47: [50, 200],\n",
      "50: [100, 200],\n",
      "51: [100, 150],\n",
      "52: [100, 200],\n",
      "53: [100, 200],\n",
      "54: [80, 160],\n",
      "55: [60, 150],\n",
      "57: [80, 200],\n",
      "58: [80, 250],\n",
      "59: [80, 150],\n",
      "60: [80, 150],\n",
      "61: [80, 150],\n",
      "67: [80, 300],\n",
      "68: [80, 200],\n",
      "70: [80, 200],\n",
      "72: [80, 300],\n",
      "75: [80, 200],\n",
      "76: [80, 200],\n",
      "78: [80, 400],\n",
      "79: [80, 400],\n",
      "81: [50, 200],\n",
      "83: [80, 150],\n",
      "84: [80, 400],\n",
      "87: [80, 300],\n",
      "88: [80, 200]\n",
      "\n",
      "}\n",
      "\n",
      "defrost_power = {\n",
      "1: 350,\n",
      "2: 400,\n",
      "8: 550,\n",
      "11: 400,\n",
      "13: 600, \n",
      "14: 400,\n",
      "15: 500,\n",
      "18:350,\n",
      "22: 500,\n",
      "25:410,\n",
      "29: 150,\n",
      "33: 250,\n",
      "34: 500,\n",
      "35: 300,\n",
      "37:600,\n",
      "42: 400,\n",
      "43: 400,\n",
      "44: 400,\n",
      "45: 400,\n",
      "46: 1000,\n",
      "47: 400,\n",
      "50: 500,\n",
      "51: 300,\n",
      "52: 400,\n",
      "53: 400,\n",
      "54: 300,\n",
      "55: 400,\n",
      "57: 350,\n",
      "58: 350,\n",
      "59: 350,\n",
      "60: 400,\n",
      "61: 350,\n",
      "67: 400,\n",
      "68: 400,\n",
      "70: 350,\n",
      "72: 400,\n",
      "75: 400,\n",
      "76: 400,\n",
      "78: 600,\n",
      "79: 400,\n",
      "81: 400,\n",
      "83: 300,\n",
      "84: 400,\n",
      "87: 300,\n",
      "88: 300\n",
      "}\n",
      "\n",
      "def find_on_off(arr):\n",
      "    diff_arr = np.diff(arr)\n",
      "    offs_indices = np.where(diff_arr == -1)[0]\n",
      "    ons_indices = np.where(diff_arr == 1)[0]\n",
      "    if offs_indices[0]<ons_indices[0]:\n",
      "        offs_indices = offs_indices[1:]\n",
      "    l = min(len(ons_indices), len(offs_indices))\n",
      "    offs_indices = offs_indices[:l]\n",
      "    ons_indices = ons_indices[:l]\n",
      "    return ons_indices, offs_indices\n",
      "\n",
      "def find_on_off_slow(arr):\n",
      "    i=1\n",
      "    while i<len(arr):\n",
      "        if arr[i] - arr[i-1]==1:\n",
      "            start_index.append(i)\n",
      "            i = i+1\n",
      "            #On now, wait till off found\n",
      "            while i<len(arr) and ((arr[i] - arr[i-1])!=-1) :\n",
      "                i = i+1\n",
      "            if i<len(arr):\n",
      "                stop_index.append(i)\n",
      "        else:\n",
      "            i = i+1\n",
      "    l = len(stop_index)\n",
      "    start_index = start_index[:l]\n",
      "\n",
      "\n",
      "\n",
      "def find_compressor_defrost(n):\n",
      "    df = fridges.meters[n].load().next()[('power','active')]\n",
      "    [compressor_min, compressor_max] = compressor_powers[n]\n",
      "    defrost_min = defrost_power[n]\n",
      "    compressor = (df>compressor_min) & (df<compressor_max)\n",
      "    defrost_idx = df>defrost_min\n",
      "    defrost = defrost_idx\n",
      "    compressor[defrost_idx] = False\n",
      "    \n",
      "    #return compressor\n",
      "    # Eliminate 1 minute cycles\n",
      "    for i in range(len(df)-2):\n",
      "        if compressor.ix[i]== False and compressor.ix[i+1] == True and compressor.ix[i+2]==False:\n",
      "            compressor.ix[i+1] = False\n",
      "        elif compressor.ix[i]== True and compressor.ix[i+1] == False and compressor.ix[i+2]==True:\n",
      "            compressor.ix[i+1] = True\n",
      "    return compressor, defrost\n",
      "\n",
      "\n",
      "def compute_fractions_df(df):\n",
      "    a, b, c, tot, mins = fractions_df(n)\n",
      "    return wm_to_kwh_per_month(tot, mins), wm_to_kwh_per_month(a, mins), wm_to_kwh_per_month(c, mins), wm_to_kwh_per_month(b, mins)\n",
      "\n",
      "\n",
      "def compute_fractions(n):\n",
      "    a, b, c, tot, mins = fractions(n)\n",
      "    return wm_to_kwh_per_month(tot, mins), wm_to_kwh_per_month(a, mins), wm_to_kwh_per_month(c, mins), wm_to_kwh_per_month(b, mins)\n",
      "\n",
      "\n",
      "\n",
      "def wm_to_kwh_per_month(wm, mins):\n",
      "    return wm*Wm_to_kwh/(mins*1.0/(1440*30))\n",
      "\n",
      "\n",
      "def return_states_df(n):\n",
      "    df = fridges.meters[n].load().next()[('power','active')]\n",
      "    X = df.head(10000)\n",
      "    X = X[X<2000]\n",
      "    X = X.reshape((len(X),1))\n",
      "    # Defrost state? (N=3), else 2\n",
      "    model = hmm.GaussianHMM(n_components=2, covariance_type=\"full\", n_iter=1000)\n",
      "    model.fit([X])\n",
      "    z = model.means_.reshape((2,))\n",
      "    z.sort()\n",
      "    raw_power = df.values\n",
      "    y1 = np.abs(raw_power - z[0])\n",
      "    y2 = np.abs(raw_power - z[1])\n",
      "    y_act = np.zeros(y1.shape)\n",
      "    y_act[np.where((y1-y2>0))[0]]=1\n",
      "    #y_act[np.where((y1-y2>0)&(y2<4*z[1]))[0]]=1\n",
      "    df_states = pd.Series(y_act, index=df.index)\n",
      "    return df_states, z[1]\n",
      "\n",
      "def fractions(n):\n",
      "    f = fridges.meters[n].load().next()[('power','active')]\n",
      "    c, d = find_compressor_defrost(n)\n",
      "    power_c_sum = f[c].sum()\n",
      "    print power_c_sum\n",
      "    \n",
      "    df_cm, df_d = find_on_off_durations(n)\n",
      "    baseline = df_cm.between_time(\"01:00\", \"05:00\").median()\n",
      "    baseline_duty_percent = baseline['on']/(baseline['on']+baseline['off'])\n",
      "    \n",
      "    print baseline_duty_percent\n",
      "    \n",
      "    total_mins = len(f)\n",
      "    baseline_energy = total_mins*baseline_duty_percent*f[c].mean()\n",
      "    \n",
      "    print total_mins\n",
      "    \n",
      "    defrost_energy_self = f[d].sum()\n",
      "    defrost_energy_extra_compressor = 0.0\n",
      "    for i in range(len(df_d.index)):\n",
      "        runtime = df_cm[df_d.index[i]:].head(3)['on'].max()\n",
      "        if runtime>baseline['on']:\n",
      "            extra_run_energy = (runtime-baseline['on'])*f[c].mean()\n",
      "            defrost_energy_extra_compressor = defrost_energy_extra_compressor +extra_run_energy\n",
      "            power_c_sum = power_c_sum - extra_run_energy\n",
      "    defrost_energy = defrost_energy_self + defrost_energy_extra_compressor\n",
      "    \n",
      "    usage_energy = power_c_sum - baseline_energy\n",
      "    total_energy = f.sum()\n",
      "    return baseline_energy, usage_energy, defrost_energy, total_energy, total_mins\n",
      "\n",
      "def return_states_df_defrost(n):\n",
      "    df = fridges.meters[n].load().next()[('power','active')]\n",
      "    X = df.head(10000)\n",
      "    X = X[X<2000]\n",
      "    X = X.reshape((len(X),1))\n",
      "    # Defrost state? (N=3), else 2\n",
      "    model = hmm.GaussianHMM(n_components=3, covariance_type=\"full\", n_iter=1000)\n",
      "    model.fit([X])\n",
      "    z = model.means_.reshape((3,))\n",
      "    z.sort()\n",
      "    raw_power = df.values\n",
      "    p = model.predict(raw_power.reshape((len(raw_power),1)))\n",
      "    y1 = np.abs(raw_power - z[0])\n",
      "    y2 = np.abs(raw_power - z[1])\n",
      "    y_act = np.zeros(y1.shape)\n",
      "    y_act[np.where((y1-y2>0)&(y2<1.2*z[1]))[0]]=1\n",
      "    df_states = pd.Series(y_act, index=df.index)\n",
      "    df_states_hmm = pd.Series(p, index=df.index)\n",
      "    return df_states, df_states_hmm, z\n",
      "\n",
      "\n",
      "\n",
      "def find_weekend_indices(datetime_array):\n",
      "    indices=[]\n",
      "    for i in range(len(datetime_array)):\n",
      "        if datetime_array[i].weekday()>=5:\n",
      "            indices.append(i)\n",
      "    return indices\n",
      "\n",
      "def highlight_weekend(weekend_indices,ax):\n",
      "    i=0\n",
      "    while i<len(weekend_indices):\n",
      "         ax.axvspan(weekend_indices[i], weekend_indices[i]+2, facecolor='green', edgecolor='none', alpha=.2)\n",
      "         i+=2\n",
      "\n",
      "def find_on_off_durations(n):\n",
      "    c, d = find_compressor_defrost(n)\n",
      "    on_c, off_c = find_on_off(c.astype('int').values)\n",
      "    on_d, off_d = find_on_off(d.astype('int').values)\n",
      "    to_ignore =[]\n",
      "\n",
      "    # We now need to remove the extra run of compressor due to defrost.\n",
      "    # We look for defrost off and ignore the next compressor cycle \n",
      "\n",
      "    for defrost_off_index in off_d:\n",
      "      next_compressor_index = np.where(on_c>defrost_off_index)[0][0]\n",
      "      to_ignore.append(next_compressor_index)\n",
      "      to_ignore.append(next_compressor_index+1)\n",
      "      to_ignore.append(next_compressor_index-1)\n",
      "\n",
      "\n",
      "    on_duration_compressor = pd.DataFrame({\"on\":(off_c-on_c)[:-1], \n",
      "                                    \"off\":on_c[1:] - off_c[:-1]}, index=c.index[on_c[:-1]]).sort_index()\n",
      "\n",
      "    to_consider = [x for x in range(len(on_duration_compressor)) if x not in to_ignore]\n",
      "\n",
      "    on_duration_compressor_filtered = on_duration_compressor.ix[to_consider]\n",
      "\n",
      "    on_duration_defrost = pd.DataFrame({\"on\":(off_d-on_d)[:-1], \n",
      "                                \"off\":on_d[1:] - off_d[:-1]}, index=d.index[on_d[:-1]]).sort_index()\n",
      "    on_duration_defrost = on_duration_defrost[on_duration_defrost.on>10]\n",
      "    \n",
      "    return on_duration_compressor_filtered, on_duration_defrost\n",
      "\n",
      "\n",
      "\n",
      "\n",
      "def find_baseline(n):\n",
      "    df_c, df_d = find_on_off_durations(n)\n",
      "    times=df_c.index\n",
      "    return df_c.groupby([times.hour]).median().min()\n",
      "\n",
      "\n",
      "\n",
      "\n",
      "def execute():\n",
      "    o = {}\n",
      "    for n in compressor_powers.keys()[:]:\n",
      "        if n not in o.keys():\n",
      "            print n\n",
      "            o[n] = compute_fractions(n)\n",
      "    d = pd.DataFrame(o).T\n",
      "    d.columns = [\"total\", \"baseline\", \"defrost\", \"usage\"]\n",
      "\n",
      "    dp  = d[d.usage>0]\n",
      "    dp[\"artifical_sum\"] = dp.baseline+dp.defrost+dp.usage\n",
      "\n",
      "    dp[\"baseline_percentage\"] = dp.baseline*100/dp.artifical_sum\n",
      "    dp[\"defrsot_percentage\"] = dp.defrost*100/dp.artifical_sum\n",
      "    dp[\"usage_percentage\"] = dp.usage*100/dp.artifical_sum\n",
      "\n",
      "    ds = DataSet(\"/Users/nipunbatra/Downloads/wikienergy-2.h5\")\n",
      "\n",
      "    original_name_dict = {b.metadata['original_name']:b.identifier.instance for b in ds.buildings.values()}\n",
      "    original_name_map = pd.Series(original_name_dict)\n",
      "    reverse_name_map = pd.Series({v:k for k,v in original_name_dict.iteritems() })\n",
      "\n",
      "    fridges = nilmtk.global_meter_group.select_using_appliances(type='fridge')\n",
      "    fridges_dict_original = {i:ds.buildings[fridges.meters[i].building()].metadata['original_name'] for i in range(len(fridges.meters))}\n",
      "    fridges_dict_nilmtk = {i:fridges.meters[i].building() for i in range(len(fridges.meters))}\n",
      "    fridges_map_original = pd.Series(fridges_dict_original)\n",
      "    fridges_map_nilmtk = pd.Series(fridges_dict_nilmtk)\n",
      "\n",
      "\n",
      "    to_ignore = [0, 3, 4, 5,6,7,9, 10, 12, 16, 17, 19, 20, 21, 23, 24, 27, 30, 31,\n",
      "                 32, 36, 38, 39, 40, 41, 53,54,58, 73, 74,77,82, 85,86,90,91\n",
      "                 ,94, 95,96,98,99,101,117,119,121,122,125, 127, 133, 137,\n",
      "                 141, 147, 156, 157, 160, 165,166,170,171,172]\n",
      "    maybe = [60, 80, 81, 105, 113, 120, 126, 159, 162, 14, 46]\n",
      "    anomaly = [6, 48]\n",
      "\n",
      "\n",
      "\n",
      "\n",
      "\n",
      "\n",
      "    \n",
      "\n",
      "\n",
      "\n",
      "\n",
      "\n",
      "\n"
     ],
     "language": "python",
     "metadata": {},
     "outputs": [],
     "prompt_number": 39
    },
    {
     "cell_type": "code",
     "collapsed": false,
     "input": [
      "fridges = nilmtk.global_meter_group.select_using_appliances(type='fridge')\n"
     ],
     "language": "python",
     "metadata": {},
     "outputs": [],
     "prompt_number": 33
    },
    {
     "cell_type": "code",
     "collapsed": false,
     "input": [
      "original_name_dict = {b.metadata['original_name']:b.identifier.instance for b in ds.buildings.values()}\n",
      "original_name_map = pd.Series(original_name_dict)\n",
      "reverse_name_map = pd.Series({v:k for k,v in original_name_dict.iteritems() })"
     ],
     "language": "python",
     "metadata": {},
     "outputs": [],
     "prompt_number": 104
    },
    {
     "cell_type": "code",
     "collapsed": false,
     "input": [
      "fridges_dict_original = {i:ds.buildings[fridges.meters[i].building()].metadata['original_name'] for i in range(len(fridges.meters))}\n",
      "fridges_dict_nilmtk = {i:fridges.meters[i].building() for i in range(len(fridges.meters))}\n",
      "fridges_map_original = pd.Series(fridges_dict_original)\n",
      "fridges_map_nilmtk = pd.Series(fridges_dict_nilmtk)"
     ],
     "language": "python",
     "metadata": {},
     "outputs": [],
     "prompt_number": 105
    },
    {
     "cell_type": "code",
     "collapsed": false,
     "input": [
      "reverse_name_map"
     ],
     "language": "python",
     "metadata": {},
     "outputs": [
      {
       "metadata": {},
       "output_type": "pyout",
       "prompt_number": 38,
       "text": [
        "1      26\n",
        "2      59\n",
        "3      86\n",
        "4      93\n",
        "5      94\n",
        "6     114\n",
        "7     252\n",
        "8     280\n",
        "9     370\n",
        "10    410\n",
        "11    434\n",
        "12    484\n",
        "13    490\n",
        "14    499\n",
        "15    545\n",
        "...\n",
        "225    9771\n",
        "226    9830\n",
        "227    9875\n",
        "228    9915\n",
        "229    9922\n",
        "230    9926\n",
        "231    9932\n",
        "232    9933\n",
        "233    9934\n",
        "234    9937\n",
        "235    9938\n",
        "236    9939\n",
        "237    9942\n",
        "238    9982\n",
        "239    9983\n",
        "Length: 239, dtype: int64"
       ]
      }
     ],
     "prompt_number": 38
    },
    {
     "cell_type": "code",
     "collapsed": false,
     "input": [
      "find_baseline(131)"
     ],
     "language": "python",
     "metadata": {},
     "outputs": [
      {
       "metadata": {},
       "output_type": "pyout",
       "prompt_number": 57,
       "text": [
        "off     6\n",
        "on     49\n",
        "dtype: float64"
       ]
      }
     ],
     "prompt_number": 57
    },
    {
     "cell_type": "code",
     "collapsed": false,
     "input": [
      "find_baseline(159)"
     ],
     "language": "python",
     "metadata": {},
     "outputs": [
      {
       "metadata": {},
       "output_type": "pyout",
       "prompt_number": 58,
       "text": [
        "off    12.5\n",
        "on     62.0\n",
        "dtype: float64"
       ]
      }
     ],
     "prompt_number": 58
    },
    {
     "cell_type": "code",
     "collapsed": false,
     "input": [
      "c, d =  find_on_off_durations(131)"
     ],
     "language": "python",
     "metadata": {},
     "outputs": [],
     "prompt_number": 59
    },
    {
     "cell_type": "code",
     "collapsed": false,
     "input": [
      "c.on.median()"
     ],
     "language": "python",
     "metadata": {},
     "outputs": [
      {
       "metadata": {},
       "output_type": "pyout",
       "prompt_number": 61,
       "text": [
        "58.0"
       ]
      }
     ],
     "prompt_number": 61
    },
    {
     "cell_type": "code",
     "collapsed": false,
     "input": [],
     "language": "python",
     "metadata": {},
     "outputs": []
    },
    {
     "cell_type": "code",
     "collapsed": false,
     "input": [
      "c.off.median()"
     ],
     "language": "python",
     "metadata": {},
     "outputs": [
      {
       "metadata": {},
       "output_type": "pyout",
       "prompt_number": 62,
       "text": [
        "17.0"
       ]
      }
     ],
     "prompt_number": 62
    },
    {
     "cell_type": "code",
     "collapsed": false,
     "input": [
      "c.on.max()"
     ],
     "language": "python",
     "metadata": {},
     "outputs": [
      {
       "metadata": {},
       "output_type": "pyout",
       "prompt_number": 63,
       "text": [
        "372"
       ]
      }
     ],
     "prompt_number": 63
    },
    {
     "cell_type": "code",
     "collapsed": false,
     "input": [
      "c, d =  find_on_off_durations(159)"
     ],
     "language": "python",
     "metadata": {},
     "outputs": [],
     "prompt_number": 64
    },
    {
     "cell_type": "code",
     "collapsed": false,
     "input": [
      "c.off.median()"
     ],
     "language": "python",
     "metadata": {},
     "outputs": [
      {
       "metadata": {},
       "output_type": "pyout",
       "prompt_number": 68,
       "text": [
        "44.0"
       ]
      }
     ],
     "prompt_number": 68
    },
    {
     "cell_type": "code",
     "collapsed": false,
     "input": [
      "c.on.max()"
     ],
     "language": "python",
     "metadata": {},
     "outputs": [
      {
       "metadata": {},
       "output_type": "pyout",
       "prompt_number": 70,
       "text": [
        "349"
       ]
      }
     ],
     "prompt_number": 70
    },
    {
     "cell_type": "code",
     "collapsed": false,
     "input": [
      "df = fridges.meters[159].load().next()"
     ],
     "language": "python",
     "metadata": {},
     "outputs": [],
     "prompt_number": 72
    },
    {
     "cell_type": "code",
     "collapsed": false,
     "input": [
      "%matplotlib qt\n",
      "df.plot()"
     ],
     "language": "python",
     "metadata": {},
     "outputs": [
      {
       "metadata": {},
       "output_type": "pyout",
       "prompt_number": 76,
       "text": [
        "<matplotlib.axes._subplots.AxesSubplot at 0x10dd6e050>"
       ]
      }
     ],
     "prompt_number": 76
    },
    {
     "cell_type": "code",
     "collapsed": false,
     "input": [
      "c[c.on>100].head()"
     ],
     "language": "python",
     "metadata": {},
     "outputs": [
      {
       "html": [
        "<div style=\"max-height:1000px;max-width:1500px;overflow:auto;\">\n",
        "<table border=\"1\" class=\"dataframe\">\n",
        "  <thead>\n",
        "    <tr style=\"text-align: right;\">\n",
        "      <th></th>\n",
        "      <th>off</th>\n",
        "      <th>on</th>\n",
        "    </tr>\n",
        "    <tr>\n",
        "      <th>localminute</th>\n",
        "      <th></th>\n",
        "      <th></th>\n",
        "    </tr>\n",
        "  </thead>\n",
        "  <tbody>\n",
        "    <tr>\n",
        "      <th>2014-01-01 09:41:00-06:00</th>\n",
        "      <td> 12</td>\n",
        "      <td> 212</td>\n",
        "    </tr>\n",
        "    <tr>\n",
        "      <th>2014-01-02 12:01:00-06:00</th>\n",
        "      <td> 57</td>\n",
        "      <td> 113</td>\n",
        "    </tr>\n",
        "    <tr>\n",
        "      <th>2014-01-04 16:01:00-06:00</th>\n",
        "      <td> 43</td>\n",
        "      <td> 104</td>\n",
        "    </tr>\n",
        "    <tr>\n",
        "      <th>2014-01-04 18:28:00-06:00</th>\n",
        "      <td>  9</td>\n",
        "      <td> 165</td>\n",
        "    </tr>\n",
        "    <tr>\n",
        "      <th>2014-01-05 06:06:00-06:00</th>\n",
        "      <td> 62</td>\n",
        "      <td> 119</td>\n",
        "    </tr>\n",
        "  </tbody>\n",
        "</table>\n",
        "</div>"
       ],
       "metadata": {},
       "output_type": "pyout",
       "prompt_number": 99,
       "text": [
        "                           off   on\n",
        "localminute                        \n",
        "2014-01-01 09:41:00-06:00   12  212\n",
        "2014-01-02 12:01:00-06:00   57  113\n",
        "2014-01-04 16:01:00-06:00   43  104\n",
        "2014-01-04 18:28:00-06:00    9  165\n",
        "2014-01-05 06:06:00-06:00   62  119"
       ]
      }
     ],
     "prompt_number": 99
    },
    {
     "cell_type": "code",
     "collapsed": false,
     "input": [
      "f.building()"
     ],
     "language": "python",
     "metadata": {},
     "outputs": [
      {
       "metadata": {},
       "output_type": "pyout",
       "prompt_number": 44,
       "text": [
        "1"
       ]
      }
     ],
     "prompt_number": 44
    },
    {
     "cell_type": "code",
     "collapsed": false,
     "input": [
      "fridges_to_nilmtk = {i:fridges.meters[i].building() for i in range(len(fridges.meters))}"
     ],
     "language": "python",
     "metadata": {},
     "outputs": [],
     "prompt_number": 45
    },
    {
     "cell_type": "code",
     "collapsed": false,
     "input": [
      "nilmtk_to_fridges = {fridges.meters[i].building():i for i in range(len(fridges.meters))}"
     ],
     "language": "python",
     "metadata": {},
     "outputs": [],
     "prompt_number": 47
    },
    {
     "cell_type": "code",
     "collapsed": false,
     "input": [
      "nilmtk_to_fridges[42]"
     ],
     "language": "python",
     "metadata": {},
     "outputs": [
      {
       "metadata": {},
       "output_type": "pyout",
       "prompt_number": 49,
       "text": [
        "131"
       ]
      }
     ],
     "prompt_number": 49
    },
    {
     "cell_type": "code",
     "collapsed": false,
     "input": [
      "nilmtk_to_fridges[81]"
     ],
     "language": "python",
     "metadata": {},
     "outputs": [
      {
       "metadata": {},
       "output_type": "pyout",
       "prompt_number": 50,
       "text": [
        "159"
       ]
      }
     ],
     "prompt_number": 50
    },
    {
     "cell_type": "code",
     "collapsed": false,
     "input": [
      "nilmtk_to_fridges[104]"
     ],
     "language": "python",
     "metadata": {},
     "outputs": [
      {
       "metadata": {},
       "output_type": "pyout",
       "prompt_number": 102,
       "text": [
        "7"
       ]
      }
     ],
     "prompt_number": 102
    },
    {
     "cell_type": "code",
     "collapsed": false,
     "input": [
      "df = fridges.meters[159].load().next()"
     ],
     "language": "python",
     "metadata": {},
     "outputs": [],
     "prompt_number": 53
    },
    {
     "cell_type": "code",
     "collapsed": false,
     "input": [
      "df.head(50000).plot()"
     ],
     "language": "python",
     "metadata": {},
     "outputs": [
      {
       "metadata": {},
       "output_type": "pyout",
       "prompt_number": 54,
       "text": [
        "<matplotlib.axes._subplots.AxesSubplot at 0x125392ad0>"
       ]
      }
     ],
     "prompt_number": 54
    },
    {
     "cell_type": "code",
     "collapsed": false,
     "input": [
      "fractions(159)"
     ],
     "language": "python",
     "metadata": {},
     "outputs": [
      {
       "output_type": "stream",
       "stream": "stdout",
       "text": [
        "12583487.0\n",
        "0.60147601476"
       ]
      },
      {
       "output_type": "stream",
       "stream": "stdout",
       "text": [
        "\n",
        "129237\n"
       ]
      },
      {
       "metadata": {},
       "output_type": "pyout",
       "prompt_number": 77,
       "text": [
        "(10334297.976446349,\n",
        " 1785406.3440309856,\n",
        " 1149475.6795226675,\n",
        " 13726472.0,\n",
        " 129237)"
       ]
      }
     ],
     "prompt_number": 77
    },
    {
     "cell_type": "code",
     "collapsed": false,
     "input": [
      "o = {}\n",
      "for n in [159, 131]:\n",
      "    if n not in o.keys():\n",
      "        print n\n",
      "        o[n] = compute_fractions(n)\n",
      "d = pd.DataFrame(o).T\n",
      "d.columns = [\"total\", \"baseline\", \"defrost\", \"usage\"]\n",
      "\n"
     ],
     "language": "python",
     "metadata": {},
     "outputs": [
      {
       "output_type": "stream",
       "stream": "stdout",
       "text": [
        "159\n",
        "12583487.0"
       ]
      },
      {
       "output_type": "stream",
       "stream": "stdout",
       "text": [
        "\n",
        "0.60147601476"
       ]
      },
      {
       "output_type": "stream",
       "stream": "stdout",
       "text": [
        "\n",
        "129237\n",
        "131"
       ]
      },
      {
       "output_type": "stream",
       "stream": "stdout",
       "text": [
        "\n",
        "14370101.0"
       ]
      },
      {
       "output_type": "stream",
       "stream": "stdout",
       "text": [
        "\n",
        "0.617283950617"
       ]
      },
      {
       "output_type": "stream",
       "stream": "stdout",
       "text": [
        "\n",
        "129237\n"
       ]
      }
     ],
     "prompt_number": 78
    },
    {
     "cell_type": "code",
     "collapsed": false,
     "input": [
      "d"
     ],
     "language": "python",
     "metadata": {},
     "outputs": [
      {
       "html": [
        "<div style=\"max-height:1000px;max-width:1500px;overflow:auto;\">\n",
        "<table border=\"1\" class=\"dataframe\">\n",
        "  <thead>\n",
        "    <tr style=\"text-align: right;\">\n",
        "      <th></th>\n",
        "      <th>total</th>\n",
        "      <th>baseline</th>\n",
        "      <th>defrost</th>\n",
        "      <th>usage</th>\n",
        "    </tr>\n",
        "  </thead>\n",
        "  <tbody>\n",
        "    <tr>\n",
        "      <th>131</th>\n",
        "      <td> 86.747980</td>\n",
        "      <td> 64.021407</td>\n",
        "      <td> 9.803760</td>\n",
        "      <td> 11.286636</td>\n",
        "    </tr>\n",
        "    <tr>\n",
        "      <th>159</th>\n",
        "      <td> 76.472371</td>\n",
        "      <td> 57.574027</td>\n",
        "      <td> 6.403913</td>\n",
        "      <td>  9.946784</td>\n",
        "    </tr>\n",
        "  </tbody>\n",
        "</table>\n",
        "</div>"
       ],
       "metadata": {},
       "output_type": "pyout",
       "prompt_number": 79,
       "text": [
        "         total   baseline   defrost      usage\n",
        "131  86.747980  64.021407  9.803760  11.286636\n",
        "159  76.472371  57.574027  6.403913   9.946784"
       ]
      }
     ],
     "prompt_number": 79
    },
    {
     "cell_type": "code",
     "collapsed": false,
     "input": [
      "57.0/77"
     ],
     "language": "python",
     "metadata": {},
     "outputs": [
      {
       "metadata": {},
       "output_type": "pyout",
       "prompt_number": 81,
       "text": [
        "0.7402597402597403"
       ]
      }
     ],
     "prompt_number": 81
    },
    {
     "cell_type": "code",
     "collapsed": false,
     "input": [
      "64.0/87"
     ],
     "language": "python",
     "metadata": {},
     "outputs": [
      {
       "metadata": {},
       "output_type": "pyout",
       "prompt_number": 82,
       "text": [
        "0.735632183908046"
       ]
      }
     ],
     "prompt_number": 82
    },
    {
     "cell_type": "code",
     "collapsed": false,
     "input": [
      "6.0/76"
     ],
     "language": "python",
     "metadata": {},
     "outputs": [
      {
       "metadata": {},
       "output_type": "pyout",
       "prompt_number": 83,
       "text": [
        "0.07894736842105263"
       ]
      }
     ],
     "prompt_number": 83
    },
    {
     "cell_type": "code",
     "collapsed": false,
     "input": [
      "10.0/86"
     ],
     "language": "python",
     "metadata": {},
     "outputs": [
      {
       "metadata": {},
       "output_type": "pyout",
       "prompt_number": 84,
       "text": [
        "0.11627906976744186"
       ]
      }
     ],
     "prompt_number": 84
    },
    {
     "cell_type": "code",
     "collapsed": false,
     "input": [
      "c1, d1 = find_on_off_durations(159)"
     ],
     "language": "python",
     "metadata": {},
     "outputs": [],
     "prompt_number": 85
    },
    {
     "cell_type": "code",
     "collapsed": false,
     "input": [
      "c2, d2 = find_on_off_durations(131)"
     ],
     "language": "python",
     "metadata": {},
     "outputs": [],
     "prompt_number": 86
    },
    {
     "cell_type": "code",
     "collapsed": false,
     "input": [
      "d1.off.describe()"
     ],
     "language": "python",
     "metadata": {},
     "outputs": [
      {
       "metadata": {},
       "output_type": "pyout",
       "prompt_number": 91,
       "text": [
        "count      75.000000\n",
        "mean      967.533333\n",
        "std       211.344687\n",
        "min        37.000000\n",
        "25%       940.000000\n",
        "50%      1001.000000\n",
        "75%      1062.000000\n",
        "max      1600.000000\n",
        "Name: off, dtype: float64"
       ]
      }
     ],
     "prompt_number": 91
    },
    {
     "cell_type": "code",
     "collapsed": false,
     "input": [
      "d2.off.describe()"
     ],
     "language": "python",
     "metadata": {},
     "outputs": [
      {
       "metadata": {},
       "output_type": "pyout",
       "prompt_number": 92,
       "text": [
        "count     117.000000\n",
        "mean      778.401709\n",
        "std       210.474835\n",
        "min         3.000000\n",
        "25%       732.000000\n",
        "50%       817.000000\n",
        "75%       885.000000\n",
        "max      1098.000000\n",
        "Name: off, dtype: float64"
       ]
      }
     ],
     "prompt_number": 92
    },
    {
     "cell_type": "code",
     "collapsed": false,
     "input": [
      "find_baseline(131)"
     ],
     "language": "python",
     "metadata": {},
     "outputs": [
      {
       "metadata": {},
       "output_type": "pyout",
       "prompt_number": 93,
       "text": [
        "off     6\n",
        "on     49\n",
        "dtype: float64"
       ]
      }
     ],
     "prompt_number": 93
    },
    {
     "cell_type": "code",
     "collapsed": false,
     "input": [
      "find_baseline(159)"
     ],
     "language": "python",
     "metadata": {},
     "outputs": [
      {
       "metadata": {},
       "output_type": "pyout",
       "prompt_number": 94,
       "text": [
        "off    12.5\n",
        "on     62.0\n",
        "dtype: float64"
       ]
      }
     ],
     "prompt_number": 94
    },
    {
     "cell_type": "code",
     "collapsed": false,
     "input": [
      "49.0/(49+6)"
     ],
     "language": "python",
     "metadata": {},
     "outputs": [
      {
       "metadata": {},
       "output_type": "pyout",
       "prompt_number": 96,
       "text": [
        "0.8909090909090909"
       ]
      }
     ],
     "prompt_number": 96
    },
    {
     "cell_type": "code",
     "collapsed": false,
     "input": [
      "62.0/(62+13)"
     ],
     "language": "python",
     "metadata": {},
     "outputs": [
      {
       "metadata": {},
       "output_type": "pyout",
       "prompt_number": 98,
       "text": [
        "0.8266666666666667"
       ]
      }
     ],
     "prompt_number": 98
    },
    {
     "cell_type": "code",
     "collapsed": false,
     "input": [
      "original_name_map[2171]"
     ],
     "language": "python",
     "metadata": {},
     "outputs": [
      {
       "metadata": {},
       "output_type": "pyout",
       "prompt_number": 111,
       "text": [
        "58"
       ]
      }
     ],
     "prompt_number": 111
    },
    {
     "cell_type": "code",
     "collapsed": false,
     "input": [
      "fridges_dict_nilmtk[58]"
     ],
     "language": "python",
     "metadata": {},
     "outputs": [
      {
       "metadata": {},
       "output_type": "pyout",
       "prompt_number": 112,
       "text": [
        "167"
       ]
      }
     ],
     "prompt_number": 112
    },
    {
     "cell_type": "code",
     "collapsed": false,
     "input": [],
     "language": "python",
     "metadata": {},
     "outputs": []
    }
   ],
   "metadata": {}
  }
 ]
}