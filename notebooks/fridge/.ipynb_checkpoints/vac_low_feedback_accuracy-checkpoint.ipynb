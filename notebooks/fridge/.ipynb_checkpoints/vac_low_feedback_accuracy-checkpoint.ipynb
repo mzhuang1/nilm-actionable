{
 "cells": [
  {
   "cell_type": "code",
   "execution_count": 1,
   "metadata": {
    "collapsed": false
   },
   "outputs": [
    {
     "name": "stderr",
     "output_type": "stream",
     "text": [
      "Vendor:  Continuum Analytics, Inc.\n",
      "Package: mkl\n",
      "Message: trial mode expires in 13 days\n"
     ]
    }
   ],
   "source": [
    "import numpy as np\n",
    "import pandas as pd\n",
    "from os.path import join\n",
    "import os\n",
    "from pylab import rcParams\n",
    "import matplotlib.pyplot as plt\n",
    "\n",
    "import nilmtk\n",
    "from nilmtk import DataSet, TimeFrame, MeterGroup, HDFDataStore\n",
    "from nilmtk.disaggregate import CombinatorialOptimisation, FHMM, Hart85\n",
    "from nilmtk.utils import print_dict\n",
    "from nilmtk.metrics import f1_score\n",
    "\n",
    "import warnings\n",
    "warnings.filterwarnings(\"ignore\")"
   ]
  },
  {
   "cell_type": "code",
   "execution_count": 2,
   "metadata": {
    "collapsed": true
   },
   "outputs": [],
   "source": [
    "import sys"
   ]
  },
  {
   "cell_type": "code",
   "execution_count": 3,
   "metadata": {
    "collapsed": true
   },
   "outputs": [],
   "source": [
    "sys.path.append(\"../common\")\n",
    "sys.path.append(\"../../common\")\n",
    "sys.path.append(\"../../../common\")\n",
    "\n",
    "\n",
    "\n",
    "%matplotlib inline"
   ]
  },
  {
   "cell_type": "code",
   "execution_count": 4,
   "metadata": {
    "collapsed": true
   },
   "outputs": [],
   "source": [
    "sys.path.append(\"../../code/common\")"
   ]
  },
  {
   "cell_type": "code",
   "execution_count": 5,
   "metadata": {
    "collapsed": true
   },
   "outputs": [],
   "source": [
    "paths = {\"Hart\": \"../../data/hvac/minutes_N2_K3_T50_Hart.csv\",\n",
    "        \"CO\":\"../../data/hvac/minutes_N2_K3_T50_CO.csv\",\n",
    "        \"FHMM\":\"../../data/hvac/minutes_N2_K3_T50_FHMM.csv\",\n",
    "        \"Submetered\":\"../../data/hvac/minutes_GT.csv\"}"
   ]
  },
  {
   "cell_type": "code",
   "execution_count": 6,
   "metadata": {
    "collapsed": false
   },
   "outputs": [],
   "source": [
    "\n",
    "dfs = {}\n",
    "for algo, algo_csv in paths.iteritems():\n",
    "    dfs[algo] = pd.read_csv(algo_csv)\n",
    "    dfs[algo].index = dfs[algo].dataid\n",
    "    dfs[algo] = dfs[algo].dropna()\n",
    "ix = dfs[\"Submetered\"].index\n",
    "\n",
    "for algo, algo_df in dfs.iteritems():\n",
    "    ix = algo_df.index.intersection(ix)\n",
    "\n",
    "a_1 = {}\n",
    "a_3 = {}\n",
    "evening_energy = {}\n",
    "morning_mins = {}\n",
    "night_mins = {}\n",
    "for algo, algo_df in dfs.iteritems():\n",
    "    a_1[algo] = algo_df.ix[ix][\"a1\"]\n",
    "    evening_energy[algo] = algo_df.ix[ix][\"evening_energy\"]\n",
    "    a_3[algo] = algo_df.ix[ix][\"a3\"]\n",
    "    morning_mins[algo] = algo_df.ix[ix][\"morning_mins\"]\n",
    "    night_mins[algo] = algo_df.ix[ix][\"sleep_mins\"]\n",
    "    \n",
    "    "
   ]
  },
  {
   "cell_type": "code",
   "execution_count": 7,
   "metadata": {
    "collapsed": false
   },
   "outputs": [
    {
     "data": {
      "text/plain": [
       "<matplotlib.axes._subplots.AxesSubplot at 0x113247750>"
      ]
     },
     "execution_count": 7,
     "metadata": {},
     "output_type": "execute_result"
    },
    {
     "data": {
      "image/png": "[encoded data removed]",
      "text/plain": [
       "<matplotlib.figure.Figure at 0x113247ed0>"
      ]
     },
     "metadata": {},
     "output_type": "display_data"
    }
   ],
   "source": [
    "pd.DataFrame(evening_energy).plot(kind=\"box\")"
   ]
  },
  {
   "cell_type": "code",
   "execution_count": 8,
   "metadata": {
    "collapsed": false
   },
   "outputs": [
    {
     "data": {
      "text/plain": [
       "<matplotlib.axes._subplots.AxesSubplot at 0x115248d50>"
      ]
     },
     "execution_count": 8,
     "metadata": {},
     "output_type": "execute_result"
    },
    {
     "data": {
      "image/png": "[encoded data removed]",
      "text/plain": [
       "<matplotlib.figure.Figure at 0x114fd6ed0>"
      ]
     },
     "metadata": {},
     "output_type": "display_data"
    }
   ],
   "source": [
    "pd.DataFrame(a_1).plot(kind=\"box\")"
   ]
  },
  {
   "cell_type": "code",
   "execution_count": 9,
   "metadata": {
    "collapsed": false
   },
   "outputs": [
    {
     "data": {
      "text/plain": [
       "<matplotlib.axes._subplots.AxesSubplot at 0x1152565d0>"
      ]
     },
     "execution_count": 9,
     "metadata": {},
     "output_type": "execute_result"
    },
    {
     "data": {
      "image/png": "[encoded data removed]",
      "text/plain": [
       "<matplotlib.figure.Figure at 0x1131dab90>"
      ]
     },
     "metadata": {},
     "output_type": "display_data"
    }
   ],
   "source": [
    "pd.DataFrame(morning_mins).plot(kind=\"box\")"
   ]
  },
  {
   "cell_type": "code",
   "execution_count": 10,
   "metadata": {
    "collapsed": true
   },
   "outputs": [],
   "source": [
    "morning_df = pd.DataFrame(morning_mins)\n",
    "evening_energy = pd.DataFrame(evening_energy)"
   ]
  },
  {
   "cell_type": "code",
   "execution_count": 11,
   "metadata": {
    "collapsed": false
   },
   "outputs": [
    {
     "data": {
      "text/html": [
       "<div>\n",
       "<table border=\"1\" class=\"dataframe\">\n",
       "  <thead>\n",
       "    <tr style=\"text-align: right;\">\n",
       "      <th></th>\n",
       "      <th>CO</th>\n",
       "      <th>FHMM</th>\n",
       "      <th>Hart</th>\n",
       "      <th>Submetered</th>\n",
       "    </tr>\n",
       "  </thead>\n",
       "  <tbody>\n",
       "    <tr>\n",
       "      <th>count</th>\n",
       "      <td>58.000000</td>\n",
       "      <td>58.000000</td>\n",
       "      <td>58.000000</td>\n",
       "      <td>58.000000</td>\n",
       "    </tr>\n",
       "    <tr>\n",
       "      <th>mean</th>\n",
       "      <td>2272.482759</td>\n",
       "      <td>2489.862069</td>\n",
       "      <td>2692.362069</td>\n",
       "      <td>2531.982759</td>\n",
       "    </tr>\n",
       "    <tr>\n",
       "      <th>std</th>\n",
       "      <td>1428.550673</td>\n",
       "      <td>1793.358561</td>\n",
       "      <td>1334.266152</td>\n",
       "      <td>1580.915818</td>\n",
       "    </tr>\n",
       "    <tr>\n",
       "      <th>min</th>\n",
       "      <td>238.000000</td>\n",
       "      <td>228.000000</td>\n",
       "      <td>525.000000</td>\n",
       "      <td>77.000000</td>\n",
       "    </tr>\n",
       "    <tr>\n",
       "      <th>25%</th>\n",
       "      <td>1259.250000</td>\n",
       "      <td>1110.500000</td>\n",
       "      <td>1884.500000</td>\n",
       "      <td>1332.750000</td>\n",
       "    </tr>\n",
       "    <tr>\n",
       "      <th>50%</th>\n",
       "      <td>2074.000000</td>\n",
       "      <td>2258.000000</td>\n",
       "      <td>2342.000000</td>\n",
       "      <td>2451.500000</td>\n",
       "    </tr>\n",
       "    <tr>\n",
       "      <th>75%</th>\n",
       "      <td>3162.250000</td>\n",
       "      <td>3398.500000</td>\n",
       "      <td>3409.000000</td>\n",
       "      <td>3205.750000</td>\n",
       "    </tr>\n",
       "    <tr>\n",
       "      <th>max</th>\n",
       "      <td>6642.000000</td>\n",
       "      <td>8005.000000</td>\n",
       "      <td>6923.000000</td>\n",
       "      <td>7458.000000</td>\n",
       "    </tr>\n",
       "  </tbody>\n",
       "</table>\n",
       "</div>"
      ],
      "text/plain": [
       "                CO         FHMM         Hart   Submetered\n",
       "count    58.000000    58.000000    58.000000    58.000000\n",
       "mean   2272.482759  2489.862069  2692.362069  2531.982759\n",
       "std    1428.550673  1793.358561  1334.266152  1580.915818\n",
       "min     238.000000   228.000000   525.000000    77.000000\n",
       "25%    1259.250000  1110.500000  1884.500000  1332.750000\n",
       "50%    2074.000000  2258.000000  2342.000000  2451.500000\n",
       "75%    3162.250000  3398.500000  3409.000000  3205.750000\n",
       "max    6642.000000  8005.000000  6923.000000  7458.000000"
      ]
     },
     "execution_count": 11,
     "metadata": {},
     "output_type": "execute_result"
    }
   ],
   "source": [
    "morning_df.describe()"
   ]
  },
  {
   "cell_type": "code",
   "execution_count": 12,
   "metadata": {
    "collapsed": false
   },
   "outputs": [
    {
     "data": {
      "text/plain": [
       "[<matplotlib.lines.Line2D at 0x115248710>]"
      ]
     },
     "execution_count": 12,
     "metadata": {},
     "output_type": "execute_result"
    },
    {
     "data": {
      "image/png": "[encoded data removed]",
      "text/plain": [
       "<matplotlib.figure.Figure at 0x115483810>"
      ]
     },
     "metadata": {},
     "output_type": "display_data"
    }
   ],
   "source": [
    "morning_df.plot(kind=\"scatter\",x=\"Submetered\",y=\"FHMM\")\n",
    "x_line = morning_df[\"Submetered\"]\n",
    "plt.plot(x_line, 1.2*x_line)\n",
    "plt.plot(x_line, 0.8*x_line)"
   ]
  },
  {
   "cell_type": "code",
   "execution_count": 13,
   "metadata": {
    "collapsed": false
   },
   "outputs": [],
   "source": [
    "Wm_to_kwh = 1.66666667 * 1e-5\n",
    "def wm_to_kwh_per_month(wm, mins=24*30*60):\n",
    "    return wm * Wm_to_kwh / (mins * 1.0 / (1440 * 30))\n",
    "\n",
    "evening_energy = pd.DataFrame(evening_energy).apply(wm_to_kwh_per_month)\n"
   ]
  },
  {
   "cell_type": "code",
   "execution_count": 14,
   "metadata": {
    "collapsed": false
   },
   "outputs": [
    {
     "data": {
      "text/plain": [
       "<matplotlib.axes._subplots.AxesSubplot at 0x1156b0210>"
      ]
     },
     "execution_count": 14,
     "metadata": {},
     "output_type": "execute_result"
    },
    {
     "data": {
      "image/png": "[encoded data removed]",
      "text/plain": [
       "<matplotlib.figure.Figure at 0x115017410>"
      ]
     },
     "metadata": {},
     "output_type": "display_data"
    }
   ],
   "source": [
    "(evening_energy[\"FHMM\"] - evening_energy[\"Submetered\"]).abs().div(evening_energy[\"Submetered\"]).mul(100).plot(kind=\"box\")\n",
    "#x_line = evening_energy[\"Submetered\"]\n",
    "#plt.plot(x_line, 1.2*x_line)\n",
    "#plt.plot(x_line, 0.8*x_line)"
   ]
  },
  {
   "cell_type": "code",
   "execution_count": 74,
   "metadata": {
    "collapsed": false
   },
   "outputs": [],
   "source": [
    "out = {\"CO\":{}, \"FHMM\":{},\"Hart\":{}}\n",
    "for algo in [\"CO\", \"FHMM\", \"Hart\"]:\n",
    "    out[algo][\"Morning\"] = (morning_mins[algo] - morning_mins[\"Submetered\"]).abs().div(morning_mins[\"Submetered\"]).mul(100).median()\n",
    "    out[algo][\"Night\"] = (night_mins[algo] - night_mins[\"Submetered\"]).abs().div(night_mins[\"Submetered\"]).mul(100).median()\n",
    "#plt.ylim((0,200))\n",
    "#x_line = evening_energy[\"Submetered\"]\n",
    "#plt.plot(x_line, 1.2*x_line)\n",
    "#plt.plot(x_line, 0.8*x_line)"
   ]
  },
  {
   "cell_type": "code",
   "execution_count": 16,
   "metadata": {
    "collapsed": true
   },
   "outputs": [],
   "source": [
    "\n",
    "tableau20 = [(31, 119, 180), (174, 199, 232), (255, 127, 14), (255, 187, 120),\n",
    "             (44, 160, 44), (152, 223, 138), (214, 39, 40), (255, 152, 150),\n",
    "             (148, 103, 189), (197, 176, 213), (140, 86, 75), (196, 156, 148),\n",
    "             (227, 119, 194), (247, 182, 210), (127, 127, 127), (199, 199, 199),\n",
    "             (188, 189, 34), (219, 219, 141), (23, 190, 207), (158, 218, 229)]\n",
    " \n",
    "# Scale the RGB values to the [0, 1] range, which is the format matplotlib accepts.\n",
    "for i in range(len(tableau20)):\n",
    "    r, g, b = tableau20[i]\n",
    "    tableau20[i] = (r / 255., g / 255., b / 255.)"
   ]
  },
  {
   "cell_type": "code",
   "execution_count": 93,
   "metadata": {
    "collapsed": false
   },
   "outputs": [
    {
     "name": "stdout",
     "output_type": "stream",
     "text": [
      "\u001b[33mYou are using pip version 7.0.3, however version 7.1.0 is available.\n",
      "You should consider upgrading via the 'pip install --upgrade pip' command.\u001b[0m\n",
      "Collecting prettyplotlib\n",
      "  Downloading prettyplotlib-0.1.7.tar.gz (697kB)\n",
      "\u001b[K    100% |████████████████████████████████| 700kB 302kB/s \n",
      "\u001b[?25hRequirement already satisfied (use --upgrade to upgrade): matplotlib>=1.2.1 in /Users/nipunbatra/anaconda/lib/python2.7/site-packages (from prettyplotlib)\n",
      "Collecting brewer2mpl>=1.3.1 (from prettyplotlib)\n",
      "  Downloading brewer2mpl-1.4.1-py2.py3-none-any.whl\n",
      "Installing collected packages: brewer2mpl, prettyplotlib\n",
      "  Running setup.py install for prettyplotlib\n",
      "Successfully installed brewer2mpl-1.4.1 prettyplotlib-0.1.7\n"
     ]
    }
   ],
   "source": [
    "!pip install prettyplotlib"
   ]
  },
  {
   "cell_type": "code",
   "execution_count": 17,
   "metadata": {
    "collapsed": false
   },
   "outputs": [],
   "source": [
    "from common_functions import latexify, format_axes"
   ]
  },
  {
   "cell_type": "code",
   "execution_count": 72,
   "metadata": {
    "collapsed": true
   },
   "outputs": [],
   "source": [
    "latexify(fig_height=1.5)"
   ]
  },
  {
   "cell_type": "code",
   "execution_count": 79,
   "metadata": {
    "collapsed": false
   },
   "outputs": [
    {
     "data": {
      "image/png": "[encoded data removed]",
      "text/plain": [
       "<matplotlib.figure.Figure at 0x1174bab90>"
      ]
     },
     "metadata": {},
     "output_type": "display_data"
    }
   ],
   "source": [
    "ax = pd.DataFrame(out).T.plot(kind=\"barh\",rot=0, colors=[tableau20[0], tableau20[4]])\n",
    "format_axes(ax)\n",
    "#plt.xlabel(r\"Mean absolute error\")\n",
    "plt.xlabel(\"Error in Prediction of Minutes of HVAC Usage (\\%)\")\n",
    "plt.xlabel(\"$\\\\frac{|Submetered\\,mins-Predicted\\,mins| \\\\times 100 \\%}{Submetered\\,\\,mins}$\")\n",
    "plt.legend(loc='upper left', ncol=1)\n",
    "plt.tight_layout()\n",
    "plt.savefig(\"/Users/nipunbatra/git/nilm-actionable/figures/hvac/mins.pdf\", bbox_inches=\"tight\")"
   ]
  },
  {
   "cell_type": "code",
   "execution_count": 52,
   "metadata": {
    "collapsed": false
   },
   "outputs": [
    {
     "data": {
      "image/png": "[encoded data removed]",
      "text/plain": [
       "<matplotlib.figure.Figure at 0x118962650>"
      ]
     },
     "metadata": {},
     "output_type": "display_data"
    }
   ],
   "source": [
    "latexify(fig_height=1.7)\n",
    "ax = pd.DataFrame(out).T.plot(kind=\"bar\",rot=0)\n",
    "format_axes(ax)\n",
    "plt.xlabel(r\"Mean absolute error\")\n",
    "plt.ylabel(\"\\% Mean absolute error\")\n",
    "plt.legend(loc=3, ncol=2)\n",
    "plt.tight_layout()"
   ]
  },
  {
   "cell_type": "code",
   "execution_count": 74,
   "metadata": {
    "collapsed": false
   },
   "outputs": [
    {
     "data": {
      "text/plain": [
       "count     58.000000\n",
       "mean      26.223560\n",
       "std       33.541426\n",
       "min        0.013240\n",
       "25%        3.693213\n",
       "50%       11.737220\n",
       "75%       35.355011\n",
       "max      151.521859\n",
       "Name: sleep_mins, dtype: float64"
      ]
     },
     "execution_count": 74,
     "metadata": {},
     "output_type": "execute_result"
    }
   ],
   "source": [
    "(night_mins[\"CO\"] - night_mins[\"Submetered\"]).abs().div(night_mins[\"Submetered\"]).mul(100).describe()\n",
    "\n"
   ]
  },
  {
   "cell_type": "code",
   "execution_count": 56,
   "metadata": {
    "collapsed": false
   },
   "outputs": [],
   "source": [
    "from common_functions import latexify, format_axes"
   ]
  },
  {
   "cell_type": "code",
   "execution_count": null,
   "metadata": {
    "collapsed": true
   },
   "outputs": [],
   "source": []
  },
  {
   "cell_type": "code",
   "execution_count": 63,
   "metadata": {
    "collapsed": false
   },
   "outputs": [
    {
     "data": {
      "image/png": "[encoded data removed]",
      "text/plain": [
       "<matplotlib.figure.Figure at 0x1194e5f10>"
      ]
     },
     "metadata": {},
     "output_type": "display_data"
    }
   ],
   "source": [
    "latexify(fig_height=1.4)\n",
    "ax = pd.DataFrame(baseline_percent).plot(kind=\"box\", color=\"gray\",sym='');\n",
    "format_axes(plt.gca())\n",
    "plt.ylabel(\"Baseline duty percentage\")\n",
    "plt.grid(False)\n",
    "plt.savefig(\"/Users/nipunbatra/git/nilm-actionable/figures/fridge/baseline_duty_percent.pdf\", bbox_inches=\"tight\")\n"
   ]
  },
  {
   "cell_type": "code",
   "execution_count": 16,
   "metadata": {
    "collapsed": false
   },
   "outputs": [
    {
     "data": {
      "text/plain": [
       "<matplotlib.axes._subplots.AxesSubplot at 0x114a44790>"
      ]
     },
     "execution_count": 16,
     "metadata": {},
     "output_type": "execute_result"
    },
    {
     "data": {
      "image/png": "[encoded data removed]",
      "text/plain": [
       "<matplotlib.figure.Figure at 0x113f7c510>"
      ]
     },
     "metadata": {},
     "output_type": "display_data"
    }
   ],
   "source": [
    "df.baseline_duty_percent.plot(kind=\"box\")"
   ]
  },
  {
   "cell_type": "code",
   "execution_count": null,
   "metadata": {
    "collapsed": true
   },
   "outputs": [],
   "source": []
  }
 ],
 "metadata": {
  "kernelspec": {
   "display_name": "Python 2",
   "language": "python",
   "name": "python2"
  },
  "language_info": {
   "codemirror_mode": {
    "name": "ipython",
    "version": 2
   },
   "file_extension": ".py",
   "mimetype": "text/x-python",
   "name": "python",
   "nbconvert_exporter": "python",
   "pygments_lexer": "ipython2",
   "version": "2.7.10"
  }
 },
 "nbformat": 4,
 "nbformat_minor": 0
}
