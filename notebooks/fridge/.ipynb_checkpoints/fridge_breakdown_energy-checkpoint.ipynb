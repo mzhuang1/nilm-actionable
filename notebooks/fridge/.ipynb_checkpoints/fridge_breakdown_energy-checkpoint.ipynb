{
 "cells": [
  {
   "cell_type": "code",
   "execution_count": 1,
   "metadata": {
    "collapsed": false
   },
   "outputs": [
    {
     "name": "stderr",
     "output_type": "stream",
     "text": [
      "Vendor:  Continuum Analytics, Inc.\n",
      "Package: mkl\n",
      "Message: trial mode expires in 30 days\n"
     ]
    }
   ],
   "source": [
    "import numpy as np\n",
    "import pandas as pd\n",
    "from os.path import join\n",
    "import os\n",
    "from pylab import rcParams\n",
    "import matplotlib.pyplot as plt\n",
    "%matplotlib qt\n",
    "\n",
    "import nilmtk\n",
    "from nilmtk import DataSet, TimeFrame, MeterGroup, HDFDataStore\n",
    "from nilmtk.disaggregate import CombinatorialOptimisation, FHMM\n",
    "from nilmtk.utils import print_dict\n",
    "from nilmtk.metrics import f1_score\n",
    "\n",
    "import warnings\n",
    "warnings.filterwarnings(\"ignore\")"
   ]
  },
  {
   "cell_type": "code",
   "execution_count": 2,
   "metadata": {
    "collapsed": true
   },
   "outputs": [],
   "source": [
    "import sys"
   ]
  },
  {
   "cell_type": "code",
   "execution_count": 3,
   "metadata": {
    "collapsed": false
   },
   "outputs": [
    {
     "name": "stdout",
     "output_type": "stream",
     "text": [
      "usage: cp [-R [-H | -L | -P]] [-fi | -n] [-apvX] source_file target_file\r\n",
      "       cp [-R [-H | -L | -P]] [-fi | -n] [-apvX] source_file ... target_directory\r\n"
     ]
    }
   ],
   "source": [
    "!cp ../../code/common/"
   ]
  },
  {
   "cell_type": "code",
   "execution_count": 13,
   "metadata": {
    "collapsed": true
   },
   "outputs": [],
   "source": [
    "sys.path.append(\"../../code/common/\")\n",
    "sys.path.append(\"../../code/fridge/\")"
   ]
  },
  {
   "cell_type": "code",
   "execution_count": 5,
   "metadata": {
    "collapsed": false
   },
   "outputs": [],
   "source": [
    "ds = DataSet(\"/Users/nipunbatra/Downloads/wikienergy-2.h5\")\n",
    "fridges = nilmtk.global_meter_group.select_using_appliances(type='fridge')"
   ]
  },
  {
   "cell_type": "code",
   "execution_count": 6,
   "metadata": {
    "collapsed": false
   },
   "outputs": [],
   "source": [
    "fridges_id_building_id = {i:fridges.meters[i].building() for i in range(len(fridges.meters))}"
   ]
  },
  {
   "cell_type": "code",
   "execution_count": 7,
   "metadata": {
    "collapsed": false
   },
   "outputs": [],
   "source": [
    "fridge_id_building_id_ser = pd.Series(fridges_id_building_id)"
   ]
  },
  {
   "cell_type": "code",
   "execution_count": 8,
   "metadata": {
    "collapsed": false
   },
   "outputs": [
    {
     "data": {
      "text/plain": [
       "0      1\n",
       "1      1\n",
       "2     10\n",
       "3    101\n",
       "4    102\n",
       "dtype: int64"
      ]
     },
     "execution_count": 8,
     "metadata": {},
     "output_type": "execute_result"
    }
   ],
   "source": [
    "fridge_id_building_id_ser.head()"
   ]
  },
  {
   "cell_type": "code",
   "execution_count": 14,
   "metadata": {
    "collapsed": false
   },
   "outputs": [],
   "source": [
    "from fridge_compressor_durations_optimised import compressor_powers, defrost_power"
   ]
  },
  {
   "cell_type": "code",
   "execution_count": 15,
   "metadata": {
    "collapsed": false
   },
   "outputs": [],
   "source": [
    "fridge_ids_to_consider = compressor_powers.keys()"
   ]
  },
  {
   "cell_type": "code",
   "execution_count": 16,
   "metadata": {
    "collapsed": false
   },
   "outputs": [],
   "source": [
    "Wm_to_kwh = 1.66666667 * 1e-5\n",
    "\n",
    "def wm_to_kwh_per_month(wm, mins):\n",
    "    return wm * Wm_to_kwh / (mins * 1.0 / (1440 * 30))"
   ]
  },
  {
   "cell_type": "code",
   "execution_count": 17,
   "metadata": {
    "collapsed": false
   },
   "outputs": [],
   "source": [
    "building_ids_to_consider = fridge_id_building_id_ser[fridge_ids_to_consider]"
   ]
  },
  {
   "cell_type": "code",
   "execution_count": 18,
   "metadata": {
    "collapsed": false
   },
   "outputs": [
    {
     "data": {
      "text/plain": [
       "1       1\n",
       "2      10\n",
       "8     105\n",
       "11     11\n",
       "13    112\n",
       "dtype: int64"
      ]
     },
     "execution_count": 18,
     "metadata": {},
     "output_type": "execute_result"
    }
   ],
   "source": [
    "\n",
    "building_ids_to_consider.head()"
   ]
  },
  {
   "cell_type": "code",
   "execution_count": 19,
   "metadata": {
    "collapsed": true
   },
   "outputs": [],
   "source": [
    "import glob"
   ]
  },
  {
   "cell_type": "code",
   "execution_count": 20,
   "metadata": {
    "collapsed": false
   },
   "outputs": [],
   "source": [
    "list_of_files = glob.glob(\"output/*.h5\")"
   ]
  },
  {
   "cell_type": "code",
   "execution_count": 21,
   "metadata": {
    "collapsed": false
   },
   "outputs": [
    {
     "data": {
      "text/plain": [
       "53"
      ]
     },
     "execution_count": 21,
     "metadata": {},
     "output_type": "execute_result"
    }
   ],
   "source": [
    "len(list_of_files)"
   ]
  },
  {
   "cell_type": "code",
   "execution_count": 22,
   "metadata": {
    "collapsed": false
   },
   "outputs": [
    {
     "name": "stdout",
     "output_type": "stream",
     "text": [
      "1\n",
      "11\n",
      "13\n",
      "139\n",
      "14\n",
      "140\n",
      "142\n",
      "144\n",
      "145\n",
      "146\n",
      "15\n",
      "18\n",
      "2\n",
      "22\n",
      "25\n",
      "29\n",
      "33\n",
      "34\n",
      "35\n",
      "37\n",
      "42\n",
      "43\n",
      "44\n",
      "45\n",
      "46\n",
      "47\n",
      "50\n",
      "51\n",
      "52\n",
      "54\n",
      "55\n",
      "57\n",
      "58\n",
      "59\n",
      "60\n",
      "61\n",
      "67\n",
      "68\n",
      "72\n",
      "75\n",
      "76\n",
      "78\n",
      "79\n",
      "8\n",
      "83\n",
      "84\n",
      "87\n",
      "88\n",
      "89\n",
      "92\n",
      "93\n",
      "95\n",
      "97\n"
     ]
    }
   ],
   "source": [
    "out = {}\n",
    "for f in list_of_files:\n",
    "    print f.split(\"/\")[1].split(\".\")[0]\n",
    "    df = pd.HDFStore(f)['/disag']\n",
    "    df_energy = wm_to_kwh_per_month(df.sum(), len(df))\n",
    "    out[f.split(\"/\")[1].split(\".\")[0]] = df_energy.to_dict()\n",
    "    #out[f.split(\"/\")[1].split(\".\")[0]] = df.sum()"
   ]
  },
  {
   "cell_type": "code",
   "execution_count": 131,
   "metadata": {
    "collapsed": false
   },
   "outputs": [
    {
     "data": {
      "text/plain": [
       "{'1': {'CO': 105.62622001774334,\n",
       "  'FHMM': 99.891341005845064,\n",
       "  'GT': 25.810942111659323,\n",
       "  'Hart': 38.951076105778284},\n",
       " '11': {'CO': 101.90734128791553,\n",
       "  'FHMM': 52.027545139421349,\n",
       "  'GT': 72.99505003042546,\n",
       "  'Hart': 55.851776322809364},\n",
       " '13': {'CO': 68.663017204219258,\n",
       "  'FHMM': 67.137809674743892,\n",
       "  'GT': 60.774502233046043,\n",
       "  'Hart': 45.48959253456848},\n",
       " '14': {'CO': 158.37892629379724,\n",
       "  'FHMM': 111.07427432396993,\n",
       "  'GT': 53.151874414376358,\n",
       "  'Hart': 47.456253905252368},\n",
       " '15': {'CO': 80.682186594066749,\n",
       "  'FHMM': 67.425602830702687,\n",
       "  'GT': 58.815701631011997,\n",
       "  'Hart': 43.827550596922094},\n",
       " '18': {'CO': 86.268321898404437,\n",
       "  'FHMM': 31.271833797084909,\n",
       "  'GT': 47.506240194977565,\n",
       "  'Hart': 44.864048308181204},\n",
       " '2': {'CO': 88.176648038313274,\n",
       "  'FHMM': 44.928283226261129,\n",
       "  'GT': 50.069372194444036,\n",
       "  'Hart': 37.147575737206999},\n",
       " '22': {'CO': 88.448439141229173,\n",
       "  'FHMM': 53.52800245917566,\n",
       "  'GT': 61.64006554160828,\n",
       "  'Hart': 48.28692929409678},\n",
       " '25': {'CO': 97.472770367128049,\n",
       "  'FHMM': 55.571486540515068,\n",
       "  'GT': 56.101871149892787,\n",
       "  'Hart': 103.09721551702336},\n",
       " '29': {'FHMM': 5.5715743776656706e+247, 'GT': 1.5937877451098807e+59},\n",
       " '33': {'FHMM': 5.5715743776656706e+247, 'GT': 1.5937877451098807e+59},\n",
       " '34': {'CO': 33.197253966686681,\n",
       "  'FHMM': 71.35679758478345,\n",
       "  'GT': 52.766583835480425,\n",
       "  'Hart': 41.812605239912529},\n",
       " '35': {'CO': 172.06912473084139,\n",
       "  'FHMM': 63.710804809609812,\n",
       "  'GT': 69.287725381597184,\n",
       "  'Hart': 52.97058758457915},\n",
       " '37': {'CO': 365.67668547798218,\n",
       "  'FHMM': 67.022016185333825,\n",
       "  'GT': 51.62086166957814,\n",
       "  'Hart': 39.470841784420251},\n",
       " '42': {'CO': 63.745275393058108,\n",
       "  'FHMM': 45.46530693140965,\n",
       "  'GT': 38.2411927059959,\n",
       "  'Hart': 47.564493656102393},\n",
       " '43': {'CO': 113.34236547205882,\n",
       "  'FHMM': 45.187079432804971,\n",
       "  'GT': 28.968253978002082,\n",
       "  'Hart': 32.19402972482613},\n",
       " '44': {'CO': 60.034060282878905,\n",
       "  'FHMM': 44.619869620102122,\n",
       "  'GT': 70.634012526648121,\n",
       "  'Hart': 105.45645622811278},\n",
       " '45': {'CO': 64.891953307901844,\n",
       "  'FHMM': 60.853541715635664,\n",
       "  'GT': 54.975272716944417,\n",
       "  'Hart': 41.012242129838661},\n",
       " '46': {'CO': 72.455644680827049,\n",
       "  'FHMM': 109.96163273797762,\n",
       "  'GT': 87.813677751474017,\n",
       "  'Hart': 51.537063996199691},\n",
       " '47': {'FHMM': 1.3676299432541776e+248, 'GT': 25.581605409876758},\n",
       " '50': {'CO': 62.948023426581464,\n",
       "  'FHMM': 66.244928558223506,\n",
       "  'GT': 82.161917876887458,\n",
       "  'Hart': 66.24136950714967},\n",
       " '51': {'CO': 92.541235481753347,\n",
       "  'FHMM': 91.763576727647987,\n",
       "  'GT': 43.526326750536313,\n",
       "  'Hart': 38.193657787225462},\n",
       " '52': {'CO': 153.1976150473682,\n",
       "  'FHMM': 70.099167013605495,\n",
       "  'GT': 69.837207113219151,\n",
       "  'Hart': 48.939344692930447},\n",
       " '54': {'CO': 59.335143359082636,\n",
       "  'FHMM': 57.78641368436314,\n",
       "  'GT': 49.885326915772417,\n",
       "  'Hart': 28.632102815492026},\n",
       " '55': {'CO': 31.666107856566196,\n",
       "  'FHMM': 78.073964029059951,\n",
       "  'GT': 61.366402298443489,\n",
       "  'Hart': 34.932364133886487},\n",
       " '57': {'CO': 34.435539126920659,\n",
       "  'FHMM': 83.307608171172433,\n",
       "  'GT': 48.584533440302891,\n",
       "  'Hart': 43.265809454583213},\n",
       " '58': {'CO': 74.667171541678925,\n",
       "  'FHMM': 83.811227128794101,\n",
       "  'GT': 96.267614812429017,\n",
       "  'Hart': 108.08500729090494},\n",
       " '59': {'FHMM': 5.5715743776656706e+247, 'GT': 1.5937877451098807e+59},\n",
       " '60': {'CO': 109.20266840414928,\n",
       "  'FHMM': 42.991722829878036,\n",
       "  'GT': 40.739650571197963,\n",
       "  'Hart': 80.237867081955358},\n",
       " '61': {'CO': 89.877986912330996,\n",
       "  'FHMM': 54.384384239311409,\n",
       "  'GT': 38.48121435873901,\n",
       "  'Hart': 75.832516000908853},\n",
       " '67': {'CO': 66.582223907052935,\n",
       "  'FHMM': 117.4849529513135,\n",
       "  'GT': 114.59199100014285,\n",
       "  'Hart': 47.800966109050826},\n",
       " '68': {'CO': 100.73034014604927,\n",
       "  'FHMM': 69.907348747932915,\n",
       "  'GT': 38.044997657338072,\n",
       "  'Hart': 56.681120655162673},\n",
       " '8': {'CO': 88.371820313093068,\n",
       "  'FHMM': 65.959800936785541,\n",
       "  'GT': 61.558743209171986,\n",
       "  'Hart': 46.194299877390158}}"
      ]
     },
     "execution_count": 131,
     "metadata": {},
     "output_type": "execute_result"
    }
   ],
   "source": [
    "out"
   ]
  },
  {
   "cell_type": "code",
   "execution_count": 23,
   "metadata": {
    "collapsed": false
   },
   "outputs": [
    {
     "data": {
      "text/html": [
       "<div>\n",
       "<table border=\"1\" class=\"dataframe\">\n",
       "  <thead>\n",
       "    <tr style=\"text-align: right;\">\n",
       "      <th></th>\n",
       "      <th>CO</th>\n",
       "      <th>FHMM</th>\n",
       "      <th>GT</th>\n",
       "      <th>Hart</th>\n",
       "    </tr>\n",
       "  </thead>\n",
       "  <tbody>\n",
       "    <tr>\n",
       "      <th>1</th>\n",
       "      <td>105.626220</td>\n",
       "      <td>99.891341</td>\n",
       "      <td>25.810942</td>\n",
       "      <td>38.951076</td>\n",
       "    </tr>\n",
       "    <tr>\n",
       "      <th>11</th>\n",
       "      <td>101.907341</td>\n",
       "      <td>52.027545</td>\n",
       "      <td>72.995050</td>\n",
       "      <td>55.851776</td>\n",
       "    </tr>\n",
       "    <tr>\n",
       "      <th>13</th>\n",
       "      <td>68.663017</td>\n",
       "      <td>67.137810</td>\n",
       "      <td>60.774502</td>\n",
       "      <td>45.489593</td>\n",
       "    </tr>\n",
       "    <tr>\n",
       "      <th>139</th>\n",
       "      <td>67.847249</td>\n",
       "      <td>52.004537</td>\n",
       "      <td>53.040532</td>\n",
       "      <td>20.788166</td>\n",
       "    </tr>\n",
       "    <tr>\n",
       "      <th>14</th>\n",
       "      <td>158.378926</td>\n",
       "      <td>111.074274</td>\n",
       "      <td>53.151874</td>\n",
       "      <td>47.456254</td>\n",
       "    </tr>\n",
       "    <tr>\n",
       "      <th>140</th>\n",
       "      <td>49.436779</td>\n",
       "      <td>88.759149</td>\n",
       "      <td>41.632982</td>\n",
       "      <td>36.723946</td>\n",
       "    </tr>\n",
       "    <tr>\n",
       "      <th>142</th>\n",
       "      <td>68.848348</td>\n",
       "      <td>59.420448</td>\n",
       "      <td>52.613048</td>\n",
       "      <td>34.004484</td>\n",
       "    </tr>\n",
       "    <tr>\n",
       "      <th>144</th>\n",
       "      <td>89.611290</td>\n",
       "      <td>107.779074</td>\n",
       "      <td>98.749133</td>\n",
       "      <td>91.686818</td>\n",
       "    </tr>\n",
       "    <tr>\n",
       "      <th>145</th>\n",
       "      <td>144.820143</td>\n",
       "      <td>70.406749</td>\n",
       "      <td>54.208218</td>\n",
       "      <td>42.325823</td>\n",
       "    </tr>\n",
       "    <tr>\n",
       "      <th>146</th>\n",
       "      <td>97.452449</td>\n",
       "      <td>74.230816</td>\n",
       "      <td>78.077201</td>\n",
       "      <td>48.503105</td>\n",
       "    </tr>\n",
       "    <tr>\n",
       "      <th>15</th>\n",
       "      <td>80.682187</td>\n",
       "      <td>67.425603</td>\n",
       "      <td>58.815702</td>\n",
       "      <td>43.827551</td>\n",
       "    </tr>\n",
       "    <tr>\n",
       "      <th>18</th>\n",
       "      <td>86.268322</td>\n",
       "      <td>31.271834</td>\n",
       "      <td>47.506240</td>\n",
       "      <td>44.864048</td>\n",
       "    </tr>\n",
       "    <tr>\n",
       "      <th>2</th>\n",
       "      <td>88.176648</td>\n",
       "      <td>44.928283</td>\n",
       "      <td>50.069372</td>\n",
       "      <td>37.147576</td>\n",
       "    </tr>\n",
       "    <tr>\n",
       "      <th>22</th>\n",
       "      <td>88.448439</td>\n",
       "      <td>53.528002</td>\n",
       "      <td>61.640066</td>\n",
       "      <td>48.286929</td>\n",
       "    </tr>\n",
       "    <tr>\n",
       "      <th>25</th>\n",
       "      <td>97.472770</td>\n",
       "      <td>55.571487</td>\n",
       "      <td>56.101871</td>\n",
       "      <td>103.097216</td>\n",
       "    </tr>\n",
       "    <tr>\n",
       "      <th>29</th>\n",
       "      <td>34.456411</td>\n",
       "      <td>35.869625</td>\n",
       "      <td>17.514481</td>\n",
       "      <td>38.794087</td>\n",
       "    </tr>\n",
       "    <tr>\n",
       "      <th>33</th>\n",
       "      <td>93.483385</td>\n",
       "      <td>56.818888</td>\n",
       "      <td>39.058786</td>\n",
       "      <td>39.557384</td>\n",
       "    </tr>\n",
       "    <tr>\n",
       "      <th>34</th>\n",
       "      <td>33.197254</td>\n",
       "      <td>71.356798</td>\n",
       "      <td>52.766584</td>\n",
       "      <td>41.812605</td>\n",
       "    </tr>\n",
       "    <tr>\n",
       "      <th>35</th>\n",
       "      <td>172.069125</td>\n",
       "      <td>63.710805</td>\n",
       "      <td>69.287725</td>\n",
       "      <td>52.970588</td>\n",
       "    </tr>\n",
       "    <tr>\n",
       "      <th>37</th>\n",
       "      <td>365.676685</td>\n",
       "      <td>67.022016</td>\n",
       "      <td>51.620862</td>\n",
       "      <td>39.470842</td>\n",
       "    </tr>\n",
       "    <tr>\n",
       "      <th>42</th>\n",
       "      <td>63.745275</td>\n",
       "      <td>45.465307</td>\n",
       "      <td>38.241193</td>\n",
       "      <td>47.564494</td>\n",
       "    </tr>\n",
       "    <tr>\n",
       "      <th>43</th>\n",
       "      <td>113.342365</td>\n",
       "      <td>45.187079</td>\n",
       "      <td>28.968254</td>\n",
       "      <td>32.194030</td>\n",
       "    </tr>\n",
       "    <tr>\n",
       "      <th>44</th>\n",
       "      <td>60.034060</td>\n",
       "      <td>44.619870</td>\n",
       "      <td>70.634013</td>\n",
       "      <td>105.456456</td>\n",
       "    </tr>\n",
       "    <tr>\n",
       "      <th>45</th>\n",
       "      <td>64.891953</td>\n",
       "      <td>60.853542</td>\n",
       "      <td>54.975273</td>\n",
       "      <td>41.012242</td>\n",
       "    </tr>\n",
       "    <tr>\n",
       "      <th>46</th>\n",
       "      <td>72.455645</td>\n",
       "      <td>109.961633</td>\n",
       "      <td>87.813678</td>\n",
       "      <td>51.537064</td>\n",
       "    </tr>\n",
       "    <tr>\n",
       "      <th>47</th>\n",
       "      <td>106.722337</td>\n",
       "      <td>57.596509</td>\n",
       "      <td>50.899903</td>\n",
       "      <td>47.091108</td>\n",
       "    </tr>\n",
       "    <tr>\n",
       "      <th>50</th>\n",
       "      <td>62.948023</td>\n",
       "      <td>66.244929</td>\n",
       "      <td>82.161918</td>\n",
       "      <td>66.241370</td>\n",
       "    </tr>\n",
       "    <tr>\n",
       "      <th>51</th>\n",
       "      <td>92.541235</td>\n",
       "      <td>91.763577</td>\n",
       "      <td>43.526327</td>\n",
       "      <td>38.193658</td>\n",
       "    </tr>\n",
       "    <tr>\n",
       "      <th>52</th>\n",
       "      <td>153.197615</td>\n",
       "      <td>70.099167</td>\n",
       "      <td>69.837207</td>\n",
       "      <td>48.939345</td>\n",
       "    </tr>\n",
       "    <tr>\n",
       "      <th>54</th>\n",
       "      <td>59.335143</td>\n",
       "      <td>57.786414</td>\n",
       "      <td>49.885327</td>\n",
       "      <td>28.632103</td>\n",
       "    </tr>\n",
       "    <tr>\n",
       "      <th>55</th>\n",
       "      <td>31.666108</td>\n",
       "      <td>78.073964</td>\n",
       "      <td>61.366402</td>\n",
       "      <td>34.932364</td>\n",
       "    </tr>\n",
       "    <tr>\n",
       "      <th>57</th>\n",
       "      <td>34.435539</td>\n",
       "      <td>83.307608</td>\n",
       "      <td>48.584533</td>\n",
       "      <td>43.265809</td>\n",
       "    </tr>\n",
       "    <tr>\n",
       "      <th>58</th>\n",
       "      <td>74.667172</td>\n",
       "      <td>83.811227</td>\n",
       "      <td>96.267615</td>\n",
       "      <td>108.085007</td>\n",
       "    </tr>\n",
       "    <tr>\n",
       "      <th>59</th>\n",
       "      <td>34.042350</td>\n",
       "      <td>20.573472</td>\n",
       "      <td>39.922981</td>\n",
       "      <td>37.290176</td>\n",
       "    </tr>\n",
       "    <tr>\n",
       "      <th>60</th>\n",
       "      <td>109.202668</td>\n",
       "      <td>42.991723</td>\n",
       "      <td>40.739651</td>\n",
       "      <td>80.237867</td>\n",
       "    </tr>\n",
       "    <tr>\n",
       "      <th>61</th>\n",
       "      <td>89.877987</td>\n",
       "      <td>54.384384</td>\n",
       "      <td>38.481214</td>\n",
       "      <td>75.832516</td>\n",
       "    </tr>\n",
       "    <tr>\n",
       "      <th>67</th>\n",
       "      <td>66.582224</td>\n",
       "      <td>117.484953</td>\n",
       "      <td>114.591991</td>\n",
       "      <td>47.800966</td>\n",
       "    </tr>\n",
       "    <tr>\n",
       "      <th>68</th>\n",
       "      <td>100.730340</td>\n",
       "      <td>69.907349</td>\n",
       "      <td>38.044998</td>\n",
       "      <td>56.681121</td>\n",
       "    </tr>\n",
       "    <tr>\n",
       "      <th>72</th>\n",
       "      <td>196.230859</td>\n",
       "      <td>59.014186</td>\n",
       "      <td>46.622118</td>\n",
       "      <td>38.447797</td>\n",
       "    </tr>\n",
       "    <tr>\n",
       "      <th>75</th>\n",
       "      <td>96.735379</td>\n",
       "      <td>36.428647</td>\n",
       "      <td>41.353732</td>\n",
       "      <td>48.064555</td>\n",
       "    </tr>\n",
       "    <tr>\n",
       "      <th>76</th>\n",
       "      <td>71.270860</td>\n",
       "      <td>55.595885</td>\n",
       "      <td>60.962966</td>\n",
       "      <td>72.669792</td>\n",
       "    </tr>\n",
       "    <tr>\n",
       "      <th>78</th>\n",
       "      <td>113.700945</td>\n",
       "      <td>140.681900</td>\n",
       "      <td>42.608179</td>\n",
       "      <td>81.843290</td>\n",
       "    </tr>\n",
       "    <tr>\n",
       "      <th>79</th>\n",
       "      <td>56.130553</td>\n",
       "      <td>44.455939</td>\n",
       "      <td>40.819684</td>\n",
       "      <td>45.555397</td>\n",
       "    </tr>\n",
       "    <tr>\n",
       "      <th>8</th>\n",
       "      <td>88.371820</td>\n",
       "      <td>65.959801</td>\n",
       "      <td>61.558743</td>\n",
       "      <td>46.194300</td>\n",
       "    </tr>\n",
       "    <tr>\n",
       "      <th>83</th>\n",
       "      <td>48.501537</td>\n",
       "      <td>47.932546</td>\n",
       "      <td>26.033996</td>\n",
       "      <td>27.604311</td>\n",
       "    </tr>\n",
       "    <tr>\n",
       "      <th>84</th>\n",
       "      <td>126.077453</td>\n",
       "      <td>76.108700</td>\n",
       "      <td>59.979874</td>\n",
       "      <td>51.733321</td>\n",
       "    </tr>\n",
       "    <tr>\n",
       "      <th>87</th>\n",
       "      <td>86.259272</td>\n",
       "      <td>49.099868</td>\n",
       "      <td>39.939168</td>\n",
       "      <td>63.635972</td>\n",
       "    </tr>\n",
       "    <tr>\n",
       "      <th>88</th>\n",
       "      <td>42.984367</td>\n",
       "      <td>48.705554</td>\n",
       "      <td>62.047842</td>\n",
       "      <td>63.934258</td>\n",
       "    </tr>\n",
       "    <tr>\n",
       "      <th>89</th>\n",
       "      <td>29.286757</td>\n",
       "      <td>69.465043</td>\n",
       "      <td>41.521233</td>\n",
       "      <td>35.044110</td>\n",
       "    </tr>\n",
       "    <tr>\n",
       "      <th>92</th>\n",
       "      <td>153.896351</td>\n",
       "      <td>138.106665</td>\n",
       "      <td>112.754362</td>\n",
       "      <td>53.575802</td>\n",
       "    </tr>\n",
       "    <tr>\n",
       "      <th>93</th>\n",
       "      <td>104.204398</td>\n",
       "      <td>58.332536</td>\n",
       "      <td>48.014549</td>\n",
       "      <td>51.843175</td>\n",
       "    </tr>\n",
       "    <tr>\n",
       "      <th>95</th>\n",
       "      <td>46.867910</td>\n",
       "      <td>83.698608</td>\n",
       "      <td>75.578760</td>\n",
       "      <td>47.262587</td>\n",
       "    </tr>\n",
       "  </tbody>\n",
       "</table>\n",
       "</div>"
      ],
      "text/plain": [
       "             CO        FHMM          GT        Hart\n",
       "1    105.626220   99.891341   25.810942   38.951076\n",
       "11   101.907341   52.027545   72.995050   55.851776\n",
       "13    68.663017   67.137810   60.774502   45.489593\n",
       "139   67.847249   52.004537   53.040532   20.788166\n",
       "14   158.378926  111.074274   53.151874   47.456254\n",
       "140   49.436779   88.759149   41.632982   36.723946\n",
       "142   68.848348   59.420448   52.613048   34.004484\n",
       "144   89.611290  107.779074   98.749133   91.686818\n",
       "145  144.820143   70.406749   54.208218   42.325823\n",
       "146   97.452449   74.230816   78.077201   48.503105\n",
       "15    80.682187   67.425603   58.815702   43.827551\n",
       "18    86.268322   31.271834   47.506240   44.864048\n",
       "2     88.176648   44.928283   50.069372   37.147576\n",
       "22    88.448439   53.528002   61.640066   48.286929\n",
       "25    97.472770   55.571487   56.101871  103.097216\n",
       "29    34.456411   35.869625   17.514481   38.794087\n",
       "33    93.483385   56.818888   39.058786   39.557384\n",
       "34    33.197254   71.356798   52.766584   41.812605\n",
       "35   172.069125   63.710805   69.287725   52.970588\n",
       "37   365.676685   67.022016   51.620862   39.470842\n",
       "42    63.745275   45.465307   38.241193   47.564494\n",
       "43   113.342365   45.187079   28.968254   32.194030\n",
       "44    60.034060   44.619870   70.634013  105.456456\n",
       "45    64.891953   60.853542   54.975273   41.012242\n",
       "46    72.455645  109.961633   87.813678   51.537064\n",
       "47   106.722337   57.596509   50.899903   47.091108\n",
       "50    62.948023   66.244929   82.161918   66.241370\n",
       "51    92.541235   91.763577   43.526327   38.193658\n",
       "52   153.197615   70.099167   69.837207   48.939345\n",
       "54    59.335143   57.786414   49.885327   28.632103\n",
       "55    31.666108   78.073964   61.366402   34.932364\n",
       "57    34.435539   83.307608   48.584533   43.265809\n",
       "58    74.667172   83.811227   96.267615  108.085007\n",
       "59    34.042350   20.573472   39.922981   37.290176\n",
       "60   109.202668   42.991723   40.739651   80.237867\n",
       "61    89.877987   54.384384   38.481214   75.832516\n",
       "67    66.582224  117.484953  114.591991   47.800966\n",
       "68   100.730340   69.907349   38.044998   56.681121\n",
       "72   196.230859   59.014186   46.622118   38.447797\n",
       "75    96.735379   36.428647   41.353732   48.064555\n",
       "76    71.270860   55.595885   60.962966   72.669792\n",
       "78   113.700945  140.681900   42.608179   81.843290\n",
       "79    56.130553   44.455939   40.819684   45.555397\n",
       "8     88.371820   65.959801   61.558743   46.194300\n",
       "83    48.501537   47.932546   26.033996   27.604311\n",
       "84   126.077453   76.108700   59.979874   51.733321\n",
       "87    86.259272   49.099868   39.939168   63.635972\n",
       "88    42.984367   48.705554   62.047842   63.934258\n",
       "89    29.286757   69.465043   41.521233   35.044110\n",
       "92   153.896351  138.106665  112.754362   53.575802\n",
       "93   104.204398   58.332536   48.014549   51.843175\n",
       "95    46.867910   83.698608   75.578760   47.262587"
      ]
     },
     "execution_count": 23,
     "metadata": {},
     "output_type": "execute_result"
    }
   ],
   "source": [
    "pd.DataFrame(out).T.dropna()"
   ]
  },
  {
   "cell_type": "code",
   "execution_count": 48,
   "metadata": {
    "collapsed": false
   },
   "outputs": [
    {
     "data": {
      "text/html": [
       "<div>\n",
       "<table border=\"1\" class=\"dataframe\">\n",
       "  <thead>\n",
       "    <tr style=\"text-align: right;\">\n",
       "      <th></th>\n",
       "      <th>CO</th>\n",
       "      <th>FHMM</th>\n",
       "      <th>GT</th>\n",
       "      <th>Hart</th>\n",
       "    </tr>\n",
       "  </thead>\n",
       "  <tbody>\n",
       "    <tr>\n",
       "      <th>1</th>\n",
       "      <td>6504668</td>\n",
       "      <td>6151503</td>\n",
       "      <td>1589488</td>\n",
       "      <td>2398683</td>\n",
       "    </tr>\n",
       "    <tr>\n",
       "      <th>11</th>\n",
       "      <td>12186278</td>\n",
       "      <td>6221555</td>\n",
       "      <td>8728890</td>\n",
       "      <td>6678864</td>\n",
       "    </tr>\n",
       "    <tr>\n",
       "      <th>13</th>\n",
       "      <td>3816424</td>\n",
       "      <td>3731650</td>\n",
       "      <td>3377965</td>\n",
       "      <td>2528400</td>\n",
       "    </tr>\n",
       "    <tr>\n",
       "      <th>14</th>\n",
       "      <td>14504650</td>\n",
       "      <td>10172398</td>\n",
       "      <td>4867752</td>\n",
       "      <td>4346136</td>\n",
       "    </tr>\n",
       "    <tr>\n",
       "      <th>15</th>\n",
       "      <td>7382308</td>\n",
       "      <td>6169349</td>\n",
       "      <td>5381555</td>\n",
       "      <td>4010160</td>\n",
       "    </tr>\n",
       "    <tr>\n",
       "      <th>18</th>\n",
       "      <td>13040655</td>\n",
       "      <td>4727172</td>\n",
       "      <td>7181228</td>\n",
       "      <td>6781824</td>\n",
       "    </tr>\n",
       "    <tr>\n",
       "      <th>2</th>\n",
       "      <td>13329125</td>\n",
       "      <td>6791534</td>\n",
       "      <td>7568681</td>\n",
       "      <td>5615372</td>\n",
       "    </tr>\n",
       "    <tr>\n",
       "      <th>22</th>\n",
       "      <td>13370210</td>\n",
       "      <td>8091501</td>\n",
       "      <td>9317752</td>\n",
       "      <td>7299240</td>\n",
       "    </tr>\n",
       "    <tr>\n",
       "      <th>25</th>\n",
       "      <td>14734363</td>\n",
       "      <td>8400402</td>\n",
       "      <td>8480577</td>\n",
       "      <td>15584576</td>\n",
       "    </tr>\n",
       "    <tr>\n",
       "      <th>8</th>\n",
       "      <td>13358628</td>\n",
       "      <td>9970740</td>\n",
       "      <td>9305459</td>\n",
       "      <td>6982910</td>\n",
       "    </tr>\n",
       "  </tbody>\n",
       "</table>\n",
       "</div>"
      ],
      "text/plain": [
       "          CO      FHMM       GT      Hart\n",
       "1    6504668   6151503  1589488   2398683\n",
       "11  12186278   6221555  8728890   6678864\n",
       "13   3816424   3731650  3377965   2528400\n",
       "14  14504650  10172398  4867752   4346136\n",
       "15   7382308   6169349  5381555   4010160\n",
       "18  13040655   4727172  7181228   6781824\n",
       "2   13329125   6791534  7568681   5615372\n",
       "22  13370210   8091501  9317752   7299240\n",
       "25  14734363   8400402  8480577  15584576\n",
       "8   13358628   9970740  9305459   6982910"
      ]
     },
     "execution_count": 48,
     "metadata": {},
     "output_type": "execute_result"
    }
   ],
   "source": [
    "pd.DataFrame(out).T.dropna()"
   ]
  },
  {
   "cell_type": "code",
   "execution_count": 58,
   "metadata": {
    "collapsed": false
   },
   "outputs": [
    {
     "data": {
      "text/plain": [
       "['',\n",
       " '/Users/nipunbatra/git/nilm_metadata',\n",
       " '/Users/nipunbatra/git/nilmtk',\n",
       " '/Users/nipunbatra/git/iiit_disagg',\n",
       " '/Users/nipunbatra/anaconda/lib/python2.7/site-packages/openweather-0.11-py2.7.egg',\n",
       " '/Users/nipunbatra/anaconda/lib/python2.7/site-packages/daterangestr-0.0.3-py2.7.egg',\n",
       " '/Users/nipunbatra/anaconda/lib/python2.7/site-packages/pelican_gist-0.3.2-py2.7.egg',\n",
       " '/Users/nipunbatra/anaconda/lib/python2.7/site-packages/pymarkdown-0.1.4-py2.7.egg',\n",
       " '/Users/nipunbatra/git/notedown',\n",
       " '/Users/nipunbatra/anaconda/lib/python27.zip',\n",
       " '/Users/nipunbatra/anaconda/lib/python2.7',\n",
       " '/Users/nipunbatra/anaconda/lib/python2.7/plat-darwin',\n",
       " '/Users/nipunbatra/anaconda/lib/python2.7/plat-mac',\n",
       " '/Users/nipunbatra/anaconda/lib/python2.7/plat-mac/lib-scriptpackages',\n",
       " '/Users/nipunbatra/anaconda/lib/python2.7/lib-tk',\n",
       " '/Users/nipunbatra/anaconda/lib/python2.7/lib-old',\n",
       " '/Users/nipunbatra/anaconda/lib/python2.7/lib-dynload',\n",
       " '/Users/nipunbatra/anaconda/lib/python2.7/site-packages/runipy-0.1.1-py2.7.egg',\n",
       " '/Users/nipunbatra/anaconda/lib/python2.7/site-packages/setuptools-17.1.1-py2.7.egg',\n",
       " '/Users/nipunbatra/anaconda/lib/python2.7/site-packages',\n",
       " '/Users/nipunbatra/anaconda/lib/python2.7/site-packages/PIL',\n",
       " '/Users/nipunbatra/anaconda/lib/python2.7/site-packages/Sphinx-1.2.3-py2.7.egg',\n",
       " '/Users/nipunbatra/anaconda/lib/python2.7/site-packages/IPython/extensions',\n",
       " '../../code/fridge/',\n",
       " '../../code/fridge/',\n",
       " '../../code/fridge/']"
      ]
     },
     "execution_count": 58,
     "metadata": {},
     "output_type": "execute_result"
    }
   ],
   "source": [
    "sys.path"
   ]
  },
  {
   "cell_type": "code",
   "execution_count": 24,
   "metadata": {
    "collapsed": false
   },
   "outputs": [],
   "source": [
    "from common_functions import latexify, format_axes\n",
    "latexify()\n",
    "ax = pd.DataFrame(out).T.dropna().plot(kind=\"bar\")\n",
    "plt.xlabel(\"Home\")\n",
    "plt.ylabel(\"Monthly fridge energy (kWh)\")\n",
    "format_axes(ax)\n",
    "plt.tight_layout()\n",
    "plt.savefig(\"../../figures/fridge/disag_algos_energy.pdf\", bbox_inches=\"tight\")\n",
    "plt.savefig(\"../../figures/fridge/disag_algos_energy.png\", bbox_inches=\"tight\")"
   ]
  },
  {
   "cell_type": "code",
   "execution_count": 136,
   "metadata": {
    "collapsed": true
   },
   "outputs": [],
   "source": [
    "from sklearn import linear_model\n",
    "import scipy"
   ]
  },
  {
   "cell_type": "code",
   "execution_count": 27,
   "metadata": {
    "collapsed": true
   },
   "outputs": [],
   "source": [
    "d = pd.DataFrame(out).T.dropna()"
   ]
  },
  {
   "cell_type": "code",
   "execution_count": 142,
   "metadata": {
    "collapsed": false
   },
   "outputs": [],
   "source": [
    "latexify(columns=2, fig_height=2.6)\n",
    "fig, ax = plt.subplots(ncols=3, sharey=True)\n",
    "for i, algo in enumerate([\"CO\", \"FHMM\", \"Hart\"]):\n",
    "    x = d[[\"GT\"]]\n",
    "    y = d[[algo]]\n",
    "   \n",
    "\n",
    "    # Train the model using the training sets\n",
    "    \n",
    "    model_ransac = linear_model.RANSACRegressor(linear_model.LinearRegression())\n",
    "    model_ransac.fit(x, y)\n",
    "    ax[i].scatter(x, y, color=\"gray\", alpha=0.5)\n",
    "    \n",
    "    ax[i].set_xlabel(\"Actual energy (kWh)\")\n",
    "    \n",
    "    ax[i].plot(x, model_ransac.predict(x), color='black')\n",
    "    format_axes(ax[i])\n",
    "    title = algo + \"\\n\" + \"y = %0.2f x + %0.2f\" %(model_ransac.estimator_.coef_[0], model_ransac.estimator_.intercept_[0])\n",
    "    #title = title +\"\\n\" + str(scipy.stats.pearsonr(x, y))\n",
    "    ax[i].set_title(title)\n",
    "ax[0].set_ylabel(\"Predicted energy (kWh)\")\n",
    "plt.tight_layout()\n",
    "plt.savefig(\"../../figures/fridge/disag_algos_energy_scatter.pdf\", bbox_inches=\"tight\")\n",
    "plt.savefig(\"../../figures/fridge/disag_algos_energy_scatter.png\", bbox_inches=\"tight\")"
   ]
  },
  {
   "cell_type": "code",
   "execution_count": 31,
   "metadata": {
    "collapsed": false
   },
   "outputs": [],
   "source": [
    "out_energy = {}\n",
    "for algo in [\"CO\", \"FHMM\", \"Hart\"]:\n",
    "    out_energy[algo]=(d[\"GT\"]-d[algo]).abs().div(d[\"GT\"])\n",
    "    "
   ]
  },
  {
   "cell_type": "code",
   "execution_count": 33,
   "metadata": {
    "collapsed": false
   },
   "outputs": [
    {
     "data": {
      "text/plain": [
       "<matplotlib.axes._subplots.AxesSubplot at 0x134bb26d0>"
      ]
     },
     "execution_count": 33,
     "metadata": {},
     "output_type": "execute_result"
    }
   ],
   "source": [
    "pd.DataFrame(out_energy).plot(kind=\"box\")"
   ]
  },
  {
   "cell_type": "code",
   "execution_count": 34,
   "metadata": {
    "collapsed": false
   },
   "outputs": [
    {
     "data": {
      "text/html": [
       "<div>\n",
       "<table border=\"1\" class=\"dataframe\">\n",
       "  <thead>\n",
       "    <tr style=\"text-align: right;\">\n",
       "      <th></th>\n",
       "      <th>CO</th>\n",
       "      <th>FHMM</th>\n",
       "      <th>Hart</th>\n",
       "    </tr>\n",
       "  </thead>\n",
       "  <tbody>\n",
       "    <tr>\n",
       "      <th>count</th>\n",
       "      <td>52.000000</td>\n",
       "      <td>52.000000</td>\n",
       "      <td>52.000000</td>\n",
       "    </tr>\n",
       "    <tr>\n",
       "      <th>mean</th>\n",
       "      <td>0.938419</td>\n",
       "      <td>0.399077</td>\n",
       "      <td>0.317829</td>\n",
       "    </tr>\n",
       "    <tr>\n",
       "      <th>std</th>\n",
       "      <td>1.052879</td>\n",
       "      <td>0.537793</td>\n",
       "      <td>0.271267</td>\n",
       "    </tr>\n",
       "    <tr>\n",
       "      <th>min</th>\n",
       "      <td>0.092536</td>\n",
       "      <td>0.003751</td>\n",
       "      <td>0.012765</td>\n",
       "    </tr>\n",
       "    <tr>\n",
       "      <th>25%</th>\n",
       "      <td>0.288208</td>\n",
       "      <td>0.106370</td>\n",
       "      <td>0.121365</td>\n",
       "    </tr>\n",
       "    <tr>\n",
       "      <th>50%</th>\n",
       "      <td>0.459776</td>\n",
       "      <td>0.219939</td>\n",
       "      <td>0.235434</td>\n",
       "    </tr>\n",
       "    <tr>\n",
       "      <th>75%</th>\n",
       "      <td>1.229137</td>\n",
       "      <td>0.423629</td>\n",
       "      <td>0.427221</td>\n",
       "    </tr>\n",
       "    <tr>\n",
       "      <th>max</th>\n",
       "      <td>6.083893</td>\n",
       "      <td>2.870116</td>\n",
       "      <td>1.214972</td>\n",
       "    </tr>\n",
       "  </tbody>\n",
       "</table>\n",
       "</div>"
      ],
      "text/plain": [
       "              CO       FHMM       Hart\n",
       "count  52.000000  52.000000  52.000000\n",
       "mean    0.938419   0.399077   0.317829\n",
       "std     1.052879   0.537793   0.271267\n",
       "min     0.092536   0.003751   0.012765\n",
       "25%     0.288208   0.106370   0.121365\n",
       "50%     0.459776   0.219939   0.235434\n",
       "75%     1.229137   0.423629   0.427221\n",
       "max     6.083893   2.870116   1.214972"
      ]
     },
     "execution_count": 34,
     "metadata": {},
     "output_type": "execute_result"
    }
   ],
   "source": [
    "pd.DataFrame(out_energy).describe()"
   ]
  },
  {
   "cell_type": "code",
   "execution_count": 35,
   "metadata": {
    "collapsed": false
   },
   "outputs": [
    {
     "data": {
      "text/html": [
       "<div>\n",
       "<table border=\"1\" class=\"dataframe\">\n",
       "  <thead>\n",
       "    <tr style=\"text-align: right;\">\n",
       "      <th></th>\n",
       "      <th>CO</th>\n",
       "      <th>FHMM</th>\n",
       "      <th>GT</th>\n",
       "      <th>Hart</th>\n",
       "    </tr>\n",
       "  </thead>\n",
       "  <tbody>\n",
       "    <tr>\n",
       "      <th>1</th>\n",
       "      <td>105.626220</td>\n",
       "      <td>99.891341</td>\n",
       "      <td>25.810942</td>\n",
       "      <td>38.951076</td>\n",
       "    </tr>\n",
       "    <tr>\n",
       "      <th>11</th>\n",
       "      <td>101.907341</td>\n",
       "      <td>52.027545</td>\n",
       "      <td>72.995050</td>\n",
       "      <td>55.851776</td>\n",
       "    </tr>\n",
       "    <tr>\n",
       "      <th>13</th>\n",
       "      <td>68.663017</td>\n",
       "      <td>67.137810</td>\n",
       "      <td>60.774502</td>\n",
       "      <td>45.489593</td>\n",
       "    </tr>\n",
       "    <tr>\n",
       "      <th>139</th>\n",
       "      <td>67.847249</td>\n",
       "      <td>52.004537</td>\n",
       "      <td>53.040532</td>\n",
       "      <td>20.788166</td>\n",
       "    </tr>\n",
       "    <tr>\n",
       "      <th>14</th>\n",
       "      <td>158.378926</td>\n",
       "      <td>111.074274</td>\n",
       "      <td>53.151874</td>\n",
       "      <td>47.456254</td>\n",
       "    </tr>\n",
       "  </tbody>\n",
       "</table>\n",
       "</div>"
      ],
      "text/plain": [
       "             CO        FHMM         GT       Hart\n",
       "1    105.626220   99.891341  25.810942  38.951076\n",
       "11   101.907341   52.027545  72.995050  55.851776\n",
       "13    68.663017   67.137810  60.774502  45.489593\n",
       "139   67.847249   52.004537  53.040532  20.788166\n",
       "14   158.378926  111.074274  53.151874  47.456254"
      ]
     },
     "execution_count": 35,
     "metadata": {},
     "output_type": "execute_result"
    }
   ],
   "source": [
    "d.head()"
   ]
  },
  {
   "cell_type": "code",
   "execution_count": null,
   "metadata": {
    "collapsed": true
   },
   "outputs": [],
   "source": []
  },
  {
   "cell_type": "code",
   "execution_count": 51,
   "metadata": {
    "collapsed": false
   },
   "outputs": [],
   "source": [
    "from sklearn.metrics import f1_score\n",
    "f_score = {}\n",
    "limit=20\n",
    "for f in list_of_files:\n",
    "    try:\n",
    "        df = pd.HDFStore(f)['/disag']\n",
    "        gt = (df>20)[[\"GT\"]]\n",
    "        pred = (df>20)[[\"CO\", \"FHMM\", \"Hart\"]]\n",
    "        o={}\n",
    "        for algo in [\"CO\", \"FHMM\", \"Hart\"]:\n",
    "            o[algo] = f1_score(gt[\"GT\"], pred[algo] )\n",
    "        f_score[f.split(\"/\")[1].split(\".\")[0]] = pd.Series(o)\n",
    "    except:\n",
    "        pass"
   ]
  },
  {
   "cell_type": "code",
   "execution_count": 49,
   "metadata": {
    "collapsed": false
   },
   "outputs": [
    {
     "data": {
      "text/plain": [
       "localminute\n",
       "2014-05-01 00:00:00-05:00    True\n",
       "2014-05-01 00:01:00-05:00    True\n",
       "2014-05-01 00:02:00-05:00    True\n",
       "2014-05-01 00:03:00-05:00    True\n",
       "2014-05-01 00:04:00-05:00    True\n",
       "Freq: 60S, Name: GT, dtype: bool"
      ]
     },
     "execution_count": 49,
     "metadata": {},
     "output_type": "execute_result"
    }
   ],
   "source": [
    "gt[\"GT\"].head()"
   ]
  },
  {
   "cell_type": "code",
   "execution_count": 50,
   "metadata": {
    "collapsed": false
   },
   "outputs": [
    {
     "data": {
      "text/plain": [
       "localminute\n",
       "2014-05-01 00:00:00-05:00    False\n",
       "2014-05-01 00:01:00-05:00    False\n",
       "2014-05-01 00:02:00-05:00    False\n",
       "2014-05-01 00:03:00-05:00    False\n",
       "2014-05-01 00:04:00-05:00    False\n",
       "Freq: 60S, Name: Hart, dtype: bool"
      ]
     },
     "execution_count": 50,
     "metadata": {},
     "output_type": "execute_result"
    }
   ],
   "source": [
    "pred[algo].head()"
   ]
  },
  {
   "cell_type": "code",
   "execution_count": 55,
   "metadata": {
    "collapsed": false
   },
   "outputs": [
    {
     "data": {
      "text/html": [
       "<div>\n",
       "<table border=\"1\" class=\"dataframe\">\n",
       "  <thead>\n",
       "    <tr style=\"text-align: right;\">\n",
       "      <th></th>\n",
       "      <th>CO</th>\n",
       "      <th>FHMM</th>\n",
       "      <th>Hart</th>\n",
       "    </tr>\n",
       "  </thead>\n",
       "  <tbody>\n",
       "    <tr>\n",
       "      <th>count</th>\n",
       "      <td>52.000000</td>\n",
       "      <td>52.000000</td>\n",
       "      <td>52.000000</td>\n",
       "    </tr>\n",
       "    <tr>\n",
       "      <th>mean</th>\n",
       "      <td>0.625507</td>\n",
       "      <td>0.606242</td>\n",
       "      <td>0.662307</td>\n",
       "    </tr>\n",
       "    <tr>\n",
       "      <th>std</th>\n",
       "      <td>0.110851</td>\n",
       "      <td>0.137912</td>\n",
       "      <td>0.157258</td>\n",
       "    </tr>\n",
       "    <tr>\n",
       "      <th>min</th>\n",
       "      <td>0.367521</td>\n",
       "      <td>0.337143</td>\n",
       "      <td>0.250382</td>\n",
       "    </tr>\n",
       "    <tr>\n",
       "      <th>25%</th>\n",
       "      <td>0.557075</td>\n",
       "      <td>0.508627</td>\n",
       "      <td>0.588966</td>\n",
       "    </tr>\n",
       "    <tr>\n",
       "      <th>50%</th>\n",
       "      <td>0.621910</td>\n",
       "      <td>0.603452</td>\n",
       "      <td>0.676076</td>\n",
       "    </tr>\n",
       "    <tr>\n",
       "      <th>75%</th>\n",
       "      <td>0.684253</td>\n",
       "      <td>0.683499</td>\n",
       "      <td>0.781527</td>\n",
       "    </tr>\n",
       "    <tr>\n",
       "      <th>max</th>\n",
       "      <td>0.979902</td>\n",
       "      <td>0.999992</td>\n",
       "      <td>0.893847</td>\n",
       "    </tr>\n",
       "  </tbody>\n",
       "</table>\n",
       "</div>"
      ],
      "text/plain": [
       "              CO       FHMM       Hart\n",
       "count  52.000000  52.000000  52.000000\n",
       "mean    0.625507   0.606242   0.662307\n",
       "std     0.110851   0.137912   0.157258\n",
       "min     0.367521   0.337143   0.250382\n",
       "25%     0.557075   0.508627   0.588966\n",
       "50%     0.621910   0.603452   0.676076\n",
       "75%     0.684253   0.683499   0.781527\n",
       "max     0.979902   0.999992   0.893847"
      ]
     },
     "execution_count": 55,
     "metadata": {},
     "output_type": "execute_result"
    }
   ],
   "source": [
    "pd.DataFrame(f_score).T.describe()"
   ]
  },
  {
   "cell_type": "code",
   "execution_count": 111,
   "metadata": {
    "collapsed": false
   },
   "outputs": [
    {
     "data": {
      "text/html": [
       "<div>\n",
       "<table border=\"1\" class=\"dataframe\">\n",
       "  <thead>\n",
       "    <tr style=\"text-align: right;\">\n",
       "      <th></th>\n",
       "      <th>GT</th>\n",
       "    </tr>\n",
       "    <tr>\n",
       "      <th>localminute</th>\n",
       "      <th></th>\n",
       "    </tr>\n",
       "  </thead>\n",
       "  <tbody>\n",
       "    <tr>\n",
       "      <th>2014-03-17 00:00:00-05:00</th>\n",
       "      <td>True</td>\n",
       "    </tr>\n",
       "    <tr>\n",
       "      <th>2014-03-17 00:01:00-05:00</th>\n",
       "      <td>True</td>\n",
       "    </tr>\n",
       "    <tr>\n",
       "      <th>2014-03-17 00:02:00-05:00</th>\n",
       "      <td>False</td>\n",
       "    </tr>\n",
       "    <tr>\n",
       "      <th>2014-03-17 00:03:00-05:00</th>\n",
       "      <td>False</td>\n",
       "    </tr>\n",
       "    <tr>\n",
       "      <th>2014-03-17 00:04:00-05:00</th>\n",
       "      <td>False</td>\n",
       "    </tr>\n",
       "  </tbody>\n",
       "</table>\n",
       "</div>"
      ],
      "text/plain": [
       "                              GT\n",
       "localminute                     \n",
       "2014-03-17 00:00:00-05:00   True\n",
       "2014-03-17 00:01:00-05:00   True\n",
       "2014-03-17 00:02:00-05:00  False\n",
       "2014-03-17 00:03:00-05:00  False\n",
       "2014-03-17 00:04:00-05:00  False"
      ]
     },
     "execution_count": 111,
     "metadata": {},
     "output_type": "execute_result"
    }
   ],
   "source": [
    "gt = (df>20)[[\"GT\"]]\n",
    "gt.head()"
   ]
  },
  {
   "cell_type": "code",
   "execution_count": 112,
   "metadata": {
    "collapsed": false
   },
   "outputs": [
    {
     "data": {
      "text/html": [
       "<div>\n",
       "<table border=\"1\" class=\"dataframe\">\n",
       "  <thead>\n",
       "    <tr style=\"text-align: right;\">\n",
       "      <th></th>\n",
       "      <th>Hart</th>\n",
       "    </tr>\n",
       "    <tr>\n",
       "      <th>localminute</th>\n",
       "      <th></th>\n",
       "    </tr>\n",
       "  </thead>\n",
       "  <tbody>\n",
       "    <tr>\n",
       "      <th>2014-03-17 00:00:00-05:00</th>\n",
       "      <td>False</td>\n",
       "    </tr>\n",
       "    <tr>\n",
       "      <th>2014-03-17 00:01:00-05:00</th>\n",
       "      <td>False</td>\n",
       "    </tr>\n",
       "    <tr>\n",
       "      <th>2014-03-17 00:02:00-05:00</th>\n",
       "      <td>False</td>\n",
       "    </tr>\n",
       "    <tr>\n",
       "      <th>2014-03-17 00:03:00-05:00</th>\n",
       "      <td>False</td>\n",
       "    </tr>\n",
       "    <tr>\n",
       "      <th>2014-03-17 00:04:00-05:00</th>\n",
       "      <td>False</td>\n",
       "    </tr>\n",
       "  </tbody>\n",
       "</table>\n",
       "</div>"
      ],
      "text/plain": [
       "                            Hart\n",
       "localminute                     \n",
       "2014-03-17 00:00:00-05:00  False\n",
       "2014-03-17 00:01:00-05:00  False\n",
       "2014-03-17 00:02:00-05:00  False\n",
       "2014-03-17 00:03:00-05:00  False\n",
       "2014-03-17 00:04:00-05:00  False"
      ]
     },
     "execution_count": 112,
     "metadata": {},
     "output_type": "execute_result"
    }
   ],
   "source": [
    "algo = \"Hart\"\n",
    "x = (df>20)[[algo]]\n",
    "x.head()"
   ]
  },
  {
   "cell_type": "code",
   "execution_count": 118,
   "metadata": {
    "collapsed": true
   },
   "outputs": [],
   "source": [
    "from sklearn.metrics import f1_score"
   ]
  },
  {
   "cell_type": "code",
   "execution_count": 119,
   "metadata": {
    "collapsed": false
   },
   "outputs": [
    {
     "data": {
      "text/plain": [
       "0.76383016455259056"
      ]
     },
     "execution_count": 119,
     "metadata": {},
     "output_type": "execute_result"
    }
   ],
   "source": [
    "f1_score(gt[\"GT\"], x[\"Hart\"] )"
   ]
  },
  {
   "cell_type": "code",
   "execution_count": 117,
   "metadata": {
    "collapsed": false
   },
   "outputs": [
    {
     "data": {
      "text/plain": [
       "3"
      ]
     },
     "execution_count": 117,
     "metadata": {},
     "output_type": "execute_result"
    }
   ],
   "source": [
    "(x[\"Hart\"]==gt[\"GT\"]).head().sum()"
   ]
  },
  {
   "cell_type": "code",
   "execution_count": 15,
   "metadata": {
    "collapsed": false
   },
   "outputs": [],
   "source": [
    "for f_id, b_id in building_ids_to_consider.head(3).iteritems():\n",
    "    out[f_id] = {}\n",
    "    elec = ds.buildings[b_id].elec\n",
    "    mains = elec.mains()\n",
    "    elec.appliances\n",
    "    fridge_instance = fridges.meters[f_id].appliances[0].identifier.instance\n",
    "    # Dividing train, test\n",
    "    train_fraction = 0.5\n",
    "    train = DataSet(\"/Users/nipunbatra/Downloads/wikienergy-2.h5\")\n",
    "    test = DataSet(\"/Users/nipunbatra/Downloads/wikienergy-2.h5\")\n",
    "    split_point = elec.train_test_split(train_fraction=train_fraction).date()\n",
    "    train.set_window(end=split_point)\n",
    "    test.set_window(start=split_point)\n",
    "    train_elec = train.buildings[b_id].elec\n",
    "    test_elec = test.buildings[b_id].elec\n",
    "    test_mains = test_elec.mains()\n",
    "    \n",
    "    # GT elec\n",
    "    gt_fridge  = test_elec[('fridge', fridge_instance)]\n",
    "    \n",
    "    # Pred elec\n",
    "    for clf_name in cls_dict.keys():\n",
    "        disag_filename = '%s/%d.h5' %(clf_name, f_id)\n",
    "        ds_pred = DataSet(disag_filename)\n",
    "        out[f_id][clf_name] = {}\n",
    "        pred_fridge = ds_pred.buildings[b_id].elec[('fridge', fridge_instance)]\n",
    "        out[f_id][clf_name][\"pred_energy\"] = pred_fridge.total_energy()['active']\n",
    "        out[f_id][clf_name][\"gt_energy\"] = gt_fridge.total_energy()['active']\n",
    "    \n",
    "    \n",
    "    \n",
    "   \n",
    "    \n"
   ]
  },
  {
   "cell_type": "code",
   "execution_count": 16,
   "metadata": {
    "collapsed": false
   },
   "outputs": [
    {
     "data": {
      "text/plain": [
       "{1: {'CO': {'gt_energy': 25.901466666666668,\n",
       "   'pred_energy': 268.47235000000001},\n",
       "  'FHMM': {'gt_energy': 25.901466666666668,\n",
       "   'pred_energy': 197.42403333333334}},\n",
       " 2: {'CO': {'gt_energy': 125.88225, 'pred_energy': 175.04763333333332},\n",
       "  'FHMM': {'gt_energy': 125.88225, 'pred_energy': 154.08428333333333}},\n",
       " 8: {'CO': {'gt_energy': 154.89259999999999, 'pred_energy': 374.2894},\n",
       "  'FHMM': {'gt_energy': 154.89259999999999,\n",
       "   'pred_energy': 261.03871666666669}}}"
      ]
     },
     "execution_count": 16,
     "metadata": {},
     "output_type": "execute_result"
    }
   ],
   "source": [
    "out"
   ]
  },
  {
   "cell_type": "code",
   "execution_count": 17,
   "metadata": {
    "collapsed": false
   },
   "outputs": [],
   "source": [
    "disag_filename\n",
    "disag = DataSet(disag_filename)\n",
    "disag_elec = disag.buildings[b_id].elec"
   ]
  },
  {
   "cell_type": "code",
   "execution_count": 18,
   "metadata": {
    "collapsed": false
   },
   "outputs": [
    {
     "data": {
      "text/plain": [
       "<matplotlib.axes._subplots.AxesSubplot at 0x12ce1d250>"
      ]
     },
     "execution_count": 18,
     "metadata": {},
     "output_type": "execute_result"
    }
   ],
   "source": [
    "disag_elec.plot()\n"
   ]
  },
  {
   "cell_type": "code",
   "execution_count": 52,
   "metadata": {
    "collapsed": false
   },
   "outputs": [
    {
     "data": {
      "text/plain": [
       "False"
      ]
     },
     "execution_count": 52,
     "metadata": {},
     "output_type": "execute_result"
    }
   ],
   "source": [
    "fridge_elec in top_k_train_elec.meters"
   ]
  },
  {
   "cell_type": "code",
   "execution_count": 54,
   "metadata": {
    "collapsed": false
   },
   "outputs": [
    {
     "data": {
      "text/plain": [
       "True"
      ]
     },
     "execution_count": 54,
     "metadata": {},
     "output_type": "execute_result"
    }
   ],
   "source": [
    "fridge_elec not in top_k_train_elec.meters"
   ]
  },
  {
   "cell_type": "code",
   "execution_count": 8,
   "metadata": {
    "collapsed": true
   },
   "outputs": [],
   "source": [
    "building_number = 11\n",
    "fridge_id = 2"
   ]
  },
  {
   "cell_type": "code",
   "execution_count": 9,
   "metadata": {
    "collapsed": false
   },
   "outputs": [
    {
     "data": {
      "text/plain": [
       "[Appliance(type='fridge', instance=1),\n",
       " Appliance(type='dish washer', instance=1),\n",
       " Appliance(type='electric water heating appliance', instance=1),\n",
       " Appliance(type='spin dryer', instance=1),\n",
       " Appliance(type='electric furnace', instance=1),\n",
       " Appliance(type='sockets', instance=1),\n",
       " Appliance(type='sockets', instance=2),\n",
       " Appliance(type='air conditioner', instance=1),\n",
       " Appliance(type='sockets', instance=3),\n",
       " Appliance(type='sockets', instance=4)]"
      ]
     },
     "execution_count": 9,
     "metadata": {},
     "output_type": "execute_result"
    }
   ],
   "source": [
    "elec = ds.buildings[building_number].elec\n",
    "mains = elec.mains()\n",
    "elec.appliances\n",
    "\n"
   ]
  },
  {
   "cell_type": "code",
   "execution_count": 32,
   "metadata": {
    "collapsed": true
   },
   "outputs": [],
   "source": [
    "split_point = elec.train_test_split(train_fraction=0.2)"
   ]
  },
  {
   "cell_type": "code",
   "execution_count": 33,
   "metadata": {
    "collapsed": false
   },
   "outputs": [
    {
     "data": {
      "text/plain": [
       "datetime.date(2014, 2, 24)"
      ]
     },
     "execution_count": 33,
     "metadata": {},
     "output_type": "execute_result"
    }
   ],
   "source": [
    "split_point.date()"
   ]
  },
  {
   "cell_type": "code",
   "execution_count": 34,
   "metadata": {
    "collapsed": true
   },
   "outputs": [],
   "source": [
    "train = DataSet(\"/Users/nipunbatra/Downloads/wikienergy-2.h5\")"
   ]
  },
  {
   "cell_type": "code",
   "execution_count": 35,
   "metadata": {
    "collapsed": false
   },
   "outputs": [],
   "source": [
    "train.set_window(end=split_point.date())\n",
    "\n"
   ]
  },
  {
   "cell_type": "code",
   "execution_count": 36,
   "metadata": {
    "collapsed": false
   },
   "outputs": [
    {
     "data": {
      "text/plain": [
       "<matplotlib.axes._subplots.AxesSubplot at 0x13531dad0>"
      ]
     },
     "execution_count": 36,
     "metadata": {},
     "output_type": "execute_result"
    }
   ],
   "source": [
    "train.buildings[11].elec.plot()"
   ]
  },
  {
   "cell_type": "code",
   "execution_count": 12,
   "metadata": {
    "collapsed": false
   },
   "outputs": [
    {
     "data": {
      "text/plain": [
       "Timestamp('2014-04-02 00:30:00-0500', tz='US/Central')"
      ]
     },
     "execution_count": 12,
     "metadata": {},
     "output_type": "execute_result"
    }
   ],
   "source": [
    "test.set_window(start=\"30-4-2011\")"
   ]
  },
  {
   "cell_type": "code",
   "execution_count": 12,
   "metadata": {
    "collapsed": false
   },
   "outputs": [
    {
     "name": "stdout",
     "output_type": "stream",
     "text": [
      "Training model for submeter 'ElecMeter(instance=2, building=11, dataset='WikiEnergy', appliances=[Appliance(type='air conditioner', instance=1)])'\n",
      "Training model for submeter 'ElecMeter(instance=3, building=11, dataset='WikiEnergy', appliances=[Appliance(type='sockets', instance=1)])'\n",
      "Training model for submeter 'ElecMeter(instance=4, building=11, dataset='WikiEnergy', appliances=[Appliance(type='sockets', instance=2)])'\n",
      "Training model for submeter 'ElecMeter(instance=5, building=11, dataset='WikiEnergy', appliances=[Appliance(type='dish washer', instance=1)])'\n",
      "Training model for submeter 'ElecMeter(instance=6, building=11, dataset='WikiEnergy', appliances=[Appliance(type='spin dryer', instance=1)])'\n",
      "Training model for submeter 'ElecMeter(instance=7, building=11, dataset='WikiEnergy', appliances=[Appliance(type='electric furnace', instance=1)])'\n",
      "Training model for submeter 'ElecMeter(instance=8, building=11, dataset='WikiEnergy', appliances=[Appliance(type='sockets', instance=3)])'\n",
      "Training model for submeter 'ElecMeter(instance=9, building=11, dataset='WikiEnergy', appliances=[Appliance(type='sockets', instance=4)])'\n",
      "Training model for submeter 'ElecMeter(instance=10, building=11, dataset='WikiEnergy', appliances=[Appliance(type='fridge', instance=1)])'\n",
      "Training model for submeter 'ElecMeter(instance=11, building=11, dataset='WikiEnergy', appliances=[Appliance(type='electric water heating appliance', instance=1)])'\n",
      "Done training!\n"
     ]
    }
   ],
   "source": [
    "co = CombinatorialOptimisation()\n",
    "co.train(elec)"
   ]
  },
  {
   "cell_type": "code",
   "execution_count": 13,
   "metadata": {
    "collapsed": false
   },
   "outputs": [
    {
     "name": "stdout",
     "output_type": "stream",
     "text": [
      "vampire_power = 0.0 watts\n",
      "Estimating power demand for 'ElecMeter(instance=2, building=11, dataset='WikiEnergy', appliances=[Appliance(type='air conditioner', instance=1)])'\n",
      "Estimating power demand for 'ElecMeter(instance=3, building=11, dataset='WikiEnergy', appliances=[Appliance(type='sockets', instance=1)])'\n",
      "Estimating power demand for 'ElecMeter(instance=4, building=11, dataset='WikiEnergy', appliances=[Appliance(type='sockets', instance=2)])'\n",
      "Estimating power demand for 'ElecMeter(instance=5, building=11, dataset='WikiEnergy', appliances=[Appliance(type='dish washer', instance=1)])'\n",
      "Estimating power demand for 'ElecMeter(instance=6, building=11, dataset='WikiEnergy', appliances=[Appliance(type='spin dryer', instance=1)])'\n",
      "Estimating power demand for 'ElecMeter(instance=7, building=11, dataset='WikiEnergy', appliances=[Appliance(type='electric furnace', instance=1)])'\n",
      "Estimating power demand for 'ElecMeter(instance=8, building=11, dataset='WikiEnergy', appliances=[Appliance(type='sockets', instance=3)])'\n",
      "Estimating power demand for 'ElecMeter(instance=9, building=11, dataset='WikiEnergy', appliances=[Appliance(type='sockets', instance=4)])'\n",
      "Estimating power demand for 'ElecMeter(instance=10, building=11, dataset='WikiEnergy', appliances=[Appliance(type='fridge', instance=1)])'\n",
      "Estimating power demand for 'ElecMeter(instance=11, building=11, dataset='WikiEnergy', appliances=[Appliance(type='electric water heating appliance', instance=1)])'\n",
      "Estimating power demand for 'ElecMeter(instance=2, building=11, dataset='WikiEnergy', appliances=[Appliance(type='air conditioner', instance=1)])'\n",
      "Estimating power demand for 'ElecMeter(instance=3, building=11, dataset='WikiEnergy', appliances=[Appliance(type='sockets', instance=1)])'\n",
      "Estimating power demand for 'ElecMeter(instance=4, building=11, dataset='WikiEnergy', appliances=[Appliance(type='sockets', instance=2)])'\n",
      "Estimating power demand for 'ElecMeter(instance=5, building=11, dataset='WikiEnergy', appliances=[Appliance(type='dish washer', instance=1)])'\n",
      "Estimating power demand for 'ElecMeter(instance=6, building=11, dataset='WikiEnergy', appliances=[Appliance(type='spin dryer', instance=1)])'\n",
      "Estimating power demand for 'ElecMeter(instance=7, building=11, dataset='WikiEnergy', appliances=[Appliance(type='electric furnace', instance=1)])'\n",
      "Estimating power demand for 'ElecMeter(instance=8, building=11, dataset='WikiEnergy', appliances=[Appliance(type='sockets', instance=3)])'\n",
      "Estimating power demand for 'ElecMeter(instance=9, building=11, dataset='WikiEnergy', appliances=[Appliance(type='sockets', instance=4)])'\n",
      "Estimating power demand for 'ElecMeter(instance=10, building=11, dataset='WikiEnergy', appliances=[Appliance(type='fridge', instance=1)])'\n",
      "Estimating power demand for 'ElecMeter(instance=11, building=11, dataset='WikiEnergy', appliances=[Appliance(type='electric water heating appliance', instance=1)])'\n"
     ]
    }
   ],
   "source": [
    "disag_filename = 'wikienergy-disag-co-new.h5'\n",
    "output = HDFDataStore(disag_filename, 'w')\n",
    "co.disaggregate(elec.mains(), output)\n",
    "output.close()"
   ]
  },
  {
   "cell_type": "code",
   "execution_count": 16,
   "metadata": {
    "collapsed": false
   },
   "outputs": [],
   "source": [
    "disag = DataSet(disag_filename)\n",
    "disag_elec_co = disag.buildings[building_number].elec"
   ]
  },
  {
   "cell_type": "code",
   "execution_count": 17,
   "metadata": {
    "collapsed": false
   },
   "outputs": [],
   "source": [
    "pred_df_co = disag_elec['fridge'].load().next()[('power','active')]"
   ]
  },
  {
   "cell_type": "code",
   "execution_count": 18,
   "metadata": {
    "collapsed": false
   },
   "outputs": [
    {
     "name": "stdout",
     "output_type": "stream",
     "text": [
      "Training model for submeter 'ElecMeter(instance=2, building=11, dataset='WikiEnergy', appliances=[Appliance(type='air conditioner', instance=1)])'\n",
      "Training model for submeter 'ElecMeter(instance=3, building=11, dataset='WikiEnergy', appliances=[Appliance(type='sockets', instance=1)])'\n",
      "Training model for submeter 'ElecMeter(instance=4, building=11, dataset='WikiEnergy', appliances=[Appliance(type='sockets', instance=2)])'\n",
      "Training model for submeter 'ElecMeter(instance=5, building=11, dataset='WikiEnergy', appliances=[Appliance(type='dish washer', instance=1)])'\n",
      "Training model for submeter 'ElecMeter(instance=6, building=11, dataset='WikiEnergy', appliances=[Appliance(type='spin dryer', instance=1)])'\n",
      "Training model for submeter 'ElecMeter(instance=7, building=11, dataset='WikiEnergy', appliances=[Appliance(type='electric furnace', instance=1)])'\n",
      "Training model for submeter 'ElecMeter(instance=8, building=11, dataset='WikiEnergy', appliances=[Appliance(type='sockets', instance=3)])'\n",
      "Training model for submeter 'ElecMeter(instance=9, building=11, dataset='WikiEnergy', appliances=[Appliance(type='sockets', instance=4)])'\n",
      "Training model for submeter 'ElecMeter(instance=10, building=11, dataset='WikiEnergy', appliances=[Appliance(type='fridge', instance=1)])'\n",
      "Training model for submeter 'ElecMeter(instance=11, building=11, dataset='WikiEnergy', appliances=[Appliance(type='electric water heating appliance', instance=1)])'\n"
     ]
    }
   ],
   "source": [
    "fhmm = fhmm_exact.FHMM()\n",
    "fhmm.train(elec)"
   ]
  },
  {
   "cell_type": "code",
   "execution_count": 19,
   "metadata": {
    "collapsed": false
   },
   "outputs": [
    {
     "ename": "KeyboardInterrupt",
     "evalue": "",
     "output_type": "error",
     "traceback": [
      "\u001b[0;31m---------------------------------------------------------------------------\u001b[0m",
      "\u001b[0;31mKeyboardInterrupt\u001b[0m                         Traceback (most recent call last)",
      "\u001b[0;32m<ipython-input-19-cbfa7cdefd1d>\u001b[0m in \u001b[0;36m<module>\u001b[0;34m()\u001b[0m\n\u001b[1;32m      1\u001b[0m \u001b[0mdisag_filename\u001b[0m \u001b[0;34m=\u001b[0m \u001b[0;34m'wikienergy-disag-fhmm.h5'\u001b[0m\u001b[0;34m\u001b[0m\u001b[0m\n\u001b[1;32m      2\u001b[0m \u001b[0moutput\u001b[0m \u001b[0;34m=\u001b[0m \u001b[0mHDFDataStore\u001b[0m\u001b[0;34m(\u001b[0m\u001b[0mdisag_filename\u001b[0m\u001b[0;34m,\u001b[0m \u001b[0;34m'w'\u001b[0m\u001b[0;34m)\u001b[0m\u001b[0;34m\u001b[0m\u001b[0m\n\u001b[0;32m----> 3\u001b[0;31m \u001b[0mfhmm\u001b[0m\u001b[0;34m.\u001b[0m\u001b[0mdisaggregate\u001b[0m\u001b[0;34m(\u001b[0m\u001b[0melec\u001b[0m\u001b[0;34m.\u001b[0m\u001b[0mmains\u001b[0m\u001b[0;34m(\u001b[0m\u001b[0;34m)\u001b[0m\u001b[0;34m,\u001b[0m \u001b[0moutput\u001b[0m\u001b[0;34m)\u001b[0m\u001b[0;34m\u001b[0m\u001b[0m\n\u001b[0m",
      "\u001b[0;32m/Users/nipunbatra/git/nilmtk/nilmtk/disaggregate/fhmm_exact.pyc\u001b[0m in \u001b[0;36mdisaggregate\u001b[0;34m(self, mains, output_datastore, **load_kwargs)\u001b[0m\n\u001b[1;32m    303\u001b[0m \u001b[0;34m\u001b[0m\u001b[0m\n\u001b[1;32m    304\u001b[0m             \u001b[0;31m# Start disaggregation\u001b[0m\u001b[0;34m\u001b[0m\u001b[0;34m\u001b[0m\u001b[0m\n\u001b[0;32m--> 305\u001b[0;31m             \u001b[0mpredictions\u001b[0m \u001b[0;34m=\u001b[0m \u001b[0mself\u001b[0m\u001b[0;34m.\u001b[0m\u001b[0mdisaggregate_chunk\u001b[0m\u001b[0;34m(\u001b[0m\u001b[0mchunk\u001b[0m\u001b[0;34m)\u001b[0m\u001b[0;34m\u001b[0m\u001b[0m\n\u001b[0m\u001b[1;32m    306\u001b[0m \u001b[0;34m\u001b[0m\u001b[0m\n\u001b[1;32m    307\u001b[0m             \u001b[0;32mfor\u001b[0m \u001b[0mmeter\u001b[0m \u001b[0;32min\u001b[0m \u001b[0mpredictions\u001b[0m\u001b[0;34m.\u001b[0m\u001b[0mcolumns\u001b[0m\u001b[0;34m:\u001b[0m\u001b[0;34m\u001b[0m\u001b[0m\n",
      "\u001b[0;32m/Users/nipunbatra/git/nilmtk/nilmtk/disaggregate/fhmm_exact.pyc\u001b[0m in \u001b[0;36mdisaggregate_chunk\u001b[0;34m(self, test_mains)\u001b[0m\n\u001b[1;32m    229\u001b[0m         \u001b[0mlength\u001b[0m \u001b[0;34m=\u001b[0m \u001b[0mlen\u001b[0m\u001b[0;34m(\u001b[0m\u001b[0mtest_mains\u001b[0m\u001b[0;34m.\u001b[0m\u001b[0mindex\u001b[0m\u001b[0;34m)\u001b[0m\u001b[0;34m\u001b[0m\u001b[0m\n\u001b[1;32m    230\u001b[0m         \u001b[0mtemp\u001b[0m \u001b[0;34m=\u001b[0m \u001b[0mtest_mains\u001b[0m\u001b[0;34m.\u001b[0m\u001b[0mvalues\u001b[0m\u001b[0;34m.\u001b[0m\u001b[0mreshape\u001b[0m\u001b[0;34m(\u001b[0m\u001b[0mlength\u001b[0m\u001b[0;34m,\u001b[0m \u001b[0;36m1\u001b[0m\u001b[0;34m)\u001b[0m\u001b[0;34m\u001b[0m\u001b[0m\n\u001b[0;32m--> 231\u001b[0;31m         \u001b[0mlearnt_states_array\u001b[0m\u001b[0;34m.\u001b[0m\u001b[0mappend\u001b[0m\u001b[0;34m(\u001b[0m\u001b[0mself\u001b[0m\u001b[0;34m.\u001b[0m\u001b[0mmodel\u001b[0m\u001b[0;34m.\u001b[0m\u001b[0mpredict\u001b[0m\u001b[0;34m(\u001b[0m\u001b[0mtemp\u001b[0m\u001b[0;34m)\u001b[0m\u001b[0;34m)\u001b[0m\u001b[0;34m\u001b[0m\u001b[0m\n\u001b[0m\u001b[1;32m    232\u001b[0m \u001b[0;34m\u001b[0m\u001b[0m\n\u001b[1;32m    233\u001b[0m         \u001b[0;31m# Model\u001b[0m\u001b[0;34m\u001b[0m\u001b[0;34m\u001b[0m\u001b[0m\n",
      "\u001b[0;32m/Users/nipunbatra/anaconda/lib/python2.7/site-packages/hmmlearn/base.pyc\u001b[0m in \u001b[0;36mpredict\u001b[0;34m(self, obs, algorithm)\u001b[0m\n\u001b[1;32m    281\u001b[0m             \u001b[0mIndex\u001b[0m \u001b[0mof\u001b[0m \u001b[0mthe\u001b[0m \u001b[0mmost\u001b[0m \u001b[0mlikely\u001b[0m \u001b[0mstates\u001b[0m \u001b[0;32mfor\u001b[0m \u001b[0meach\u001b[0m \u001b[0mobservation\u001b[0m\u001b[0;34m\u001b[0m\u001b[0m\n\u001b[1;32m    282\u001b[0m         \"\"\"\n\u001b[0;32m--> 283\u001b[0;31m         \u001b[0m_\u001b[0m\u001b[0;34m,\u001b[0m \u001b[0mstate_sequence\u001b[0m \u001b[0;34m=\u001b[0m \u001b[0mself\u001b[0m\u001b[0;34m.\u001b[0m\u001b[0mdecode\u001b[0m\u001b[0;34m(\u001b[0m\u001b[0mobs\u001b[0m\u001b[0;34m,\u001b[0m \u001b[0malgorithm\u001b[0m\u001b[0;34m)\u001b[0m\u001b[0;34m\u001b[0m\u001b[0m\n\u001b[0m\u001b[1;32m    284\u001b[0m         \u001b[0;32mreturn\u001b[0m \u001b[0mstate_sequence\u001b[0m\u001b[0;34m\u001b[0m\u001b[0m\n\u001b[1;32m    285\u001b[0m \u001b[0;34m\u001b[0m\u001b[0m\n",
      "\u001b[0;32m/Users/nipunbatra/anaconda/lib/python2.7/site-packages/hmmlearn/base.pyc\u001b[0m in \u001b[0;36mdecode\u001b[0;34m(self, obs, algorithm)\u001b[0m\n\u001b[1;32m    264\u001b[0m         decoder = {\"viterbi\": self._decode_viterbi,\n\u001b[1;32m    265\u001b[0m                    \"map\": self._decode_map}\n\u001b[0;32m--> 266\u001b[0;31m         \u001b[0mlogprob\u001b[0m\u001b[0;34m,\u001b[0m \u001b[0mstate_sequence\u001b[0m \u001b[0;34m=\u001b[0m \u001b[0mdecoder\u001b[0m\u001b[0;34m[\u001b[0m\u001b[0malgorithm\u001b[0m\u001b[0;34m]\u001b[0m\u001b[0;34m(\u001b[0m\u001b[0mobs\u001b[0m\u001b[0;34m)\u001b[0m\u001b[0;34m\u001b[0m\u001b[0m\n\u001b[0m\u001b[1;32m    267\u001b[0m         \u001b[0;32mreturn\u001b[0m \u001b[0mlogprob\u001b[0m\u001b[0;34m,\u001b[0m \u001b[0mstate_sequence\u001b[0m\u001b[0;34m\u001b[0m\u001b[0m\n\u001b[1;32m    268\u001b[0m \u001b[0;34m\u001b[0m\u001b[0m\n",
      "\u001b[0;32m/Users/nipunbatra/anaconda/lib/python2.7/site-packages/hmmlearn/base.pyc\u001b[0m in \u001b[0;36m_decode_viterbi\u001b[0;34m(self, obs)\u001b[0m\n\u001b[1;32m    198\u001b[0m         \u001b[0mobs\u001b[0m \u001b[0;34m=\u001b[0m \u001b[0mnp\u001b[0m\u001b[0;34m.\u001b[0m\u001b[0masarray\u001b[0m\u001b[0;34m(\u001b[0m\u001b[0mobs\u001b[0m\u001b[0;34m)\u001b[0m\u001b[0;34m\u001b[0m\u001b[0m\n\u001b[1;32m    199\u001b[0m         \u001b[0mframelogprob\u001b[0m \u001b[0;34m=\u001b[0m \u001b[0mself\u001b[0m\u001b[0;34m.\u001b[0m\u001b[0m_compute_log_likelihood\u001b[0m\u001b[0;34m(\u001b[0m\u001b[0mobs\u001b[0m\u001b[0;34m)\u001b[0m\u001b[0;34m\u001b[0m\u001b[0m\n\u001b[0;32m--> 200\u001b[0;31m         \u001b[0mviterbi_logprob\u001b[0m\u001b[0;34m,\u001b[0m \u001b[0mstate_sequence\u001b[0m \u001b[0;34m=\u001b[0m \u001b[0mself\u001b[0m\u001b[0;34m.\u001b[0m\u001b[0m_do_viterbi_pass\u001b[0m\u001b[0;34m(\u001b[0m\u001b[0mframelogprob\u001b[0m\u001b[0;34m)\u001b[0m\u001b[0;34m\u001b[0m\u001b[0m\n\u001b[0m\u001b[1;32m    201\u001b[0m         \u001b[0;32mreturn\u001b[0m \u001b[0mviterbi_logprob\u001b[0m\u001b[0;34m,\u001b[0m \u001b[0mstate_sequence\u001b[0m\u001b[0;34m\u001b[0m\u001b[0m\n\u001b[1;32m    202\u001b[0m \u001b[0;34m\u001b[0m\u001b[0m\n",
      "\u001b[0;32m/Users/nipunbatra/anaconda/lib/python2.7/site-packages/hmmlearn/base.pyc\u001b[0m in \u001b[0;36m_do_viterbi_pass\u001b[0;34m(self, framelogprob)\u001b[0m\n\u001b[1;32m    461\u001b[0m         state_sequence, logprob = _hmmc._viterbi(\n\u001b[1;32m    462\u001b[0m             \u001b[0mn_observations\u001b[0m\u001b[0;34m,\u001b[0m \u001b[0mn_components\u001b[0m\u001b[0;34m,\u001b[0m \u001b[0mself\u001b[0m\u001b[0;34m.\u001b[0m\u001b[0m_log_startprob\u001b[0m\u001b[0;34m,\u001b[0m\u001b[0;34m\u001b[0m\u001b[0m\n\u001b[0;32m--> 463\u001b[0;31m             self._log_transmat, framelogprob)\n\u001b[0m\u001b[1;32m    464\u001b[0m         \u001b[0;32mreturn\u001b[0m \u001b[0mlogprob\u001b[0m\u001b[0;34m,\u001b[0m \u001b[0mstate_sequence\u001b[0m\u001b[0;34m\u001b[0m\u001b[0m\n\u001b[1;32m    465\u001b[0m \u001b[0;34m\u001b[0m\u001b[0m\n",
      "\u001b[0;32mhmmlearn/_hmmc.pyx\u001b[0m in \u001b[0;36mhmmlearn._hmmc._viterbi (hmmlearn/_hmmc.c:3557)\u001b[0;34m()\u001b[0m\n",
      "\u001b[0;32m/Users/nipunbatra/anaconda/lib/python2.7/site-packages/numpy/core/fromnumeric.pyc\u001b[0m in \u001b[0;36mamax\u001b[0;34m(a, axis, out, keepdims)\u001b[0m\n\u001b[1;32m   2138\u001b[0m     \u001b[0;32melse\u001b[0m\u001b[0;34m:\u001b[0m\u001b[0;34m\u001b[0m\u001b[0m\n\u001b[1;32m   2139\u001b[0m         return _methods._amax(a, axis=axis,\n\u001b[0;32m-> 2140\u001b[0;31m                             out=out, keepdims=keepdims)\n\u001b[0m\u001b[1;32m   2141\u001b[0m \u001b[0;34m\u001b[0m\u001b[0m\n\u001b[1;32m   2142\u001b[0m \u001b[0;32mdef\u001b[0m \u001b[0mamin\u001b[0m\u001b[0;34m(\u001b[0m\u001b[0ma\u001b[0m\u001b[0;34m,\u001b[0m \u001b[0maxis\u001b[0m\u001b[0;34m=\u001b[0m\u001b[0mNone\u001b[0m\u001b[0;34m,\u001b[0m \u001b[0mout\u001b[0m\u001b[0;34m=\u001b[0m\u001b[0mNone\u001b[0m\u001b[0;34m,\u001b[0m \u001b[0mkeepdims\u001b[0m\u001b[0;34m=\u001b[0m\u001b[0mFalse\u001b[0m\u001b[0;34m)\u001b[0m\u001b[0;34m:\u001b[0m\u001b[0;34m\u001b[0m\u001b[0m\n",
      "\u001b[0;32m/Users/nipunbatra/anaconda/lib/python2.7/site-packages/numpy/core/_methods.pyc\u001b[0m in \u001b[0;36m_amax\u001b[0;34m(a, axis, out, keepdims)\u001b[0m\n\u001b[1;32m     24\u001b[0m \u001b[0;31m# small reductions\u001b[0m\u001b[0;34m\u001b[0m\u001b[0;34m\u001b[0m\u001b[0m\n\u001b[1;32m     25\u001b[0m \u001b[0;32mdef\u001b[0m \u001b[0m_amax\u001b[0m\u001b[0;34m(\u001b[0m\u001b[0ma\u001b[0m\u001b[0;34m,\u001b[0m \u001b[0maxis\u001b[0m\u001b[0;34m=\u001b[0m\u001b[0mNone\u001b[0m\u001b[0;34m,\u001b[0m \u001b[0mout\u001b[0m\u001b[0;34m=\u001b[0m\u001b[0mNone\u001b[0m\u001b[0;34m,\u001b[0m \u001b[0mkeepdims\u001b[0m\u001b[0;34m=\u001b[0m\u001b[0mFalse\u001b[0m\u001b[0;34m)\u001b[0m\u001b[0;34m:\u001b[0m\u001b[0;34m\u001b[0m\u001b[0m\n\u001b[0;32m---> 26\u001b[0;31m     \u001b[0;32mreturn\u001b[0m \u001b[0mumr_maximum\u001b[0m\u001b[0;34m(\u001b[0m\u001b[0ma\u001b[0m\u001b[0;34m,\u001b[0m \u001b[0maxis\u001b[0m\u001b[0;34m,\u001b[0m \u001b[0mNone\u001b[0m\u001b[0;34m,\u001b[0m \u001b[0mout\u001b[0m\u001b[0;34m,\u001b[0m \u001b[0mkeepdims\u001b[0m\u001b[0;34m)\u001b[0m\u001b[0;34m\u001b[0m\u001b[0m\n\u001b[0m\u001b[1;32m     27\u001b[0m \u001b[0;34m\u001b[0m\u001b[0m\n\u001b[1;32m     28\u001b[0m \u001b[0;32mdef\u001b[0m \u001b[0m_amin\u001b[0m\u001b[0;34m(\u001b[0m\u001b[0ma\u001b[0m\u001b[0;34m,\u001b[0m \u001b[0maxis\u001b[0m\u001b[0;34m=\u001b[0m\u001b[0mNone\u001b[0m\u001b[0;34m,\u001b[0m \u001b[0mout\u001b[0m\u001b[0;34m=\u001b[0m\u001b[0mNone\u001b[0m\u001b[0;34m,\u001b[0m \u001b[0mkeepdims\u001b[0m\u001b[0;34m=\u001b[0m\u001b[0mFalse\u001b[0m\u001b[0;34m)\u001b[0m\u001b[0;34m:\u001b[0m\u001b[0;34m\u001b[0m\u001b[0m\n",
      "\u001b[0;31mKeyboardInterrupt\u001b[0m: "
     ]
    }
   ],
   "source": [
    "disag_filename = 'wikienergy-disag-fhmm.h5'\n",
    "output = HDFDataStore(disag_filename, 'w')\n",
    "fhmm.disaggregate(elec.mains(), output)"
   ]
  },
  {
   "cell_type": "code",
   "execution_count": null,
   "metadata": {
    "collapsed": false
   },
   "outputs": [],
   "source": [
    "disag = DataSet(disag_filename)\n",
    "disag_elec = disag.buildings[building_number].elec "
   ]
  },
  {
   "cell_type": "code",
   "execution_count": null,
   "metadata": {
    "collapsed": true
   },
   "outputs": [],
   "source": [
    "pred_df_fhmm = disag_elec['fridge'].load().next()[('power','active')]"
   ]
  },
  {
   "cell_type": "code",
   "execution_count": 20,
   "metadata": {
    "collapsed": true
   },
   "outputs": [],
   "source": [
    "from nilmtk.disaggregate.hart_85 import Hart85\n",
    "h = Hart85()"
   ]
  },
  {
   "cell_type": "code",
   "execution_count": 21,
   "metadata": {
    "collapsed": false
   },
   "outputs": [
    {
     "name": "stdout",
     "output_type": "stream",
     "text": [
      "Finding Edges, please wait ...\n",
      "Edge detection complete.\n",
      "Creating transition frame ...\n",
      "Transition frame created.\n",
      "Creating states frame ...\n",
      "States frame created.\n",
      "Finished.\n"
     ]
    }
   ],
   "source": [
    "h.train(elec.mains())"
   ]
  },
  {
   "cell_type": "code",
   "execution_count": 22,
   "metadata": {
    "collapsed": false
   },
   "outputs": [
    {
     "data": {
      "text/html": [
       "<div>\n",
       "<table border=\"1\" class=\"dataframe\">\n",
       "  <thead>\n",
       "    <tr style=\"text-align: right;\">\n",
       "      <th></th>\n",
       "      <th>active average</th>\n",
       "    </tr>\n",
       "  </thead>\n",
       "  <tbody>\n",
       "    <tr>\n",
       "      <th>2014-02-01 00:21:00-06:00</th>\n",
       "      <td>305.000000</td>\n",
       "    </tr>\n",
       "    <tr>\n",
       "      <th>2014-02-01 00:29:00-06:00</th>\n",
       "      <td>637.000000</td>\n",
       "    </tr>\n",
       "    <tr>\n",
       "      <th>2014-02-01 00:33:00-06:00</th>\n",
       "      <td>456.939394</td>\n",
       "    </tr>\n",
       "    <tr>\n",
       "      <th>2014-02-01 01:07:00-06:00</th>\n",
       "      <td>308.125000</td>\n",
       "    </tr>\n",
       "    <tr>\n",
       "      <th>2014-02-01 01:15:00-06:00</th>\n",
       "      <td>452.444444</td>\n",
       "    </tr>\n",
       "  </tbody>\n",
       "</table>\n",
       "</div>"
      ],
      "text/plain": [
       "                           active average\n",
       "2014-02-01 00:21:00-06:00      305.000000\n",
       "2014-02-01 00:29:00-06:00      637.000000\n",
       "2014-02-01 00:33:00-06:00      456.939394\n",
       "2014-02-01 01:07:00-06:00      308.125000\n",
       "2014-02-01 01:15:00-06:00      452.444444"
      ]
     },
     "execution_count": 22,
     "metadata": {},
     "output_type": "execute_result"
    }
   ],
   "source": [
    "h.steady_states.head()"
   ]
  },
  {
   "cell_type": "code",
   "execution_count": 23,
   "metadata": {
    "collapsed": false
   },
   "outputs": [
    {
     "data": {
      "text/html": [
       "<div>\n",
       "<table border=\"1\" class=\"dataframe\">\n",
       "  <thead>\n",
       "    <tr style=\"text-align: right;\">\n",
       "      <th></th>\n",
       "      <th>(power, active)</th>\n",
       "    </tr>\n",
       "  </thead>\n",
       "  <tbody>\n",
       "    <tr>\n",
       "      <th>0</th>\n",
       "      <td>152.154196</td>\n",
       "    </tr>\n",
       "    <tr>\n",
       "      <th>1</th>\n",
       "      <td>3401.577683</td>\n",
       "    </tr>\n",
       "    <tr>\n",
       "      <th>2</th>\n",
       "      <td>908.271235</td>\n",
       "    </tr>\n",
       "    <tr>\n",
       "      <th>3</th>\n",
       "      <td>5057.765816</td>\n",
       "    </tr>\n",
       "    <tr>\n",
       "      <th>4</th>\n",
       "      <td>1587.208333</td>\n",
       "    </tr>\n",
       "    <tr>\n",
       "      <th>5</th>\n",
       "      <td>8382.500000</td>\n",
       "    </tr>\n",
       "  </tbody>\n",
       "</table>\n",
       "</div>"
      ],
      "text/plain": [
       "   (power, active)\n",
       "0       152.154196\n",
       "1      3401.577683\n",
       "2       908.271235\n",
       "3      5057.765816\n",
       "4      1587.208333\n",
       "5      8382.500000"
      ]
     },
     "execution_count": 23,
     "metadata": {},
     "output_type": "execute_result"
    }
   ],
   "source": [
    "h.centroids"
   ]
  },
  {
   "cell_type": "code",
   "execution_count": 24,
   "metadata": {
    "collapsed": false
   },
   "outputs": [
    {
     "name": "stdout",
     "output_type": "stream",
     "text": [
      "Finding Edges, please wait ...\n",
      "Edge detection complete.\n",
      "Creating transition frame ...\n",
      "Transition frame created.\n",
      "Creating states frame ...\n",
      "States frame created.\n",
      "Finished.\n"
     ]
    }
   ],
   "source": [
    "disag_filename = 'wikienergy-disag-hart.h5'\n",
    "output = HDFDataStore(disag_filename, 'w')\n",
    "h.disaggregate(elec.mains(), output)\n",
    "disag = DataSet(disag_filename)\n",
    "disag_elec = disag.buildings[building_number].elec"
   ]
  },
  {
   "cell_type": "code",
   "execution_count": 27,
   "metadata": {
    "collapsed": true
   },
   "outputs": [],
   "source": [
    "ax1 = disag_elec['unknown', 0].load().next().plot()\n",
    "pred_df_co.plot(ax=ax1, label=\"Combinatorial Optimisation\")\n",
    "elec['fridge', 1].load().next().plot(ax=ax1)\n",
    "ax1.legend([\"Predicted Hart\", \"Predicted CO\",\"Ground truth\"]);\n",
    "plt.ylabel(\"Power (W)\")\n",
    "plt.xlabel(\"Time\");"
   ]
  },
  {
   "cell_type": "code",
   "execution_count": null,
   "metadata": {
    "collapsed": true
   },
   "outputs": [],
   "source": []
  }
 ],
 "metadata": {
  "kernelspec": {
   "display_name": "Python 2",
   "language": "python",
   "name": "python2"
  },
  "language_info": {
   "codemirror_mode": {
    "name": "ipython",
    "version": 2
   },
   "file_extension": ".py",
   "mimetype": "text/x-python",
   "name": "python",
   "nbconvert_exporter": "python",
   "pygments_lexer": "ipython2",
   "version": "2.7.10"
  }
 },
 "nbformat": 4,
 "nbformat_minor": 0
}
