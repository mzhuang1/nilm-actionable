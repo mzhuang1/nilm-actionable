{
 "metadata": {
  "name": "",
  "signature": "sha256:90134f3150905def1dfb19e2ffde056fee8e803cd4e2a1cf66ed4f21d2b34e09"
 },
 "nbformat": 3,
 "nbformat_minor": 0,
 "worksheets": [
  {
   "cells": [
    {
     "cell_type": "markdown",
     "metadata": {},
     "source": [
      "In this notebook, I'll quantify the proportion of energy of homes consumed by fridges"
     ]
    },
    {
     "cell_type": "code",
     "collapsed": false,
     "input": [],
     "language": "python",
     "metadata": {},
     "outputs": []
    }
   ],
   "metadata": {}
  }
 ]
}