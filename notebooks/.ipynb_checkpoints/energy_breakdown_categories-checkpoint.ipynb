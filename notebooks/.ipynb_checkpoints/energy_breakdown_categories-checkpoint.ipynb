{
 "metadata": {
  "name": "",
  "signature": "sha256:136904628c9bcedd6c90972eb60786d3d0067ed1d58a1adda62bffe84fa367a8"
 },
 "nbformat": 3,
 "nbformat_minor": 0,
 "worksheets": [
  {
   "cells": [
    {
     "cell_type": "code",
     "collapsed": false,
     "input": [
      "import matplotlib.pyplot as plt\n",
      "import seaborn as sns\n",
      "plt.style.use('ggplot')\n",
      "%matplotlib inline\n",
      "from nilmtk import DataSet\n",
      "import nilmtk\n",
      "import warnings\n",
      "import pandas as pd\n",
      "import numpy as np\n",
      "import sys\n",
      "warnings.filterwarnings(\"ignore\")"
     ],
     "language": "python",
     "metadata": {},
     "outputs": [],
     "prompt_number": 1
    },
    {
     "cell_type": "code",
     "collapsed": false,
     "input": [
      "ds = DataSet(\"/Users/nipunbatra/Downloads/wikienergy-2.h5\")"
     ],
     "language": "python",
     "metadata": {},
     "outputs": [],
     "prompt_number": 2
    },
    {
     "cell_type": "code",
     "collapsed": false,
     "input": [
      "num_appliances_per_home = {}\n",
      "seen = 0\n",
      "for building in ds.buildings:\n",
      "    seen+=1\n",
      "    sys.stdout.write(\"\\r \"+str(seen*100.0/239)+\"% done\")\n",
      "    sys.stdout.flush()\n",
      "    e = ds.buildings[building].elec\n",
      "    if e is not None:\n",
      "        num_appliances_per_home[building] = len(e.appliances)\n",
      "    else:\n",
      "        print building"
     ],
     "language": "python",
     "metadata": {},
     "outputs": [
      {
       "output_type": "stream",
       "stream": "stdout",
       "text": [
        "\r",
        " 0.418410041841% done"
       ]
      },
      {
       "output_type": "stream",
       "stream": "stdout",
       "text": [
        "\r",
        " 0.836820083682% done"
       ]
      },
      {
       "output_type": "stream",
       "stream": "stdout",
       "text": [
        "\r",
        " 1.25523012552% done"
       ]
      },
      {
       "output_type": "stream",
       "stream": "stdout",
       "text": [
        "\r",
        " 1.67364016736% done"
       ]
      },
      {
       "output_type": "stream",
       "stream": "stdout",
       "text": [
        "\r",
        " 2.09205020921% done"
       ]
      },
      {
       "output_type": "stream",
       "stream": "stdout",
       "text": [
        "\r",
        " 2.51046025105% done"
       ]
      },
      {
       "output_type": "stream",
       "stream": "stdout",
       "text": [
        "\r",
        " 2.92887029289% done"
       ]
      },
      {
       "output_type": "stream",
       "stream": "stdout",
       "text": [
        "\r",
        " 3.34728033473% done"
       ]
      },
      {
       "output_type": "stream",
       "stream": "stdout",
       "text": [
        "\r",
        " 3.76569037657% done"
       ]
      },
      {
       "output_type": "stream",
       "stream": "stdout",
       "text": [
        "\r",
        " 4.18410041841% done"
       ]
      },
      {
       "output_type": "stream",
       "stream": "stdout",
       "text": [
        "\r",
        " 4.60251046025% done"
       ]
      },
      {
       "output_type": "stream",
       "stream": "stdout",
       "text": [
        "\r",
        " 5.02092050209% done"
       ]
      },
      {
       "output_type": "stream",
       "stream": "stdout",
       "text": [
        "\r",
        " 5.43933054393% done"
       ]
      },
      {
       "output_type": "stream",
       "stream": "stdout",
       "text": [
        "\r",
        " 5.85774058577% done"
       ]
      },
      {
       "output_type": "stream",
       "stream": "stdout",
       "text": [
        "\r",
        " 6.27615062762% done"
       ]
      },
      {
       "output_type": "stream",
       "stream": "stdout",
       "text": [
        "\r",
        " 6.69456066946% done"
       ]
      },
      {
       "output_type": "stream",
       "stream": "stdout",
       "text": [
        "\r",
        " 7.1129707113% done"
       ]
      },
      {
       "output_type": "stream",
       "stream": "stdout",
       "text": [
        "\r",
        " 7.53138075314% done"
       ]
      },
      {
       "output_type": "stream",
       "stream": "stdout",
       "text": [
        "\r",
        " 7.94979079498% done"
       ]
      },
      {
       "output_type": "stream",
       "stream": "stdout",
       "text": [
        "\r",
        " 8.36820083682% done"
       ]
      },
      {
       "output_type": "stream",
       "stream": "stdout",
       "text": [
        "\r",
        " 8.78661087866% done"
       ]
      },
      {
       "output_type": "stream",
       "stream": "stdout",
       "text": [
        "\r",
        " 9.2050209205% done"
       ]
      },
      {
       "output_type": "stream",
       "stream": "stdout",
       "text": [
        "\r",
        " 9.62343096234% done"
       ]
      },
      {
       "output_type": "stream",
       "stream": "stdout",
       "text": [
        "\r",
        " 10.0418410042% done"
       ]
      },
      {
       "output_type": "stream",
       "stream": "stdout",
       "text": [
        "\r",
        " 10.460251046% done"
       ]
      },
      {
       "output_type": "stream",
       "stream": "stdout",
       "text": [
        "\r",
        " 10.8786610879% done"
       ]
      },
      {
       "output_type": "stream",
       "stream": "stdout",
       "text": [
        "\r",
        " 11.2970711297% done"
       ]
      },
      {
       "output_type": "stream",
       "stream": "stdout",
       "text": [
        "\r",
        " 11.7154811715% done"
       ]
      },
      {
       "output_type": "stream",
       "stream": "stdout",
       "text": [
        "\r",
        " 12.1338912134% done"
       ]
      },
      {
       "output_type": "stream",
       "stream": "stdout",
       "text": [
        "\r",
        " 12.5523012552% done"
       ]
      },
      {
       "output_type": "stream",
       "stream": "stdout",
       "text": [
        "\r",
        " 12.9707112971% done"
       ]
      },
      {
       "output_type": "stream",
       "stream": "stdout",
       "text": [
        "\r",
        " 13.3891213389% done"
       ]
      },
      {
       "output_type": "stream",
       "stream": "stdout",
       "text": [
        "\r",
        " 13.8075313808% done"
       ]
      },
      {
       "output_type": "stream",
       "stream": "stdout",
       "text": [
        "\r",
        " 14.2259414226% done"
       ]
      },
      {
       "output_type": "stream",
       "stream": "stdout",
       "text": [
        "\r",
        " 14.6443514644% done"
       ]
      },
      {
       "output_type": "stream",
       "stream": "stdout",
       "text": [
        "\r",
        " 15.0627615063% done"
       ]
      },
      {
       "output_type": "stream",
       "stream": "stdout",
       "text": [
        "\r",
        " 15.4811715481% done"
       ]
      },
      {
       "output_type": "stream",
       "stream": "stdout",
       "text": [
        "\r",
        " 15.89958159% done"
       ]
      },
      {
       "output_type": "stream",
       "stream": "stdout",
       "text": [
        "\r",
        " 16.3179916318% done"
       ]
      },
      {
       "output_type": "stream",
       "stream": "stdout",
       "text": [
        "\r",
        " 16.7364016736% done"
       ]
      },
      {
       "output_type": "stream",
       "stream": "stdout",
       "text": [
        "\r",
        " 17.1548117155% done"
       ]
      },
      {
       "output_type": "stream",
       "stream": "stdout",
       "text": [
        "\r",
        " 17.5732217573% done"
       ]
      },
      {
       "output_type": "stream",
       "stream": "stdout",
       "text": [
        "\r",
        " 17.9916317992% done"
       ]
      },
      {
       "output_type": "stream",
       "stream": "stdout",
       "text": [
        "\r",
        " 18.410041841% done"
       ]
      },
      {
       "output_type": "stream",
       "stream": "stdout",
       "text": [
        "\r",
        " 18.8284518828% done"
       ]
      },
      {
       "output_type": "stream",
       "stream": "stdout",
       "text": [
        "\r",
        " 19.2468619247% done"
       ]
      },
      {
       "output_type": "stream",
       "stream": "stdout",
       "text": [
        "\r",
        " 19.6652719665% done"
       ]
      },
      {
       "output_type": "stream",
       "stream": "stdout",
       "text": [
        "\r",
        " 20.0836820084% done"
       ]
      },
      {
       "output_type": "stream",
       "stream": "stdout",
       "text": [
        "\r",
        " 20.5020920502% done"
       ]
      },
      {
       "output_type": "stream",
       "stream": "stdout",
       "text": [
        "\r",
        " 20.9205020921% done"
       ]
      },
      {
       "output_type": "stream",
       "stream": "stdout",
       "text": [
        "\r",
        " 21.3389121339% done"
       ]
      },
      {
       "output_type": "stream",
       "stream": "stdout",
       "text": [
        "\r",
        " 21.7573221757% done"
       ]
      },
      {
       "output_type": "stream",
       "stream": "stdout",
       "text": [
        "\r",
        " 22.1757322176% done"
       ]
      },
      {
       "output_type": "stream",
       "stream": "stdout",
       "text": [
        "\r",
        " 22.5941422594% done"
       ]
      },
      {
       "output_type": "stream",
       "stream": "stdout",
       "text": [
        "\r",
        " 23.0125523013% done"
       ]
      },
      {
       "output_type": "stream",
       "stream": "stdout",
       "text": [
        "\r",
        " 23.4309623431% done"
       ]
      },
      {
       "output_type": "stream",
       "stream": "stdout",
       "text": [
        "\r",
        " 23.8493723849% done"
       ]
      },
      {
       "output_type": "stream",
       "stream": "stdout",
       "text": [
        "\r",
        " 24.2677824268% done"
       ]
      },
      {
       "output_type": "stream",
       "stream": "stdout",
       "text": [
        "\r",
        " 24.6861924686% done"
       ]
      },
      {
       "output_type": "stream",
       "stream": "stdout",
       "text": [
        "\r",
        " 25.1046025105% done"
       ]
      },
      {
       "output_type": "stream",
       "stream": "stdout",
       "text": [
        "\r",
        " 25.5230125523% done"
       ]
      },
      {
       "output_type": "stream",
       "stream": "stdout",
       "text": [
        "\r",
        " 25.9414225941% done"
       ]
      },
      {
       "output_type": "stream",
       "stream": "stdout",
       "text": [
        "\r",
        " 26.359832636% done"
       ]
      },
      {
       "output_type": "stream",
       "stream": "stdout",
       "text": [
        "\r",
        " 26.7782426778% done"
       ]
      },
      {
       "output_type": "stream",
       "stream": "stdout",
       "text": [
        "\r",
        " 27.1966527197% done"
       ]
      },
      {
       "output_type": "stream",
       "stream": "stdout",
       "text": [
        "\r",
        " 27.6150627615% done"
       ]
      },
      {
       "output_type": "stream",
       "stream": "stdout",
       "text": [
        "\r",
        " 28.0334728033% done"
       ]
      },
      {
       "output_type": "stream",
       "stream": "stdout",
       "text": [
        "\r",
        " 28.4518828452% done"
       ]
      },
      {
       "output_type": "stream",
       "stream": "stdout",
       "text": [
        "\r",
        " 28.870292887% done"
       ]
      },
      {
       "output_type": "stream",
       "stream": "stdout",
       "text": [
        "\r",
        " 29.2887029289% done"
       ]
      },
      {
       "output_type": "stream",
       "stream": "stdout",
       "text": [
        "\r",
        " 29.7071129707% done"
       ]
      },
      {
       "output_type": "stream",
       "stream": "stdout",
       "text": [
        "\r",
        " 30.1255230126% done"
       ]
      },
      {
       "output_type": "stream",
       "stream": "stdout",
       "text": [
        "\r",
        " 30.5439330544% done"
       ]
      },
      {
       "output_type": "stream",
       "stream": "stdout",
       "text": [
        "\r",
        " 30.9623430962% done"
       ]
      },
      {
       "output_type": "stream",
       "stream": "stdout",
       "text": [
        "\r",
        " 31.3807531381% done"
       ]
      },
      {
       "output_type": "stream",
       "stream": "stdout",
       "text": [
        "\r",
        " 31.7991631799% done"
       ]
      },
      {
       "output_type": "stream",
       "stream": "stdout",
       "text": [
        "\r",
        " 32.2175732218% done"
       ]
      },
      {
       "output_type": "stream",
       "stream": "stdout",
       "text": [
        "\r",
        " 32.6359832636% done"
       ]
      },
      {
       "output_type": "stream",
       "stream": "stdout",
       "text": [
        "\r",
        " 33.0543933054% done"
       ]
      },
      {
       "output_type": "stream",
       "stream": "stdout",
       "text": [
        "\r",
        " 33.4728033473% done"
       ]
      },
      {
       "output_type": "stream",
       "stream": "stdout",
       "text": [
        "\r",
        " 33.8912133891% done"
       ]
      },
      {
       "output_type": "stream",
       "stream": "stdout",
       "text": [
        "\r",
        " 34.309623431% done"
       ]
      },
      {
       "output_type": "stream",
       "stream": "stdout",
       "text": [
        "\r",
        " 34.7280334728% done"
       ]
      },
      {
       "output_type": "stream",
       "stream": "stdout",
       "text": [
        "\r",
        " 35.1464435146% done"
       ]
      },
      {
       "output_type": "stream",
       "stream": "stdout",
       "text": [
        "\r",
        " 35.5648535565% done"
       ]
      },
      {
       "output_type": "stream",
       "stream": "stdout",
       "text": [
        "\r",
        " 35.9832635983% done"
       ]
      },
      {
       "output_type": "stream",
       "stream": "stdout",
       "text": [
        "\r",
        " 36.4016736402% done"
       ]
      },
      {
       "output_type": "stream",
       "stream": "stdout",
       "text": [
        "\r",
        " 36.820083682% done"
       ]
      },
      {
       "output_type": "stream",
       "stream": "stdout",
       "text": [
        "\r",
        " 37.2384937238% done"
       ]
      },
      {
       "output_type": "stream",
       "stream": "stdout",
       "text": [
        "\r",
        " 37.6569037657% done"
       ]
      },
      {
       "output_type": "stream",
       "stream": "stdout",
       "text": [
        "\r",
        " 38.0753138075% done"
       ]
      },
      {
       "output_type": "stream",
       "stream": "stdout",
       "text": [
        "\r",
        " 38.4937238494% done"
       ]
      },
      {
       "output_type": "stream",
       "stream": "stdout",
       "text": [
        "\r",
        " 38.9121338912% done"
       ]
      },
      {
       "output_type": "stream",
       "stream": "stdout",
       "text": [
        "\r",
        " 39.3305439331% done"
       ]
      },
      {
       "output_type": "stream",
       "stream": "stdout",
       "text": [
        "\r",
        " 39.7489539749% done"
       ]
      },
      {
       "output_type": "stream",
       "stream": "stdout",
       "text": [
        "\r",
        " 40.1673640167% done"
       ]
      },
      {
       "output_type": "stream",
       "stream": "stdout",
       "text": [
        "\r",
        " 40.5857740586% done"
       ]
      },
      {
       "output_type": "stream",
       "stream": "stdout",
       "text": [
        "\r",
        " 41.0041841004% done"
       ]
      },
      {
       "output_type": "stream",
       "stream": "stdout",
       "text": [
        "\r",
        " 41.4225941423% done"
       ]
      },
      {
       "output_type": "stream",
       "stream": "stdout",
       "text": [
        "\r",
        " 41.8410041841% done"
       ]
      },
      {
       "output_type": "stream",
       "stream": "stdout",
       "text": [
        "\r",
        " 42.2594142259% done"
       ]
      },
      {
       "output_type": "stream",
       "stream": "stdout",
       "text": [
        "\r",
        " 42.6778242678% done"
       ]
      },
      {
       "output_type": "stream",
       "stream": "stdout",
       "text": [
        "\r",
        " 43.0962343096% done"
       ]
      },
      {
       "output_type": "stream",
       "stream": "stdout",
       "text": [
        "\r",
        " 43.5146443515% done"
       ]
      },
      {
       "output_type": "stream",
       "stream": "stdout",
       "text": [
        "\r",
        " 43.9330543933% done"
       ]
      },
      {
       "output_type": "stream",
       "stream": "stdout",
       "text": [
        "\r",
        " 44.3514644351% done"
       ]
      },
      {
       "output_type": "stream",
       "stream": "stdout",
       "text": [
        "\r",
        " 44.769874477% done"
       ]
      },
      {
       "output_type": "stream",
       "stream": "stdout",
       "text": [
        "\r",
        " 45.1882845188% done"
       ]
      },
      {
       "output_type": "stream",
       "stream": "stdout",
       "text": [
        "\r",
        " 45.6066945607% done"
       ]
      },
      {
       "output_type": "stream",
       "stream": "stdout",
       "text": [
        "\r",
        " 46.0251046025% done"
       ]
      },
      {
       "output_type": "stream",
       "stream": "stdout",
       "text": [
        "\r",
        " 46.4435146444% done"
       ]
      },
      {
       "output_type": "stream",
       "stream": "stdout",
       "text": [
        "\r",
        " 46.8619246862% done"
       ]
      },
      {
       "output_type": "stream",
       "stream": "stdout",
       "text": [
        "\r",
        " 47.280334728% done"
       ]
      },
      {
       "output_type": "stream",
       "stream": "stdout",
       "text": [
        "\r",
        " 47.6987447699% done"
       ]
      },
      {
       "output_type": "stream",
       "stream": "stdout",
       "text": [
        "\r",
        " 48.1171548117% done"
       ]
      },
      {
       "output_type": "stream",
       "stream": "stdout",
       "text": [
        "\r",
        " 48.5355648536% done"
       ]
      },
      {
       "output_type": "stream",
       "stream": "stdout",
       "text": [
        "\r",
        " 48.9539748954% done"
       ]
      },
      {
       "output_type": "stream",
       "stream": "stdout",
       "text": [
        "\r",
        " 49.3723849372% done"
       ]
      },
      {
       "output_type": "stream",
       "stream": "stdout",
       "text": [
        "\r",
        " 49.7907949791% done"
       ]
      },
      {
       "output_type": "stream",
       "stream": "stdout",
       "text": [
        "\r",
        " 50.2092050209% done"
       ]
      },
      {
       "output_type": "stream",
       "stream": "stdout",
       "text": [
        "\r",
        " 50.6276150628% done"
       ]
      },
      {
       "output_type": "stream",
       "stream": "stdout",
       "text": [
        "\r",
        " 51.0460251046% done"
       ]
      },
      {
       "output_type": "stream",
       "stream": "stdout",
       "text": [
        "\r",
        " 51.4644351464% done"
       ]
      },
      {
       "output_type": "stream",
       "stream": "stdout",
       "text": [
        "\r",
        " 51.8828451883% done"
       ]
      },
      {
       "output_type": "stream",
       "stream": "stdout",
       "text": [
        "\r",
        " 52.3012552301% done"
       ]
      },
      {
       "output_type": "stream",
       "stream": "stdout",
       "text": [
        "\r",
        " 52.719665272% done"
       ]
      },
      {
       "output_type": "stream",
       "stream": "stdout",
       "text": [
        "\r",
        " 53.1380753138% done"
       ]
      },
      {
       "output_type": "stream",
       "stream": "stdout",
       "text": [
        "\r",
        " 53.5564853556% done"
       ]
      },
      {
       "output_type": "stream",
       "stream": "stdout",
       "text": [
        "\r",
        " 53.9748953975% done"
       ]
      },
      {
       "output_type": "stream",
       "stream": "stdout",
       "text": [
        "\r",
        " 54.3933054393% done"
       ]
      },
      {
       "output_type": "stream",
       "stream": "stdout",
       "text": [
        "\r",
        " 54.8117154812% done"
       ]
      },
      {
       "output_type": "stream",
       "stream": "stdout",
       "text": [
        "\r",
        " 55.230125523% done"
       ]
      },
      {
       "output_type": "stream",
       "stream": "stdout",
       "text": [
        "\r",
        " 55.6485355649% done"
       ]
      },
      {
       "output_type": "stream",
       "stream": "stdout",
       "text": [
        "\r",
        " 56.0669456067% done"
       ]
      },
      {
       "output_type": "stream",
       "stream": "stdout",
       "text": [
        "\r",
        " 56.4853556485% done"
       ]
      },
      {
       "output_type": "stream",
       "stream": "stdout",
       "text": [
        "\r",
        " 56.9037656904% done"
       ]
      },
      {
       "output_type": "stream",
       "stream": "stdout",
       "text": [
        "\r",
        " 57.3221757322% done"
       ]
      },
      {
       "output_type": "stream",
       "stream": "stdout",
       "text": [
        "\r",
        " 57.7405857741% done"
       ]
      },
      {
       "output_type": "stream",
       "stream": "stdout",
       "text": [
        "\r",
        " 58.1589958159% done"
       ]
      },
      {
       "output_type": "stream",
       "stream": "stdout",
       "text": [
        "\r",
        " 58.5774058577% done"
       ]
      },
      {
       "output_type": "stream",
       "stream": "stdout",
       "text": [
        "\r",
        " 58.9958158996% done"
       ]
      },
      {
       "output_type": "stream",
       "stream": "stdout",
       "text": [
        "\r",
        " 59.4142259414% done"
       ]
      },
      {
       "output_type": "stream",
       "stream": "stdout",
       "text": [
        "\r",
        " 59.8326359833% done"
       ]
      },
      {
       "output_type": "stream",
       "stream": "stdout",
       "text": [
        "\r",
        " 60.2510460251% done"
       ]
      },
      {
       "output_type": "stream",
       "stream": "stdout",
       "text": [
        "\r",
        " 60.6694560669% done"
       ]
      },
      {
       "output_type": "stream",
       "stream": "stdout",
       "text": [
        "\r",
        " 61.0878661088% done"
       ]
      },
      {
       "output_type": "stream",
       "stream": "stdout",
       "text": [
        "\r",
        " 61.5062761506% done"
       ]
      },
      {
       "output_type": "stream",
       "stream": "stdout",
       "text": [
        "\r",
        " 61.9246861925% done"
       ]
      },
      {
       "output_type": "stream",
       "stream": "stdout",
       "text": [
        "\r",
        " 62.3430962343% done"
       ]
      },
      {
       "output_type": "stream",
       "stream": "stdout",
       "text": [
        "\r",
        " 62.7615062762% done"
       ]
      },
      {
       "output_type": "stream",
       "stream": "stdout",
       "text": [
        "\r",
        " 63.179916318% done"
       ]
      },
      {
       "output_type": "stream",
       "stream": "stdout",
       "text": [
        "\r",
        " 63.5983263598% done"
       ]
      },
      {
       "output_type": "stream",
       "stream": "stdout",
       "text": [
        "\r",
        " 64.0167364017% done"
       ]
      },
      {
       "output_type": "stream",
       "stream": "stdout",
       "text": [
        "\r",
        " 64.4351464435% done"
       ]
      },
      {
       "output_type": "stream",
       "stream": "stdout",
       "text": [
        "\r",
        " 64.8535564854% done"
       ]
      },
      {
       "output_type": "stream",
       "stream": "stdout",
       "text": [
        "\r",
        " 65.2719665272% done"
       ]
      },
      {
       "output_type": "stream",
       "stream": "stdout",
       "text": [
        "\r",
        " 65.690376569% done"
       ]
      },
      {
       "output_type": "stream",
       "stream": "stdout",
       "text": [
        "\r",
        " 66.1087866109% done"
       ]
      },
      {
       "output_type": "stream",
       "stream": "stdout",
       "text": [
        "\r",
        " 66.5271966527% done"
       ]
      },
      {
       "output_type": "stream",
       "stream": "stdout",
       "text": [
        "\r",
        " 66.9456066946% done"
       ]
      },
      {
       "output_type": "stream",
       "stream": "stdout",
       "text": [
        "\r",
        " 67.3640167364% done"
       ]
      },
      {
       "output_type": "stream",
       "stream": "stdout",
       "text": [
        "\r",
        " 67.7824267782% done"
       ]
      },
      {
       "output_type": "stream",
       "stream": "stdout",
       "text": [
        "\r",
        " 68.2008368201% done"
       ]
      },
      {
       "output_type": "stream",
       "stream": "stdout",
       "text": [
        "\r",
        " 68.6192468619% done"
       ]
      },
      {
       "output_type": "stream",
       "stream": "stdout",
       "text": [
        "\r",
        " 69.0376569038% done"
       ]
      },
      {
       "output_type": "stream",
       "stream": "stdout",
       "text": [
        "\r",
        " 69.4560669456% done"
       ]
      },
      {
       "output_type": "stream",
       "stream": "stdout",
       "text": [
        "\r",
        " 69.8744769874% done"
       ]
      },
      {
       "output_type": "stream",
       "stream": "stdout",
       "text": [
        "\r",
        " 70.2928870293% done"
       ]
      },
      {
       "output_type": "stream",
       "stream": "stdout",
       "text": [
        "\r",
        " 70.7112970711% done"
       ]
      },
      {
       "output_type": "stream",
       "stream": "stdout",
       "text": [
        "\r",
        " 71.129707113% done"
       ]
      },
      {
       "output_type": "stream",
       "stream": "stdout",
       "text": [
        "\r",
        " 71.5481171548% done"
       ]
      },
      {
       "output_type": "stream",
       "stream": "stdout",
       "text": [
        "\r",
        " 71.9665271967% done"
       ]
      },
      {
       "output_type": "stream",
       "stream": "stdout",
       "text": [
        "\r",
        " 72.3849372385% done"
       ]
      },
      {
       "output_type": "stream",
       "stream": "stdout",
       "text": [
        "\r",
        " 72.8033472803% done"
       ]
      },
      {
       "output_type": "stream",
       "stream": "stdout",
       "text": [
        "\r",
        " 73.2217573222% done"
       ]
      },
      {
       "output_type": "stream",
       "stream": "stdout",
       "text": [
        "\r",
        " 73.640167364% done"
       ]
      },
      {
       "output_type": "stream",
       "stream": "stdout",
       "text": [
        "\r",
        " 74.0585774059% done"
       ]
      },
      {
       "output_type": "stream",
       "stream": "stdout",
       "text": [
        "\r",
        " 74.4769874477% done"
       ]
      },
      {
       "output_type": "stream",
       "stream": "stdout",
       "text": [
        "\r",
        " 74.8953974895% done"
       ]
      },
      {
       "output_type": "stream",
       "stream": "stdout",
       "text": [
        "\r",
        " 75.3138075314% done"
       ]
      },
      {
       "output_type": "stream",
       "stream": "stdout",
       "text": [
        "\r",
        " 75.7322175732% done"
       ]
      },
      {
       "output_type": "stream",
       "stream": "stdout",
       "text": [
        "\r",
        " 76.1506276151% done"
       ]
      },
      {
       "output_type": "stream",
       "stream": "stdout",
       "text": [
        "\r",
        " 76.5690376569% done"
       ]
      },
      {
       "output_type": "stream",
       "stream": "stdout",
       "text": [
        "\r",
        " 76.9874476987% done"
       ]
      },
      {
       "output_type": "stream",
       "stream": "stdout",
       "text": [
        "\r",
        " 77.4058577406% done"
       ]
      },
      {
       "output_type": "stream",
       "stream": "stdout",
       "text": [
        "\r",
        " 77.8242677824% done"
       ]
      },
      {
       "output_type": "stream",
       "stream": "stdout",
       "text": [
        "\r",
        " 78.2426778243% done"
       ]
      },
      {
       "output_type": "stream",
       "stream": "stdout",
       "text": [
        "\r",
        " 78.6610878661% done"
       ]
      },
      {
       "output_type": "stream",
       "stream": "stdout",
       "text": [
        "\r",
        " 79.0794979079% done"
       ]
      },
      {
       "output_type": "stream",
       "stream": "stdout",
       "text": [
        "\r",
        " 79.4979079498% done"
       ]
      },
      {
       "output_type": "stream",
       "stream": "stdout",
       "text": [
        "\r",
        " 79.9163179916% done"
       ]
      },
      {
       "output_type": "stream",
       "stream": "stdout",
       "text": [
        "\r",
        " 80.3347280335% done"
       ]
      },
      {
       "output_type": "stream",
       "stream": "stdout",
       "text": [
        "\r",
        " 80.7531380753% done"
       ]
      },
      {
       "output_type": "stream",
       "stream": "stdout",
       "text": [
        "\r",
        " 81.1715481172% done"
       ]
      },
      {
       "output_type": "stream",
       "stream": "stdout",
       "text": [
        "\r",
        " 81.589958159% done"
       ]
      },
      {
       "output_type": "stream",
       "stream": "stdout",
       "text": [
        "\r",
        " 82.0083682008% done"
       ]
      },
      {
       "output_type": "stream",
       "stream": "stdout",
       "text": [
        "\r",
        " 82.4267782427% done"
       ]
      },
      {
       "output_type": "stream",
       "stream": "stdout",
       "text": [
        "\r",
        " 82.8451882845% done"
       ]
      },
      {
       "output_type": "stream",
       "stream": "stdout",
       "text": [
        "\r",
        " 83.2635983264% done"
       ]
      },
      {
       "output_type": "stream",
       "stream": "stdout",
       "text": [
        "\r",
        " 83.6820083682% done"
       ]
      },
      {
       "output_type": "stream",
       "stream": "stdout",
       "text": [
        "\r",
        " 84.10041841% done"
       ]
      },
      {
       "output_type": "stream",
       "stream": "stdout",
       "text": [
        "\r",
        " 84.5188284519% done"
       ]
      },
      {
       "output_type": "stream",
       "stream": "stdout",
       "text": [
        "\r",
        " 84.9372384937% done"
       ]
      },
      {
       "output_type": "stream",
       "stream": "stdout",
       "text": [
        "\r",
        " 85.3556485356% done"
       ]
      },
      {
       "output_type": "stream",
       "stream": "stdout",
       "text": [
        "\r",
        " 85.7740585774% done"
       ]
      },
      {
       "output_type": "stream",
       "stream": "stdout",
       "text": [
        "\r",
        " 86.1924686192% done"
       ]
      },
      {
       "output_type": "stream",
       "stream": "stdout",
       "text": [
        "\r",
        " 86.6108786611% done"
       ]
      },
      {
       "output_type": "stream",
       "stream": "stdout",
       "text": [
        "\r",
        " 87.0292887029% done"
       ]
      },
      {
       "output_type": "stream",
       "stream": "stdout",
       "text": [
        "\r",
        " 87.4476987448% done"
       ]
      },
      {
       "output_type": "stream",
       "stream": "stdout",
       "text": [
        "\r",
        " 87.8661087866% done"
       ]
      },
      {
       "output_type": "stream",
       "stream": "stdout",
       "text": [
        "\r",
        " 88.2845188285% done"
       ]
      },
      {
       "output_type": "stream",
       "stream": "stdout",
       "text": [
        "\r",
        " 88.7029288703% done"
       ]
      },
      {
       "output_type": "stream",
       "stream": "stdout",
       "text": [
        "\r",
        " 89.1213389121% done"
       ]
      },
      {
       "output_type": "stream",
       "stream": "stdout",
       "text": [
        "\r",
        " 89.539748954% done"
       ]
      },
      {
       "output_type": "stream",
       "stream": "stdout",
       "text": [
        "\r",
        " 89.9581589958% done"
       ]
      },
      {
       "output_type": "stream",
       "stream": "stdout",
       "text": [
        "\r",
        " 90.3765690377% done"
       ]
      },
      {
       "output_type": "stream",
       "stream": "stdout",
       "text": [
        "\r",
        " 90.7949790795% done"
       ]
      },
      {
       "output_type": "stream",
       "stream": "stdout",
       "text": [
        "\r",
        " 91.2133891213% done"
       ]
      },
      {
       "output_type": "stream",
       "stream": "stdout",
       "text": [
        "\r",
        " 91.6317991632% done"
       ]
      },
      {
       "output_type": "stream",
       "stream": "stdout",
       "text": [
        "\r",
        " 92.050209205% done"
       ]
      },
      {
       "output_type": "stream",
       "stream": "stdout",
       "text": [
        "\r",
        " 92.4686192469% done"
       ]
      },
      {
       "output_type": "stream",
       "stream": "stdout",
       "text": [
        "\r",
        " 92.8870292887% done"
       ]
      },
      {
       "output_type": "stream",
       "stream": "stdout",
       "text": [
        "\r",
        " 93.3054393305% done"
       ]
      },
      {
       "output_type": "stream",
       "stream": "stdout",
       "text": [
        "\r",
        " 93.7238493724% done"
       ]
      },
      {
       "output_type": "stream",
       "stream": "stdout",
       "text": [
        "\r",
        " 94.1422594142% done"
       ]
      },
      {
       "output_type": "stream",
       "stream": "stdout",
       "text": [
        "\r",
        " 94.5606694561% done"
       ]
      },
      {
       "output_type": "stream",
       "stream": "stdout",
       "text": [
        "\r",
        " 94.9790794979% done"
       ]
      },
      {
       "output_type": "stream",
       "stream": "stdout",
       "text": [
        "\r",
        " 95.3974895397% done"
       ]
      },
      {
       "output_type": "stream",
       "stream": "stdout",
       "text": [
        "\r",
        " 95.8158995816% done"
       ]
      },
      {
       "output_type": "stream",
       "stream": "stdout",
       "text": [
        "\r",
        " 96.2343096234% done"
       ]
      },
      {
       "output_type": "stream",
       "stream": "stdout",
       "text": [
        "\r",
        " 96.6527196653% done"
       ]
      },
      {
       "output_type": "stream",
       "stream": "stdout",
       "text": [
        "\r",
        " 97.0711297071% done"
       ]
      },
      {
       "output_type": "stream",
       "stream": "stdout",
       "text": [
        "\r",
        " 97.489539749% done"
       ]
      },
      {
       "output_type": "stream",
       "stream": "stdout",
       "text": [
        "\r",
        " 97.9079497908% done"
       ]
      },
      {
       "output_type": "stream",
       "stream": "stdout",
       "text": [
        "\r",
        " 98.3263598326% done"
       ]
      },
      {
       "output_type": "stream",
       "stream": "stdout",
       "text": [
        "\r",
        " 98.7447698745% done"
       ]
      },
      {
       "output_type": "stream",
       "stream": "stdout",
       "text": [
        "\r",
        " 99.1631799163% done"
       ]
      },
      {
       "output_type": "stream",
       "stream": "stdout",
       "text": [
        "\r",
        " 99.5815899582% done"
       ]
      },
      {
       "output_type": "stream",
       "stream": "stdout",
       "text": [
        "\r",
        " 100.0% done"
       ]
      }
     ],
     "prompt_number": 3
    },
    {
     "cell_type": "code",
     "collapsed": false,
     "input": [
      "df_num_appliances = pd.DataFrame({\"num_appliances\":num_appliances_per_home})"
     ],
     "language": "python",
     "metadata": {},
     "outputs": [],
     "prompt_number": 4
    },
    {
     "cell_type": "code",
     "collapsed": false,
     "input": [
      "zero_appliances = df_num_appliances[df_num_appliances[\"num_appliances\"]==0]\n",
      "zero_appliances, len(zero_appliances)"
     ],
     "language": "python",
     "metadata": {},
     "outputs": [
      {
       "metadata": {},
       "output_type": "pyout",
       "prompt_number": 5,
       "text": [
        "(     num_appliances\n",
        " 7                 0\n",
        " 17                0\n",
        " 30                0\n",
        " 48                0\n",
        " 59                0\n",
        " 62                0\n",
        " 65                0\n",
        " 95                0\n",
        " 119               0\n",
        " 151               0\n",
        " 196               0, 11)"
       ]
      }
     ],
     "prompt_number": 5
    },
    {
     "cell_type": "code",
     "collapsed": false,
     "input": [
      "buildings_to_ignore = zero_appliances.index.values.tolist()\n",
      "buildings_to_ignore.extend([199])\n",
      "print buildings_to_ignore\n",
      "buildings_to_consider = [l for l in range(1, 239) if l not in buildings_to_ignore]"
     ],
     "language": "python",
     "metadata": {},
     "outputs": [
      {
       "output_type": "stream",
       "stream": "stdout",
       "text": [
        "[7, 17, 30, 48, 59, 62, 65, 95, 119, 151, 196, 199]\n"
       ]
      }
     ],
     "prompt_number": 6
    },
    {
     "cell_type": "code",
     "collapsed": false,
     "input": [
      "categories = set()\n",
      "appliance_types = set()\n",
      "for appliance in nilmtk.global_meter_group.appliances:\n",
      "    categories.update(appliance.categories())\n",
      "    appliance_types.add(appliance.type['type'])"
     ],
     "language": "python",
     "metadata": {},
     "outputs": [],
     "prompt_number": 7
    },
    {
     "cell_type": "code",
     "collapsed": false,
     "input": [
      "appliance_types"
     ],
     "language": "python",
     "metadata": {},
     "outputs": [
      {
       "metadata": {},
       "output_type": "pyout",
       "prompt_number": 8,
       "text": [
        "{'air conditioner',\n",
        " 'appliance',\n",
        " 'dish washer',\n",
        " 'electric furnace',\n",
        " 'electric hot tub heater',\n",
        " 'electric space heater',\n",
        " 'electric swimming pool heater',\n",
        " 'electric vehicle',\n",
        " 'electric water heating appliance',\n",
        " 'freezer',\n",
        " 'fridge',\n",
        " 'light',\n",
        " 'microwave',\n",
        " 'oven',\n",
        " 'security alarm',\n",
        " 'sockets',\n",
        " 'spin dryer',\n",
        " 'stove',\n",
        " 'unknown',\n",
        " 'washer dryer',\n",
        " 'washing machine',\n",
        " 'waste disposal unit'}"
       ]
      }
     ],
     "prompt_number": 8
    },
    {
     "cell_type": "code",
     "collapsed": false,
     "input": [
      "ALL_APPLIANCES = list(appliance_types)\n",
      "HVAC_APPLIANCES = ['air conditioner', 'electric furnace', 'electric space heater']\n",
      "LIGHT_APPLIANCES = ['light']\n",
      "WASHING_APPLIANCES = ['washing machine', 'washer dryer', 'spin dryer']\n",
      "KITCHEN_APPLIANCES = ['dish washer', 'microwave', 'oven', 'stove']\n",
      "FRIDGE_APPLIANCES = ['fridge', 'freezer']\n",
      "WATER_HEATING_APPLIANCES = ['electric hot tub heater', 'electric swimming pool heater', 'electric water heating appliance']\n",
      "SOCKET_APPLIANCES = ['sockets']\n",
      "import itertools\n",
      "ab = itertools.chain(HVAC_APPLIANCES, LIGHT_APPLIANCES, WASHING_APPLIANCES, \n",
      "                     KITCHEN_APPLIANCES, FRIDGE_APPLIANCES, WATER_HEATING_APPLIANCES,\n",
      "                     SOCKET_APPLIANCES)\n",
      "\n",
      "ALL_LIST = {\"hvac\": HVAC_APPLIANCES, \"light\": LIGHT_APPLIANCES, \n",
      "            \"washing\":WASHING_APPLIANCES, \"kitchen\":KITCHEN_APPLIANCES, \n",
      "            \"fridge\": FRIDGE_APPLIANCES, \"water_heating\":WATER_HEATING_APPLIANCES,\n",
      "            \"socket\":SOCKET_APPLIANCES, \n",
      "            \"ev\": ['electric vehicle'],\n",
      "            \"others\":list(set(ALL_APPLIANCES)-set(ab))\n",
      "            }"
     ],
     "language": "python",
     "metadata": {},
     "outputs": [],
     "prompt_number": 9
    },
    {
     "cell_type": "code",
     "collapsed": false,
     "input": [
      "ALL_LIST"
     ],
     "language": "python",
     "metadata": {},
     "outputs": [
      {
       "metadata": {},
       "output_type": "pyout",
       "prompt_number": 10,
       "text": [
        "{'ev': ['electric vehicle'],\n",
        " 'fridge': ['fridge', 'freezer'],\n",
        " 'hvac': ['air conditioner', 'electric furnace', 'electric space heater'],\n",
        " 'kitchen': ['dish washer', 'microwave', 'oven', 'stove'],\n",
        " 'light': ['light'],\n",
        " 'others': ['unknown',\n",
        "  'appliance',\n",
        "  'security alarm',\n",
        "  'waste disposal unit',\n",
        "  'electric vehicle'],\n",
        " 'socket': ['sockets'],\n",
        " 'washing': ['washing machine', 'washer dryer', 'spin dryer'],\n",
        " 'water_heating': ['electric hot tub heater',\n",
        "  'electric swimming pool heater',\n",
        "  'electric water heating appliance']}"
       ]
      }
     ],
     "prompt_number": 10
    },
    {
     "cell_type": "code",
     "collapsed": false,
     "input": [
      "\"\"\"\n",
      "out = {}\n",
      "for building in buildings_to_consider[:10]:\n",
      "    e = ds.buildings[building].elec\n",
      "    out[building] = {}\n",
      "    #out[building][\"total\"] = e.mains().total_energy()[\"active\"]\n",
      "    for APPLIANCE_LIST_NAME, APPLIANCE_LIST in ALL_LIST.iteritems():\n",
      "        out[building][APPLIANCE_LIST_NAME] = {}\n",
      "        for appliance in APPLIANCE_LIST:\n",
      "            m = e.select_using_appliances(type = appliance)\n",
      "            if len(m.meters)>0:\n",
      "                out[building][APPLIANCE_LIST_NAME][appliance] = m.total_energy()[\"active\"]\n",
      "            else:\n",
      "                out[building][APPLIANCE_LIST_NAME][appliance] = 0\n",
      "\"\"\"                "
     ],
     "language": "python",
     "metadata": {},
     "outputs": [
      {
       "metadata": {},
       "output_type": "pyout",
       "prompt_number": 11,
       "text": [
        "'\\nout = {}\\nfor building in buildings_to_consider[:10]:\\n    e = ds.buildings[building].elec\\n    out[building] = {}\\n    #out[building][\"total\"] = e.mains().total_energy()[\"active\"]\\n    for APPLIANCE_LIST_NAME, APPLIANCE_LIST in ALL_LIST.iteritems():\\n        out[building][APPLIANCE_LIST_NAME] = {}\\n        for appliance in APPLIANCE_LIST:\\n            m = e.select_using_appliances(type = appliance)\\n            if len(m.meters)>0:\\n                out[building][APPLIANCE_LIST_NAME][appliance] = m.total_energy()[\"active\"]\\n            else:\\n                out[building][APPLIANCE_LIST_NAME][appliance] = 0\\n'"
       ]
      }
     ],
     "prompt_number": 11
    },
    {
     "cell_type": "code",
     "collapsed": false,
     "input": [
      "\n",
      "out = {}\n",
      "for building in buildings_to_consider[:]:\n",
      "    e = ds.buildings[building].elec\n",
      "    out[building] = {}\n",
      "    out[building][\"total\"] = e.mains().total_energy()[\"active\"]\n",
      "    out[building][\"submetered\"] = 100*e.proportion_of_energy_submetered()\n",
      "    for APPLIANCE_LIST_NAME, APPLIANCE_LIST in ALL_LIST.iteritems():\n",
      "        #out[building][APPLIANCE_LIST_NAME] = {}\n",
      "        out[building][APPLIANCE_LIST_NAME] = 0\n",
      "        for appliance in APPLIANCE_LIST:\n",
      "            m = e.select_using_appliances(type = appliance)\n",
      "            if len(m.meters)>0:\n",
      "                out[building][APPLIANCE_LIST_NAME]+= m.total_energy()[\"active\"]\n",
      "            else:\n",
      "                out[building][APPLIANCE_LIST_NAME]+= 0"
     ],
     "language": "python",
     "metadata": {},
     "outputs": []
    },
    {
     "cell_type": "code",
     "collapsed": false,
     "input": [
      "df_total = pd.DataFrame(out).T"
     ],
     "language": "python",
     "metadata": {},
     "outputs": [],
     "prompt_number": 12
    },
    {
     "cell_type": "code",
     "collapsed": false,
     "input": [
      "df_total['unmetered'] = ((100-df_total['submetered'])*df_total['total'])/100"
     ],
     "language": "python",
     "metadata": {},
     "outputs": [],
     "prompt_number": 13
    },
    {
     "cell_type": "code",
     "collapsed": false,
     "input": [
      "df_total = df_total.drop('submetered', 1)"
     ],
     "language": "python",
     "metadata": {},
     "outputs": [],
     "prompt_number": 14
    },
    {
     "cell_type": "code",
     "collapsed": false,
     "input": [
      "df_total.head()"
     ],
     "language": "python",
     "metadata": {},
     "outputs": [
      {
       "html": [
        "<div style=\"max-height:1000px;max-width:1500px;overflow:auto;\">\n",
        "<table border=\"1\" class=\"dataframe\">\n",
        "  <thead>\n",
        "    <tr style=\"text-align: right;\">\n",
        "      <th></th>\n",
        "      <th>ev</th>\n",
        "      <th>fridge</th>\n",
        "      <th>hvac</th>\n",
        "      <th>kitchen</th>\n",
        "      <th>light</th>\n",
        "      <th>others</th>\n",
        "      <th>socket</th>\n",
        "      <th>total</th>\n",
        "      <th>washing</th>\n",
        "      <th>water_heating</th>\n",
        "      <th>unmetered</th>\n",
        "    </tr>\n",
        "  </thead>\n",
        "  <tbody>\n",
        "    <tr>\n",
        "      <th>1</th>\n",
        "      <td> 384.120183</td>\n",
        "      <td> 152.853100</td>\n",
        "      <td> 403.611583</td>\n",
        "      <td> 38.466683</td>\n",
        "      <td>  131.085267</td>\n",
        "      <td> 390.323883</td>\n",
        "      <td>  10.409283</td>\n",
        "      <td> 1622.748517</td>\n",
        "      <td>   8.810550</td>\n",
        "      <td>   0.000000</td>\n",
        "      <td>  487.188167</td>\n",
        "    </tr>\n",
        "    <tr>\n",
        "      <th>2</th>\n",
        "      <td>   0.000000</td>\n",
        "      <td>  11.712983</td>\n",
        "      <td> 125.732733</td>\n",
        "      <td> 25.494883</td>\n",
        "      <td>    0.000000</td>\n",
        "      <td>   0.000000</td>\n",
        "      <td>   0.000000</td>\n",
        "      <td> 1818.442850</td>\n",
        "      <td> 151.826467</td>\n",
        "      <td> 350.708833</td>\n",
        "      <td> 1152.966950</td>\n",
        "    </tr>\n",
        "    <tr>\n",
        "      <th>3</th>\n",
        "      <td>   0.000000</td>\n",
        "      <td>  84.900700</td>\n",
        "      <td> 757.249083</td>\n",
        "      <td>  0.000000</td>\n",
        "      <td>  327.966183</td>\n",
        "      <td>   0.000000</td>\n",
        "      <td> 693.585600</td>\n",
        "      <td> 5566.579350</td>\n",
        "      <td> 120.847300</td>\n",
        "      <td> 192.808150</td>\n",
        "      <td> 3389.228806</td>\n",
        "    </tr>\n",
        "    <tr>\n",
        "      <th>4</th>\n",
        "      <td>   0.000000</td>\n",
        "      <td> 244.607050</td>\n",
        "      <td> 640.249500</td>\n",
        "      <td> 65.266517</td>\n",
        "      <td> 1177.674467</td>\n",
        "      <td>   0.027550</td>\n",
        "      <td>   0.182250</td>\n",
        "      <td> 2746.541933</td>\n",
        "      <td>  93.526817</td>\n",
        "      <td>   0.000083</td>\n",
        "      <td>  525.008756</td>\n",
        "    </tr>\n",
        "    <tr>\n",
        "      <th>5</th>\n",
        "      <td>   0.000000</td>\n",
        "      <td> 241.172967</td>\n",
        "      <td> 111.960983</td>\n",
        "      <td> 16.423067</td>\n",
        "      <td>    0.000000</td>\n",
        "      <td>   0.334633</td>\n",
        "      <td> 472.101700</td>\n",
        "      <td> 1366.520750</td>\n",
        "      <td>  71.717817</td>\n",
        "      <td>   0.000000</td>\n",
        "      <td>  452.810612</td>\n",
        "    </tr>\n",
        "  </tbody>\n",
        "</table>\n",
        "</div>"
       ],
       "metadata": {},
       "output_type": "pyout",
       "prompt_number": 15,
       "text": [
        "           ev      fridge        hvac    kitchen        light      others  \\\n",
        "1  384.120183  152.853100  403.611583  38.466683   131.085267  390.323883   \n",
        "2    0.000000   11.712983  125.732733  25.494883     0.000000    0.000000   \n",
        "3    0.000000   84.900700  757.249083   0.000000   327.966183    0.000000   \n",
        "4    0.000000  244.607050  640.249500  65.266517  1177.674467    0.027550   \n",
        "5    0.000000  241.172967  111.960983  16.423067     0.000000    0.334633   \n",
        "\n",
        "       socket        total     washing  water_heating    unmetered  \n",
        "1   10.409283  1622.748517    8.810550       0.000000   487.188167  \n",
        "2    0.000000  1818.442850  151.826467     350.708833  1152.966950  \n",
        "3  693.585600  5566.579350  120.847300     192.808150  3389.228806  \n",
        "4    0.182250  2746.541933   93.526817       0.000083   525.008756  \n",
        "5  472.101700  1366.520750   71.717817       0.000000   452.810612  "
       ]
      }
     ],
     "prompt_number": 15
    },
    {
     "cell_type": "code",
     "collapsed": false,
     "input": [
      "num_days = {}\n",
      "for building in buildings_to_consider[:]:\n",
      "    e = ds.buildings[building].elec\n",
      "    tf = e.get_timeframe()\n",
      "    start, end = tf.start, tf.end\n",
      "    num_days[building] = (end-start).days"
     ],
     "language": "python",
     "metadata": {},
     "outputs": [],
     "prompt_number": 16
    },
    {
     "cell_type": "code",
     "collapsed": false,
     "input": [
      "df_total[\"days\"] = pd.Series(num_days)"
     ],
     "language": "python",
     "metadata": {},
     "outputs": [],
     "prompt_number": 17
    },
    {
     "cell_type": "code",
     "collapsed": false,
     "input": [
      "dfs = {}\n",
      "for i in df_total.index:\n",
      "    dfs[i] = df_total.ix[i].div(pd.Series(num_days).ix[i])\n",
      "\n"
     ],
     "language": "python",
     "metadata": {},
     "outputs": [],
     "prompt_number": 18
    },
    {
     "cell_type": "code",
     "collapsed": false,
     "input": [
      "df_total_day_normalized = pd.DataFrame(dfs).T"
     ],
     "language": "python",
     "metadata": {},
     "outputs": [],
     "prompt_number": 19
    },
    {
     "cell_type": "code",
     "collapsed": false,
     "input": [
      "not_days_cols = [col for col in df_total.columns if col!=\"days\"]"
     ],
     "language": "python",
     "metadata": {},
     "outputs": [],
     "prompt_number": 20
    },
    {
     "cell_type": "code",
     "collapsed": false,
     "input": [
      "df_total_percentage=100*df_total[[col for col in df_total.columns if col not in ['total']]]/df_total[['total']]"
     ],
     "language": "python",
     "metadata": {},
     "outputs": [],
     "prompt_number": 21
    },
    {
     "cell_type": "code",
     "collapsed": false,
     "input": [
      "df_reduced=df_total[[col for col in df_total.columns if col not in ['total']]]"
     ],
     "language": "python",
     "metadata": {},
     "outputs": [],
     "prompt_number": 22
    },
    {
     "cell_type": "code",
     "collapsed": false,
     "input": [
      "for col in df_reduced.columns:\n",
      "    df_reduced[col] = 100*df_reduced[col]/df_total['total']"
     ],
     "language": "python",
     "metadata": {},
     "outputs": [],
     "prompt_number": 23
    },
    {
     "cell_type": "code",
     "collapsed": false,
     "input": [
      "df_reduced.head()"
     ],
     "language": "python",
     "metadata": {},
     "outputs": [
      {
       "html": [
        "<div style=\"max-height:1000px;max-width:1500px;overflow:auto;\">\n",
        "<table border=\"1\" class=\"dataframe\">\n",
        "  <thead>\n",
        "    <tr style=\"text-align: right;\">\n",
        "      <th></th>\n",
        "      <th>ev</th>\n",
        "      <th>fridge</th>\n",
        "      <th>hvac</th>\n",
        "      <th>kitchen</th>\n",
        "      <th>light</th>\n",
        "      <th>others</th>\n",
        "      <th>socket</th>\n",
        "      <th>washing</th>\n",
        "      <th>water_heating</th>\n",
        "      <th>unmetered</th>\n",
        "      <th>days</th>\n",
        "    </tr>\n",
        "  </thead>\n",
        "  <tbody>\n",
        "    <tr>\n",
        "      <th>1</th>\n",
        "      <td> 23.670962</td>\n",
        "      <td>  9.419395</td>\n",
        "      <td> 24.872097</td>\n",
        "      <td> 2.370465</td>\n",
        "      <td>  8.077978</td>\n",
        "      <td> 24.053258</td>\n",
        "      <td>  0.641460</td>\n",
        "      <td> 0.542940</td>\n",
        "      <td>  0.000000</td>\n",
        "      <td> 30.022407</td>\n",
        "      <td>  3.697431</td>\n",
        "    </tr>\n",
        "    <tr>\n",
        "      <th>2</th>\n",
        "      <td>  0.000000</td>\n",
        "      <td>  0.644122</td>\n",
        "      <td>  6.914308</td>\n",
        "      <td> 1.402017</td>\n",
        "      <td>  0.000000</td>\n",
        "      <td>  0.000000</td>\n",
        "      <td>  0.000000</td>\n",
        "      <td> 8.349257</td>\n",
        "      <td> 19.286217</td>\n",
        "      <td> 63.404079</td>\n",
        "      <td>  3.299526</td>\n",
        "    </tr>\n",
        "    <tr>\n",
        "      <th>3</th>\n",
        "      <td>  0.000000</td>\n",
        "      <td>  1.525186</td>\n",
        "      <td> 13.603490</td>\n",
        "      <td> 0.000000</td>\n",
        "      <td>  5.891700</td>\n",
        "      <td>  0.000000</td>\n",
        "      <td> 12.459817</td>\n",
        "      <td> 2.170944</td>\n",
        "      <td>  3.463674</td>\n",
        "      <td> 60.885305</td>\n",
        "      <td>  2.694653</td>\n",
        "    </tr>\n",
        "    <tr>\n",
        "      <th>4</th>\n",
        "      <td>  0.000000</td>\n",
        "      <td>  8.906001</td>\n",
        "      <td> 23.311113</td>\n",
        "      <td> 2.376316</td>\n",
        "      <td> 42.878445</td>\n",
        "      <td>  0.001003</td>\n",
        "      <td>  0.006636</td>\n",
        "      <td> 3.405257</td>\n",
        "      <td>  0.000003</td>\n",
        "      <td> 19.115265</td>\n",
        "      <td>  5.461413</td>\n",
        "    </tr>\n",
        "    <tr>\n",
        "      <th>5</th>\n",
        "      <td>  0.000000</td>\n",
        "      <td> 17.648687</td>\n",
        "      <td>  8.193142</td>\n",
        "      <td> 1.201816</td>\n",
        "      <td>  0.000000</td>\n",
        "      <td>  0.024488</td>\n",
        "      <td> 34.547715</td>\n",
        "      <td> 5.248205</td>\n",
        "      <td>  0.000000</td>\n",
        "      <td> 33.136022</td>\n",
        "      <td> 10.976782</td>\n",
        "    </tr>\n",
        "  </tbody>\n",
        "</table>\n",
        "</div>"
       ],
       "metadata": {},
       "output_type": "pyout",
       "prompt_number": 24,
       "text": [
        "          ev     fridge       hvac   kitchen      light     others     socket  \\\n",
        "1  23.670962   9.419395  24.872097  2.370465   8.077978  24.053258   0.641460   \n",
        "2   0.000000   0.644122   6.914308  1.402017   0.000000   0.000000   0.000000   \n",
        "3   0.000000   1.525186  13.603490  0.000000   5.891700   0.000000  12.459817   \n",
        "4   0.000000   8.906001  23.311113  2.376316  42.878445   0.001003   0.006636   \n",
        "5   0.000000  17.648687   8.193142  1.201816   0.000000   0.024488  34.547715   \n",
        "\n",
        "    washing  water_heating  unmetered       days  \n",
        "1  0.542940       0.000000  30.022407   3.697431  \n",
        "2  8.349257      19.286217  63.404079   3.299526  \n",
        "3  2.170944       3.463674  60.885305   2.694653  \n",
        "4  3.405257       0.000003  19.115265   5.461413  \n",
        "5  5.248205       0.000000  33.136022  10.976782  "
       ]
      }
     ],
     "prompt_number": 24
    },
    {
     "cell_type": "code",
     "collapsed": false,
     "input": [
      "df_reduced = df_reduced[(df_reduced['unmetered']<95)&(df_reduced['unmetered']>0)]"
     ],
     "language": "python",
     "metadata": {},
     "outputs": [],
     "prompt_number": 25
    },
    {
     "cell_type": "code",
     "collapsed": false,
     "input": [
      "#df_reduced[ALL_LIST.keys()].plot(kind='bar', stacked=True, figsize=(20, 6), grid=False)\n",
      "#plt.savefig(\"figures/overall_breakdown_bar.png\")"
     ],
     "language": "python",
     "metadata": {},
     "outputs": [],
     "prompt_number": 26
    },
    {
     "cell_type": "code",
     "collapsed": false,
     "input": [
      "#latexify(columns=2, fig_height=3)\n",
      "df_reduced_box_df = df_reduced.drop(\"days\", 1)\n",
      "\n",
      "#df_reduced_box_df = df_reduced\n",
      "df_reduced_box_df.columns = [\"Electric\\n vehicle\", \"Fridge\", \"HVAC\", \"Kitchen\", \"Lights\", \"Others\", \"Sockets\", \"Washing\", \"Water\\n heating\", \"Unmetered\"]\n",
      "df_reduced_box_df.plot(kind='box')\n",
      "\n",
      "\n",
      "plt.ylim((-5, 100))\n",
      "plt.tight_layout()\n",
      "#plt.savefig(\"/Users/nipunbatra/Dropbox/sharelatex/ubicomp/figures/overall_breakdown_box.pdf\")"
     ],
     "language": "python",
     "metadata": {},
     "outputs": [
      {
       "metadata": {},
       "output_type": "display_data",
       "png": "[encoded data removed]",
       "text": [
        "<matplotlib.figure.Figure at 0x10ba7ba10>"
       ]
      }
     ],
     "prompt_number": 27
    },
    {
     "cell_type": "code",
     "collapsed": false,
     "input": [
      "fridge_contribution = df_reduced_box_df[\"Fridge\"]"
     ],
     "language": "python",
     "metadata": {},
     "outputs": [],
     "prompt_number": 34
    },
    {
     "cell_type": "code",
     "collapsed": false,
     "input": [
      "fridge_contribution[fridge_contribution>0].describe()"
     ],
     "language": "python",
     "metadata": {},
     "outputs": [
      {
       "metadata": {},
       "output_type": "pyout",
       "prompt_number": 36,
       "text": [
        "count    160.000000\n",
        "mean      10.264097\n",
        "std        6.739219\n",
        "min        0.017465\n",
        "25%        5.779385\n",
        "50%        8.825008\n",
        "75%       12.548082\n",
        "max       51.193608\n",
        "Name: Fridge, dtype: float64"
       ]
      }
     ],
     "prompt_number": 36
    },
    {
     "cell_type": "code",
     "collapsed": false,
     "input": [
      "fridge_daily_usage = df_total_day_normalized.fridge"
     ],
     "language": "python",
     "metadata": {},
     "outputs": [],
     "prompt_number": 39
    },
    {
     "cell_type": "code",
     "collapsed": false,
     "input": [
      "fridge_daily_usage = fridge_daily_usage[fridge_daily_usage>0]"
     ],
     "language": "python",
     "metadata": {},
     "outputs": [],
     "prompt_number": 40
    },
    {
     "cell_type": "code",
     "collapsed": false,
     "input": [
      "fridge_daily_usage.describe()"
     ],
     "language": "python",
     "metadata": {},
     "outputs": [
      {
       "metadata": {},
       "output_type": "pyout",
       "prompt_number": 42,
       "text": [
        "count    162.000000\n",
        "mean       2.055016\n",
        "std        1.325120\n",
        "min        0.006834\n",
        "25%        1.376285\n",
        "50%        1.738519\n",
        "75%        2.400758\n",
        "max        9.951490\n",
        "Name: fridge, dtype: float64"
       ]
      }
     ],
     "prompt_number": 42
    },
    {
     "cell_type": "code",
     "collapsed": false,
     "input": [
      "fridge_daily_usage[fridge_daily_usage>3]"
     ],
     "language": "python",
     "metadata": {},
     "outputs": [
      {
       "metadata": {},
       "output_type": "pyout",
       "prompt_number": 43,
       "text": [
        "12     9.951490\n",
        "14     3.411328\n",
        "16     4.910593\n",
        "35     4.904397\n",
        "36     3.132175\n",
        "38     3.175029\n",
        "57     3.409117\n",
        "77     4.510332\n",
        "90     5.661958\n",
        "97     9.510540\n",
        "102    4.656533\n",
        "134    5.609897\n",
        "164    3.133244\n",
        "167    3.010315\n",
        "177    3.734172\n",
        "188    3.058960\n",
        "200    3.814396\n",
        "204    4.075645\n",
        "209    3.726738\n",
        "225    6.055578\n",
        "Name: fridge, dtype: float64"
       ]
      }
     ],
     "prompt_number": 43
    },
    {
     "cell_type": "code",
     "collapsed": false,
     "input": [
      "d = ds.buildings[12].elec['fridge'].load().next()"
     ],
     "language": "python",
     "metadata": {},
     "outputs": [],
     "prompt_number": 45
    },
    {
     "cell_type": "code",
     "collapsed": false,
     "input": [
      "d.plot()"
     ],
     "language": "python",
     "metadata": {},
     "outputs": [
      {
       "metadata": {},
       "output_type": "pyout",
       "prompt_number": 47,
       "text": [
        "<matplotlib.axes._subplots.AxesSubplot at 0x10c209190>"
       ]
      },
      {
       "metadata": {},
       "output_type": "display_data",
       "png": "[encoded data removed]",
       "text": [
        "<matplotlib.figure.Figure at 0x10c200790>"
       ]
      }
     ],
     "prompt_number": 47
    },
    {
     "cell_type": "code",
     "collapsed": false,
     "input": [
      "df_reduced.median()"
     ],
     "language": "python",
     "metadata": {},
     "outputs": [
      {
       "metadata": {},
       "output_type": "pyout",
       "prompt_number": 59,
       "text": [
        "ev                0.000000\n",
        "fridge            6.436797\n",
        "hvac             17.874620\n",
        "kitchen           2.565061\n",
        "light             0.000000\n",
        "others            0.006336\n",
        "socket            6.392705\n",
        "washing           3.618280\n",
        "water_heating     0.000000\n",
        "unmetered        33.623721\n",
        "dtype: float64"
       ]
      }
     ],
     "prompt_number": 59
    },
    {
     "cell_type": "code",
     "collapsed": false,
     "input": [
      "plt.figure(figsize=(16,8))\n",
      "ax = sns.heatmap(df_reduced[ALL_LIST.keys()].T, cmap=\"BuGn\", linewidths=.001)\n",
      "plt.tight_layout()\n",
      "plt.savefig(\"figures/overall_breakdown_heatmap.png\")\n",
      "\n",
      "#max_xticks = 100\n",
      "#xloc = plt.MaxNLocator(max_xticks)\n",
      "#ax.xaxis.set_major_locator(xloc)"
     ],
     "language": "python",
     "metadata": {},
     "outputs": [
      {
       "metadata": {},
       "output_type": "display_data",
       "png": "[encoded data removed]",
       "text": [
        "<matplotlib.figure.Figure at 0x1253779d0>"
       ]
      }
     ],
     "prompt_number": 55
    },
    {
     "cell_type": "code",
     "collapsed": false,
     "input": [],
     "language": "python",
     "metadata": {},
     "outputs": [
      {
       "metadata": {},
       "output_type": "pyout",
       "prompt_number": 372,
       "text": [
        "(array([ 0. ,  0.2,  0.4,  0.6,  0.8,  1. ]),\n",
        " <a list of 6 Text yticklabel objects>)"
       ]
      },
      {
       "metadata": {},
       "output_type": "display_data",
       "png": "[encoded data removed]",
       "text": [
        "<matplotlib.figure.Figure at 0x14425aed0>"
       ]
      }
     ],
     "prompt_number": 372
    },
    {
     "cell_type": "code",
     "collapsed": false,
     "input": [
      "xticks_set"
     ],
     "language": "python",
     "metadata": {},
     "outputs": [
      {
       "metadata": {},
       "output_type": "pyout",
       "prompt_number": 377,
       "text": [
        "[array([   0.5,    1.5,    2.5,    3.5,    4.5,    5.5,    6.5,    7.5,\n",
        "           8.5,    9.5,   10.5,   11.5,   12.5,   13.5,   14.5,   15.5,\n",
        "          16.5,   17.5,   18.5,   19.5,   20.5,   21.5,   22.5,   23.5,\n",
        "          24.5,   25.5,   26.5,   27.5,   28.5,   29.5,   30.5,   31.5,\n",
        "          32.5,   33.5,   34.5,   35.5,   36.5,   37.5,   38.5,   39.5,\n",
        "          40.5,   41.5,   42.5,   43.5,   44.5,   45.5,   46.5,   47.5,\n",
        "          48.5,   49.5,   50.5,   51.5,   52.5,   53.5,   54.5,   55.5,\n",
        "          56.5,   57.5,   58.5,   59.5,   60.5,   61.5,   62.5,   63.5,\n",
        "          64.5,   65.5,   66.5,   67.5,   68.5,   69.5,   70.5,   71.5,\n",
        "          72.5,   73.5,   74.5,   75.5,   76.5,   77.5,   78.5,   79.5,\n",
        "          80.5,   81.5,   82.5,   83.5,   84.5,   85.5,   86.5,   87.5,\n",
        "          88.5,   89.5,   90.5,   91.5,   92.5,   93.5,   94.5,   95.5,\n",
        "          96.5,   97.5,   98.5,   99.5,  100.5,  101.5,  102.5,  103.5,\n",
        "         104.5,  105.5,  106.5,  107.5,  108.5,  109.5,  110.5,  111.5,\n",
        "         112.5,  113.5,  114.5,  115.5,  116.5,  117.5,  118.5,  119.5,\n",
        "         120.5,  121.5,  122.5,  123.5,  124.5,  125.5,  126.5,  127.5,\n",
        "         128.5,  129.5,  130.5,  131.5,  132.5,  133.5,  134.5,  135.5,\n",
        "         136.5,  137.5,  138.5,  139.5,  140.5,  141.5,  142.5,  143.5,\n",
        "         144.5,  145.5,  146.5,  147.5,  148.5,  149.5,  150.5,  151.5,\n",
        "         152.5,  153.5,  154.5,  155.5,  156.5,  157.5,  158.5,  159.5,\n",
        "         160.5,  161.5,  162.5,  163.5,  164.5,  165.5,  166.5,  167.5,\n",
        "         168.5,  169.5,  170.5,  171.5,  172.5,  173.5,  174.5,  175.5,\n",
        "         176.5,  177.5,  178.5,  179.5,  180.5,  181.5,  182.5,  183.5,\n",
        "         184.5,  185.5,  186.5,  187.5,  188.5,  189.5,  190.5,  191.5,\n",
        "         192.5,  193.5,  194.5,  195.5,  196.5,  197.5,  198.5,  199.5,\n",
        "         200.5,  201.5,  202.5,  203.5,  204.5,  205.5,  206.5,  207.5,\n",
        "         208.5,  209.5,  210.5,  211.5,  212.5,  213.5,  214.5,  215.5,\n",
        "         216.5,  217.5,  218.5,  219.5,  220.5,  221.5])]"
       ]
      }
     ],
     "prompt_number": 377
    },
    {
     "cell_type": "code",
     "collapsed": false,
     "input": [
      "xticks_cur"
     ],
     "language": "python",
     "metadata": {},
     "outputs": [
      {
       "metadata": {},
       "output_type": "pyout",
       "prompt_number": 378,
       "text": [
        "(array([   0.5,    1.5,    2.5,    3.5,    4.5,    5.5,    6.5,    7.5,\n",
        "           8.5,    9.5,   10.5,   11.5,   12.5,   13.5,   14.5,   15.5,\n",
        "          16.5,   17.5,   18.5,   19.5,   20.5,   21.5,   22.5,   23.5,\n",
        "          24.5,   25.5,   26.5,   27.5,   28.5,   29.5,   30.5,   31.5,\n",
        "          32.5,   33.5,   34.5,   35.5,   36.5,   37.5,   38.5,   39.5,\n",
        "          40.5,   41.5,   42.5,   43.5,   44.5,   45.5,   46.5,   47.5,\n",
        "          48.5,   49.5,   50.5,   51.5,   52.5,   53.5,   54.5,   55.5,\n",
        "          56.5,   57.5,   58.5,   59.5,   60.5,   61.5,   62.5,   63.5,\n",
        "          64.5,   65.5,   66.5,   67.5,   68.5,   69.5,   70.5,   71.5,\n",
        "          72.5,   73.5,   74.5,   75.5,   76.5,   77.5,   78.5,   79.5,\n",
        "          80.5,   81.5,   82.5,   83.5,   84.5,   85.5,   86.5,   87.5,\n",
        "          88.5,   89.5,   90.5,   91.5,   92.5,   93.5,   94.5,   95.5,\n",
        "          96.5,   97.5,   98.5,   99.5,  100.5,  101.5,  102.5,  103.5,\n",
        "         104.5,  105.5,  106.5,  107.5,  108.5,  109.5,  110.5,  111.5,\n",
        "         112.5,  113.5,  114.5,  115.5,  116.5,  117.5,  118.5,  119.5,\n",
        "         120.5,  121.5,  122.5,  123.5,  124.5,  125.5,  126.5,  127.5,\n",
        "         128.5,  129.5,  130.5,  131.5,  132.5,  133.5,  134.5,  135.5,\n",
        "         136.5,  137.5,  138.5,  139.5,  140.5,  141.5,  142.5,  143.5,\n",
        "         144.5,  145.5,  146.5,  147.5,  148.5,  149.5,  150.5,  151.5,\n",
        "         152.5,  153.5,  154.5,  155.5,  156.5,  157.5,  158.5,  159.5,\n",
        "         160.5,  161.5,  162.5,  163.5,  164.5,  165.5,  166.5,  167.5,\n",
        "         168.5,  169.5,  170.5,  171.5,  172.5,  173.5,  174.5,  175.5,\n",
        "         176.5,  177.5,  178.5,  179.5,  180.5,  181.5,  182.5,  183.5,\n",
        "         184.5,  185.5,  186.5,  187.5,  188.5,  189.5,  190.5,  191.5,\n",
        "         192.5,  193.5,  194.5,  195.5,  196.5,  197.5,  198.5,  199.5,\n",
        "         200.5,  201.5,  202.5,  203.5,  204.5,  205.5,  206.5,  207.5,\n",
        "         208.5,  209.5,  210.5,  211.5,  212.5,  213.5,  214.5,  215.5,\n",
        "         216.5,  217.5,  218.5,  219.5,  220.5,  221.5]),\n",
        " <a list of 222 Text xticklabel objects>)"
       ]
      }
     ],
     "prompt_number": 378
    },
    {
     "cell_type": "code",
     "collapsed": false,
     "input": [
      "xticks_cur[1]"
     ],
     "language": "python",
     "metadata": {},
     "outputs": [
      {
       "metadata": {},
       "output_type": "pyout",
       "prompt_number": 380,
       "text": [
        "<a list of 222 Text xticklabel objects>"
       ]
      }
     ],
     "prompt_number": 380
    },
    {
     "cell_type": "code",
     "collapsed": false,
     "input": [
      "elec = ds.buildings[1].elec"
     ],
     "language": "python",
     "metadata": {},
     "outputs": [],
     "prompt_number": 71
    },
    {
     "cell_type": "code",
     "collapsed": false,
     "input": [
      "elec.submeters()"
     ],
     "language": "python",
     "metadata": {},
     "outputs": [
      {
       "metadata": {},
       "output_type": "pyout",
       "prompt_number": 74,
       "text": [
        "MeterGroup(meters=\n",
        "  ElecMeter(instance=2, building=1, dataset='WikiEnergy', appliances=[Appliance(type='air conditioner', instance=1)])\n",
        "  ElecMeter(instance=3, building=1, dataset='WikiEnergy', appliances=[Appliance(type='electric vehicle', instance=1)])\n",
        "  ElecMeter(instance=4, building=1, dataset='WikiEnergy', appliances=[Appliance(type='washer dryer', instance=1)])\n",
        "  ElecMeter(instance=5, building=1, dataset='WikiEnergy', appliances=[Appliance(type='dish washer', instance=1)])\n",
        "  ElecMeter(instance=6, building=1, dataset='WikiEnergy', appliances=[Appliance(type='waste disposal unit', instance=1)])\n",
        "  ElecMeter(instance=7, building=1, dataset='WikiEnergy', appliances=[Appliance(type='electric furnace', instance=1)])\n",
        "  ElecMeter(instance=8, building=1, dataset='WikiEnergy', appliances=[Appliance(type='sockets', instance=1)])\n",
        "  ElecMeter(instance=9, building=1, dataset='WikiEnergy', appliances=[Appliance(type='light', instance=1)])\n",
        "  ElecMeter(instance=10, building=1, dataset='WikiEnergy', appliances=[Appliance(type='light', instance=2)])\n",
        "  ElecMeter(instance=11, building=1, dataset='WikiEnergy', appliances=[Appliance(type='microwave', instance=1)])\n",
        "  ElecMeter(instance=12, building=1, dataset='WikiEnergy', appliances=[Appliance(type='oven', instance=1)])\n",
        "  ElecMeter(instance=13, building=1, dataset='WikiEnergy', appliances=[Appliance(type='oven', instance=2)])\n",
        "  ElecMeter(instance=14, building=1, dataset='WikiEnergy', appliances=[Appliance(type='fridge', instance=1)])\n",
        "  ElecMeter(instance=15, building=1, dataset='WikiEnergy', appliances=[Appliance(type='fridge', instance=2)])\n",
        "  ElecMeter(instance=16, building=1, dataset='WikiEnergy', appliances=[Appliance(type='appliance', instance=1)])\n",
        ")"
       ]
      }
     ],
     "prompt_number": 74
    },
    {
     "cell_type": "code",
     "collapsed": false,
     "input": [],
     "language": "python",
     "metadata": {},
     "outputs": []
    }
   ],
   "metadata": {}
  }
 ]
}