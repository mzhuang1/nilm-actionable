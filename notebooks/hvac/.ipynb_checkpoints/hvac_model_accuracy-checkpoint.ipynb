{
 "cells": [
  {
   "cell_type": "code",
   "execution_count": 1,
   "metadata": {
    "collapsed": true
   },
   "outputs": [],
   "source": [
    "import pandas as pd\n",
    "import numpy as np\n",
    "import time"
   ]
  },
  {
   "cell_type": "code",
   "execution_count": 2,
   "metadata": {
    "collapsed": true
   },
   "outputs": [],
   "source": [
    "df = pd.read_csv(\"../../data/hvac/minutes_a3.csv\")"
   ]
  },
  {
   "cell_type": "code",
   "execution_count": 3,
   "metadata": {
    "collapsed": false
   },
   "outputs": [
    {
     "data": {
      "text/html": [
       "<div>\n",
       "<table border=\"1\" class=\"dataframe\">\n",
       "  <thead>\n",
       "    <tr style=\"text-align: right;\">\n",
       "      <th></th>\n",
       "      <th>dataid</th>\n",
       "      <th>a1</th>\n",
       "      <th>a2</th>\n",
       "      <th>a3</th>\n",
       "      <th>evening_energy</th>\n",
       "      <th>evening_gt</th>\n",
       "      <th>evening_mins</th>\n",
       "      <th>evening_pred</th>\n",
       "      <th>hvac_class</th>\n",
       "      <th>morning_energy</th>\n",
       "      <th>...</th>\n",
       "      <th>overall_energy</th>\n",
       "      <th>overall_mins</th>\n",
       "      <th>sleep_energy</th>\n",
       "      <th>sleep_gt</th>\n",
       "      <th>sleep_mins</th>\n",
       "      <th>sleep_pred</th>\n",
       "      <th>work_energy</th>\n",
       "      <th>work_gt</th>\n",
       "      <th>work_mins</th>\n",
       "      <th>work_pred</th>\n",
       "    </tr>\n",
       "  </thead>\n",
       "  <tbody>\n",
       "    <tr>\n",
       "      <th>0</th>\n",
       "      <td>26</td>\n",
       "      <td>0.052073</td>\n",
       "      <td>0.865297</td>\n",
       "      <td>-0.017495</td>\n",
       "      <td>8943400</td>\n",
       "      <td>78</td>\n",
       "      <td>3367</td>\n",
       "      <td>62.768473</td>\n",
       "      <td>Average</td>\n",
       "      <td>7750370</td>\n",
       "      <td>...</td>\n",
       "      <td>37621500</td>\n",
       "      <td>15644</td>\n",
       "      <td>17952200</td>\n",
       "      <td>76</td>\n",
       "      <td>7346</td>\n",
       "      <td>60.000001</td>\n",
       "      <td>3023910</td>\n",
       "      <td>82</td>\n",
       "      <td>1409</td>\n",
       "      <td>82.889291</td>\n",
       "    </tr>\n",
       "    <tr>\n",
       "      <th>1</th>\n",
       "      <td>94</td>\n",
       "      <td>0.019967</td>\n",
       "      <td>-0.035840</td>\n",
       "      <td>0.004758</td>\n",
       "      <td>1148050</td>\n",
       "      <td>77</td>\n",
       "      <td>990</td>\n",
       "      <td>72.640433</td>\n",
       "      <td>Bad</td>\n",
       "      <td>825446</td>\n",
       "      <td>...</td>\n",
       "      <td>7616560</td>\n",
       "      <td>7049</td>\n",
       "      <td>4461110</td>\n",
       "      <td>78</td>\n",
       "      <td>4051</td>\n",
       "      <td>60.000001</td>\n",
       "      <td>1181950</td>\n",
       "      <td>85</td>\n",
       "      <td>1187</td>\n",
       "      <td>83.207927</td>\n",
       "    </tr>\n",
       "    <tr>\n",
       "      <th>2</th>\n",
       "      <td>370</td>\n",
       "      <td>0.056940</td>\n",
       "      <td>0.565804</td>\n",
       "      <td>0.005673</td>\n",
       "      <td>12506900</td>\n",
       "      <td>75</td>\n",
       "      <td>5215</td>\n",
       "      <td>64.861423</td>\n",
       "      <td>Bad</td>\n",
       "      <td>6334880</td>\n",
       "      <td>...</td>\n",
       "      <td>49039000</td>\n",
       "      <td>22300</td>\n",
       "      <td>19882800</td>\n",
       "      <td>75</td>\n",
       "      <td>8750</td>\n",
       "      <td>60.000001</td>\n",
       "      <td>10344500</td>\n",
       "      <td>75</td>\n",
       "      <td>5142</td>\n",
       "      <td>79.723808</td>\n",
       "    </tr>\n",
       "    <tr>\n",
       "      <th>3</th>\n",
       "      <td>410</td>\n",
       "      <td>0.053297</td>\n",
       "      <td>0.781880</td>\n",
       "      <td>-0.025372</td>\n",
       "      <td>5543070</td>\n",
       "      <td>80</td>\n",
       "      <td>1848</td>\n",
       "      <td>70.611378</td>\n",
       "      <td>Average</td>\n",
       "      <td>7247780</td>\n",
       "      <td>...</td>\n",
       "      <td>30089800</td>\n",
       "      <td>10549</td>\n",
       "      <td>14957200</td>\n",
       "      <td>76</td>\n",
       "      <td>5171</td>\n",
       "      <td>60.000000</td>\n",
       "      <td>2384120</td>\n",
       "      <td>84</td>\n",
       "      <td>893</td>\n",
       "      <td>78.823030</td>\n",
       "    </tr>\n",
       "    <tr>\n",
       "      <th>4</th>\n",
       "      <td>545</td>\n",
       "      <td>0.064432</td>\n",
       "      <td>0.366490</td>\n",
       "      <td>0.014571</td>\n",
       "      <td>17545800</td>\n",
       "      <td>76</td>\n",
       "      <td>6430</td>\n",
       "      <td>62.444715</td>\n",
       "      <td>Bad</td>\n",
       "      <td>5327350</td>\n",
       "      <td>...</td>\n",
       "      <td>52402400</td>\n",
       "      <td>20859</td>\n",
       "      <td>20820600</td>\n",
       "      <td>72</td>\n",
       "      <td>8083</td>\n",
       "      <td>60.000000</td>\n",
       "      <td>8734060</td>\n",
       "      <td>76</td>\n",
       "      <td>3853</td>\n",
       "      <td>80.757459</td>\n",
       "    </tr>\n",
       "  </tbody>\n",
       "</table>\n",
       "<p>5 rows × 23 columns</p>\n",
       "</div>"
      ],
      "text/plain": [
       "   dataid        a1        a2        a3  evening_energy  evening_gt  \\\n",
       "0      26  0.052073  0.865297 -0.017495         8943400          78   \n",
       "1      94  0.019967 -0.035840  0.004758         1148050          77   \n",
       "2     370  0.056940  0.565804  0.005673        12506900          75   \n",
       "3     410  0.053297  0.781880 -0.025372         5543070          80   \n",
       "4     545  0.064432  0.366490  0.014571        17545800          76   \n",
       "\n",
       "   evening_mins  evening_pred hvac_class  morning_energy    ...      \\\n",
       "0          3367     62.768473    Average         7750370    ...       \n",
       "1           990     72.640433        Bad          825446    ...       \n",
       "2          5215     64.861423        Bad         6334880    ...       \n",
       "3          1848     70.611378    Average         7247780    ...       \n",
       "4          6430     62.444715        Bad         5327350    ...       \n",
       "\n",
       "   overall_energy  overall_mins  sleep_energy  sleep_gt  sleep_mins  \\\n",
       "0        37621500         15644      17952200        76        7346   \n",
       "1         7616560          7049       4461110        78        4051   \n",
       "2        49039000         22300      19882800        75        8750   \n",
       "3        30089800         10549      14957200        76        5171   \n",
       "4        52402400         20859      20820600        72        8083   \n",
       "\n",
       "   sleep_pred  work_energy  work_gt  work_mins  work_pred  \n",
       "0   60.000001      3023910       82       1409  82.889291  \n",
       "1   60.000001      1181950       85       1187  83.207927  \n",
       "2   60.000001     10344500       75       5142  79.723808  \n",
       "3   60.000000      2384120       84        893  78.823030  \n",
       "4   60.000000      8734060       76       3853  80.757459  \n",
       "\n",
       "[5 rows x 23 columns]"
      ]
     },
     "execution_count": 3,
     "metadata": {},
     "output_type": "execute_result"
    }
   ],
   "source": [
    "df.head()"
   ]
  },
  {
   "cell_type": "code",
   "execution_count": 4,
   "metadata": {
    "collapsed": true
   },
   "outputs": [],
   "source": [
    "from sklearn.tree import DecisionTreeClassifier"
   ]
  },
  {
   "cell_type": "code",
   "execution_count": 130,
   "metadata": {
    "collapsed": true
   },
   "outputs": [],
   "source": [
    "from itertools import chain, combinations\n",
    "\n",
    "def powerset(iterable):\n",
    "    xs = list(iterable)\n",
    "    # note we return an iterator rather than a list\n",
    "    N_max=5\n",
    "    return chain.from_iterable( combinations(xs,n) for n in range(1, N_max))\n",
    "    return chain.from_iterable( combinations(xs,n) for n in range(1, len(xs)+1))"
   ]
  },
  {
   "cell_type": "code",
   "execution_count": 131,
   "metadata": {
    "collapsed": true
   },
   "outputs": [],
   "source": [
    "features = ['sleep_pred','morning_pred','work_pred','evening_pred','a1','a2','a3','work_energy', 'sleep_energy', 'morning_energy', \n",
    "            'evening_energy','morning_mins', 'work_mins','sleep_mins', 'evening_mins','overall_energy', 'overall_mins']\n",
    "features_small = ['sleep_pred','morning_pred','work_pred','evening_pred','a1','a2','a3']\n",
    "features_mid = ['sleep_pred','morning_pred','work_pred','evening_pred','a1','a2','a3','work_energy','evening_energy','work_mins','evening_mins']"
   ]
  },
  {
   "cell_type": "code",
   "execution_count": 132,
   "metadata": {
    "collapsed": true
   },
   "outputs": [],
   "source": [
    "from sklearn.svm import SVC\n",
    "from sklearn.neighbors import KNeighborsClassifier\n",
    "from sklearn.ensemble import RandomForestClassifier, AdaBoostClassifier\n",
    "from sklearn.metrics import accuracy_score, confusion_matrix"
   ]
  },
  {
   "cell_type": "code",
   "execution_count": 133,
   "metadata": {
    "collapsed": false
   },
   "outputs": [],
   "source": [
    "np.random.seed(42)\n"
   ]
  },
  {
   "cell_type": "code",
   "execution_count": 134,
   "metadata": {
    "collapsed": false
   },
   "outputs": [
    {
     "data": {
      "text/plain": [
       "[15,\n",
       " 27,\n",
       " 26,\n",
       " 24,\n",
       " 47,\n",
       " 11,\n",
       " 32,\n",
       " 59,\n",
       " 46,\n",
       " 37,\n",
       " 29,\n",
       " 43,\n",
       " 49,\n",
       " 1,\n",
       " 21,\n",
       " 2,\n",
       " 52,\n",
       " 39,\n",
       " 35,\n",
       " 23,\n",
       " 54,\n",
       " 10,\n",
       " 22,\n",
       " 18,\n",
       " 57,\n",
       " 38,\n",
       " 20,\n",
       " 7,\n",
       " 42,\n",
       " 14,\n",
       " 28,\n",
       " 51]"
      ]
     },
     "execution_count": 134,
     "metadata": {},
     "output_type": "execute_result"
    }
   ],
   "source": [
    "from sklearn import cross_validation\n",
    "train_idx, test_idx = cross_validation.train_test_split(range(len(df)), train_size=0.5)\n",
    "train_idx"
   ]
  },
  {
   "cell_type": "code",
   "execution_count": 135,
   "metadata": {
    "collapsed": false
   },
   "outputs": [],
   "source": [
    "train = df.ix[train_idx]\n",
    "test = df.ix[test_idx]"
   ]
  },
  {
   "cell_type": "code",
   "execution_count": 136,
   "metadata": {
    "collapsed": false
   },
   "outputs": [
    {
     "data": {
      "text/plain": [
       "Bad        19\n",
       "Average    11\n",
       "Good        2\n",
       "dtype: int64"
      ]
     },
     "execution_count": 136,
     "metadata": {},
     "output_type": "execute_result"
    }
   ],
   "source": [
    "pd.value_counts(train.hvac_class)"
   ]
  },
  {
   "cell_type": "code",
   "execution_count": 137,
   "metadata": {
    "collapsed": false
   },
   "outputs": [
    {
     "data": {
      "text/plain": [
       "Bad        19\n",
       "Average    11\n",
       "Good        3\n",
       "dtype: int64"
      ]
     },
     "execution_count": 137,
     "metadata": {},
     "output_type": "execute_result"
    }
   ],
   "source": [
    "pd.value_counts(test.hvac_class)"
   ]
  },
  {
   "cell_type": "code",
   "execution_count": 158,
   "metadata": {
    "collapsed": false
   },
   "outputs": [
    {
     "name": "stdout",
     "output_type": "stream",
     "text": [
      "0\n",
      "1434899714.03\n"
     ]
    }
   ],
   "source": [
    "out_fold1 = {}\n",
    "out_fold2 = {}\n",
    "y1_best_score = 0\n",
    "y1_best_pred = None\n",
    "y2_best_score = 0\n",
    "y2_best_pred = None\n",
    "best_random_state = -1\n",
    "best_random_score = 0\n",
    "\n",
    "for random_state in range(0,1):\n",
    "    print random_state\n",
    "    print time.time()\n",
    "    cls = {  \"RF\":RandomForestClassifier()\n",
    "          }\n",
    "    out_fold1[random_state] = {\"SVM\":{}, \"DT\":{},\"KNN\":{},\"RF\":{}, \"Ada\":{}}\n",
    "\n",
    "\n",
    "\n",
    "    for f in powerset(features):\n",
    "        for cl_name, clf in cls.iteritems():\n",
    "            clf.fit(train[list(f)], train[\"hvac_class\"])\n",
    "            y_pred = clf.predict(test[list(f)])\n",
    "            y_true = test['hvac_class']\n",
    "            accur = accuracy_score(y_pred, y_true)\n",
    "            out_fold1[random_state][cl_name][f] = accur\n",
    "            if accur>y1_best_score:\n",
    "                y1_best_score=accur\n",
    "                y1_best_pred = y_pred\n",
    "\n",
    "    out_fold2[random_state] = {\"SVM\":{}, \"DT\":{},\"KNN\":{},\"RF\":{}, \"Ada\":{}}\n",
    "\n",
    "    for f in powerset(features):\n",
    "        for cl_name, clf in cls.iteritems():\n",
    "            clf.fit(test[list(f)], test[\"hvac_class\"])\n",
    "            y_pred = clf.predict(train[list(f)])\n",
    "            y_true =train['hvac_class']\n",
    "            accur = accuracy_score(y_pred, y_true)\n",
    "            out_fold2[random_state][cl_name][f] = accur\n",
    "            if accur>y2_best_score:\n",
    "                y2_best_score=accur\n",
    "                y2_best_pred = y_pred\n",
    "    \n",
    "    if y2_best_score+y1_best_score>best_random_score:\n",
    "        best_random_score=y2_best_score+y1_best_score\n",
    "        best_random_state = random_state\n",
    "            \n",
    "\n",
    "        \n",
    "    "
   ]
  },
  {
   "cell_type": "code",
   "execution_count": 159,
   "metadata": {
    "collapsed": false
   },
   "outputs": [
    {
     "data": {
      "text/plain": [
       "(0.71875, 0.72727272727272729, 1.4460227272727273, 0)"
      ]
     },
     "execution_count": 159,
     "metadata": {},
     "output_type": "execute_result"
    }
   ],
   "source": [
    "y2_best_score, y1_best_score, best_random_score, best_random_state"
   ]
  },
  {
   "cell_type": "code",
   "execution_count": 160,
   "metadata": {
    "collapsed": false
   },
   "outputs": [
    {
     "ename": "KeyError",
     "evalue": "1",
     "output_type": "error",
     "traceback": [
      "\u001b[0;31m---------------------------------------------------------------------------\u001b[0m",
      "\u001b[0;31mKeyError\u001b[0m                                  Traceback (most recent call last)",
      "\u001b[0;32m<ipython-input-160-7c7359360047>\u001b[0m in \u001b[0;36m<module>\u001b[0;34m()\u001b[0m\n\u001b[1;32m      1\u001b[0m \u001b[0;32mimport\u001b[0m \u001b[0moperator\u001b[0m\u001b[0;34m\u001b[0m\u001b[0m\n\u001b[0;32m----> 2\u001b[0;31m \u001b[0msorted_fold1\u001b[0m \u001b[0;34m=\u001b[0m \u001b[0msorted\u001b[0m\u001b[0;34m(\u001b[0m\u001b[0mout_fold1\u001b[0m\u001b[0;34m[\u001b[0m\u001b[0;36m1\u001b[0m\u001b[0;34m]\u001b[0m\u001b[0;34m[\u001b[0m\u001b[0;34m\"RF\"\u001b[0m\u001b[0;34m]\u001b[0m\u001b[0;34m.\u001b[0m\u001b[0mitems\u001b[0m\u001b[0;34m(\u001b[0m\u001b[0;34m)\u001b[0m\u001b[0;34m,\u001b[0m \u001b[0mkey\u001b[0m\u001b[0;34m=\u001b[0m\u001b[0moperator\u001b[0m\u001b[0;34m.\u001b[0m\u001b[0mitemgetter\u001b[0m\u001b[0;34m(\u001b[0m\u001b[0;36m1\u001b[0m\u001b[0;34m)\u001b[0m\u001b[0;34m)\u001b[0m\u001b[0;34m\u001b[0m\u001b[0m\n\u001b[0m\u001b[1;32m      3\u001b[0m \u001b[0msorted_fold2\u001b[0m \u001b[0;34m=\u001b[0m \u001b[0msorted\u001b[0m\u001b[0;34m(\u001b[0m\u001b[0mout_fold2\u001b[0m\u001b[0;34m[\u001b[0m\u001b[0;36m1\u001b[0m\u001b[0;34m]\u001b[0m\u001b[0;34m[\u001b[0m\u001b[0;34m\"RF\"\u001b[0m\u001b[0;34m]\u001b[0m\u001b[0;34m.\u001b[0m\u001b[0mitems\u001b[0m\u001b[0;34m(\u001b[0m\u001b[0;34m)\u001b[0m\u001b[0;34m,\u001b[0m \u001b[0mkey\u001b[0m\u001b[0;34m=\u001b[0m\u001b[0moperator\u001b[0m\u001b[0;34m.\u001b[0m\u001b[0mitemgetter\u001b[0m\u001b[0;34m(\u001b[0m\u001b[0;36m1\u001b[0m\u001b[0;34m)\u001b[0m\u001b[0;34m)\u001b[0m\u001b[0;34m\u001b[0m\u001b[0m\n",
      "\u001b[0;31mKeyError\u001b[0m: 1"
     ]
    }
   ],
   "source": [
    "import operator\n",
    "sorted_fold1 = sorted(out_fold1[1][\"RF\"].items(), key=operator.itemgetter(1))\n",
    "sorted_fold2 = sorted(out_fold2[1][\"RF\"].items(), key=operator.itemgetter(1))"
   ]
  },
  {
   "cell_type": "code",
   "execution_count": 161,
   "metadata": {
    "collapsed": false
   },
   "outputs": [
    {
     "name": "stdout",
     "output_type": "stream",
     "text": [
      "0 0.677083333333\n"
     ]
    }
   ],
   "source": [
    "d = {}\n",
    "for i in range(1):\n",
    "    d[i] = ((pd.Series(out_fold1[i][\"RF\"])+pd.Series(out_fold2[i][\"RF\"]))/2).dropna()\n",
    "    d[i].sort()\n",
    "    print i, d[i].values[-1]\n",
    "    "
   ]
  },
  {
   "cell_type": "code",
   "execution_count": 162,
   "metadata": {
    "collapsed": false
   },
   "outputs": [
    {
     "data": {
      "text/plain": [
       "morning_pred  evening_pred    a1              overall_energy    0.293087\n",
       "              a1              evening_mins    overall_mins      0.308712\n",
       "                              a3              overall_mins      0.322917\n",
       "              morning_energy  evening_mins    overall_mins      0.323390\n",
       "evening_pred  a1              a3              evening_energy    0.323390\n",
       "morning_pred  work_energy     sleep_mins      evening_mins      0.323390\n",
       "work_pred     morning_energy  evening_mins    overall_mins      0.323390\n",
       "morning_pred  a1              a3              evening_mins      0.324337\n",
       "              a3              work_energy     evening_energy    0.324337\n",
       "              evening_energy  sleep_mins      overall_energy    0.324811\n",
       "evening_pred  a1              a2              morning_energy    0.337121\n",
       "morning_pred  evening_energy  morning_mins    evening_mins      0.337595\n",
       "sleep_pred    work_pred       a1              morning_mins      0.338068\n",
       "morning_pred  work_pred       sleep_energy    evening_mins      0.338542\n",
       "sleep_pred    work_pred       evening_energy  sleep_mins        0.338542\n",
       "work_pred     evening_pred    a1              a2                0.338542\n",
       "              a2              morning_energy  evening_mins      0.339015\n",
       "sleep_pred    morning_pred    a1              a3                0.339015\n",
       "a1            a3              morning_energy  sleep_mins        0.339489\n",
       "a3            sleep_mins      evening_mins    overall_mins      0.339489\n",
       "morning_pred  a3              evening_mins    overall_mins      0.339489\n",
       "              morning_energy  evening_mins    overall_energy    0.339489\n",
       "a1            a2              evening_energy  evening_mins      0.339489\n",
       "morning_pred  work_pred       evening_mins    overall_energy    0.339962\n",
       "              a1              a2              evening_mins      0.353220\n",
       "evening_pred  a3              morning_energy  sleep_mins        0.353693\n",
       "morning_pred  evening_energy  sleep_mins      overall_mins      0.353693\n",
       "              a1              work_energy     evening_mins      0.353693\n",
       "sleep_pred    morning_pred    a1              evening_mins      0.354167\n",
       "                              a3              morning_energy    0.354167\n",
       "                                                                  ...   \n",
       "              a1              morning_mins    work_mins         0.630208\n",
       "evening_pred  work_mins       overall_energy  overall_mins      0.630208\n",
       "morning_pred  work_energy     evening_energy  work_mins         0.630208\n",
       "sleep_energy  morning_mins    work_mins       overall_energy    0.630208\n",
       "morning_pred  a1              morning_mins    work_mins         0.630208\n",
       "sleep_pred    work_energy     work_mins       overall_energy    0.630682\n",
       "work_energy   morning_energy  work_mins       overall_energy    0.630682\n",
       "evening_pred  a2              work_mins       overall_energy    0.630682\n",
       "              work_energy     morning_energy  work_mins         0.630682\n",
       "              a2              work_energy     work_mins         0.630682\n",
       "work_pred     sleep_energy    work_mins       overall_energy    0.630682\n",
       "evening_pred  a3              work_energy     work_mins         0.631155\n",
       "a1            sleep_energy    work_mins       overall_energy    0.631155\n",
       "sleep_pred    work_energy     morning_mins    work_mins         0.631155\n",
       "work_pred     a1              work_energy     overall_energy    0.631155\n",
       "sleep_energy  evening_energy  work_mins       overall_energy    0.631155\n",
       "morning_pred  work_pred       evening_pred    work_mins         0.631155\n",
       "work_pred     work_energy     morning_mins    overall_energy    0.631629\n",
       "evening_pred  sleep_energy    work_mins       overall_energy    0.631629\n",
       "a2            a3              work_energy     morning_mins      0.631629\n",
       "a3            evening_energy  work_mins       overall_energy    0.631629\n",
       "morning_pred  work_energy     work_mins       sleep_mins        0.645360\n",
       "              evening_pred    work_energy     sleep_mins        0.645360\n",
       "evening_pred  work_energy     work_mins       overall_energy    0.646307\n",
       "work_energy   sleep_energy    work_mins       overall_energy    0.646307\n",
       "work_pred     morning_mins    overall_energy  overall_mins      0.646780\n",
       "work_energy   sleep_energy    morning_mins    overall_energy    0.647254\n",
       "morning_pred  evening_pred    a3              work_mins         0.661458\n",
       "              work_energy     sleep_energy    work_mins         0.662405\n",
       "evening_pred  work_energy     work_mins       overall_mins      0.677083\n",
       "dtype: float64"
      ]
     },
     "execution_count": 162,
     "metadata": {},
     "output_type": "execute_result"
    }
   ],
   "source": [
    "d[0]"
   ]
  },
  {
   "cell_type": "code",
   "execution_count": 164,
   "metadata": {
    "collapsed": false
   },
   "outputs": [
    {
     "data": {
      "text/plain": [
       "('evening_pred', 'work_energy', 'work_mins', 'overall_mins')"
      ]
     },
     "execution_count": 164,
     "metadata": {},
     "output_type": "execute_result"
    }
   ],
   "source": [
    "d[0].index[-1]"
   ]
  },
  {
   "cell_type": "code",
   "execution_count": 156,
   "metadata": {
    "collapsed": false
   },
   "outputs": [
    {
     "name": "stdout",
     "output_type": "stream",
     "text": [
      "0.454545454545\n"
     ]
    },
    {
     "data": {
      "text/html": [
       "<div>\n",
       "<table border=\"1\" class=\"dataframe\">\n",
       "  <thead>\n",
       "    <tr style=\"text-align: right;\">\n",
       "      <th></th>\n",
       "      <th>Average</th>\n",
       "      <th>Bad</th>\n",
       "      <th>Good</th>\n",
       "    </tr>\n",
       "  </thead>\n",
       "  <tbody>\n",
       "    <tr>\n",
       "      <th>Average</th>\n",
       "      <td>6</td>\n",
       "      <td>5</td>\n",
       "      <td>0</td>\n",
       "    </tr>\n",
       "    <tr>\n",
       "      <th>Bad</th>\n",
       "      <td>11</td>\n",
       "      <td>9</td>\n",
       "      <td>0</td>\n",
       "    </tr>\n",
       "    <tr>\n",
       "      <th>Good</th>\n",
       "      <td>2</td>\n",
       "      <td>0</td>\n",
       "      <td>0</td>\n",
       "    </tr>\n",
       "  </tbody>\n",
       "</table>\n",
       "</div>"
      ],
      "text/plain": [
       "         Average  Bad  Good\n",
       "Average        6    5     0\n",
       "Bad           11    9     0\n",
       "Good           2    0     0"
      ]
     },
     "execution_count": 156,
     "metadata": {},
     "output_type": "execute_result"
    }
   ],
   "source": [
    "feature_to_use = list(d[0].index.values[-1])\n",
    "clf = RandomForestClassifier()\n",
    "clf.fit(df.head(33)[feature_to_use], df.head(33)[\"hvac_class\"])\n",
    "pred_labels = clf.predict(df.tail(33)[feature_to_use])\n",
    "true_labels = df.tail(33)[\"hvac_class\"]\n",
    "df_accuracy = pd.DataFrame({\"pred\":pred_labels, \"true\":true_labels.values})\n",
    "print accuracy_score(pred_labels, true_labels)\n",
    "d1 = pd.DataFrame(confusion_matrix(true_labels, pred_labels))\n",
    "d1.columns = [\"Average\", \"Bad\", \"Good\"]\n",
    "d1.index = [\"Average\", \"Bad\", \"Good\"]\n",
    "d1"
   ]
  },
  {
   "cell_type": "code",
   "execution_count": 50,
   "metadata": {
    "collapsed": false
   },
   "outputs": [
    {
     "name": "stdout",
     "output_type": "stream",
     "text": [
      "0.545454545455\n"
     ]
    },
    {
     "data": {
      "text/html": [
       "<div>\n",
       "<table border=\"1\" class=\"dataframe\">\n",
       "  <thead>\n",
       "    <tr style=\"text-align: right;\">\n",
       "      <th></th>\n",
       "      <th>Average</th>\n",
       "      <th>Bad</th>\n",
       "      <th>Good</th>\n",
       "    </tr>\n",
       "  </thead>\n",
       "  <tbody>\n",
       "    <tr>\n",
       "      <th>Average</th>\n",
       "      <td>5</td>\n",
       "      <td>6</td>\n",
       "      <td>0</td>\n",
       "    </tr>\n",
       "    <tr>\n",
       "      <th>Bad</th>\n",
       "      <td>6</td>\n",
       "      <td>12</td>\n",
       "      <td>1</td>\n",
       "    </tr>\n",
       "    <tr>\n",
       "      <th>Good</th>\n",
       "      <td>0</td>\n",
       "      <td>2</td>\n",
       "      <td>1</td>\n",
       "    </tr>\n",
       "  </tbody>\n",
       "</table>\n",
       "</div>"
      ],
      "text/plain": [
       "         Average  Bad  Good\n",
       "Average        5    6     0\n",
       "Bad            6   12     1\n",
       "Good           0    2     1"
      ]
     },
     "execution_count": 50,
     "metadata": {},
     "output_type": "execute_result"
    }
   ],
   "source": [
    "feature_to_use = list(d[2].index.values[-1])\n",
    "clf = RandomForestClassifier(random_state=1)\n",
    "clf.fit(df.tail(33)[feature_to_use], df.tail(33)[\"hvac_class\"])\n",
    "pred_labels = clf.predict(df.tail(33)[feature_to_use])\n",
    "true_labels = df.head(33)[\"hvac_class\"]\n",
    "df_accuracy = pd.DataFrame({\"pred\":pred_labels, \"true\":true_labels.values})\n",
    "print accuracy_score(pred_labels, true_labels)\n",
    "d2 = pd.DataFrame(confusion_matrix(true_labels, pred_labels))\n",
    "d2.columns = [\"Average\", \"Bad\", \"Good\"]\n",
    "d2.index = [\"Average\", \"Bad\", \"Good\"]\n",
    "d2"
   ]
  },
  {
   "cell_type": "code",
   "execution_count": 173,
   "metadata": {
    "collapsed": false
   },
   "outputs": [
    {
     "data": {
      "text/html": [
       "<div>\n",
       "<table border=\"1\" class=\"dataframe\">\n",
       "  <thead>\n",
       "    <tr style=\"text-align: right;\">\n",
       "      <th></th>\n",
       "      <th>Average</th>\n",
       "      <th>Bad</th>\n",
       "      <th>Good</th>\n",
       "    </tr>\n",
       "  </thead>\n",
       "  <tbody>\n",
       "    <tr>\n",
       "      <th>Average</th>\n",
       "      <td>7</td>\n",
       "      <td>15</td>\n",
       "      <td>0</td>\n",
       "    </tr>\n",
       "    <tr>\n",
       "      <th>Bad</th>\n",
       "      <td>8</td>\n",
       "      <td>30</td>\n",
       "      <td>1</td>\n",
       "    </tr>\n",
       "    <tr>\n",
       "      <th>Good</th>\n",
       "      <td>0</td>\n",
       "      <td>4</td>\n",
       "      <td>1</td>\n",
       "    </tr>\n",
       "  </tbody>\n",
       "</table>\n",
       "</div>"
      ],
      "text/plain": [
       "         Average  Bad  Good\n",
       "Average        7   15     0\n",
       "Bad            8   30     1\n",
       "Good           0    4     1"
      ]
     },
     "execution_count": 173,
     "metadata": {},
     "output_type": "execute_result"
    }
   ],
   "source": [
    "d1+d2"
   ]
  },
  {
   "cell_type": "code",
   "execution_count": 159,
   "metadata": {
    "collapsed": false
   },
   "outputs": [
    {
     "data": {
      "text/plain": [
       "['morning_pred', 'a3', 'morning_mins', 'evening_mins']"
      ]
     },
     "execution_count": 159,
     "metadata": {},
     "output_type": "execute_result"
    }
   ],
   "source": [
    "feature_to_use"
   ]
  },
  {
   "cell_type": "code",
   "execution_count": 138,
   "metadata": {
    "collapsed": false
   },
   "outputs": [
    {
     "data": {
      "text/plain": [
       "DecisionTreeClassifier(class_weight=None, criterion='gini', max_depth=None,\n",
       "            max_features=None, max_leaf_nodes=None, min_samples_leaf=1,\n",
       "            min_samples_split=2, min_weight_fraction_leaf=0.0,\n",
       "            random_state=None, splitter='best')"
      ]
     },
     "execution_count": 138,
     "metadata": {},
     "output_type": "execute_result"
    }
   ],
   "source": [
    "clf.fit(df_res.head(32)[['work_energy', 'sleep_energy', 'morning_energy', 'evening_energy']], df_res.head(32)[\"hvac_class\"])"
   ]
  },
  {
   "cell_type": "code",
   "execution_count": 139,
   "metadata": {
    "collapsed": true
   },
   "outputs": [],
   "source": [
    "o = clf.predict(df_res.tail(33)[['work_energy', 'sleep_energy', 'morning_energy', 'evening_energy']])"
   ]
  },
  {
   "cell_type": "code",
   "execution_count": 140,
   "metadata": {
    "collapsed": false
   },
   "outputs": [
    {
     "data": {
      "text/plain": [
       "array(['Good', 'Bad', 'Average', 'Good', 'Bad', 'Good', 'Average', 'Good',\n",
       "       'Bad', 'Good', 'Bad', 'Good', 'Good', 'Bad', 'Bad', 'Good',\n",
       "       'Average', 'Good', 'Good', 'Good', 'Bad', 'Good', 'Bad', 'Good',\n",
       "       'Bad', 'Bad', 'Bad', 'Bad', 'Average', 'Bad', 'Bad', 'Bad', 'Good'], dtype=object)"
      ]
     },
     "execution_count": 140,
     "metadata": {},
     "output_type": "execute_result"
    }
   ],
   "source": [
    "o"
   ]
  },
  {
   "cell_type": "code",
   "execution_count": 157,
   "metadata": {
    "collapsed": true
   },
   "outputs": [],
   "source": [
    "from sklearn.metrics import confusion_matrix, precision_score, accuracy_score"
   ]
  },
  {
   "cell_type": "code",
   "execution_count": 142,
   "metadata": {
    "collapsed": true
   },
   "outputs": [],
   "source": [
    "y_true = df_res.tail(33)[\"hvac_class\"]\n",
    "y_pred = o"
   ]
  },
  {
   "cell_type": "code",
   "execution_count": 145,
   "metadata": {
    "collapsed": false
   },
   "outputs": [
    {
     "name": "stderr",
     "output_type": "stream",
     "text": [
      "/Users/nipunbatra/anaconda/lib/python2.7/site-packages/sklearn/metrics/classification.py:1082: DeprecationWarning: The default `weighted` averaging is deprecated, and from version 0.18, use of precision, recall or F-score with multiclass or multilabel data or pos_label=None will result in an exception. Please set an explicit value for `average`, one of (None, 'micro', 'macro', 'weighted', 'samples'). In cross validation use, for instance, scoring=\"f1_weighted\" instead of scoring=\"f1\".\n",
      "  sample_weight=sample_weight)\n"
     ]
    },
    {
     "data": {
      "text/plain": [
       "0.48124098124098119"
      ]
     },
     "execution_count": 145,
     "metadata": {},
     "output_type": "execute_result"
    }
   ],
   "source": [
    "precision_score(y_true, y_pred)"
   ]
  },
  {
   "cell_type": "code",
   "execution_count": 143,
   "metadata": {
    "collapsed": false
   },
   "outputs": [
    {
     "data": {
      "text/plain": [
       "array([[ 1,  2,  5],\n",
       "       [ 2, 10,  4],\n",
       "       [ 1,  3,  5]])"
      ]
     },
     "execution_count": 143,
     "metadata": {},
     "output_type": "execute_result"
    }
   ],
   "source": [
    "confusion_matrix(y_true, y_pred)"
   ]
  },
  {
   "cell_type": "code",
   "execution_count": 49,
   "metadata": {
    "collapsed": true
   },
   "outputs": [],
   "source": [
    "svr = LinearSVR()"
   ]
  },
  {
   "cell_type": "code",
   "execution_count": 83,
   "metadata": {
    "collapsed": false
   },
   "outputs": [
    {
     "data": {
      "text/plain": [
       "LinearSVR(C=1.0, dual=True, epsilon=0.0, fit_intercept=True,\n",
       "     intercept_scaling=1.0, loss='epsilon_insensitive', max_iter=1000,\n",
       "     random_state=None, tol=0.0001, verbose=0)"
      ]
     },
     "execution_count": 83,
     "metadata": {},
     "output_type": "execute_result"
    }
   ],
   "source": [
    "svr.fit(df_res[['overall_mins', 'overall_energy', 'work_energy']], df_res['good_count'])"
   ]
  },
  {
   "cell_type": "code",
   "execution_count": 84,
   "metadata": {
    "collapsed": false
   },
   "outputs": [],
   "source": [
    "o=svr.predict(df_res[['overall_mins', 'overall_energy', 'work_energy']])"
   ]
  },
  {
   "cell_type": "code",
   "execution_count": 85,
   "metadata": {
    "collapsed": false
   },
   "outputs": [
    {
     "data": {
      "text/plain": [
       "array([ 102.,   77.,   46.,   65.,   90.,   64.,   77.,   40.,   53.,\n",
       "         56.,   81.,  114.,   80.,   60.,  113.,   74.,   49.,   94.,\n",
       "         21.,  107.,   85.,  153.,   16.,   56.,   71.,  110.,  110.,\n",
       "         83.,   65.,   96.,   64.,   64.,   34.,   36.,  105.,  225.,\n",
       "         48.,   86.,   30.,   84.,   35.,   98.,   65.,   54.,   41.,\n",
       "         58.,   57.,   16.,   43.,   75.,   55.,   39.,   50.,  156.,\n",
       "         66.,  123.,   44.,   89.,    4.,   22.,  153.,  176.,   97.,\n",
       "        166.,   93.,   33.])"
      ]
     },
     "execution_count": 85,
     "metadata": {},
     "output_type": "execute_result"
    }
   ],
   "source": [
    "np.round(o)"
   ]
  },
  {
   "cell_type": "code",
   "execution_count": 56,
   "metadata": {
    "collapsed": true
   },
   "outputs": [],
   "source": [
    "import matplotlib.pyplot as plt"
   ]
  },
  {
   "cell_type": "code",
   "execution_count": 99,
   "metadata": {
    "collapsed": false
   },
   "outputs": [
    {
     "data": {
      "text/plain": [
       "[<matplotlib.lines.Line2D at 0x10a70e1d0>]"
      ]
     },
     "execution_count": 99,
     "metadata": {},
     "output_type": "execute_result"
    },
    {
     "data": {
      "image/png": "[encoded data removed]",
      "text/plain": [
       "<matplotlib.figure.Figure at 0x10a71a610>"
      ]
     },
     "metadata": {},
     "output_type": "display_data"
    }
   ],
   "source": [
    "plt.plot(np.round(o))\n",
    "plt.plot(df_res.tail(33)['good_count'])"
   ]
  },
  {
   "cell_type": "code",
   "execution_count": 58,
   "metadata": {
    "collapsed": true
   },
   "outputs": [],
   "source": [
    "%matplotlib inline"
   ]
  },
  {
   "cell_type": "code",
   "execution_count": 64,
   "metadata": {
    "collapsed": false
   },
   "outputs": [
    {
     "data": {
      "text/plain": [
       "<matplotlib.axes._subplots.AxesSubplot at 0x108632790>"
      ]
     },
     "execution_count": 64,
     "metadata": {},
     "output_type": "execute_result"
    },
    {
     "data": {
      "image/png": "[encoded data removed]",
      "text/plain": [
       "<matplotlib.figure.Figure at 0x10383be50>"
      ]
     },
     "metadata": {},
     "output_type": "display_data"
    }
   ],
   "source": [
    "df_res.plot(kind=\"scatter\", x=\"overall_energy\", y=\"good_count\")"
   ]
  },
  {
   "cell_type": "code",
   "execution_count": null,
   "metadata": {
    "collapsed": true
   },
   "outputs": [],
   "source": []
  }
 ],
 "metadata": {
  "kernelspec": {
   "display_name": "Python 2",
   "language": "python",
   "name": "python2"
  },
  "language_info": {
   "codemirror_mode": {
    "name": "ipython",
    "version": 2
   },
   "file_extension": ".py",
   "mimetype": "text/x-python",
   "name": "python",
   "nbconvert_exporter": "python",
   "pygments_lexer": "ipython2",
   "version": "2.7.10"
  }
 },
 "nbformat": 4,
 "nbformat_minor": 0
}
