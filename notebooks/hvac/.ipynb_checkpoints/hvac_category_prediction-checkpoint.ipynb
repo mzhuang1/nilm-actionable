{
 "cells": [
  {
   "cell_type": "code",
   "execution_count": 1,
   "metadata": {
    "collapsed": true
   },
   "outputs": [],
   "source": [
    "import pandas as pd\n",
    "import numpy as np\n",
    "import time"
   ]
  },
  {
   "cell_type": "code",
   "execution_count": 2,
   "metadata": {
    "collapsed": true
   },
   "outputs": [],
   "source": [
    "import matplotlib.pyplot as plt\n",
    "%matplotlib inline"
   ]
  },
  {
   "cell_type": "code",
   "execution_count": 3,
   "metadata": {
    "collapsed": false
   },
   "outputs": [],
   "source": [
    "df = pd.read_csv(\"../../data/hvac/minutes_a3.csv\")"
   ]
  },
  {
   "cell_type": "code",
   "execution_count": 4,
   "metadata": {
    "collapsed": false
   },
   "outputs": [
    {
     "data": {
      "text/plain": [
       "Index([u'dataid', u'a1', u'a2', u'a3', u'a4', u'a5', u'a6', u'evening_energy',\n",
       "       u'evening_gt', u'evening_mins', u'evening_pred', u'hvac_class',\n",
       "       u'morning_energy', u'morning_gt', u'morning_mins', u'morning_pred',\n",
       "       u'overall_energy', u'overall_mins', u'sleep_energy', u'sleep_gt',\n",
       "       u'sleep_mins', u'sleep_pred', u'work_energy', u'work_gt', u'work_mins',\n",
       "       u'work_pred'],\n",
       "      dtype='object')"
      ]
     },
     "execution_count": 4,
     "metadata": {},
     "output_type": "execute_result"
    }
   ],
   "source": [
    "df.columns"
   ]
  },
  {
   "cell_type": "code",
   "execution_count": 5,
   "metadata": {
    "collapsed": true
   },
   "outputs": [],
   "source": [
    "from sklearn.tree import DecisionTreeClassifier"
   ]
  },
  {
   "cell_type": "code",
   "execution_count": 175,
   "metadata": {
    "collapsed": true
   },
   "outputs": [],
   "source": [
    "from itertools import chain, combinations\n",
    "\n",
    "def powerset(iterable, N_max):\n",
    "    xs = list(iterable)\n",
    "    # note we return an iterator rather than a list\n",
    "    \n",
    "    return chain.from_iterable( combinations(xs,n) for n in range(N_max-1, N_max))\n",
    "    "
   ]
  },
  {
   "cell_type": "code",
   "execution_count": 176,
   "metadata": {
    "collapsed": true
   },
   "outputs": [],
   "source": [
    "features = ['sleep_pred','morning_pred','work_pred','evening_pred','a1','a2','a3','a4','a5','a6','work_energy', 'sleep_energy', 'morning_energy', \n",
    "            'evening_energy','morning_mins', 'work_mins','sleep_mins', 'evening_mins','overall_energy', 'overall_mins']\n",
    "features_small = ['sleep_pred','morning_pred','work_pred','evening_pred','a1','a2','a3']\n",
    "features_mid = ['sleep_pred','morning_pred','work_pred','evening_pred','a1','a2','a3','work_energy','evening_energy','work_mins','evening_mins']"
   ]
  },
  {
   "cell_type": "code",
   "execution_count": 177,
   "metadata": {
    "collapsed": true
   },
   "outputs": [],
   "source": [
    "from sklearn.svm import SVC\n",
    "from sklearn.neighbors import KNeighborsClassifier\n",
    "from sklearn.ensemble import RandomForestClassifier, AdaBoostClassifier\n",
    "from sklearn.metrics import accuracy_score, confusion_matrix"
   ]
  },
  {
   "cell_type": "code",
   "execution_count": 178,
   "metadata": {
    "collapsed": false
   },
   "outputs": [],
   "source": [
    "np.random.seed(42)\n"
   ]
  },
  {
   "cell_type": "code",
   "execution_count": 179,
   "metadata": {
    "collapsed": false
   },
   "outputs": [],
   "source": [
    "from sklearn import cross_validation\n",
    "train_idx, test_idx = cross_validation.train_test_split(range(len(df)), train_size=0.5)\n"
   ]
  },
  {
   "cell_type": "code",
   "execution_count": 180,
   "metadata": {
    "collapsed": false
   },
   "outputs": [],
   "source": [
    "train = df.ix[train_idx]\n",
    "test = df.ix[test_idx]"
   ]
  },
  {
   "cell_type": "code",
   "execution_count": 181,
   "metadata": {
    "collapsed": false
   },
   "outputs": [
    {
     "data": {
      "text/plain": [
       "Bad        19\n",
       "Average    11\n",
       "Good        2\n",
       "dtype: int64"
      ]
     },
     "execution_count": 181,
     "metadata": {},
     "output_type": "execute_result"
    }
   ],
   "source": [
    "pd.value_counts(train.hvac_class)"
   ]
  },
  {
   "cell_type": "code",
   "execution_count": 182,
   "metadata": {
    "collapsed": false
   },
   "outputs": [
    {
     "data": {
      "text/plain": [
       "Bad        19\n",
       "Average    11\n",
       "Good        3\n",
       "dtype: int64"
      ]
     },
     "execution_count": 182,
     "metadata": {},
     "output_type": "execute_result"
    }
   ],
   "source": [
    "pd.value_counts(test.hvac_class)"
   ]
  },
  {
   "cell_type": "code",
   "execution_count": null,
   "metadata": {
    "collapsed": true
   },
   "outputs": [],
   "source": []
  },
  {
   "cell_type": "code",
   "execution_count": 183,
   "metadata": {
    "collapsed": false
   },
   "outputs": [
    {
     "data": {
      "text/plain": [
       "<matplotlib.axes._subplots.AxesSubplot at 0x109a55f10>"
      ]
     },
     "execution_count": 183,
     "metadata": {},
     "output_type": "execute_result"
    },
    {
     "data": {
      "image/png": "[encoded data removed]",
      "text/plain": [
       "<matplotlib.figure.Figure at 0x109a55990>"
      ]
     },
     "metadata": {},
     "output_type": "display_data"
    }
   ],
   "source": [
    "import matplotlib.pyplot as plt\n",
    "from sklearn.ensemble import ExtraTreesClassifier\n",
    "# load the iris datasets\n",
    "# fit an Extra Trees model to the data\n",
    "np.random.seed(42)\n",
    "model = ExtraTreesClassifier()\n",
    "model.fit(train[features], train[\"hvac_class\"])\n",
    "# display the relative importance of each attribute\n",
    "ser1 = pd.Series(model.feature_importances_, index=features)\n",
    "\n",
    "np.random.seed(42)\n",
    "model = ExtraTreesClassifier()\n",
    "model.fit(test[features], test[\"hvac_class\"])\n",
    "# display the relative importance of each attribute\n",
    "ser2 = pd.Series(model.feature_importances_, index=features)\n",
    "\n",
    "\n",
    "ser = (ser1+ ser2)/2.0\n",
    "ser.sort()\n",
    "ser.plot(kind='barh')"
   ]
  },
  {
   "cell_type": "code",
   "execution_count": 184,
   "metadata": {
    "collapsed": false
   },
   "outputs": [
    {
     "data": {
      "text/plain": [
       "sleep_pred        0.069399\n",
       "morning_pred      0.174619\n",
       "work_pred         0.061890\n",
       "evening_pred      0.060952\n",
       "a1                0.054190\n",
       "a2                0.046950\n",
       "a3                0.040717\n",
       "a4                0.038899\n",
       "a5                0.012292\n",
       "a6                0.027190\n",
       "work_energy       0.068360\n",
       "sleep_energy      0.060751\n",
       "morning_energy    0.016396\n",
       "evening_energy    0.031719\n",
       "morning_mins      0.026419\n",
       "work_mins         0.093604\n",
       "sleep_mins        0.034364\n",
       "evening_mins      0.050584\n",
       "overall_energy    0.011784\n",
       "overall_mins      0.018919\n",
       "dtype: float64"
      ]
     },
     "execution_count": 184,
     "metadata": {},
     "output_type": "execute_result"
    }
   ],
   "source": [
    "ser1"
   ]
  },
  {
   "cell_type": "code",
   "execution_count": 185,
   "metadata": {
    "collapsed": false
   },
   "outputs": [
    {
     "data": {
      "text/plain": [
       "sleep_pred        0.019185\n",
       "morning_pred      0.071391\n",
       "work_pred         0.027573\n",
       "evening_pred      0.064897\n",
       "a1                0.044325\n",
       "a2                0.059336\n",
       "a3                0.077610\n",
       "a4                0.039778\n",
       "a5                0.041781\n",
       "a6                0.016830\n",
       "work_energy       0.086501\n",
       "sleep_energy      0.040242\n",
       "morning_energy    0.022793\n",
       "evening_energy    0.053988\n",
       "morning_mins      0.077709\n",
       "work_mins         0.050875\n",
       "sleep_mins        0.070258\n",
       "evening_mins      0.072242\n",
       "overall_energy    0.022237\n",
       "overall_mins      0.040447\n",
       "dtype: float64"
      ]
     },
     "execution_count": 185,
     "metadata": {},
     "output_type": "execute_result"
    }
   ],
   "source": [
    "ser2"
   ]
  },
  {
   "cell_type": "code",
   "execution_count": 186,
   "metadata": {
    "collapsed": false
   },
   "outputs": [
    {
     "data": {
      "text/plain": [
       "0.83076923076923082"
      ]
     },
     "execution_count": 186,
     "metadata": {},
     "output_type": "execute_result"
    }
   ],
   "source": [
    "y_pred = model.predict(df[features])\n",
    "y_true = df[\"hvac_class\"]\n",
    "confusion_matrix(y_true, y_pred)\n",
    "accuracy_score(y_true, y_pred)"
   ]
  },
  {
   "cell_type": "code",
   "execution_count": 187,
   "metadata": {
    "collapsed": true
   },
   "outputs": [],
   "source": [
    "\n",
    "def accuracy_multiclass(y_true, y_pred):\n",
    "    confusion = confusion_matrix(y_true, y_pred)\n",
    "    length = len(confusion)\n",
    "    out = 0.0\n",
    "    for i in xrange(length):\n",
    "        out+= confusion[i,i]*1.0/np.sum(confusion[i])\n",
    "    return out/length\n",
    "        "
   ]
  },
  {
   "cell_type": "code",
   "execution_count": 188,
   "metadata": {
    "collapsed": false
   },
   "outputs": [],
   "source": [
    "out_fold1 = {}\n",
    "out_fold2 = {}\n",
    "y1_best_score = 0\n",
    "y1_best_pred = None\n",
    "y2_best_score = 0\n",
    "y2_best_pred = None\n",
    "best_random_state = -1\n",
    "best_random_score = 0\n",
    "\n",
    "\n",
    "    \n",
    "cls = {  \"RF\":RandomForestClassifier(), \"DT\": DecisionTreeClassifier()\n",
    "      }\n",
    "out_fold1[random_state] = {\"SVM\":{}, \"DT\":{},\"KNN\":{},\"RF\":{}, \"ET\":{}}\n",
    "\n",
    "y_true = test['hvac_class']\n",
    "for f in powerset(features):\n",
    "    for cl_name, clf in cls.iteritems():\n",
    "\n",
    "        np.random.seed(42)\n",
    "        clf.fit(train[list(f)], train[\"hvac_class\"])\n",
    "        y_pred = clf.predict(test[list(f)])\n",
    "\n",
    "        accur = accuracy_multiclass(y_pred, y_true)\n",
    "        out_fold1[random_state][cl_name][f] = accur\n",
    "\n",
    "\n",
    "out_fold2[random_state] = {\"SVM\":{}, \"DT\":{},\"KNN\":{},\"RF\":{}, \"ET\":{}}\n",
    "\n",
    "y_true =train['hvac_class']\n",
    "for f in powerset(features):\n",
    "    np.random.seed(42)\n",
    "\n",
    "\n",
    "    for cl_name, clf in cls.iteritems():\n",
    "        clf.fit(test[list(f)], test[\"hvac_class\"])\n",
    "        y_pred = clf.predict(train[list(f)])\n",
    "\n",
    "        accur = accuracy_multiclass(y_pred, y_true)\n",
    "        out_fold2[random_state][cl_name][f] = accur\n",
    "\n",
    "    "
   ]
  },
  {
   "cell_type": "code",
   "execution_count": 197,
   "metadata": {
    "collapsed": false
   },
   "outputs": [],
   "source": [
    "d = {}\n",
    "for i in range(1):\n",
    "    d[i] = ((pd.Series(out_fold1[i][\"RF\"])+pd.Series(out_fold2[i][\"RF\"]))/2).dropna()\n",
    "    d[i].sort()\n",
    "    "
   ]
  },
  {
   "cell_type": "code",
   "execution_count": 198,
   "metadata": {
    "collapsed": false
   },
   "outputs": [
    {
     "data": {
      "text/plain": [
       "evening_pred  a1  evening_energy  work_mins       evening_mins    0.584199\n",
       "work_pred     a3  a4              work_energy     overall_mins    0.584887\n",
       "              a1  a3              overall_energy  overall_mins    0.587861\n",
       "sleep_pred    a3  a4              work_energy     overall_mins    0.597675\n",
       "work_pred     a4  sleep_mins      overall_energy  overall_mins    0.600069\n",
       "              a3  a5              work_energy     overall_mins    0.612222\n",
       "sleep_pred    a3  a5              overall_energy  overall_mins    0.616201\n",
       "work_pred     a3  work_energy     overall_energy  overall_mins    0.630462\n",
       "              a5  work_energy     evening_energy  evening_mins    0.646086\n",
       "sleep_pred    a3  a5              evening_energy  overall_mins    0.652763\n",
       "dtype: float64"
      ]
     },
     "execution_count": 198,
     "metadata": {},
     "output_type": "execute_result"
    }
   ],
   "source": [
    "d[i].tail(10)"
   ]
  },
  {
   "cell_type": "code",
   "execution_count": 207,
   "metadata": {
    "collapsed": false
   },
   "outputs": [],
   "source": [
    "best_features = {\n",
    "    4: {\"RF\":{\"features\":['evening_pred', 'a1', 'a5', 'overall_energy'], \"seed\":1030, \"accuracy\":0.6},\n",
    "       \"DT\":{\"features\":['evening_pred', 'a1', 'a3', 'a5', 'overall_energy'], \"seed\":282, \"accuracy\":0.55}},\n",
    "        \n",
    "    5: {\"RF\":\n",
    "        {\"features\":['sleep_pred', 'a3', 'a5', 'evening_energy', 'overall_mins'], \"seed\":504, \"accuracy\":0.57},\n",
    "       \"DT\":\n",
    "        {\"features\":['evening_pred', 'a5', 'work_energy', 'overall_energy'], seed:723,\"accuracy\":0.58}\n",
    "       },\n",
    "    \n",
    "}"
   ]
  },
  {
   "cell_type": "code",
   "execution_count": 211,
   "metadata": {
    "collapsed": false
   },
   "outputs": [
    {
     "name": "stdout",
     "output_type": "stream",
     "text": [
      "('sleep_pred', 'a3', 'a5', 'evening_energy', 'overall_mins')\n"
     ]
    }
   ],
   "source": [
    "f = d[i].index[-1]\n",
    "#f = ['work_pred', 'work_mins','a3','a5']\n",
    "print f\n",
    "accuracies ={}\n",
    "#for seed in range(1, 2000):\n",
    "for seed in [504]:\n",
    "    np.random.seed(seed)\n",
    "    #clf = DecisionTreeClassifier()\n",
    "    #clf = ExtraTreesClassifier()\n",
    "    clf = RandomForestClassifier()\n",
    "    clf.fit(train[list(f)], train[\"hvac_class\"])\n",
    "    y_pred = clf.predict(test[list(f)])\n",
    "    y_true = test['hvac_class']\n",
    "    accur1 = accuracy_multiclass(y_true, y_pred)\n",
    "    d1 = pd.DataFrame(confusion_matrix(y_true, y_pred))\n",
    "    d1.columns = [\"Average\", \"Bad\", \"Good\"]\n",
    "    d1.index = [\"Average\", \"Bad\", \"Good\"]\n",
    "    \n",
    "\n",
    "    np.random.seed(seed)\n",
    "    #clf = SVC()\n",
    "    #clf = DecisionTreeClassifier()\n",
    "    #clf = ExtraTreesClassifier()\n",
    "    clf = RandomForestClassifier()\n",
    "    clf.fit(test[list(f)], test[\"hvac_class\"])\n",
    "    y_pred = clf.predict(train[list(f)])\n",
    "    y_true = train['hvac_class']\n",
    "    accur2 = accuracy_multiclass(y_true, y_pred)\n",
    "    d2 = pd.DataFrame(confusion_matrix(y_true, y_pred))\n",
    "    d2.columns = [\"Average\", \"Bad\", \"Good\"]\n",
    "    d2.index = [\"Average\", \"Bad\", \"Good\"]\n",
    "    d2\n",
    "\n",
    "    d1+d2\n",
    "    accuracies[seed] =  (accur2+accur1)/2.0"
   ]
  },
  {
   "cell_type": "code",
   "execution_count": 212,
   "metadata": {
    "collapsed": false
   },
   "outputs": [
    {
     "data": {
      "text/html": [
       "<div>\n",
       "<table border=\"1\" class=\"dataframe\">\n",
       "  <thead>\n",
       "    <tr style=\"text-align: right;\">\n",
       "      <th></th>\n",
       "      <th>Average</th>\n",
       "      <th>Bad</th>\n",
       "      <th>Good</th>\n",
       "    </tr>\n",
       "  </thead>\n",
       "  <tbody>\n",
       "    <tr>\n",
       "      <th>Average</th>\n",
       "      <td>14</td>\n",
       "      <td>7</td>\n",
       "      <td>1</td>\n",
       "    </tr>\n",
       "    <tr>\n",
       "      <th>Bad</th>\n",
       "      <td>10</td>\n",
       "      <td>25</td>\n",
       "      <td>3</td>\n",
       "    </tr>\n",
       "    <tr>\n",
       "      <th>Good</th>\n",
       "      <td>1</td>\n",
       "      <td>2</td>\n",
       "      <td>2</td>\n",
       "    </tr>\n",
       "  </tbody>\n",
       "</table>\n",
       "</div>"
      ],
      "text/plain": [
       "         Average  Bad  Good\n",
       "Average       14    7     1\n",
       "Bad           10   25     3\n",
       "Good           1    2     2"
      ]
     },
     "execution_count": 212,
     "metadata": {},
     "output_type": "execute_result"
    }
   ],
   "source": [
    "d1+d2"
   ]
  },
  {
   "cell_type": "code",
   "execution_count": 205,
   "metadata": {
    "collapsed": false
   },
   "outputs": [
    {
     "data": {
      "text/plain": [
       "814     0.541600\n",
       "489     0.543993\n",
       "972     0.543993\n",
       "1740    0.543993\n",
       "1866    0.550372\n",
       "1394    0.552764\n",
       "1142    0.559144\n",
       "1307    0.561536\n",
       "1521    0.562334\n",
       "504     0.570308\n",
       "dtype: float64"
      ]
     },
     "execution_count": 205,
     "metadata": {},
     "output_type": "execute_result"
    }
   ],
   "source": [
    "x = pd.Series(accuracies)\n",
    "x.sort()\n",
    "x.tail(10)"
   ]
  },
  {
   "cell_type": "code",
   "execution_count": 162,
   "metadata": {
    "collapsed": false
   },
   "outputs": [
    {
     "data": {
      "text/plain": [
       "0.6307692307692307"
      ]
     },
     "execution_count": 162,
     "metadata": {},
     "output_type": "execute_result"
    }
   ],
   "source": [
    "41.0/65"
   ]
  },
  {
   "cell_type": "code",
   "execution_count": 41,
   "metadata": {
    "collapsed": false
   },
   "outputs": [
    {
     "data": {
      "text/plain": [
       "<matplotlib.axes._subplots.AxesSubplot at 0x10e38da90>"
      ]
     },
     "execution_count": 41,
     "metadata": {},
     "output_type": "execute_result"
    },
    {
     "data": {
      "image/png": "[encoded data removed]",
      "text/plain": [
       "<matplotlib.figure.Figure at 0x10e38d790>"
      ]
     },
     "metadata": {},
     "output_type": "display_data"
    }
   ],
   "source": [
    "d[i].tail(10).plot(kind='barh')"
   ]
  },
  {
   "cell_type": "code",
   "execution_count": 28,
   "metadata": {
    "collapsed": true
   },
   "outputs": [],
   "source": [
    "%matplotlib inline"
   ]
  },
  {
   "cell_type": "code",
   "execution_count": 67,
   "metadata": {
    "collapsed": false
   },
   "outputs": [
    {
     "name": "stdout",
     "output_type": "stream",
     "text": [
      "[ 0.06009366  0.06730823  0.05307294  0.07850144  0.03900158  0.05760933\n",
      "  0.04636315  0.08423316  0.05870623  0.04337079  0.04052159  0.04329365\n",
      "  0.06788752  0.07300866  0.07475464  0.06858294  0.04369048]\n"
     ]
    },
    {
     "data": {
      "text/plain": [
       "<matplotlib.axes._subplots.AxesSubplot at 0x109960b90>"
      ]
     },
     "execution_count": 67,
     "metadata": {},
     "output_type": "execute_result"
    },
    {
     "data": {
      "image/png": "[encoded data removed]",
      "text/plain": [
       "<matplotlib.figure.Figure at 0x10a8e9950>"
      ]
     },
     "metadata": {},
     "output_type": "display_data"
    }
   ],
   "source": [
    "np.random.seed(42)\n",
    "import matplotlib.pyplot as plt\n",
    "from sklearn.ensemble import ExtraTreesClassifier\n",
    "# load the iris datasets\n",
    "# fit an Extra Trees model to the data\n",
    "model = ExtraTreesClassifier()\n",
    "model.fit(df[features], df[\"hvac_class\"])\n",
    "# display the relative importance of each attribute\n",
    "print(model.feature_importances_)\n",
    "ser = pd.Series(model.feature_importances_, index=features)\n",
    "ser.sort()\n",
    "ser.plot(kind='barh')"
   ]
  },
  {
   "cell_type": "code",
   "execution_count": 61,
   "metadata": {
    "collapsed": true
   },
   "outputs": [],
   "source": [
    "from sklearn.multiclass import OneVsRestClassifier\n",
    "\n",
    "from sklearn import svm\n",
    "classifier = OneVsRestClassifier(svm.SVC(kernel='linear', probability=True))"
   ]
  },
  {
   "cell_type": "code",
   "execution_count": null,
   "metadata": {
    "collapsed": false
   },
   "outputs": [],
   "source": [
    "classifier.fit(train[features], train[\"hvac_class\"])\n",
    "pred_1 = classifier.pred(test[features])"
   ]
  },
  {
   "cell_type": "code",
   "execution_count": 166,
   "metadata": {
    "collapsed": false
   },
   "outputs": [
    {
     "data": {
      "text/plain": [
       "(0.75, 0.75757575757575757, 1.5075757575757576, 1)"
      ]
     },
     "execution_count": 166,
     "metadata": {},
     "output_type": "execute_result"
    }
   ],
   "source": [
    "y2_best_score, y1_best_score, best_random_score, best_random_state"
   ]
  },
  {
   "cell_type": "code",
   "execution_count": 167,
   "metadata": {
    "collapsed": false
   },
   "outputs": [],
   "source": [
    "import operator\n",
    "sorted_fold1 = sorted(out_fold1[1][\"RF\"].items(), key=operator.itemgetter(1))\n",
    "sorted_fold2 = sorted(out_fold2[1][\"RF\"].items(), key=operator.itemgetter(1))"
   ]
  },
  {
   "cell_type": "code",
   "execution_count": 15,
   "metadata": {
    "collapsed": false
   },
   "outputs": [
    {
     "data": {
      "text/plain": [
       "sleep_pred    morning_pred  work_pred     evening_pred  a1  a3  work_energy  sleep_energy  morning_energy  evening_energy  morning_mins    work_mins     sleep_mins  evening_mins  overall_energy  overall_mins      0.446023\n",
       "                                                            a2  a3           work_energy   sleep_energy    morning_energy  evening_energy  morning_mins  sleep_mins  evening_mins  overall_energy  overall_mins      0.476326\n",
       "                                                        a2  a3  work_energy  sleep_energy  morning_energy  evening_energy  morning_mins    work_mins     sleep_mins  evening_mins  overall_energy  overall_mins      0.507576\n",
       "                                                        a1  a2  a3           work_energy   sleep_energy    morning_energy  evening_energy  morning_mins  work_mins   sleep_mins    evening_mins    overall_mins      0.508049\n",
       "                                                                                                                                                                     evening_mins  overall_energy  overall_mins      0.508049\n",
       "              work_pred     evening_pred  a1            a2  a3  work_energy  sleep_energy  morning_energy  evening_energy  morning_mins    work_mins     sleep_mins  evening_mins  overall_energy  overall_mins      0.508996\n",
       "              morning_pred  work_pred     evening_pred  a1  a2  work_energy  sleep_energy  morning_energy  evening_energy  morning_mins    work_mins     sleep_mins  evening_mins  overall_energy  overall_mins      0.537879\n",
       "morning_pred  work_pred     evening_pred  a1            a2  a3  work_energy  sleep_energy  morning_energy  evening_energy  morning_mins    work_mins     sleep_mins  evening_mins  overall_energy  overall_mins      0.553030\n",
       "sleep_pred    morning_pred  work_pred     a1            a2  a3  work_energy  sleep_energy  morning_energy  evening_energy  morning_mins    work_mins     sleep_mins  evening_mins  overall_energy  overall_mins      0.553030\n",
       "                                          evening_pred  a1  a2  a3           sleep_energy  morning_energy  evening_energy  morning_mins    work_mins     sleep_mins  evening_mins  overall_energy  overall_mins      0.554451\n",
       "                                                                             work_energy   morning_energy  evening_energy  morning_mins    work_mins     sleep_mins  evening_mins  overall_energy  overall_mins      0.569129\n",
       "                                                                                           sleep_energy    morning_energy  morning_mins    work_mins     sleep_mins  evening_mins  overall_energy  overall_mins      0.569129\n",
       "                                                                                                                           evening_energy  work_mins     sleep_mins  evening_mins  overall_energy  overall_mins      0.569602\n",
       "                                                                                                           evening_energy  morning_mins    work_mins     sleep_mins  evening_mins  overall_energy  overall_mins      0.570076\n",
       "                                                                                                           morning_energy  evening_energy  morning_mins  work_mins   sleep_mins    evening_mins    overall_energy    0.583333\n",
       "                            evening_pred  a1            a2  a3  work_energy  sleep_energy  morning_energy  evening_energy  morning_mins    work_mins     sleep_mins  evening_mins  overall_energy  overall_mins      0.599905\n",
       "                            work_pred     evening_pred  a1  a2  a3           work_energy   sleep_energy    morning_energy  evening_energy  morning_mins  work_mins   sleep_mins    overall_energy  overall_mins      0.631629\n",
       "dtype: float64"
      ]
     },
     "execution_count": 15,
     "metadata": {},
     "output_type": "execute_result"
    }
   ],
   "source": [
    "d[0]"
   ]
  },
  {
   "cell_type": "code",
   "execution_count": 104,
   "metadata": {
    "collapsed": false
   },
   "outputs": [
    {
     "data": {
      "text/plain": [
       "('work_pred', 'work_energy', 'work_mins', 'sleep_mins', 'overall_mins')"
      ]
     },
     "execution_count": 104,
     "metadata": {},
     "output_type": "execute_result"
    }
   ],
   "source": [
    "d[0].index[-1]"
   ]
  },
  {
   "cell_type": "code",
   "execution_count": 103,
   "metadata": {
    "collapsed": false
   },
   "outputs": [
    {
     "name": "stdout",
     "output_type": "stream",
     "text": [
      "0.484848484848\n"
     ]
    },
    {
     "data": {
      "text/html": [
       "<div>\n",
       "<table border=\"1\" class=\"dataframe\">\n",
       "  <thead>\n",
       "    <tr style=\"text-align: right;\">\n",
       "      <th></th>\n",
       "      <th>Average</th>\n",
       "      <th>Bad</th>\n",
       "      <th>Good</th>\n",
       "    </tr>\n",
       "  </thead>\n",
       "  <tbody>\n",
       "    <tr>\n",
       "      <th>Average</th>\n",
       "      <td>4</td>\n",
       "      <td>7</td>\n",
       "      <td>0</td>\n",
       "    </tr>\n",
       "    <tr>\n",
       "      <th>Bad</th>\n",
       "      <td>8</td>\n",
       "      <td>12</td>\n",
       "      <td>0</td>\n",
       "    </tr>\n",
       "    <tr>\n",
       "      <th>Good</th>\n",
       "      <td>2</td>\n",
       "      <td>0</td>\n",
       "      <td>0</td>\n",
       "    </tr>\n",
       "  </tbody>\n",
       "</table>\n",
       "</div>"
      ],
      "text/plain": [
       "         Average  Bad  Good\n",
       "Average        4    7     0\n",
       "Bad            8   12     0\n",
       "Good           2    0     0"
      ]
     },
     "execution_count": 103,
     "metadata": {},
     "output_type": "execute_result"
    }
   ],
   "source": [
    "np.random.seed(42)\n",
    "feature_to_use = list(d[0].index.values[-1])\n",
    "clf = RandomForestClassifier()\n",
    "clf.fit(df.head(33)[feature_to_use], df.head(33)[\"hvac_class\"])\n",
    "pred_labels = clf.predict(df.tail(33)[feature_to_use])\n",
    "true_labels = df.tail(33)[\"hvac_class\"]\n",
    "df_accuracy = pd.DataFrame({\"pred\":pred_labels, \"true\":true_labels.values})\n",
    "print accuracy_score(true_labels, pred_labels)\n",
    "d1 = pd.DataFrame(confusion_matrix(true_labels, pred_labels))\n",
    "d1.columns = [\"Average\", \"Bad\", \"Good\"]\n",
    "d1.index = [\"Average\", \"Bad\", \"Good\"]\n",
    "d1"
   ]
  },
  {
   "cell_type": "code",
   "execution_count": 50,
   "metadata": {
    "collapsed": false
   },
   "outputs": [
    {
     "name": "stdout",
     "output_type": "stream",
     "text": [
      "0.545454545455\n"
     ]
    },
    {
     "data": {
      "text/html": [
       "<div>\n",
       "<table border=\"1\" class=\"dataframe\">\n",
       "  <thead>\n",
       "    <tr style=\"text-align: right;\">\n",
       "      <th></th>\n",
       "      <th>Average</th>\n",
       "      <th>Bad</th>\n",
       "      <th>Good</th>\n",
       "    </tr>\n",
       "  </thead>\n",
       "  <tbody>\n",
       "    <tr>\n",
       "      <th>Average</th>\n",
       "      <td>5</td>\n",
       "      <td>6</td>\n",
       "      <td>0</td>\n",
       "    </tr>\n",
       "    <tr>\n",
       "      <th>Bad</th>\n",
       "      <td>6</td>\n",
       "      <td>12</td>\n",
       "      <td>1</td>\n",
       "    </tr>\n",
       "    <tr>\n",
       "      <th>Good</th>\n",
       "      <td>0</td>\n",
       "      <td>2</td>\n",
       "      <td>1</td>\n",
       "    </tr>\n",
       "  </tbody>\n",
       "</table>\n",
       "</div>"
      ],
      "text/plain": [
       "         Average  Bad  Good\n",
       "Average        5    6     0\n",
       "Bad            6   12     1\n",
       "Good           0    2     1"
      ]
     },
     "execution_count": 50,
     "metadata": {},
     "output_type": "execute_result"
    }
   ],
   "source": [
    "feature_to_use = list(d[2].index.values[-1])\n",
    "clf = RandomForestClassifier(random_state=1)\n",
    "clf.fit(df.tail(33)[feature_to_use], df.tail(33)[\"hvac_class\"])\n",
    "pred_labels = clf.predict(df.tail(33)[feature_to_use])\n",
    "true_labels = df.head(33)[\"hvac_class\"]\n",
    "df_accuracy = pd.DataFrame({\"pred\":pred_labels, \"true\":true_labels.values})\n",
    "print accuracy_score(pred_labels, true_labels)\n",
    "d2 = pd.DataFrame(confusion_matrix(true_labels, pred_labels))\n",
    "d2.columns = [\"Average\", \"Bad\", \"Good\"]\n",
    "d2.index = [\"Average\", \"Bad\", \"Good\"]\n",
    "d2"
   ]
  },
  {
   "cell_type": "code",
   "execution_count": 173,
   "metadata": {
    "collapsed": false
   },
   "outputs": [
    {
     "data": {
      "text/html": [
       "<div>\n",
       "<table border=\"1\" class=\"dataframe\">\n",
       "  <thead>\n",
       "    <tr style=\"text-align: right;\">\n",
       "      <th></th>\n",
       "      <th>Average</th>\n",
       "      <th>Bad</th>\n",
       "      <th>Good</th>\n",
       "    </tr>\n",
       "  </thead>\n",
       "  <tbody>\n",
       "    <tr>\n",
       "      <th>Average</th>\n",
       "      <td>7</td>\n",
       "      <td>15</td>\n",
       "      <td>0</td>\n",
       "    </tr>\n",
       "    <tr>\n",
       "      <th>Bad</th>\n",
       "      <td>8</td>\n",
       "      <td>30</td>\n",
       "      <td>1</td>\n",
       "    </tr>\n",
       "    <tr>\n",
       "      <th>Good</th>\n",
       "      <td>0</td>\n",
       "      <td>4</td>\n",
       "      <td>1</td>\n",
       "    </tr>\n",
       "  </tbody>\n",
       "</table>\n",
       "</div>"
      ],
      "text/plain": [
       "         Average  Bad  Good\n",
       "Average        7   15     0\n",
       "Bad            8   30     1\n",
       "Good           0    4     1"
      ]
     },
     "execution_count": 173,
     "metadata": {},
     "output_type": "execute_result"
    }
   ],
   "source": [
    "d1+d2"
   ]
  },
  {
   "cell_type": "code",
   "execution_count": 159,
   "metadata": {
    "collapsed": false
   },
   "outputs": [
    {
     "data": {
      "text/plain": [
       "['morning_pred', 'a3', 'morning_mins', 'evening_mins']"
      ]
     },
     "execution_count": 159,
     "metadata": {},
     "output_type": "execute_result"
    }
   ],
   "source": [
    "feature_to_use"
   ]
  },
  {
   "cell_type": "code",
   "execution_count": 138,
   "metadata": {
    "collapsed": false
   },
   "outputs": [
    {
     "data": {
      "text/plain": [
       "DecisionTreeClassifier(class_weight=None, criterion='gini', max_depth=None,\n",
       "            max_features=None, max_leaf_nodes=None, min_samples_leaf=1,\n",
       "            min_samples_split=2, min_weight_fraction_leaf=0.0,\n",
       "            random_state=None, splitter='best')"
      ]
     },
     "execution_count": 138,
     "metadata": {},
     "output_type": "execute_result"
    }
   ],
   "source": [
    "clf.fit(df_res.head(32)[['work_energy', 'sleep_energy', 'morning_energy', 'evening_energy']], df_res.head(32)[\"hvac_class\"])"
   ]
  },
  {
   "cell_type": "code",
   "execution_count": 139,
   "metadata": {
    "collapsed": true
   },
   "outputs": [],
   "source": [
    "o = clf.predict(df_res.tail(33)[['work_energy', 'sleep_energy', 'morning_energy', 'evening_energy']])"
   ]
  },
  {
   "cell_type": "code",
   "execution_count": 140,
   "metadata": {
    "collapsed": false
   },
   "outputs": [
    {
     "data": {
      "text/plain": [
       "array(['Good', 'Bad', 'Average', 'Good', 'Bad', 'Good', 'Average', 'Good',\n",
       "       'Bad', 'Good', 'Bad', 'Good', 'Good', 'Bad', 'Bad', 'Good',\n",
       "       'Average', 'Good', 'Good', 'Good', 'Bad', 'Good', 'Bad', 'Good',\n",
       "       'Bad', 'Bad', 'Bad', 'Bad', 'Average', 'Bad', 'Bad', 'Bad', 'Good'], dtype=object)"
      ]
     },
     "execution_count": 140,
     "metadata": {},
     "output_type": "execute_result"
    }
   ],
   "source": [
    "o"
   ]
  },
  {
   "cell_type": "code",
   "execution_count": 157,
   "metadata": {
    "collapsed": true
   },
   "outputs": [],
   "source": [
    "from sklearn.metrics import confusion_matrix, precision_score, accuracy_score"
   ]
  },
  {
   "cell_type": "code",
   "execution_count": 142,
   "metadata": {
    "collapsed": true
   },
   "outputs": [],
   "source": [
    "y_true = df_res.tail(33)[\"hvac_class\"]\n",
    "y_pred = o"
   ]
  },
  {
   "cell_type": "code",
   "execution_count": 145,
   "metadata": {
    "collapsed": false
   },
   "outputs": [
    {
     "name": "stderr",
     "output_type": "stream",
     "text": [
      "/Users/nipunbatra/anaconda/lib/python2.7/site-packages/sklearn/metrics/classification.py:1082: DeprecationWarning: The default `weighted` averaging is deprecated, and from version 0.18, use of precision, recall or F-score with multiclass or multilabel data or pos_label=None will result in an exception. Please set an explicit value for `average`, one of (None, 'micro', 'macro', 'weighted', 'samples'). In cross validation use, for instance, scoring=\"f1_weighted\" instead of scoring=\"f1\".\n",
      "  sample_weight=sample_weight)\n"
     ]
    },
    {
     "data": {
      "text/plain": [
       "0.48124098124098119"
      ]
     },
     "execution_count": 145,
     "metadata": {},
     "output_type": "execute_result"
    }
   ],
   "source": [
    "precision_score(y_true, y_pred)"
   ]
  },
  {
   "cell_type": "code",
   "execution_count": 143,
   "metadata": {
    "collapsed": false
   },
   "outputs": [
    {
     "data": {
      "text/plain": [
       "array([[ 1,  2,  5],\n",
       "       [ 2, 10,  4],\n",
       "       [ 1,  3,  5]])"
      ]
     },
     "execution_count": 143,
     "metadata": {},
     "output_type": "execute_result"
    }
   ],
   "source": [
    "confusion_matrix(y_true, y_pred)"
   ]
  },
  {
   "cell_type": "code",
   "execution_count": 49,
   "metadata": {
    "collapsed": true
   },
   "outputs": [],
   "source": [
    "svr = LinearSVR()"
   ]
  },
  {
   "cell_type": "code",
   "execution_count": 83,
   "metadata": {
    "collapsed": false
   },
   "outputs": [
    {
     "data": {
      "text/plain": [
       "LinearSVR(C=1.0, dual=True, epsilon=0.0, fit_intercept=True,\n",
       "     intercept_scaling=1.0, loss='epsilon_insensitive', max_iter=1000,\n",
       "     random_state=None, tol=0.0001, verbose=0)"
      ]
     },
     "execution_count": 83,
     "metadata": {},
     "output_type": "execute_result"
    }
   ],
   "source": [
    "svr.fit(df_res[['overall_mins', 'overall_energy', 'work_energy']], df_res['good_count'])"
   ]
  },
  {
   "cell_type": "code",
   "execution_count": 84,
   "metadata": {
    "collapsed": false
   },
   "outputs": [],
   "source": [
    "o=svr.predict(df_res[['overall_mins', 'overall_energy', 'work_energy']])"
   ]
  },
  {
   "cell_type": "code",
   "execution_count": 85,
   "metadata": {
    "collapsed": false
   },
   "outputs": [
    {
     "data": {
      "text/plain": [
       "array([ 102.,   77.,   46.,   65.,   90.,   64.,   77.,   40.,   53.,\n",
       "         56.,   81.,  114.,   80.,   60.,  113.,   74.,   49.,   94.,\n",
       "         21.,  107.,   85.,  153.,   16.,   56.,   71.,  110.,  110.,\n",
       "         83.,   65.,   96.,   64.,   64.,   34.,   36.,  105.,  225.,\n",
       "         48.,   86.,   30.,   84.,   35.,   98.,   65.,   54.,   41.,\n",
       "         58.,   57.,   16.,   43.,   75.,   55.,   39.,   50.,  156.,\n",
       "         66.,  123.,   44.,   89.,    4.,   22.,  153.,  176.,   97.,\n",
       "        166.,   93.,   33.])"
      ]
     },
     "execution_count": 85,
     "metadata": {},
     "output_type": "execute_result"
    }
   ],
   "source": [
    "np.round(o)"
   ]
  },
  {
   "cell_type": "code",
   "execution_count": 56,
   "metadata": {
    "collapsed": true
   },
   "outputs": [],
   "source": [
    "import matplotlib.pyplot as plt"
   ]
  },
  {
   "cell_type": "code",
   "execution_count": 99,
   "metadata": {
    "collapsed": false
   },
   "outputs": [
    {
     "data": {
      "text/plain": [
       "[<matplotlib.lines.Line2D at 0x10a70e1d0>]"
      ]
     },
     "execution_count": 99,
     "metadata": {},
     "output_type": "execute_result"
    },
    {
     "data": {
      "image/png": "[encoded data removed]",
      "text/plain": [
       "<matplotlib.figure.Figure at 0x10a71a610>"
      ]
     },
     "metadata": {},
     "output_type": "display_data"
    }
   ],
   "source": [
    "plt.plot(np.round(o))\n",
    "plt.plot(df_res.tail(33)['good_count'])"
   ]
  },
  {
   "cell_type": "code",
   "execution_count": 58,
   "metadata": {
    "collapsed": true
   },
   "outputs": [],
   "source": [
    "%matplotlib inline"
   ]
  },
  {
   "cell_type": "code",
   "execution_count": 64,
   "metadata": {
    "collapsed": false
   },
   "outputs": [
    {
     "data": {
      "text/plain": [
       "<matplotlib.axes._subplots.AxesSubplot at 0x108632790>"
      ]
     },
     "execution_count": 64,
     "metadata": {},
     "output_type": "execute_result"
    },
    {
     "data": {
      "image/png": "[encoded data removed]",
      "text/plain": [
       "<matplotlib.figure.Figure at 0x10383be50>"
      ]
     },
     "metadata": {},
     "output_type": "display_data"
    }
   ],
   "source": [
    "df_res.plot(kind=\"scatter\", x=\"overall_energy\", y=\"good_count\")"
   ]
  },
  {
   "cell_type": "code",
   "execution_count": null,
   "metadata": {
    "collapsed": true
   },
   "outputs": [],
   "source": []
  }
 ],
 "metadata": {
  "kernelspec": {
   "display_name": "Python 2",
   "language": "python",
   "name": "python2"
  },
  "language_info": {
   "codemirror_mode": {
    "name": "ipython",
    "version": 2
   },
   "file_extension": ".py",
   "mimetype": "text/x-python",
   "name": "python",
   "nbconvert_exporter": "python",
   "pygments_lexer": "ipython2",
   "version": "2.7.10"
  }
 },
 "nbformat": 4,
 "nbformat_minor": 0
}
